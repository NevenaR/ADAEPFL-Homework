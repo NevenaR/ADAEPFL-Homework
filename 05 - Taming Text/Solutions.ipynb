{
 "cells": [
  {
   "cell_type": "code",
   "execution_count": null,
   "metadata": {
    "collapsed": false
   },
   "outputs": [],
   "source": [
    "from collections import Counter\n",
    "import seaborn as sns\n",
    "import matplotlib.pyplot as plt\n",
    "import numpy as np\n",
    "import pandas as pd\n",
    "from PIL import Image\n",
    "from os import path\n",
    "from os.path import exists\n",
    "import random\n",
    "from wordcloud import WordCloud, STOPWORDS\n",
    "\n",
    "import nltk\n",
    "from nltk.corpus import stopwords\n",
    "from nltk.corpus import sentiwordnet as swn\n",
    "from nltk.corpus import wordnet as wn\n",
    "from nltk.tokenize import word_tokenize, RegexpTokenizer\n",
    "from nltk.stem import PorterStemmer, SnowballStemmer, WordNetLemmatizer\n",
    "\n",
    "import pycountry\n",
    "#nltk.download()"
   ]
  },
  {
   "cell_type": "markdown",
   "metadata": {},
   "source": [
    "Credits: Background used in this Notebook was made by <a href=\"http://www.flaticon.com/authors/freepik\" title=\"Freepik\">Freepik</a> from <a href=\"http://www.flaticon.com\" title=\"Flaticon\">www.flaticon.com</a>."
   ]
  },
  {
   "cell_type": "markdown",
   "metadata": {},
   "source": [
    "# Utils"
   ]
  },
  {
   "cell_type": "code",
   "execution_count": null,
   "metadata": {
    "collapsed": false
   },
   "outputs": [],
   "source": [
    "def generate_raw_text(data):\n",
    "    text = ''\n",
    "    for d in data:\n",
    "        text += str(d) + ' '\n",
    "    return text\n",
    "\n",
    "\n",
    "def do_stemming_words(stemmer, words):\n",
    "    text = ''\n",
    "    for w in words:\n",
    "        text += stemmer.stem(w)\n",
    "    return text\n",
    "\n",
    "\n",
    "def grey_color_func(word, font_size, position, orientation, random_state=None, **kwargs):\n",
    "    return \"hsl(0, 0%%, %d%%)\" % random.randint(40, 60)\n",
    "\n",
    "\n",
    "def generate_word_cloud(text, img_name='envelope.png', max_words=1000, width=900, height=900, dpi=400, file_name=None):\n",
    "    stopwords = set(STOPWORDS)\n",
    "    mask = np.array(Image.open(img_name))\n",
    "    wc = WordCloud(background_color=\"white\", mask=mask, max_words=max_words, stopwords=stopwords).generate(text)\n",
    "    plt.figure(figsize=(9, 9), dpi=dpi)\n",
    "    plt.axis(\"off\")\n",
    "    plt.imshow(wc.recolor(color_func=grey_color_func, random_state=3))\n",
    "    if file_name:\n",
    "        path = './images/' + file_name + '.png'\n",
    "        if not exists(path):\n",
    "            plt.savefig(path, dpi=dpi)\n",
    "    else:\n",
    "        plt.show()\n",
    "\n",
    "\n",
    "def get_country_name(word):\n",
    "    lower_word = str.lower(word)\n",
    "    for c in pycountry.countries:\n",
    "        if (word == c.alpha_2) or (word == c.alpha_3) or (lower_word == str.lower(c.name)) or (hasattr(c, 'official_name') and (lower_word == str.lower(c.official_name))):\n",
    "            return c.name\n",
    "    return None\n",
    "\n",
    "\n",
    "def count_country_occurrences(text):\n",
    "    lower_text = str.lower(text)\n",
    "    countries = Counter()\n",
    "    for country in pycountry.countries:\n",
    "        nb_occurrences = 0\n",
    "        nb_occurrences += text.count(country.alpha_2)\n",
    "        nb_occurrences += text.count(country.alpha_3)\n",
    "        nb_occurrences += lower_text.count(str.lower(country.name))\n",
    "        if hasattr(country, 'official_name'):\n",
    "            nb_occurrences += lower_text.count(str.lower(country.official_name))\n",
    "        countries[country.name] = nb_occurrences\n",
    "    return countries\n",
    "\n",
    "\n",
    "def get_wordnet_tag_type(tag):\n",
    "    if tag.startswith('J'):\n",
    "        return wn.ADJ\n",
    "    elif tag.startswith('N'):\n",
    "        return wn.NOUN\n",
    "    elif tag.startswith('R'):\n",
    "        return wn.ADV\n",
    "    elif tag.startswith('V'):\n",
    "        return wn.VERB\n",
    "    return None\n",
    "\n",
    "\n",
    "def retrieve_email_sentiment(email):\n",
    "    email_content = str(email['ExtractedSubject']) + ' ' + str(email['ExtractedBodyText'])\n",
    "    tokens = word_tokenize(email_content)\n",
    "    types = Counter({'Positive': 0, 'Negative': 0, 'Neutral': 0})\n",
    "    for word, pos_tag in nltk.pos_tag(tokens):\n",
    "        tag = get_wordnet_tag_type(pos_tag)\n",
    "        synset_list = list(swn.senti_synsets(word, pos=tag))\n",
    "        if synset_list:\n",
    "            if synset_list[0].pos_score() > synset_list[0].neg_score():\n",
    "                types['Positive'] += 1\n",
    "            elif synset_list[0].pos_score() < synset_list[0].neg_score():\n",
    "                types['Negative'] += 1\n",
    "            else:\n",
    "                types['Neutral'] += 1\n",
    "                \n",
    "    if types.most_common()[0][1] > types.most_common()[1][1]:\n",
    "        email['Type'] = max(types)\n",
    "    else:\n",
    "        email['Type'] = 'Neutral'\n",
    "        \n",
    "    return email"
   ]
  },
  {
   "cell_type": "markdown",
   "metadata": {},
   "source": [
    "# Read files"
   ]
  },
  {
   "cell_type": "markdown",
   "metadata": {},
   "source": [
    "First, we import all data as DataFrames."
   ]
  },
  {
   "cell_type": "code",
   "execution_count": null,
   "metadata": {
    "collapsed": false
   },
   "outputs": [],
   "source": [
    "df_aliases = pd.read_csv('hillary-clinton-emails/Aliases.csv', index_col=0)"
   ]
  },
  {
   "cell_type": "code",
   "execution_count": null,
   "metadata": {
    "collapsed": false
   },
   "outputs": [],
   "source": [
    "df_aliases.head()"
   ]
  },
  {
   "cell_type": "code",
   "execution_count": null,
   "metadata": {
    "collapsed": false
   },
   "outputs": [],
   "source": [
    "df_email_receivers = pd.read_csv('hillary-clinton-emails/EmailReceivers.csv', index_col=0)"
   ]
  },
  {
   "cell_type": "code",
   "execution_count": null,
   "metadata": {
    "collapsed": false
   },
   "outputs": [],
   "source": [
    "df_email_receivers.head()"
   ]
  },
  {
   "cell_type": "code",
   "execution_count": null,
   "metadata": {
    "collapsed": false
   },
   "outputs": [],
   "source": [
    "df_emails = pd.read_csv('hillary-clinton-emails/Emails.csv', index_col=0)"
   ]
  },
  {
   "cell_type": "code",
   "execution_count": null,
   "metadata": {
    "collapsed": false
   },
   "outputs": [],
   "source": [
    "df_emails.head()"
   ]
  },
  {
   "cell_type": "code",
   "execution_count": null,
   "metadata": {
    "collapsed": false
   },
   "outputs": [],
   "source": [
    "df_persons = pd.read_csv('hillary-clinton-emails/Persons.csv', index_col=0)"
   ]
  },
  {
   "cell_type": "code",
   "execution_count": null,
   "metadata": {
    "collapsed": false
   },
   "outputs": [],
   "source": [
    "df_persons.head()"
   ]
  },
  {
   "cell_type": "markdown",
   "metadata": {},
   "source": [
    "# Handling raw text"
   ]
  },
  {
   "cell_type": "code",
   "execution_count": null,
   "metadata": {
    "collapsed": false,
    "scrolled": false
   },
   "outputs": [],
   "source": [
    "emails_content = df_emails['ExtractedSubject'] + ' ' + df_emails['ExtractedBodyText']\n",
    "raw_text = generate_raw_text(data=emails_content.values)"
   ]
  },
  {
   "cell_type": "code",
   "execution_count": null,
   "metadata": {
    "collapsed": false,
    "scrolled": false
   },
   "outputs": [],
   "source": [
    "generate_word_cloud(raw_text)"
   ]
  },
  {
   "cell_type": "markdown",
   "metadata": {},
   "source": [
    "# Cleaning text"
   ]
  },
  {
   "cell_type": "code",
   "execution_count": null,
   "metadata": {
    "collapsed": false
   },
   "outputs": [],
   "source": [
    "tokens = word_tokenize(raw_text)\n",
    "word_tokenized_text = generate_raw_text(data=tokens)"
   ]
  },
  {
   "cell_type": "code",
   "execution_count": null,
   "metadata": {
    "collapsed": false
   },
   "outputs": [],
   "source": [
    "generate_word_cloud(text=word_tokenized_text, file_name='1_word_tokenize')"
   ]
  },
  {
   "cell_type": "code",
   "execution_count": null,
   "metadata": {
    "collapsed": false
   },
   "outputs": [],
   "source": [
    "# PB: Kernal keep crashing when executing this cell and the next one.\n",
    "\n",
    "#tokenizer = RegexpTokenizer(r'\\w+')\n",
    "#regexp_tokens = tokenizer.tokenize(raw_text)\n",
    "#regexp_tokenized_text = generate_raw_text(data=regexp_tokens)"
   ]
  },
  {
   "cell_type": "code",
   "execution_count": null,
   "metadata": {
    "collapsed": false
   },
   "outputs": [],
   "source": [
    "#generate_word_cloud(text=regexp_tokenized_text, max_words=500, dpi=200, file_name='1_regexp_tokenized')"
   ]
  },
  {
   "cell_type": "code",
   "execution_count": null,
   "metadata": {
    "collapsed": false
   },
   "outputs": [],
   "source": [
    "filtered_words = [word for word in tokens if word not in stopwords.words('english')]\n",
    "filtered_text = generate_raw_text(data=filtered_words)"
   ]
  },
  {
   "cell_type": "code",
   "execution_count": null,
   "metadata": {
    "collapsed": false,
    "scrolled": false
   },
   "outputs": [],
   "source": [
    "generate_word_cloud(text=filtered_text, file_name='2_stopwords')"
   ]
  },
  {
   "cell_type": "code",
   "execution_count": null,
   "metadata": {
    "collapsed": true
   },
   "outputs": [],
   "source": [
    "wl = WordNetLemmatizer()\n",
    "wl_text = wl.lemmatize(filtered_text)"
   ]
  },
  {
   "cell_type": "code",
   "execution_count": null,
   "metadata": {
    "collapsed": true
   },
   "outputs": [],
   "source": [
    "generate_word_cloud(text=wl_text, file_name='3_WordNetLemmatizer')"
   ]
  },
  {
   "cell_type": "code",
   "execution_count": null,
   "metadata": {
    "collapsed": false
   },
   "outputs": [],
   "source": [
    "ps = PorterStemmer()\n",
    "ps_stemming_text = do_stemming_words(stemmer=ps, words=wl_text)"
   ]
  },
  {
   "cell_type": "code",
   "execution_count": null,
   "metadata": {
    "collapsed": true
   },
   "outputs": [],
   "source": [
    "generate_word_cloud(text=ps_stemming_text, file_name='4_PorterStemmer')"
   ]
  },
  {
   "cell_type": "code",
   "execution_count": null,
   "metadata": {
    "collapsed": false
   },
   "outputs": [],
   "source": [
    "ss = SnowballStemmer(\"english\")\n",
    "ss_stemming_text = do_stemming_words(stemmer=ss, words=wl_text)"
   ]
  },
  {
   "cell_type": "code",
   "execution_count": null,
   "metadata": {
    "collapsed": true
   },
   "outputs": [],
   "source": [
    "generate_word_cloud(text=ss_stemming_text, file_name='4_SnowballStemmer')"
   ]
  },
  {
   "cell_type": "markdown",
   "metadata": {},
   "source": [
    "# Question 2"
   ]
  },
  {
   "cell_type": "code",
   "execution_count": null,
   "metadata": {
    "collapsed": false
   },
   "outputs": [],
   "source": [
    "countries_occurrences = count_country_occurrences(ps_stemming_text)\n",
    "df_countries_occurrences = pd.DataFrame.from_dict(countries_occurrences, orient='index')\n",
    "df_countries_occurrences.columns = ['Occurrences']\n",
    "df_countries_occurrences.sort_values('Occurrences', ascending=False, inplace=True)\n",
    "df_countries_occurrences.head(15)"
   ]
  },
  {
   "cell_type": "code",
   "execution_count": null,
   "metadata": {
    "collapsed": false,
    "scrolled": false
   },
   "outputs": [],
   "source": [
    "most_quoted_countries = df_count.nlargest(15, 'Occurrences')\n",
    "countries_plot = sns.barplot(x=most_quoted_countries.index, y='Occurrences', data=most_quoted_countries, color='r')\n",
    "for label in countries_plot.get_xticklabels():\n",
    "    label.set_rotation(90)\n",
    "countries_plot.set(ylabel='Occurrences')\n",
    "countries_plot.set_title('Number of occurrences of 15 most-quoted countries')\n",
    "sns.plt.show()"
   ]
  },
  {
   "cell_type": "code",
   "execution_count": null,
   "metadata": {
    "collapsed": false,
    "scrolled": true
   },
   "outputs": [],
   "source": [
    "df_emails_content = df_emails[['ExtractedSubject', 'ExtractedBodyText']]\n",
    "df_emails_content.head()"
   ]
  },
  {
   "cell_type": "code",
   "execution_count": null,
   "metadata": {
    "collapsed": false,
    "scrolled": true
   },
   "outputs": [],
   "source": [
    "results = df_emails_content.apply(retrieve_email_sentiment, axis=1)"
   ]
  },
  {
   "cell_type": "code",
   "execution_count": null,
   "metadata": {
    "collapsed": false,
    "scrolled": true
   },
   "outputs": [],
   "source": [
    "# PB: No negative email...\n",
    "results[(results['Type'] == 'Positive')]"
   ]
  },
  {
   "cell_type": "code",
   "execution_count": null,
   "metadata": {
    "collapsed": false,
    "scrolled": true
   },
   "outputs": [],
   "source": [
    "# TODO: Try with PerceptronTagger\n",
    "tagger=PerceptronTagger()\n",
    "for word, pos_tag in tagger.tag(tokens):\n",
    "# As before..."
   ]
  }
 ],
 "metadata": {
  "anaconda-cloud": {},
  "kernelspec": {
   "display_name": "Python [default]",
   "language": "python",
   "name": "python3"
  },
  "language_info": {
   "codemirror_mode": {
    "name": "ipython",
    "version": 3
   },
   "file_extension": ".py",
   "mimetype": "text/x-python",
   "name": "python",
   "nbconvert_exporter": "python",
   "pygments_lexer": "ipython3",
   "version": "3.5.2"
  }
 },
 "nbformat": 4,
 "nbformat_minor": 0
}
