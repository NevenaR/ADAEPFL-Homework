{
 "cells": [
  {
   "cell_type": "markdown",
   "metadata": {},
   "source": [
    "# Homework 0 - Guns data\n",
    "## Import data"
   ]
  },
  {
   "cell_type": "code",
   "execution_count": 1,
   "metadata": {
    "collapsed": false
   },
   "outputs": [
    {
     "data": {
      "text/html": [
       "<div>\n",
       "<table border=\"1\" class=\"dataframe\">\n",
       "  <thead>\n",
       "    <tr style=\"text-align: right;\">\n",
       "      <th></th>\n",
       "      <th>Unnamed: 0</th>\n",
       "      <th>year</th>\n",
       "      <th>month</th>\n",
       "      <th>intent</th>\n",
       "      <th>police</th>\n",
       "      <th>sex</th>\n",
       "      <th>age</th>\n",
       "      <th>race</th>\n",
       "      <th>hispanic</th>\n",
       "      <th>place</th>\n",
       "      <th>education</th>\n",
       "    </tr>\n",
       "  </thead>\n",
       "  <tbody>\n",
       "    <tr>\n",
       "      <th>0</th>\n",
       "      <td>1</td>\n",
       "      <td>2012</td>\n",
       "      <td>1</td>\n",
       "      <td>Suicide</td>\n",
       "      <td>0</td>\n",
       "      <td>M</td>\n",
       "      <td>34.0</td>\n",
       "      <td>Asian/Pacific Islander</td>\n",
       "      <td>100</td>\n",
       "      <td>Home</td>\n",
       "      <td>4.0</td>\n",
       "    </tr>\n",
       "    <tr>\n",
       "      <th>1</th>\n",
       "      <td>2</td>\n",
       "      <td>2012</td>\n",
       "      <td>1</td>\n",
       "      <td>Suicide</td>\n",
       "      <td>0</td>\n",
       "      <td>F</td>\n",
       "      <td>21.0</td>\n",
       "      <td>White</td>\n",
       "      <td>100</td>\n",
       "      <td>Street</td>\n",
       "      <td>3.0</td>\n",
       "    </tr>\n",
       "    <tr>\n",
       "      <th>2</th>\n",
       "      <td>3</td>\n",
       "      <td>2012</td>\n",
       "      <td>1</td>\n",
       "      <td>Suicide</td>\n",
       "      <td>0</td>\n",
       "      <td>M</td>\n",
       "      <td>60.0</td>\n",
       "      <td>White</td>\n",
       "      <td>100</td>\n",
       "      <td>Other specified</td>\n",
       "      <td>4.0</td>\n",
       "    </tr>\n",
       "    <tr>\n",
       "      <th>3</th>\n",
       "      <td>4</td>\n",
       "      <td>2012</td>\n",
       "      <td>2</td>\n",
       "      <td>Suicide</td>\n",
       "      <td>0</td>\n",
       "      <td>M</td>\n",
       "      <td>64.0</td>\n",
       "      <td>White</td>\n",
       "      <td>100</td>\n",
       "      <td>Home</td>\n",
       "      <td>4.0</td>\n",
       "    </tr>\n",
       "    <tr>\n",
       "      <th>4</th>\n",
       "      <td>5</td>\n",
       "      <td>2012</td>\n",
       "      <td>2</td>\n",
       "      <td>Suicide</td>\n",
       "      <td>0</td>\n",
       "      <td>M</td>\n",
       "      <td>31.0</td>\n",
       "      <td>White</td>\n",
       "      <td>100</td>\n",
       "      <td>Other specified</td>\n",
       "      <td>2.0</td>\n",
       "    </tr>\n",
       "  </tbody>\n",
       "</table>\n",
       "</div>"
      ],
      "text/plain": [
       "   Unnamed: 0  year  month   intent  police sex   age                    race  \\\n",
       "0           1  2012      1  Suicide       0   M  34.0  Asian/Pacific Islander   \n",
       "1           2  2012      1  Suicide       0   F  21.0                   White   \n",
       "2           3  2012      1  Suicide       0   M  60.0                   White   \n",
       "3           4  2012      2  Suicide       0   M  64.0                   White   \n",
       "4           5  2012      2  Suicide       0   M  31.0                   White   \n",
       "\n",
       "   hispanic            place  education  \n",
       "0       100             Home        4.0  \n",
       "1       100           Street        3.0  \n",
       "2       100  Other specified        4.0  \n",
       "3       100             Home        4.0  \n",
       "4       100  Other specified        2.0  "
      ]
     },
     "execution_count": 1,
     "metadata": {},
     "output_type": "execute_result"
    }
   ],
   "source": [
    "import numpy as np\n",
    "import pandas as pd\n",
    "\n",
    "full_data = pd.read_csv('full_data.txt.csv')\n",
    "full_data.head()"
   ]
  },
  {
   "cell_type": "code",
   "execution_count": 2,
   "metadata": {
    "collapsed": false
   },
   "outputs": [
    {
     "name": "stdout",
     "output_type": "stream",
     "text": [
      "Number of people dead by guns every years :\n",
      "In 2012 there are 33563 dead people by guns\n",
      "In 2013 there are 33636 dead people by guns\n",
      "In 2014 there are 33599 dead people by guns\n"
     ]
    }
   ],
   "source": [
    "# Old stuff\n",
    "#def count_matching(data, cond: (lambda y: True)) :\n",
    "#    return sum( 1 for item in data if cond(item) )\n",
    "\n",
    "#rows_nb = len(full_data) + 1\n",
    "#suicide_nb = count_matching(full_data.intent, (lambda intent: intent == 'Suicide'))\n",
    "\n",
    "#percentage_suicide_total = (suicide_nb / rows_nb) * 100\n",
    "#print('Percentage of suicide of every data : %.2f %%' %percentage_suicide_total)\n",
    "\n",
    "#import collections\n",
    "\n",
    "#data_by_year = collections.defaultdict(list)\n",
    "#for line in full_data.iterrows():\n",
    "#    data_by_year[line[1].year].append(line)\n",
    "\n",
    "data_by_year = full_data.groupby('year')\n",
    "print('Number of people dead by guns every years :')\n",
    "for year, nb_dead in data_by_year.size().iteritems():\n",
    "    print('In %s there are %s dead people by guns' %(year, nb_dead))"
   ]
  },
  {
   "cell_type": "markdown",
   "metadata": {},
   "source": [
    "## Suicide"
   ]
  },
  {
   "cell_type": "code",
   "execution_count": 3,
   "metadata": {
    "collapsed": false
   },
   "outputs": [
    {
     "name": "stdout",
     "output_type": "stream",
     "text": [
      "Number of people dead by guns for suicide :\n",
      "In 2012 there are 20666 suicides, so 61.57 % of all people dead by guns\n",
      "In 2013 there are 21175 suicides, so 62.95 % of all people dead by guns\n",
      "In 2014 there are 21334 suicides, so 63.50 % of all people dead by guns\n",
      "In average 21058 every year, so 62.67 % of all people dead by guns\n"
     ]
    }
   ],
   "source": [
    "suicide_data = full_data[full_data['intent'] == 'Suicide']\n",
    "suicide_data_by_year = suicide_data.groupby('year')\n",
    "\n",
    "print('Number of people dead by guns for suicide :')\n",
    "\n",
    "nb_average = 0\n",
    "nb_year = 0\n",
    "for year, nb_suicide in suicide_data_by_year.size().iteritems():\n",
    "    percentage = (nb_suicide / data_by_year.size()[year]) * 100\n",
    "    nb_average += nb_suicide\n",
    "    nb_year += 1\n",
    "    print('In %s there are %s suicides, so %.2f %% of all people dead by guns' %(year, nb_suicide, percentage))\n",
    "\n",
    "nb_average /= nb_year\n",
    "percentage = (nb_average / ( len(full_data.index) / nb_year ) ) * 100\n",
    "print('In average %.0f every year, so %.2f %% of all people dead by guns' %(nb_average, percentage))"
   ]
  },
  {
   "cell_type": "code",
   "execution_count": null,
   "metadata": {
    "collapsed": true
   },
   "outputs": [],
   "source": []
  }
 ],
 "metadata": {
  "anaconda-cloud": {},
  "kernelspec": {
   "display_name": "Python [Root]",
   "language": "python",
   "name": "Python [Root]"
  },
  "language_info": {
   "codemirror_mode": {
    "name": "ipython",
    "version": 3
   },
   "file_extension": ".py",
   "mimetype": "text/x-python",
   "name": "python",
   "nbconvert_exporter": "python",
   "pygments_lexer": "ipython3",
   "version": "3.5.2"
  }
 },
 "nbformat": 4,
 "nbformat_minor": 0
}
