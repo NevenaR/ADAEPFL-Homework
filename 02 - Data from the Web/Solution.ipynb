{
 "cells": [
  {
   "cell_type": "markdown",
   "metadata": {
    "collapsed": true
   },
   "source": [
    "# Homework 2 - IS-Academia"
   ]
  },
  {
   "cell_type": "code",
   "execution_count": 1,
   "metadata": {
    "collapsed": true
   },
   "outputs": [],
   "source": [
    "import requests as rq\n",
    "from bs4 import BeautifulSoup as bfs\n",
    "import numpy as np\n",
    "import pandas as pd\n",
    "import collections\n",
    "import os\n",
    "%matplotlib inline\n",
    "import matplotlib.pyplot as plt\n",
    "import seaborn as sns\n",
    "sns.set_context('notebook')\n",
    "from dateutil import relativedelta\n",
    "import scipy.stats as stats\n",
    "import math"
   ]
  },
  {
   "cell_type": "markdown",
   "metadata": {},
   "source": [
    "# Question 1 - Bachelor\n",
    "\n",
    "Obtain all the data for the Bachelor students, starting from 2007. Keep only the students for which you have an entry for both Bachelor semestre 1 and Bachelor semestre 6. Compute how many months it took each student to go from the first to the sixth semester. Partition the data between male and female students, and compute the average -- is the difference in average statistically significant?</b>"
   ]
  },
  {
   "cell_type": "markdown",
   "metadata": {},
   "source": [
    "Firstly, we define some constants that will be usefull for all questions. The two URL have been found with Postman."
   ]
  },
  {
   "cell_type": "code",
   "execution_count": 2,
   "metadata": {
    "collapsed": true
   },
   "outputs": [],
   "source": [
    "DATA_FOLDER = 'Data/'\n",
    "DATA_URL = 'http://isa.epfl.ch/imoniteur_ISAP/!GEDPUBLICREPORTS.html'\n",
    "FILTER_URL = 'http://isa.epfl.ch/imoniteur_ISAP/!GEDPUBLICREPORTS.filter?ww_i_reportModel=133685247'"
   ]
  },
  {
   "cell_type": "markdown",
   "metadata": {},
   "source": [
    "## Get params"
   ]
  },
  {
   "cell_type": "markdown",
   "metadata": {},
   "source": [
    "In order to get all students data, we need to get all parameters available to fetch the database by the REST API. To do so, we begin by request the section that display all `select` lists in the web page. Then, we extract for each options the humain readable name with his corresponding value."
   ]
  },
  {
   "cell_type": "code",
   "execution_count": 3,
   "metadata": {
    "collapsed": false
   },
   "outputs": [
    {
     "data": {
      "text/plain": [
       "defaultdict(dict,\n",
       "            {'ww_x_HIVERETE': defaultdict(list,\n",
       "                         {\"Semestre d'automne\": '2936286',\n",
       "                          'Semestre de printemps': '2936295'}),\n",
       "             'ww_x_PERIODE_ACAD': defaultdict(list,\n",
       "                         {'2007-2008': '978181',\n",
       "                          '2008-2009': '978187',\n",
       "                          '2009-2010': '978195',\n",
       "                          '2010-2011': '39486325',\n",
       "                          '2011-2012': '123455150',\n",
       "                          '2012-2013': '123456101',\n",
       "                          '2013-2014': '213637754',\n",
       "                          '2014-2015': '213637922',\n",
       "                          '2015-2016': '213638028',\n",
       "                          '2016-2017': '355925344'}),\n",
       "             'ww_x_PERIODE_PEDAGO': defaultdict(list,\n",
       "                         {'Bachelor semestre 1': '249108',\n",
       "                          'Bachelor semestre 2': '249114',\n",
       "                          'Bachelor semestre 3': '942155',\n",
       "                          'Bachelor semestre 4': '942163',\n",
       "                          'Bachelor semestre 5': '942120',\n",
       "                          'Bachelor semestre 5b': '2226768',\n",
       "                          'Bachelor semestre 6': '942175',\n",
       "                          'Bachelor semestre 6b': '2226785',\n",
       "                          'Master semestre 1': '2230106',\n",
       "                          'Master semestre 2': '942192',\n",
       "                          'Master semestre 3': '2230128',\n",
       "                          'Master semestre 4': '2230140',\n",
       "                          'Mineur semestre 1': '2335667',\n",
       "                          'Mineur semestre 2': '2335676',\n",
       "                          'Mise à niveau': '2063602308',\n",
       "                          'Projet Master automne': '249127',\n",
       "                          'Projet Master printemps': '3781783',\n",
       "                          'Semestre automne': '953159',\n",
       "                          'Semestre printemps': '2754553',\n",
       "                          'Stage automne 3ème année': '953137',\n",
       "                          'Stage automne 4ème année': '2226616',\n",
       "                          'Stage printemps 3ème année': '983606',\n",
       "                          'Stage printemps 4ème année': '2226626',\n",
       "                          'Stage printemps master': '2227132'}),\n",
       "             'ww_x_UNITE_ACAD': defaultdict(list,\n",
       "                         {'Architecture': '942293',\n",
       "                          'Chimie et génie chimique': '246696',\n",
       "                          'Cours de mathématiques spéciales': '943282',\n",
       "                          'EME (EPFL Middle East)': '637841336',\n",
       "                          'Génie civil': '942623',\n",
       "                          'Génie mécanique': '944263',\n",
       "                          'Génie électrique et électronique ': '943936',\n",
       "                          'Humanités digitales': '2054839157',\n",
       "                          'Informatique': '249847',\n",
       "                          'Ingénierie financière': '120623110',\n",
       "                          'Management de la technologie': '946882',\n",
       "                          'Mathématiques': '944590',\n",
       "                          'Microtechnique': '945244',\n",
       "                          'Physique': '945571',\n",
       "                          'Science et génie des matériaux': '944917',\n",
       "                          \"Sciences et ingénierie de l'environnement\": '942953',\n",
       "                          'Sciences et technologies du vivant': '945901',\n",
       "                          'Section FCUE': '1574548993',\n",
       "                          'Systèmes de communication': '946228'})})"
      ]
     },
     "execution_count": 3,
     "metadata": {},
     "output_type": "execute_result"
    }
   ],
   "source": [
    "filters_page = rq.get(FILTER_URL)\n",
    "filters = bfs(filters_page.text, 'html.parser')\n",
    "selects = filters.findAll('select')\n",
    "\n",
    "available_params = collections.defaultdict(dict)\n",
    "\n",
    "for select in selects:    \n",
    "    options = collections.defaultdict(list)\n",
    "    \n",
    "    for option in select.findAll('option'):\n",
    "        if option.attrs['value'] != 'null':\n",
    "            options[option.text] = option.attrs['value']\n",
    "        \n",
    "    available_params[select.attrs['name']] = options\n",
    "  \n",
    "available_params"
   ]
  },
  {
   "cell_type": "markdown",
   "metadata": {},
   "source": [
    "### Making params names readable"
   ]
  },
  {
   "cell_type": "markdown",
   "metadata": {},
   "source": [
    "Now, we have all available parameters, but there are not easy to read. To improve this, we have made the choice to directly see the source code in the HTML page and make the correspondance because there are very few `select` box (so it's faster than extract this information directly in python).\n",
    "\n",
    "Every constants represent a parameter name. We define in addition a dictionary of default params needed in all requests we will make."
   ]
  },
  {
   "cell_type": "code",
   "execution_count": 4,
   "metadata": {
    "collapsed": true
   },
   "outputs": [],
   "source": [
    "SECTION_PARAM = 'ww_x_UNITE_ACAD' # like 'Informatique' => Computer Sciences\n",
    "YEAR_PARAM = 'ww_x_PERIODE_ACAD' # like '2016-2017'\n",
    "SEMESTER_PARAM = 'ww_x_PERIODE_PEDAGO' # like 'Bachelor semestre 1' => Bachelor semester 1\n",
    "TYPE_PARAM = 'ww_x_HIVERETE' # like 'Semestre d'automne' => Fall semester\n",
    "\n",
    "DEFAULT_PARAMS = {\n",
    "    'ww_x_GPS' : '-1',\n",
    "    'ww_i_reportModel' : '133685247',\n",
    "    'ww_i_reportModelXsl' : '133685270',\n",
    "}\n",
    "\n",
    "section_codes = available_params[SECTION_PARAM]\n",
    "year_codes = available_params[YEAR_PARAM]\n",
    "semester_codes = available_params[SEMESTER_PARAM]\n",
    "type_codes = available_params[TYPE_PARAM]"
   ]
  },
  {
   "cell_type": "markdown",
   "metadata": {},
   "source": [
    "## Get data"
   ]
  },
  {
   "cell_type": "markdown",
   "metadata": {},
   "source": [
    "Firstly, we make a function that return a single dataframe from the html table extracted from a requested page.\n",
    "\n",
    "We try to get columns from table header. But in our case, all tables have two header rows, the first one is the title of the table and the second one is the colum names.\n",
    "\n",
    "Then, we fetch all rows to convert them to a single serie (list of column values in this row).\n",
    "Finally, we combine columns names and series in a new pandas DataFrame."
   ]
  },
  {
   "cell_type": "code",
   "execution_count": 5,
   "metadata": {
    "collapsed": true
   },
   "outputs": [],
   "source": [
    "def html_page_to_dataframe(page):\n",
    "    soup = bfs(page.text, 'html.parser')\n",
    "    table = soup.find('table')\n",
    "    \n",
    "    # Get columns names, skip the first column that show the section and year\n",
    "    columns = [column.text for column in table.find_all('th')[1:]]\n",
    "    \n",
    "    series = []\n",
    "    # Fetch all rows to a serie, skip the two first rows that represent header\n",
    "    for row in table.find_all('tr')[2:]:\n",
    "        serie = []\n",
    "        \n",
    "        # Fetch all columns, but skip the last one that is not in the header (badly structered html table)\n",
    "        for col in row.find_all('td')[:-1]:\n",
    "            serie.append(col.text)\n",
    "        series.append(serie)\n",
    "\n",
    "    # Create a dataframe from the columns and series variable\n",
    "    df = pd.DataFrame(series)\n",
    "    df.columns = columns\n",
    "    \n",
    "    return df"
   ]
  },
  {
   "cell_type": "markdown",
   "metadata": {},
   "source": [
    "Now, we are able to request a IS-Academia page containing the data table of students in a specific section, year and semester.\n",
    "We will store all data, to avoid multiple requests and DDOS the IS-Academia access. To do so, we will use pickle to serialize all data :"
   ]
  },
  {
   "cell_type": "code",
   "execution_count": 6,
   "metadata": {
    "collapsed": false,
    "scrolled": true
   },
   "outputs": [
    {
     "name": "stdout",
     "output_type": "stream",
     "text": [
      "Start fetching data from http://isa.epfl.ch/imoniteur_ISAP/!GEDPUBLICREPORTS.html\n",
      "\tFetch data for 2015-2016 Bachelor semestre 6b\t: No data\n",
      "\tFetch data for 2015-2016 Bachelor semestre 3\t: Stored in Data/2015-2016 Bachelor semestre 3\n",
      "\tFetch data for 2015-2016 Bachelor semestre 5\t: Stored in Data/2015-2016 Bachelor semestre 5\n",
      "\tFetch data for 2015-2016 Projet Master automne\t: Stored in Data/2015-2016 Projet Master automne\n",
      "\tFetch data for 2015-2016 Bachelor semestre 1\t: Stored in Data/2015-2016 Bachelor semestre 1\n",
      "\tFetch data for 2015-2016 Master semestre 1\t: Stored in Data/2015-2016 Master semestre 1\n",
      "\tFetch data for 2015-2016 Master semestre 4\t: No data\n",
      "\tFetch data for 2015-2016 Bachelor semestre 2\t: Stored in Data/2015-2016 Bachelor semestre 2\n",
      "\tFetch data for 2015-2016 Bachelor semestre 6\t: Stored in Data/2015-2016 Bachelor semestre 6\n",
      "\tFetch data for 2015-2016 Projet Master printemps\t: No data\n",
      "\tFetch data for 2015-2016 Bachelor semestre 4\t: Stored in Data/2015-2016 Bachelor semestre 4\n",
      "\tFetch data for 2015-2016 Bachelor semestre 5b\t: No data\n",
      "\tFetch data for 2015-2016 Master semestre 3\t: Stored in Data/2015-2016 Master semestre 3\n",
      "\tFetch data for 2015-2016 Master semestre 2\t: Stored in Data/2015-2016 Master semestre 2\n",
      "\tFetch data for 2013-2014 Bachelor semestre 6b\t: No data\n",
      "\tFetch data for 2013-2014 Bachelor semestre 3\t: Stored in Data/2013-2014 Bachelor semestre 3\n",
      "\tFetch data for 2013-2014 Bachelor semestre 5\t: Stored in Data/2013-2014 Bachelor semestre 5\n",
      "\tFetch data for 2013-2014 Projet Master automne\t: Stored in Data/2013-2014 Projet Master automne\n",
      "\tFetch data for 2013-2014 Bachelor semestre 1\t: Stored in Data/2013-2014 Bachelor semestre 1\n",
      "\tFetch data for 2013-2014 Master semestre 1\t: Stored in Data/2013-2014 Master semestre 1\n",
      "\tFetch data for 2013-2014 Master semestre 4\t: No data\n",
      "\tFetch data for 2013-2014 Bachelor semestre 2\t: Stored in Data/2013-2014 Bachelor semestre 2\n",
      "\tFetch data for 2013-2014 Bachelor semestre 6\t: Stored in Data/2013-2014 Bachelor semestre 6\n",
      "\tFetch data for 2013-2014 Projet Master printemps\t: Stored in Data/2013-2014 Projet Master printemps\n",
      "\tFetch data for 2013-2014 Bachelor semestre 4\t: Stored in Data/2013-2014 Bachelor semestre 4\n",
      "\tFetch data for 2013-2014 Bachelor semestre 5b\t: No data\n",
      "\tFetch data for 2013-2014 Master semestre 3\t: Stored in Data/2013-2014 Master semestre 3\n",
      "\tFetch data for 2013-2014 Master semestre 2\t: Stored in Data/2013-2014 Master semestre 2\n",
      "\tFetch data for 2008-2009 Bachelor semestre 6b\t: No data\n",
      "\tFetch data for 2008-2009 Bachelor semestre 3\t: Unable to get data from http://isa.epfl.ch/imoniteur_ISAP/!GEDPUBLICREPORTS.html with following params :\n",
      "\t\tww_x_GPS : -1\n",
      "\t\tww_i_reportModelXsl : 133685270\n",
      "\t\tww_i_reportModel : 133685247\n",
      "\t\tww_x_HIVERETE : null\n",
      "\t\tww_x_PERIODE_PEDAGO : 942155\n",
      "\t\tww_x_UNITE_ACAD : 249847\n",
      "\t\tww_x_PERIODE_ACAD : 978187\n",
      "\tFetch data for 2014-2015 Bachelor semestre 6b\t: No data\n",
      "\tFetch data for 2014-2015 Bachelor semestre 3\t: Stored in Data/2014-2015 Bachelor semestre 3\n",
      "\tFetch data for 2014-2015 Bachelor semestre 5\t: Stored in Data/2014-2015 Bachelor semestre 5\n",
      "\tFetch data for 2014-2015 Projet Master automne\t: Stored in Data/2014-2015 Projet Master automne\n",
      "\tFetch data for 2014-2015 Bachelor semestre 1\t: Stored in Data/2014-2015 Bachelor semestre 1\n",
      "\tFetch data for 2014-2015 Master semestre 1\t: Stored in Data/2014-2015 Master semestre 1\n",
      "\tFetch data for 2014-2015 Master semestre 4\t: No data\n",
      "\tFetch data for 2014-2015 Bachelor semestre 2\t: Stored in Data/2014-2015 Bachelor semestre 2\n",
      "\tFetch data for 2014-2015 Bachelor semestre 6\t: Stored in Data/2014-2015 Bachelor semestre 6\n",
      "\tFetch data for 2014-2015 Projet Master printemps\t: No data\n",
      "\tFetch data for 2014-2015 Bachelor semestre 4\t: Stored in Data/2014-2015 Bachelor semestre 4\n",
      "\tFetch data for 2014-2015 Bachelor semestre 5b\t: No data\n",
      "\tFetch data for 2014-2015 Master semestre 3\t: Stored in Data/2014-2015 Master semestre 3\n",
      "\tFetch data for 2014-2015 Master semestre 2\t: Stored in Data/2014-2015 Master semestre 2\n",
      "\tFetch data for 2007-2008 Bachelor semestre 6b\t: No data\n",
      "\tFetch data for 2007-2008 Bachelor semestre 3\t: Unable to get data from http://isa.epfl.ch/imoniteur_ISAP/!GEDPUBLICREPORTS.html with following params :\n",
      "\t\tww_x_GPS : -1\n",
      "\t\tww_i_reportModelXsl : 133685270\n",
      "\t\tww_i_reportModel : 133685247\n",
      "\t\tww_x_HIVERETE : null\n",
      "\t\tww_x_PERIODE_PEDAGO : 942155\n",
      "\t\tww_x_UNITE_ACAD : 249847\n",
      "\t\tww_x_PERIODE_ACAD : 978181\n",
      "\tFetch data for 2010-2011 Bachelor semestre 6b\t: No data\n",
      "\tFetch data for 2010-2011 Bachelor semestre 3\t: Stored in Data/2010-2011 Bachelor semestre 3\n",
      "\tFetch data for 2010-2011 Bachelor semestre 5\t: Stored in Data/2010-2011 Bachelor semestre 5\n",
      "\tFetch data for 2010-2011 Projet Master automne\t: Stored in Data/2010-2011 Projet Master automne\n",
      "\tFetch data for 2010-2011 Bachelor semestre 1\t: Stored in Data/2010-2011 Bachelor semestre 1\n",
      "\tFetch data for 2010-2011 Master semestre 1\t: Stored in Data/2010-2011 Master semestre 1\n",
      "\tFetch data for 2010-2011 Master semestre 4\t: No data\n",
      "\tFetch data for 2010-2011 Bachelor semestre 2\t: Stored in Data/2010-2011 Bachelor semestre 2\n",
      "\tFetch data for 2010-2011 Bachelor semestre 6\t: Stored in Data/2010-2011 Bachelor semestre 6\n",
      "\tFetch data for 2010-2011 Projet Master printemps\t: Stored in Data/2010-2011 Projet Master printemps\n",
      "\tFetch data for 2010-2011 Bachelor semestre 4\t: Stored in Data/2010-2011 Bachelor semestre 4\n",
      "\tFetch data for 2010-2011 Bachelor semestre 5b\t: No data\n",
      "\tFetch data for 2010-2011 Master semestre 3\t: Stored in Data/2010-2011 Master semestre 3\n",
      "\tFetch data for 2010-2011 Master semestre 2\t: Stored in Data/2010-2011 Master semestre 2\n",
      "\tFetch data for 2012-2013 Bachelor semestre 6b\t: No data\n",
      "\tFetch data for 2012-2013 Bachelor semestre 3\t: Stored in Data/2012-2013 Bachelor semestre 3\n",
      "\tFetch data for 2012-2013 Bachelor semestre 5\t: Stored in Data/2012-2013 Bachelor semestre 5\n",
      "\tFetch data for 2012-2013 Projet Master automne\t: Stored in Data/2012-2013 Projet Master automne\n",
      "\tFetch data for 2012-2013 Bachelor semestre 1\t: Stored in Data/2012-2013 Bachelor semestre 1\n",
      "\tFetch data for 2012-2013 Master semestre 1\t: Stored in Data/2012-2013 Master semestre 1\n",
      "\tFetch data for 2012-2013 Master semestre 4\t: No data\n",
      "\tFetch data for 2012-2013 Bachelor semestre 2\t: Stored in Data/2012-2013 Bachelor semestre 2\n",
      "\tFetch data for 2012-2013 Bachelor semestre 6\t: Stored in Data/2012-2013 Bachelor semestre 6\n",
      "\tFetch data for 2012-2013 Projet Master printemps\t: Stored in Data/2012-2013 Projet Master printemps\n",
      "\tFetch data for 2012-2013 Bachelor semestre 4\t: Stored in Data/2012-2013 Bachelor semestre 4\n",
      "\tFetch data for 2012-2013 Bachelor semestre 5b\t: No data\n",
      "\tFetch data for 2012-2013 Master semestre 3\t: Stored in Data/2012-2013 Master semestre 3\n",
      "\tFetch data for 2012-2013 Master semestre 2\t: Stored in Data/2012-2013 Master semestre 2\n",
      "\tFetch data for 2016-2017 Bachelor semestre 6b\t: No data\n",
      "\tFetch data for 2016-2017 Bachelor semestre 3\t: Stored in Data/2016-2017 Bachelor semestre 3\n",
      "\tFetch data for 2016-2017 Bachelor semestre 5\t: Stored in Data/2016-2017 Bachelor semestre 5\n",
      "\tFetch data for 2016-2017 Projet Master automne\t: Stored in Data/2016-2017 Projet Master automne\n",
      "\tFetch data for 2016-2017 Bachelor semestre 1\t: Stored in Data/2016-2017 Bachelor semestre 1\n",
      "\tFetch data for 2016-2017 Master semestre 1\t: Stored in Data/2016-2017 Master semestre 1\n",
      "\tFetch data for 2016-2017 Master semestre 4\t: No data\n",
      "\tFetch data for 2016-2017 Bachelor semestre 2\t: Stored in Data/2016-2017 Bachelor semestre 2\n",
      "\tFetch data for 2016-2017 Bachelor semestre 6\t: Stored in Data/2016-2017 Bachelor semestre 6\n",
      "\tFetch data for 2016-2017 Projet Master printemps\t: No data\n",
      "\tFetch data for 2016-2017 Bachelor semestre 4\t: Stored in Data/2016-2017 Bachelor semestre 4\n",
      "\tFetch data for 2016-2017 Bachelor semestre 5b\t: No data\n",
      "\tFetch data for 2016-2017 Master semestre 3\t: Stored in Data/2016-2017 Master semestre 3\n",
      "\tFetch data for 2016-2017 Master semestre 2\t: Stored in Data/2016-2017 Master semestre 2\n",
      "\tFetch data for 2011-2012 Bachelor semestre 6b\t: No data\n",
      "\tFetch data for 2011-2012 Bachelor semestre 3\t: Stored in Data/2011-2012 Bachelor semestre 3\n",
      "\tFetch data for 2011-2012 Bachelor semestre 5\t: Stored in Data/2011-2012 Bachelor semestre 5\n",
      "\tFetch data for 2011-2012 Projet Master automne\t: Stored in Data/2011-2012 Projet Master automne\n",
      "\tFetch data for 2011-2012 Bachelor semestre 1\t: Stored in Data/2011-2012 Bachelor semestre 1\n",
      "\tFetch data for 2011-2012 Master semestre 1\t: Stored in Data/2011-2012 Master semestre 1\n",
      "\tFetch data for 2011-2012 Master semestre 4\t: No data\n",
      "\tFetch data for 2011-2012 Bachelor semestre 2\t: Stored in Data/2011-2012 Bachelor semestre 2\n",
      "\tFetch data for 2011-2012 Bachelor semestre 6\t: Stored in Data/2011-2012 Bachelor semestre 6\n",
      "\tFetch data for 2011-2012 Projet Master printemps\t: Stored in Data/2011-2012 Projet Master printemps\n",
      "\tFetch data for 2011-2012 Bachelor semestre 4\t: Stored in Data/2011-2012 Bachelor semestre 4\n",
      "\tFetch data for 2011-2012 Bachelor semestre 5b\t: No data\n",
      "\tFetch data for 2011-2012 Master semestre 3\t: Stored in Data/2011-2012 Master semestre 3\n",
      "\tFetch data for 2011-2012 Master semestre 2\t: Stored in Data/2011-2012 Master semestre 2\n",
      "\tFetch data for 2009-2010 Bachelor semestre 6b\t: No data\n",
      "\tFetch data for 2009-2010 Bachelor semestre 3\t: Stored in Data/2009-2010 Bachelor semestre 3\n",
      "\tFetch data for 2009-2010 Bachelor semestre 5\t: Stored in Data/2009-2010 Bachelor semestre 5\n",
      "\tFetch data for 2009-2010 Projet Master automne\t: Stored in Data/2009-2010 Projet Master automne\n",
      "\tFetch data for 2009-2010 Bachelor semestre 1\t: Stored in Data/2009-2010 Bachelor semestre 1\n",
      "\tFetch data for 2009-2010 Master semestre 1\t: Stored in Data/2009-2010 Master semestre 1\n",
      "\tFetch data for 2009-2010 Master semestre 4\t: No data\n",
      "\tFetch data for 2009-2010 Bachelor semestre 2\t: Stored in Data/2009-2010 Bachelor semestre 2\n",
      "\tFetch data for 2009-2010 Bachelor semestre 6\t: Stored in Data/2009-2010 Bachelor semestre 6\n",
      "\tFetch data for 2009-2010 Projet Master printemps\t: Stored in Data/2009-2010 Projet Master printemps\n",
      "\tFetch data for 2009-2010 Bachelor semestre 4\t: Stored in Data/2009-2010 Bachelor semestre 4\n",
      "\tFetch data for 2009-2010 Bachelor semestre 5b\t: No data\n",
      "\tFetch data for 2009-2010 Master semestre 3\t: Stored in Data/2009-2010 Master semestre 3\n",
      "\tFetch data for 2009-2010 Master semestre 2\t: Stored in Data/2009-2010 Master semestre 2\n",
      "Fetching data done, see Data/ folder\n"
     ]
    }
   ],
   "source": [
    "# Create the directory Data if not exist\n",
    "if not os.path.exists('Data'):\n",
    "    os.makedirs(DATA_FOLDER)\n",
    "\n",
    "# We focus only one data of students in bachelor and master\n",
    "bachelor_master_semester_codes = {}\n",
    "for section_name in semester_codes:\n",
    "    if section_name.startswith('Bachelor semestre') or section_name.startswith('Master semestre') or section_name.startswith('Projet Master'):\n",
    "            bachelor_master_semester_codes[section_name] = semester_codes[section_name]\n",
    "\n",
    "print('Start fetching data from ' + DATA_URL)\n",
    "\n",
    "# For each codes available in the year select box\n",
    "for year_name, year_code in year_codes.items():\n",
    "\n",
    "    # For each codes about master and bachelor sections\n",
    "    for semester_name, semester_code in bachelor_master_semester_codes.items():\n",
    "        \n",
    "        print('\\tFetch data for ' + year_name + ' ' + semester_name + '\\t: ', end=\"\", flush=True)\n",
    "\n",
    "        file_path = DATA_FOLDER + year_name + ' ' + semester_name\n",
    "        \n",
    "        # If the file already exist do nothing more\n",
    "        if not os.path.exists(file_path):\n",
    "       \n",
    "            params = {\n",
    "                SECTION_PARAM : section_codes['Informatique'],\n",
    "                YEAR_PARAM : year_code,\n",
    "                SEMESTER_PARAM : semester_code,\n",
    "                TYPE_PARAM : 'null',\n",
    "                **DEFAULT_PARAMS\n",
    "            }\n",
    "\n",
    "            try:\n",
    "                # We get a dataframe from a table in the html\n",
    "                data = html_page_to_dataframe(rq.get(DATA_URL, params))\n",
    "\n",
    "                if data.empty:\n",
    "                    print('No data')\n",
    "                    \n",
    "                else:\n",
    "                    # We store data in binary file with pickle in the Data folder\n",
    "                    data.to_pickle(file_path)\n",
    "\n",
    "                    print('Stored in ' + file_path)\n",
    "\n",
    "            except ValueError:\n",
    "                print('Unable to get data from ' + DATA_URL + ' with following params :')\n",
    "                for key, value in params.items():\n",
    "                    print('\\t\\t' + key + ' : ' + value)\n",
    "                break\n",
    "\n",
    "        else:\n",
    "            print('Already stored in ' + file_path)\n",
    "\n",
    "print('Fetching data done, see ' + DATA_FOLDER + ' folder')"
   ]
  },
  {
   "cell_type": "markdown",
   "metadata": {},
   "source": [
    "> Problem detected with \"2008-2009 Bachelor semestre 3\" and \"2007-2008 Bachelor semestre 3\", multiple table find (two entry instead of one). We have only two errors so if we need this data we will make the request manually."
   ]
  },
  {
   "cell_type": "markdown",
   "metadata": {},
   "source": [
    "### Analyse bachelor data\n",
    "\n",
    "We can notice that the data related to students in bachelor 5b and 6b are empty in computer science section.\n",
    "\n",
    "Assumptions:\n",
    " - 1) A bachelor student starts at the semester 1 and finishes at the semester 6 or 5 (if the student failed his semester 5 but not the 6)\n",
    " - 2) A semester lasts 6 months\n",
    " - 3) Odd semesters are in the fall period and even semesters are in the spring semesters\n",
    " \n",
    "Now, we need to get interested data from files and concat all together in a single dataframe. We firstly concat every data of one section in one dataframe like this:"
   ]
  },
  {
   "cell_type": "code",
   "execution_count": 7,
   "metadata": {
    "collapsed": false
   },
   "outputs": [],
   "source": [
    "## Get data from files and return a table of dataframes for every sections given\n",
    "# semester_codes: dict (section name : section code) that the function will retrieve\n",
    "# extra_compute: extra function executed in every year for a specific section (params: data for this year, semester name and year name)\n",
    "# data_folder: the data folder where data is stored (by default DATA_FOLDER constant)\n",
    "def retrieve_dataframes(semester_codes, extra_compute, data_folder=DATA_FOLDER):\n",
    "\n",
    "    # The variable contains a list of dataframe associated to a semester_name\n",
    "    dataframes = collections.defaultdict(pd.DataFrame)\n",
    "\n",
    "    for semester_name, semester_code in semester_codes.items():\n",
    "\n",
    "        print('Compute for ' + semester_name)\n",
    "\n",
    "        # The variable contains a list of dataframe related to a specific semester.\n",
    "        for year_name, year_code in year_codes.items():\n",
    "\n",
    "            file_path = data_folder + year_name + ' ' + semester_name\n",
    "\n",
    "            if os.path.exists(file_path):\n",
    "\n",
    "                # We get a dataframe from a table in the html\n",
    "                data_per_year = pd.read_pickle(file_path)\n",
    "\n",
    "                extra_compute(data_per_year, semester_name, year_name)\n",
    "\n",
    "                # We add the result to the initial dataframe\n",
    "                dataframes[semester_name] =  pd.concat([dataframes[semester_name], data_per_year])\n",
    "                \n",
    "    return dataframes"
   ]
  },
  {
   "cell_type": "code",
   "execution_count": 8,
   "metadata": {
    "collapsed": false
   },
   "outputs": [
    {
     "name": "stdout",
     "output_type": "stream",
     "text": [
      "Compute for Bachelor semestre 6\n",
      "Compute for Bachelor semestre 1\n",
      "Compute for Bachelor semestre 5\n"
     ]
    }
   ],
   "source": [
    "# We select only semester 1, 5, 6 in the bachelor section\n",
    "bachelor_semester_codes = {}\n",
    "for section_name in semester_codes:\n",
    "    if section_name.startswith('Bachelor semestre') and section_name.endswith(tuple(['1', '5', '6'])):\n",
    "        bachelor_semester_codes[section_name] = semester_codes[section_name]\n",
    "\n",
    "# This is the extra function given to the previous function that will add a column with the beginning date of the semester\n",
    "# 1 August for odd semesters and 1 February for even semesters\n",
    "def bachelor_append_year(data_per_year, semester_name, year_name):\n",
    "    if semester_name.endswith('1') or semester_name.endswith('5'):\n",
    "        begin_date = year_name.split('-')[0] + '-08-01'\n",
    "    else:\n",
    "        begin_date = year_name.split('-')[1] + '-02-01'\n",
    "    data_per_year[semester_name] = pd.to_datetime(begin_date) \n",
    "\n",
    "bachelor_dataframes = retrieve_dataframes(bachelor_semester_codes, bachelor_append_year)"
   ]
  },
  {
   "cell_type": "markdown",
   "metadata": {
    "collapsed": true
   },
   "source": [
    "## Visualizing and cleaning data"
   ]
  },
  {
   "cell_type": "code",
   "execution_count": 9,
   "metadata": {
    "collapsed": false,
    "scrolled": true
   },
   "outputs": [
    {
     "data": {
      "text/html": [
       "<div>\n",
       "<table border=\"1\" class=\"dataframe\">\n",
       "  <thead>\n",
       "    <tr style=\"text-align: right;\">\n",
       "      <th></th>\n",
       "      <th>Civilité</th>\n",
       "      <th>Nom Prénom</th>\n",
       "      <th>Orientation Bachelor</th>\n",
       "      <th>Orientation Master</th>\n",
       "      <th>Spécialisation</th>\n",
       "      <th>Filière opt.</th>\n",
       "      <th>Mineur</th>\n",
       "      <th>Statut</th>\n",
       "      <th>Type Echange</th>\n",
       "      <th>Ecole Echange</th>\n",
       "      <th>No Sciper</th>\n",
       "      <th>Bachelor semestre 1</th>\n",
       "    </tr>\n",
       "  </thead>\n",
       "  <tbody>\n",
       "    <tr>\n",
       "      <th>0</th>\n",
       "      <td>Monsieur</td>\n",
       "      <td>Abbey Alexandre</td>\n",
       "      <td></td>\n",
       "      <td></td>\n",
       "      <td></td>\n",
       "      <td></td>\n",
       "      <td></td>\n",
       "      <td>Présent</td>\n",
       "      <td></td>\n",
       "      <td></td>\n",
       "      <td>235688</td>\n",
       "      <td>2015-08-01</td>\n",
       "    </tr>\n",
       "    <tr>\n",
       "      <th>1</th>\n",
       "      <td>Madame</td>\n",
       "      <td>Abboud Magaly</td>\n",
       "      <td></td>\n",
       "      <td></td>\n",
       "      <td></td>\n",
       "      <td></td>\n",
       "      <td></td>\n",
       "      <td>Présent</td>\n",
       "      <td></td>\n",
       "      <td></td>\n",
       "      <td>249344</td>\n",
       "      <td>2015-08-01</td>\n",
       "    </tr>\n",
       "    <tr>\n",
       "      <th>2</th>\n",
       "      <td>Monsieur</td>\n",
       "      <td>Ahmed Fares</td>\n",
       "      <td></td>\n",
       "      <td></td>\n",
       "      <td></td>\n",
       "      <td></td>\n",
       "      <td></td>\n",
       "      <td>Présent</td>\n",
       "      <td></td>\n",
       "      <td></td>\n",
       "      <td>246443</td>\n",
       "      <td>2015-08-01</td>\n",
       "    </tr>\n",
       "    <tr>\n",
       "      <th>3</th>\n",
       "      <td>Monsieur</td>\n",
       "      <td>Alder Jean-Marie René</td>\n",
       "      <td></td>\n",
       "      <td></td>\n",
       "      <td></td>\n",
       "      <td></td>\n",
       "      <td></td>\n",
       "      <td>Présent</td>\n",
       "      <td></td>\n",
       "      <td></td>\n",
       "      <td>259105</td>\n",
       "      <td>2015-08-01</td>\n",
       "    </tr>\n",
       "    <tr>\n",
       "      <th>4</th>\n",
       "      <td>Madame</td>\n",
       "      <td>Amirthalingam Ajantha</td>\n",
       "      <td></td>\n",
       "      <td></td>\n",
       "      <td></td>\n",
       "      <td></td>\n",
       "      <td></td>\n",
       "      <td>Présent</td>\n",
       "      <td></td>\n",
       "      <td></td>\n",
       "      <td>262227</td>\n",
       "      <td>2015-08-01</td>\n",
       "    </tr>\n",
       "  </tbody>\n",
       "</table>\n",
       "</div>"
      ],
      "text/plain": [
       "   Civilité             Nom Prénom Orientation Bachelor Orientation Master  \\\n",
       "0  Monsieur        Abbey Alexandre                                           \n",
       "1    Madame          Abboud Magaly                                           \n",
       "2  Monsieur            Ahmed Fares                                           \n",
       "3  Monsieur  Alder Jean-Marie René                                           \n",
       "4    Madame  Amirthalingam Ajantha                                           \n",
       "\n",
       "  Spécialisation Filière opt. Mineur   Statut Type Echange Ecole Echange  \\\n",
       "0                                     Présent                              \n",
       "1                                     Présent                              \n",
       "2                                     Présent                              \n",
       "3                                     Présent                              \n",
       "4                                     Présent                              \n",
       "\n",
       "  No Sciper Bachelor semestre 1  \n",
       "0    235688          2015-08-01  \n",
       "1    249344          2015-08-01  \n",
       "2    246443          2015-08-01  \n",
       "3    259105          2015-08-01  \n",
       "4    262227          2015-08-01  "
      ]
     },
     "execution_count": 9,
     "metadata": {},
     "output_type": "execute_result"
    }
   ],
   "source": [
    "bachelor_data_semester1 = bachelor_dataframes['Bachelor semestre 1'].copy()\n",
    "bachelor_data_semester1.head()"
   ]
  },
  {
   "cell_type": "code",
   "execution_count": 10,
   "metadata": {
    "collapsed": false
   },
   "outputs": [
    {
     "data": {
      "text/html": [
       "<div>\n",
       "<table border=\"1\" class=\"dataframe\">\n",
       "  <thead>\n",
       "    <tr style=\"text-align: right;\">\n",
       "      <th></th>\n",
       "      <th>Civilité</th>\n",
       "      <th>Nom Prénom</th>\n",
       "      <th>Orientation Bachelor</th>\n",
       "      <th>Orientation Master</th>\n",
       "      <th>Spécialisation</th>\n",
       "      <th>Filière opt.</th>\n",
       "      <th>Mineur</th>\n",
       "      <th>Statut</th>\n",
       "      <th>Type Echange</th>\n",
       "      <th>Ecole Echange</th>\n",
       "      <th>No Sciper</th>\n",
       "      <th>Bachelor semestre 5</th>\n",
       "    </tr>\n",
       "  </thead>\n",
       "  <tbody>\n",
       "    <tr>\n",
       "      <th>0</th>\n",
       "      <td>Monsieur</td>\n",
       "      <td>Aiulfi Loris Sandro</td>\n",
       "      <td></td>\n",
       "      <td></td>\n",
       "      <td></td>\n",
       "      <td></td>\n",
       "      <td></td>\n",
       "      <td>Congé</td>\n",
       "      <td></td>\n",
       "      <td></td>\n",
       "      <td>202293</td>\n",
       "      <td>2015-08-01</td>\n",
       "    </tr>\n",
       "    <tr>\n",
       "      <th>1</th>\n",
       "      <td>Monsieur</td>\n",
       "      <td>Alfonso Peterssen Alfonso</td>\n",
       "      <td></td>\n",
       "      <td></td>\n",
       "      <td></td>\n",
       "      <td>6 - Visual computing</td>\n",
       "      <td></td>\n",
       "      <td>Présent</td>\n",
       "      <td></td>\n",
       "      <td></td>\n",
       "      <td>228219</td>\n",
       "      <td>2015-08-01</td>\n",
       "    </tr>\n",
       "    <tr>\n",
       "      <th>2</th>\n",
       "      <td>Monsieur</td>\n",
       "      <td>Alonso Seisdedos Florian</td>\n",
       "      <td></td>\n",
       "      <td></td>\n",
       "      <td></td>\n",
       "      <td></td>\n",
       "      <td></td>\n",
       "      <td>Présent</td>\n",
       "      <td></td>\n",
       "      <td></td>\n",
       "      <td>215576</td>\n",
       "      <td>2015-08-01</td>\n",
       "    </tr>\n",
       "    <tr>\n",
       "      <th>3</th>\n",
       "      <td>Monsieur</td>\n",
       "      <td>Angerand Grégoire Georges Jacques</td>\n",
       "      <td></td>\n",
       "      <td></td>\n",
       "      <td></td>\n",
       "      <td></td>\n",
       "      <td></td>\n",
       "      <td>Présent</td>\n",
       "      <td></td>\n",
       "      <td></td>\n",
       "      <td>212464</td>\n",
       "      <td>2015-08-01</td>\n",
       "    </tr>\n",
       "    <tr>\n",
       "      <th>4</th>\n",
       "      <td>Monsieur</td>\n",
       "      <td>Anongba Varela Dario Abougnan</td>\n",
       "      <td></td>\n",
       "      <td></td>\n",
       "      <td></td>\n",
       "      <td>7 - Biocomputing</td>\n",
       "      <td></td>\n",
       "      <td>Présent</td>\n",
       "      <td></td>\n",
       "      <td></td>\n",
       "      <td>226371</td>\n",
       "      <td>2015-08-01</td>\n",
       "    </tr>\n",
       "  </tbody>\n",
       "</table>\n",
       "</div>"
      ],
      "text/plain": [
       "   Civilité                         Nom Prénom Orientation Bachelor  \\\n",
       "0  Monsieur                Aiulfi Loris Sandro                        \n",
       "1  Monsieur          Alfonso Peterssen Alfonso                        \n",
       "2  Monsieur           Alonso Seisdedos Florian                        \n",
       "3  Monsieur  Angerand Grégoire Georges Jacques                        \n",
       "4  Monsieur      Anongba Varela Dario Abougnan                        \n",
       "\n",
       "  Orientation Master Spécialisation          Filière opt. Mineur   Statut  \\\n",
       "0                                                                   Congé   \n",
       "1                                    6 - Visual computing         Présent   \n",
       "2                                                                 Présent   \n",
       "3                                                                 Présent   \n",
       "4                                        7 - Biocomputing         Présent   \n",
       "\n",
       "  Type Echange Ecole Echange No Sciper Bachelor semestre 5  \n",
       "0                               202293          2015-08-01  \n",
       "1                               228219          2015-08-01  \n",
       "2                               215576          2015-08-01  \n",
       "3                               212464          2015-08-01  \n",
       "4                               226371          2015-08-01  "
      ]
     },
     "execution_count": 10,
     "metadata": {},
     "output_type": "execute_result"
    }
   ],
   "source": [
    "bachelor_data_semester5 = bachelor_dataframes['Bachelor semestre 5'].copy()\n",
    "bachelor_data_semester5.head()"
   ]
  },
  {
   "cell_type": "code",
   "execution_count": 11,
   "metadata": {
    "collapsed": false
   },
   "outputs": [
    {
     "data": {
      "text/html": [
       "<div>\n",
       "<table border=\"1\" class=\"dataframe\">\n",
       "  <thead>\n",
       "    <tr style=\"text-align: right;\">\n",
       "      <th></th>\n",
       "      <th>Civilité</th>\n",
       "      <th>Nom Prénom</th>\n",
       "      <th>Orientation Bachelor</th>\n",
       "      <th>Orientation Master</th>\n",
       "      <th>Spécialisation</th>\n",
       "      <th>Filière opt.</th>\n",
       "      <th>Mineur</th>\n",
       "      <th>Statut</th>\n",
       "      <th>Type Echange</th>\n",
       "      <th>Ecole Echange</th>\n",
       "      <th>No Sciper</th>\n",
       "      <th>Bachelor semestre 6</th>\n",
       "    </tr>\n",
       "  </thead>\n",
       "  <tbody>\n",
       "    <tr>\n",
       "      <th>0</th>\n",
       "      <td>Monsieur</td>\n",
       "      <td>Aiulfi Loris Sandro</td>\n",
       "      <td></td>\n",
       "      <td></td>\n",
       "      <td></td>\n",
       "      <td></td>\n",
       "      <td></td>\n",
       "      <td>Congé</td>\n",
       "      <td></td>\n",
       "      <td></td>\n",
       "      <td>202293</td>\n",
       "      <td>2016-02-01</td>\n",
       "    </tr>\n",
       "    <tr>\n",
       "      <th>1</th>\n",
       "      <td>Monsieur</td>\n",
       "      <td>Alfonso Peterssen Alfonso</td>\n",
       "      <td></td>\n",
       "      <td></td>\n",
       "      <td></td>\n",
       "      <td>6 - Visual computing</td>\n",
       "      <td></td>\n",
       "      <td>Présent</td>\n",
       "      <td></td>\n",
       "      <td></td>\n",
       "      <td>228219</td>\n",
       "      <td>2016-02-01</td>\n",
       "    </tr>\n",
       "    <tr>\n",
       "      <th>2</th>\n",
       "      <td>Monsieur</td>\n",
       "      <td>Alonso Seisdedos Florian</td>\n",
       "      <td></td>\n",
       "      <td></td>\n",
       "      <td></td>\n",
       "      <td></td>\n",
       "      <td></td>\n",
       "      <td>Présent</td>\n",
       "      <td></td>\n",
       "      <td></td>\n",
       "      <td>215576</td>\n",
       "      <td>2016-02-01</td>\n",
       "    </tr>\n",
       "    <tr>\n",
       "      <th>3</th>\n",
       "      <td>Monsieur</td>\n",
       "      <td>Angerand Grégoire Georges Jacques</td>\n",
       "      <td></td>\n",
       "      <td></td>\n",
       "      <td></td>\n",
       "      <td></td>\n",
       "      <td></td>\n",
       "      <td>Présent</td>\n",
       "      <td></td>\n",
       "      <td></td>\n",
       "      <td>212464</td>\n",
       "      <td>2016-02-01</td>\n",
       "    </tr>\n",
       "    <tr>\n",
       "      <th>4</th>\n",
       "      <td>Monsieur</td>\n",
       "      <td>Anongba Varela Dario Abougnan</td>\n",
       "      <td></td>\n",
       "      <td></td>\n",
       "      <td></td>\n",
       "      <td>6 - Visual computing</td>\n",
       "      <td></td>\n",
       "      <td>Présent</td>\n",
       "      <td></td>\n",
       "      <td></td>\n",
       "      <td>226371</td>\n",
       "      <td>2016-02-01</td>\n",
       "    </tr>\n",
       "  </tbody>\n",
       "</table>\n",
       "</div>"
      ],
      "text/plain": [
       "   Civilité                         Nom Prénom Orientation Bachelor  \\\n",
       "0  Monsieur                Aiulfi Loris Sandro                        \n",
       "1  Monsieur          Alfonso Peterssen Alfonso                        \n",
       "2  Monsieur           Alonso Seisdedos Florian                        \n",
       "3  Monsieur  Angerand Grégoire Georges Jacques                        \n",
       "4  Monsieur      Anongba Varela Dario Abougnan                        \n",
       "\n",
       "  Orientation Master Spécialisation          Filière opt. Mineur   Statut  \\\n",
       "0                                                                   Congé   \n",
       "1                                    6 - Visual computing         Présent   \n",
       "2                                                                 Présent   \n",
       "3                                                                 Présent   \n",
       "4                                    6 - Visual computing         Présent   \n",
       "\n",
       "  Type Echange Ecole Echange No Sciper Bachelor semestre 6  \n",
       "0                               202293          2016-02-01  \n",
       "1                               228219          2016-02-01  \n",
       "2                               215576          2016-02-01  \n",
       "3                               212464          2016-02-01  \n",
       "4                               226371          2016-02-01  "
      ]
     },
     "execution_count": 11,
     "metadata": {},
     "output_type": "execute_result"
    }
   ],
   "source": [
    "bachelor_data_semester6 = bachelor_dataframes['Bachelor semestre 6'].copy()\n",
    "bachelor_data_semester6.head()"
   ]
  },
  {
   "cell_type": "markdown",
   "metadata": {},
   "source": [
    "### About the student status"
   ]
  },
  {
   "cell_type": "markdown",
   "metadata": {},
   "source": [
    "We see a status column that shows if the student is present or not in the semester. This parameter can have an impact on the result we want to compute:"
   ]
  },
  {
   "cell_type": "code",
   "execution_count": 12,
   "metadata": {
    "collapsed": false,
    "scrolled": true
   },
   "outputs": [
    {
     "data": {
      "text/plain": [
       "Présent    1529\n",
       "Congé         3\n",
       "Attente       1\n",
       "Name: Statut, dtype: int64"
      ]
     },
     "execution_count": 12,
     "metadata": {},
     "output_type": "execute_result"
    }
   ],
   "source": [
    "bachelor_data_semester1['Statut'].value_counts()"
   ]
  },
  {
   "cell_type": "code",
   "execution_count": 13,
   "metadata": {
    "collapsed": false
   },
   "outputs": [
    {
     "data": {
      "text/plain": [
       "Présent    648\n",
       "Congé      137\n",
       "Name: Statut, dtype: int64"
      ]
     },
     "execution_count": 13,
     "metadata": {},
     "output_type": "execute_result"
    }
   ],
   "source": [
    "bachelor_data_semester5['Statut'].value_counts()"
   ]
  },
  {
   "cell_type": "code",
   "execution_count": 14,
   "metadata": {
    "collapsed": false
   },
   "outputs": [
    {
     "data": {
      "text/plain": [
       "Présent    447\n",
       "Congé      127\n",
       "Attente      1\n",
       "Name: Statut, dtype: int64"
      ]
     },
     "execution_count": 14,
     "metadata": {},
     "output_type": "execute_result"
    }
   ],
   "source": [
    "bachelor_data_semester6['Statut'].value_counts()"
   ]
  },
  {
   "cell_type": "markdown",
   "metadata": {},
   "source": [
    "We have some students who didn't attend the first or last semester and only one (in semester 1 and 6) in a waiting state.\n",
    "We can't know with this data if a student registered in bachelor semester 6 has successfully achieved his bachelor degree or not (i.e. a student can be marked as \"présent\" or \"congé\" and in the same time can fail or success). For this reasons we have to make new assumptions :\n",
    " - 4) The earliest year of bachelor semester 1 stored in database correspond to the begining of his bachelor plan, regardless the status of students ('Présent', 'Congé' or 'Attente')\n",
    " - 5) We consider that all students obtain their bachelor regardless their status for the bachelor semester 1 and bachelor semester 6 (obviously, they have to be still present at bachelor semester 6).\n",
    " \n",
    " > Note: The fifth assumption is not mandatory here as we just want to know the average duration of a bachelor study plan."
   ]
  },
  {
   "cell_type": "markdown",
   "metadata": {},
   "source": [
    "### Handle duplicate entries and making index"
   ]
  },
  {
   "cell_type": "markdown",
   "metadata": {},
   "source": [
    "We want a unique index, in our case this will be the Sciper number :"
   ]
  },
  {
   "cell_type": "code",
   "execution_count": 15,
   "metadata": {
    "collapsed": false
   },
   "outputs": [
    {
     "data": {
      "text/plain": [
       "False"
      ]
     },
     "execution_count": 15,
     "metadata": {},
     "output_type": "execute_result"
    }
   ],
   "source": [
    "bachelor_data_semester1['No Sciper'].is_unique"
   ]
  },
  {
   "cell_type": "code",
   "execution_count": 16,
   "metadata": {
    "collapsed": false
   },
   "outputs": [
    {
     "data": {
      "text/plain": [
       "False"
      ]
     },
     "execution_count": 16,
     "metadata": {},
     "output_type": "execute_result"
    }
   ],
   "source": [
    "bachelor_data_semester5['No Sciper'].is_unique"
   ]
  },
  {
   "cell_type": "code",
   "execution_count": 17,
   "metadata": {
    "collapsed": false
   },
   "outputs": [
    {
     "data": {
      "text/plain": [
       "False"
      ]
     },
     "execution_count": 17,
     "metadata": {},
     "output_type": "execute_result"
    }
   ],
   "source": [
    "bachelor_data_semester6['No Sciper'].is_unique"
   ]
  },
  {
   "cell_type": "markdown",
   "metadata": {},
   "source": [
    "We see that isn't unique, so some students repeat the semester 1, 5 or 6. We need to keep the earliest year in the case of semester 1 and the lastest year in others cases. To do so, we will sort the dataframe by the year then we keep only the first entry for each students (asumption 4 and 5)."
   ]
  },
  {
   "cell_type": "code",
   "execution_count": 18,
   "metadata": {
    "collapsed": false
   },
   "outputs": [],
   "source": [
    "bachelor_data_semester1.sort_values('Bachelor semestre 1', inplace=True)\n",
    "bachelor_data_semester1.drop_duplicates(subset='No Sciper', keep='first', inplace=True)"
   ]
  },
  {
   "cell_type": "code",
   "execution_count": 19,
   "metadata": {
    "collapsed": false
   },
   "outputs": [],
   "source": [
    "bachelor_data_semester5.sort_values('Bachelor semestre 5', ascending=False, inplace=True)\n",
    "bachelor_data_semester5.drop_duplicates(subset='No Sciper', keep='first', inplace=True)"
   ]
  },
  {
   "cell_type": "code",
   "execution_count": 20,
   "metadata": {
    "collapsed": false
   },
   "outputs": [],
   "source": [
    "bachelor_data_semester6.sort_values('Bachelor semestre 6', ascending=False, inplace=True)\n",
    "bachelor_data_semester6.drop_duplicates(subset='No Sciper', keep='first', inplace=True)"
   ]
  },
  {
   "cell_type": "code",
   "execution_count": 21,
   "metadata": {
    "collapsed": false
   },
   "outputs": [
    {
     "data": {
      "text/plain": [
       "True"
      ]
     },
     "execution_count": 21,
     "metadata": {},
     "output_type": "execute_result"
    }
   ],
   "source": [
    "bachelor_data_semester1['No Sciper'].is_unique"
   ]
  },
  {
   "cell_type": "code",
   "execution_count": 22,
   "metadata": {
    "collapsed": false
   },
   "outputs": [
    {
     "data": {
      "text/plain": [
       "True"
      ]
     },
     "execution_count": 22,
     "metadata": {},
     "output_type": "execute_result"
    }
   ],
   "source": [
    "bachelor_data_semester5['No Sciper'].is_unique"
   ]
  },
  {
   "cell_type": "code",
   "execution_count": 23,
   "metadata": {
    "collapsed": false
   },
   "outputs": [
    {
     "data": {
      "text/plain": [
       "True"
      ]
     },
     "execution_count": 23,
     "metadata": {},
     "output_type": "execute_result"
    }
   ],
   "source": [
    "bachelor_data_semester6['No Sciper'].is_unique"
   ]
  },
  {
   "cell_type": "markdown",
   "metadata": {},
   "source": [
    "We see now that the sciper number is unique, so we set this column in index."
   ]
  },
  {
   "cell_type": "code",
   "execution_count": 24,
   "metadata": {
    "collapsed": false
   },
   "outputs": [
    {
     "data": {
      "text/html": [
       "<div>\n",
       "<table border=\"1\" class=\"dataframe\">\n",
       "  <thead>\n",
       "    <tr style=\"text-align: right;\">\n",
       "      <th></th>\n",
       "      <th>Civilité</th>\n",
       "      <th>Nom Prénom</th>\n",
       "      <th>Orientation Bachelor</th>\n",
       "      <th>Orientation Master</th>\n",
       "      <th>Spécialisation</th>\n",
       "      <th>Filière opt.</th>\n",
       "      <th>Mineur</th>\n",
       "      <th>Statut</th>\n",
       "      <th>Type Echange</th>\n",
       "      <th>Ecole Echange</th>\n",
       "      <th>Bachelor semestre 1</th>\n",
       "    </tr>\n",
       "    <tr>\n",
       "      <th>No Sciper</th>\n",
       "      <th></th>\n",
       "      <th></th>\n",
       "      <th></th>\n",
       "      <th></th>\n",
       "      <th></th>\n",
       "      <th></th>\n",
       "      <th></th>\n",
       "      <th></th>\n",
       "      <th></th>\n",
       "      <th></th>\n",
       "      <th></th>\n",
       "    </tr>\n",
       "  </thead>\n",
       "  <tbody>\n",
       "    <tr>\n",
       "      <th>192870</th>\n",
       "      <td>Monsieur</td>\n",
       "      <td>Zablotchi Mihail Igor</td>\n",
       "      <td></td>\n",
       "      <td></td>\n",
       "      <td></td>\n",
       "      <td></td>\n",
       "      <td></td>\n",
       "      <td>Présent</td>\n",
       "      <td></td>\n",
       "      <td></td>\n",
       "      <td>2009-08-01</td>\n",
       "    </tr>\n",
       "    <tr>\n",
       "      <th>193491</th>\n",
       "      <td>Monsieur</td>\n",
       "      <td>Edelmann Romain</td>\n",
       "      <td></td>\n",
       "      <td></td>\n",
       "      <td></td>\n",
       "      <td></td>\n",
       "      <td></td>\n",
       "      <td>Présent</td>\n",
       "      <td></td>\n",
       "      <td></td>\n",
       "      <td>2009-08-01</td>\n",
       "    </tr>\n",
       "    <tr>\n",
       "      <th>194323</th>\n",
       "      <td>Monsieur</td>\n",
       "      <td>El Baba Youssef</td>\n",
       "      <td></td>\n",
       "      <td></td>\n",
       "      <td></td>\n",
       "      <td></td>\n",
       "      <td></td>\n",
       "      <td>Présent</td>\n",
       "      <td></td>\n",
       "      <td></td>\n",
       "      <td>2009-08-01</td>\n",
       "    </tr>\n",
       "    <tr>\n",
       "      <th>193339</th>\n",
       "      <td>Monsieur</td>\n",
       "      <td>Fahy Kevin</td>\n",
       "      <td></td>\n",
       "      <td></td>\n",
       "      <td></td>\n",
       "      <td></td>\n",
       "      <td></td>\n",
       "      <td>Présent</td>\n",
       "      <td></td>\n",
       "      <td></td>\n",
       "      <td>2009-08-01</td>\n",
       "    </tr>\n",
       "    <tr>\n",
       "      <th>196690</th>\n",
       "      <td>Monsieur</td>\n",
       "      <td>Falquet Patrick</td>\n",
       "      <td></td>\n",
       "      <td></td>\n",
       "      <td></td>\n",
       "      <td></td>\n",
       "      <td></td>\n",
       "      <td>Présent</td>\n",
       "      <td></td>\n",
       "      <td></td>\n",
       "      <td>2009-08-01</td>\n",
       "    </tr>\n",
       "  </tbody>\n",
       "</table>\n",
       "</div>"
      ],
      "text/plain": [
       "           Civilité             Nom Prénom Orientation Bachelor  \\\n",
       "No Sciper                                                         \n",
       "192870     Monsieur  Zablotchi Mihail Igor                        \n",
       "193491     Monsieur        Edelmann Romain                        \n",
       "194323     Monsieur        El Baba Youssef                        \n",
       "193339     Monsieur             Fahy Kevin                        \n",
       "196690     Monsieur        Falquet Patrick                        \n",
       "\n",
       "          Orientation Master Spécialisation Filière opt. Mineur   Statut  \\\n",
       "No Sciper                                                                  \n",
       "192870                                                           Présent   \n",
       "193491                                                           Présent   \n",
       "194323                                                           Présent   \n",
       "193339                                                           Présent   \n",
       "196690                                                           Présent   \n",
       "\n",
       "          Type Echange Ecole Echange Bachelor semestre 1  \n",
       "No Sciper                                                 \n",
       "192870                                        2009-08-01  \n",
       "193491                                        2009-08-01  \n",
       "194323                                        2009-08-01  \n",
       "193339                                        2009-08-01  \n",
       "196690                                        2009-08-01  "
      ]
     },
     "execution_count": 24,
     "metadata": {},
     "output_type": "execute_result"
    }
   ],
   "source": [
    "bachelor_data_semester1.set_index('No Sciper', inplace=True)\n",
    "bachelor_data_semester5.set_index('No Sciper', inplace=True)\n",
    "bachelor_data_semester6.set_index('No Sciper', inplace=True)\n",
    "bachelor_data_semester1.head()"
   ]
  },
  {
   "cell_type": "markdown",
   "metadata": {},
   "source": [
    "### Merging data"
   ]
  },
  {
   "cell_type": "markdown",
   "metadata": {},
   "source": [
    "Now, we want to merge the two obtained (and cleaned) tables. For this, we use the 'merge' function provided by Pandas, specifying some parameters like the columns we want to preserve. Note that we use indexes to perform the merge, and we use inner merge as we want to consider only students who started their bachelor at EPFL."
   ]
  },
  {
   "cell_type": "code",
   "execution_count": 25,
   "metadata": {
    "collapsed": false,
    "scrolled": true
   },
   "outputs": [
    {
     "data": {
      "text/html": [
       "<div>\n",
       "<table border=\"1\" class=\"dataframe\">\n",
       "  <thead>\n",
       "    <tr style=\"text-align: right;\">\n",
       "      <th></th>\n",
       "      <th>Civilité</th>\n",
       "      <th>Nom Prénom</th>\n",
       "      <th>Bachelor semestre 1</th>\n",
       "      <th>Bachelor semestre 5</th>\n",
       "      <th>Bachelor semestre 6</th>\n",
       "    </tr>\n",
       "    <tr>\n",
       "      <th>No Sciper</th>\n",
       "      <th></th>\n",
       "      <th></th>\n",
       "      <th></th>\n",
       "      <th></th>\n",
       "      <th></th>\n",
       "    </tr>\n",
       "  </thead>\n",
       "  <tbody>\n",
       "    <tr>\n",
       "      <th>250362</th>\n",
       "      <td>Monsieur</td>\n",
       "      <td>Rigori Valentin Joseph</td>\n",
       "      <td>2014-08-01</td>\n",
       "      <td>2016-08-01</td>\n",
       "      <td>2017-02-01</td>\n",
       "    </tr>\n",
       "    <tr>\n",
       "      <th>246663</th>\n",
       "      <td>Monsieur</td>\n",
       "      <td>Haefeli Simon Lucas</td>\n",
       "      <td>2014-08-01</td>\n",
       "      <td>2016-08-01</td>\n",
       "      <td>2017-02-01</td>\n",
       "    </tr>\n",
       "    <tr>\n",
       "      <th>247891</th>\n",
       "      <td>Monsieur</td>\n",
       "      <td>Weier Philippe</td>\n",
       "      <td>2014-08-01</td>\n",
       "      <td>2016-08-01</td>\n",
       "      <td>2017-02-01</td>\n",
       "    </tr>\n",
       "    <tr>\n",
       "      <th>246532</th>\n",
       "      <td>Monsieur</td>\n",
       "      <td>Vaucher Timoté Pascal</td>\n",
       "      <td>2014-08-01</td>\n",
       "      <td>2016-08-01</td>\n",
       "      <td>2017-02-01</td>\n",
       "    </tr>\n",
       "    <tr>\n",
       "      <th>247680</th>\n",
       "      <td>Monsieur</td>\n",
       "      <td>Soufi Raja</td>\n",
       "      <td>2014-08-01</td>\n",
       "      <td>2016-08-01</td>\n",
       "      <td>2017-02-01</td>\n",
       "    </tr>\n",
       "  </tbody>\n",
       "</table>\n",
       "</div>"
      ],
      "text/plain": [
       "           Civilité              Nom Prénom Bachelor semestre 1  \\\n",
       "No Sciper                                                         \n",
       "250362     Monsieur  Rigori Valentin Joseph          2014-08-01   \n",
       "246663     Monsieur     Haefeli Simon Lucas          2014-08-01   \n",
       "247891     Monsieur          Weier Philippe          2014-08-01   \n",
       "246532     Monsieur   Vaucher Timoté Pascal          2014-08-01   \n",
       "247680     Monsieur              Soufi Raja          2014-08-01   \n",
       "\n",
       "          Bachelor semestre 5 Bachelor semestre 6  \n",
       "No Sciper                                          \n",
       "250362             2016-08-01          2017-02-01  \n",
       "246663             2016-08-01          2017-02-01  \n",
       "247891             2016-08-01          2017-02-01  \n",
       "246532             2016-08-01          2017-02-01  \n",
       "247680             2016-08-01          2017-02-01  "
      ]
     },
     "execution_count": 25,
     "metadata": {},
     "output_type": "execute_result"
    }
   ],
   "source": [
    "# First we merge semester 1 with the 5\n",
    "student_bachelor_done = pd.merge(\n",
    "    bachelor_data_semester1[['Civilité', 'Nom Prénom', 'Bachelor semestre 1']],\n",
    "    bachelor_data_semester5[['Bachelor semestre 5']],\n",
    "    left_index=True,\n",
    "    right_index=True,\n",
    "    how='inner'\n",
    ")\n",
    "\n",
    "# Then the previous merging with semester 6\n",
    "student_bachelor_done = pd.merge(\n",
    "    student_bachelor_done,\n",
    "    bachelor_data_semester6[['Bachelor semestre 6']],\n",
    "    left_index=True,\n",
    "    right_index=True,\n",
    "    how='inner'\n",
    ")\n",
    "\n",
    "# So the student can finish with the 5 semester but need to be also in the semester 6\n",
    "student_bachelor_done.head()"
   ]
  },
  {
   "cell_type": "markdown",
   "metadata": {},
   "source": [
    "We need to compute the number of months between the semester 1 and the lastest semester between 5 and 6 :"
   ]
  },
  {
   "cell_type": "code",
   "execution_count": 26,
   "metadata": {
    "collapsed": false
   },
   "outputs": [
    {
     "data": {
      "text/html": [
       "<div>\n",
       "<table border=\"1\" class=\"dataframe\">\n",
       "  <thead>\n",
       "    <tr style=\"text-align: right;\">\n",
       "      <th></th>\n",
       "      <th>Civilité</th>\n",
       "      <th>Nom Prénom</th>\n",
       "      <th>Bachelor semestre 1</th>\n",
       "      <th>Bachelor semestre 5</th>\n",
       "      <th>Bachelor semestre 6</th>\n",
       "      <th>Durée bachelor (mois)</th>\n",
       "    </tr>\n",
       "    <tr>\n",
       "      <th>No Sciper</th>\n",
       "      <th></th>\n",
       "      <th></th>\n",
       "      <th></th>\n",
       "      <th></th>\n",
       "      <th></th>\n",
       "      <th></th>\n",
       "    </tr>\n",
       "  </thead>\n",
       "  <tbody>\n",
       "    <tr>\n",
       "      <th>250362</th>\n",
       "      <td>Monsieur</td>\n",
       "      <td>Rigori Valentin Joseph</td>\n",
       "      <td>2014-08-01</td>\n",
       "      <td>2016-08-01</td>\n",
       "      <td>2017-02-01</td>\n",
       "      <td>36</td>\n",
       "    </tr>\n",
       "    <tr>\n",
       "      <th>246663</th>\n",
       "      <td>Monsieur</td>\n",
       "      <td>Haefeli Simon Lucas</td>\n",
       "      <td>2014-08-01</td>\n",
       "      <td>2016-08-01</td>\n",
       "      <td>2017-02-01</td>\n",
       "      <td>36</td>\n",
       "    </tr>\n",
       "    <tr>\n",
       "      <th>247891</th>\n",
       "      <td>Monsieur</td>\n",
       "      <td>Weier Philippe</td>\n",
       "      <td>2014-08-01</td>\n",
       "      <td>2016-08-01</td>\n",
       "      <td>2017-02-01</td>\n",
       "      <td>36</td>\n",
       "    </tr>\n",
       "    <tr>\n",
       "      <th>246532</th>\n",
       "      <td>Monsieur</td>\n",
       "      <td>Vaucher Timoté Pascal</td>\n",
       "      <td>2014-08-01</td>\n",
       "      <td>2016-08-01</td>\n",
       "      <td>2017-02-01</td>\n",
       "      <td>36</td>\n",
       "    </tr>\n",
       "    <tr>\n",
       "      <th>247680</th>\n",
       "      <td>Monsieur</td>\n",
       "      <td>Soufi Raja</td>\n",
       "      <td>2014-08-01</td>\n",
       "      <td>2016-08-01</td>\n",
       "      <td>2017-02-01</td>\n",
       "      <td>36</td>\n",
       "    </tr>\n",
       "  </tbody>\n",
       "</table>\n",
       "</div>"
      ],
      "text/plain": [
       "           Civilité              Nom Prénom Bachelor semestre 1  \\\n",
       "No Sciper                                                         \n",
       "250362     Monsieur  Rigori Valentin Joseph          2014-08-01   \n",
       "246663     Monsieur     Haefeli Simon Lucas          2014-08-01   \n",
       "247891     Monsieur          Weier Philippe          2014-08-01   \n",
       "246532     Monsieur   Vaucher Timoté Pascal          2014-08-01   \n",
       "247680     Monsieur              Soufi Raja          2014-08-01   \n",
       "\n",
       "          Bachelor semestre 5 Bachelor semestre 6  Durée bachelor (mois)  \n",
       "No Sciper                                                                 \n",
       "250362             2016-08-01          2017-02-01                     36  \n",
       "246663             2016-08-01          2017-02-01                     36  \n",
       "247891             2016-08-01          2017-02-01                     36  \n",
       "246532             2016-08-01          2017-02-01                     36  \n",
       "247680             2016-08-01          2017-02-01                     36  "
      ]
     },
     "execution_count": 26,
     "metadata": {},
     "output_type": "execute_result"
    }
   ],
   "source": [
    "def compute_nb_months_bachelor(row):\n",
    "    if row['Bachelor semestre 6'] > row['Bachelor semestre 5']:\n",
    "        last_date = row['Bachelor semestre 6']\n",
    "    else:\n",
    "        last_date = row['Bachelor semestre 5']\n",
    "    delta = relativedelta.relativedelta(last_date, row['Bachelor semestre 1'])\n",
    "    \n",
    "    # We need to get the difference in months, so we convert the delta in month.\n",
    "    # In addition we add 6 months for the last semester because we have only the begin date of every semesters\n",
    "    return delta.years * 12 + delta.months + 6\n",
    "\n",
    "# To keep consistency in the colmun names, we add a french name for the duration of months\n",
    "student_bachelor_done['Durée bachelor (mois)'] = student_bachelor_done.apply(compute_nb_months_bachelor, axis=1)\n",
    "\n",
    "student_bachelor_done.head()"
   ]
  },
  {
   "cell_type": "markdown",
   "metadata": {},
   "source": [
    "### Average and statistics"
   ]
  },
  {
   "cell_type": "markdown",
   "metadata": {},
   "source": [
    "We can easily get an average of months globaly but also by sex with the 'Civilité' column."
   ]
  },
  {
   "cell_type": "code",
   "execution_count": 27,
   "metadata": {
    "collapsed": false
   },
   "outputs": [
    {
     "data": {
      "text/plain": [
       "43.006211180124225"
      ]
     },
     "execution_count": 27,
     "metadata": {},
     "output_type": "execute_result"
    }
   ],
   "source": [
    "student_bachelor_done['Durée bachelor (mois)'].mean()"
   ]
  },
  {
   "cell_type": "code",
   "execution_count": 28,
   "metadata": {
    "collapsed": false
   },
   "outputs": [
    {
     "data": {
      "text/plain": [
       "<matplotlib.text.Text at 0x116ec52e8>"
      ]
     },
     "execution_count": 28,
     "metadata": {},
     "output_type": "execute_result"
    },
    {
     "data": {
      "image/png": "[encoded data removed]",
      "text/plain": [
       "<matplotlib.figure.Figure at 0x116e9dfd0>"
      ]
     },
     "metadata": {},
     "output_type": "display_data"
    }
   ],
   "source": [
    "avg_duration_bachelor_degree = student_bachelor_done.groupby(['Durée bachelor (mois)']).count()['Nom Prénom'].plot(kind='bar')\n",
    "avg_duration_bachelor_degree.set_ylabel('Number of students')\n",
    "avg_duration_bachelor_degree.set_xlabel('Bachelor duration in months')"
   ]
  },
  {
   "cell_type": "markdown",
   "metadata": {},
   "source": [
    "Before making the average by sex, we check if the values in the 'Civilité' colmun is correct :"
   ]
  },
  {
   "cell_type": "code",
   "execution_count": 29,
   "metadata": {
    "collapsed": false,
    "scrolled": true
   },
   "outputs": [
    {
     "data": {
      "text/plain": [
       "Monsieur    299\n",
       "Madame       23\n",
       "Name: Civilité, dtype: int64"
      ]
     },
     "execution_count": 29,
     "metadata": {},
     "output_type": "execute_result"
    }
   ],
   "source": [
    "student_bachelor_done['Civilité'].value_counts()"
   ]
  },
  {
   "cell_type": "code",
   "execution_count": 30,
   "metadata": {
    "collapsed": false,
    "scrolled": true
   },
   "outputs": [
    {
     "data": {
      "text/html": [
       "<div>\n",
       "<table border=\"1\" class=\"dataframe\">\n",
       "  <thead>\n",
       "    <tr style=\"text-align: right;\">\n",
       "      <th></th>\n",
       "      <th>Durée bachelor (mois)</th>\n",
       "    </tr>\n",
       "    <tr>\n",
       "      <th>Civilité</th>\n",
       "      <th></th>\n",
       "    </tr>\n",
       "  </thead>\n",
       "  <tbody>\n",
       "    <tr>\n",
       "      <th>Madame</th>\n",
       "      <td>41.478261</td>\n",
       "    </tr>\n",
       "    <tr>\n",
       "      <th>Monsieur</th>\n",
       "      <td>43.123746</td>\n",
       "    </tr>\n",
       "  </tbody>\n",
       "</table>\n",
       "</div>"
      ],
      "text/plain": [
       "          Durée bachelor (mois)\n",
       "Civilité                       \n",
       "Madame                41.478261\n",
       "Monsieur              43.123746"
      ]
     },
     "execution_count": 30,
     "metadata": {},
     "output_type": "execute_result"
    }
   ],
   "source": [
    "student_bachelor_by_sex = student_bachelor_done[['Civilité', 'Durée bachelor (mois)']].groupby(['Civilité'])\n",
    "student_bachelor_by_sex.mean()"
   ]
  },
  {
   "cell_type": "code",
   "execution_count": 31,
   "metadata": {
    "collapsed": false,
    "scrolled": true
   },
   "outputs": [
    {
     "data": {
      "text/plain": [
       "<matplotlib.axes._subplots.AxesSubplot at 0x116eefdd8>"
      ]
     },
     "execution_count": 31,
     "metadata": {},
     "output_type": "execute_result"
    },
    {
     "data": {
      "image/png": "[encoded data removed]",
      "text/plain": [
       "<matplotlib.figure.Figure at 0x116efb390>"
      ]
     },
     "metadata": {},
     "output_type": "display_data"
    }
   ],
   "source": [
    "avg_duration_bachelor_degree_by_sex = student_bachelor_done.groupby(['Civilité', 'Durée bachelor (mois)']).count()['Nom Prénom'].unstack(level=0).fillna(0).plot(kind='bar')\n",
    "avg_duration_bachelor_degree_by_sex.set_ylabel('Number of students')\n",
    "avg_duration_bachelor_degree_by_sex.set_xlabel('Bachelor duration in months')\n",
    "avg_duration_bachelor_degree_by_sex"
   ]
  },
  {
   "cell_type": "markdown",
   "metadata": {},
   "source": [
    "It seams that female students obtain there bachelor degree in less months than male students in average. But the average is not a robust statistic value. We can check with the median :"
   ]
  },
  {
   "cell_type": "code",
   "execution_count": 32,
   "metadata": {
    "collapsed": false,
    "scrolled": true
   },
   "outputs": [
    {
     "data": {
      "text/html": [
       "<div>\n",
       "<table border=\"1\" class=\"dataframe\">\n",
       "  <thead>\n",
       "    <tr style=\"text-align: right;\">\n",
       "      <th></th>\n",
       "      <th>Durée bachelor (mois)</th>\n",
       "    </tr>\n",
       "    <tr>\n",
       "      <th>Civilité</th>\n",
       "      <th></th>\n",
       "    </tr>\n",
       "  </thead>\n",
       "  <tbody>\n",
       "    <tr>\n",
       "      <th>Madame</th>\n",
       "      <td>36</td>\n",
       "    </tr>\n",
       "    <tr>\n",
       "      <th>Monsieur</th>\n",
       "      <td>36</td>\n",
       "    </tr>\n",
       "  </tbody>\n",
       "</table>\n",
       "</div>"
      ],
      "text/plain": [
       "          Durée bachelor (mois)\n",
       "Civilité                       \n",
       "Madame                       36\n",
       "Monsieur                     36"
      ]
     },
     "execution_count": 32,
     "metadata": {},
     "output_type": "execute_result"
    }
   ],
   "source": [
    "student_bachelor_by_sex.median()"
   ]
  },
  {
   "cell_type": "markdown",
   "metadata": {},
   "source": [
    "As the median is a robust statistic and we don't see differences, the initial hypothesis that we have made is not correct. We can check again by making a T-Test to get the P-Value. The number of female or male students is sufficiant (N > 20) and the duration is independant between students, so we can approximate this with a normal distribution.\n",
    "\n",
    "We need to test the hypothesis that female students success earlier than male students. The null hypothesis is that girl and boy are an average in duration equals. To do so, we will use the T-Test to find the P value :"
   ]
  },
  {
   "cell_type": "code",
   "execution_count": 33,
   "metadata": {
    "collapsed": false
   },
   "outputs": [
    {
     "data": {
      "text/plain": [
       "Ttest_indResult(statistic=0.90887370316996541, pvalue=0.37155668685278143)"
      ]
     },
     "execution_count": 33,
     "metadata": {},
     "output_type": "execute_result"
    }
   ],
   "source": [
    "boy_serie_duration_bachelor = student_bachelor_done['Durée bachelor (mois)'][[sex == 'Monsieur' for sex in student_bachelor_done['Civilité']]]\n",
    "girl_serie_duration_bachelor = student_bachelor_done['Durée bachelor (mois)'][[sex == 'Madame' for sex in student_bachelor_done['Civilité']]]\n",
    "\n",
    "stats.ttest_ind(a=boy_serie_duration_bachelor.values, b=girl_serie_duration_bachelor.values, equal_var=False)"
   ]
  },
  {
   "cell_type": "markdown",
   "metadata": {},
   "source": [
    "The P-Value is greater than the accepted value (0.18 > 0.05), we reject our hypothesis that female students finish earlier than male students.\n",
    "\n",
    "We can do the same without aproximate with a normal distribution by using the K-S Test :"
   ]
  },
  {
   "cell_type": "code",
   "execution_count": 34,
   "metadata": {
    "collapsed": false
   },
   "outputs": [
    {
     "data": {
      "text/plain": [
       "Ks_2sampResult(statistic=0.073578595317725815, pvalue=0.99968681032438089)"
      ]
     },
     "execution_count": 34,
     "metadata": {},
     "output_type": "execute_result"
    }
   ],
   "source": [
    "stats.ks_2samp(boy_serie_duration_bachelor.values, girl_serie_duration_bachelor.values)"
   ]
  },
  {
   "cell_type": "markdown",
   "metadata": {},
   "source": [
    "Here, the null hypothesis is that the two samples are from the same distribution.\n",
    "\n",
    "As P-value is high (>> 5%), we can't reject the null hypothesis ; in other words, there is no real difference here between the two samples (female and male students).\n",
    "\n",
    "Note that the statistic value (i.e. the absolute max distance between the two cumulative distribution function) is close enought to 0, so, again, we can say that the two samples are from the same distribution."
   ]
  },
  {
   "cell_type": "markdown",
   "metadata": {},
   "source": [
    "### Extra"
   ]
  },
  {
   "cell_type": "code",
   "execution_count": 35,
   "metadata": {
    "collapsed": false
   },
   "outputs": [
    {
     "data": {
      "text/plain": [
       "322"
      ]
     },
     "execution_count": 35,
     "metadata": {},
     "output_type": "execute_result"
    }
   ],
   "source": [
    "len(student_bachelor_done)"
   ]
  },
  {
   "cell_type": "markdown",
   "metadata": {},
   "source": [
    "As we said before, we only consider the students who started their study at EPFL. Thus, we only obtain 397 students at the end, while for bachelor semester 6, we had 500+ entries."
   ]
  },
  {
   "cell_type": "markdown",
   "metadata": {},
   "source": [
    "# Question 2 - Master\n",
    "\n",
    "<b>Perform a similar operation to what described above, this time for Master students. Notice that this data is more tricky, as there are many missing records in the IS-Academia database. Therefore, try to guess how much time a master student spent at EPFL by at least checking the distance in months between Master semestre 1 and Master semestre 2. If the Mineur field is not empty, the student should also appear registered in Master semestre 3. Last but not the least, don't forget to check if the student has an entry also in the Projet Master tables. Once you can handle well this data, compute the \"average stay at EPFL\" for master students. Now extract all the students with a Spécialisation and compute the \"average stay\" per each category of that attribute -- compared to the general average, can you find any specialization for which the difference in average is statistically significant?</b>\n",
    "\n",
    "We have already fetch data from the IS-Academia in the first question. We won't do it again, we will just get data from files created with pickle. We apply the same process used in the bachelor section. But this time a master student can finish his master in different ways (***we are not EPFL students***, we assume this assumptions) :\n",
    " - 6) All students start with the master semester 1 or 2 but need to make both\n",
    " - 7) A student can finish with only master semester 1 and 2 without semester 3 if there isn't 'Mineur' value in semester 2\n",
    " - 8) A student can finish with semester 1 and 3 in case of missing data for semester 2\n",
    " - 9) A student can finish with an optional master projet in fall or spring but need to be registered in semester 1\n",
    " \n",
    "We will fetch all data from files for semester 1, 2, 3 and fall or spring project. At the same time we will add the beginning date of every semester (like in bachelor) :"
   ]
  },
  {
   "cell_type": "code",
   "execution_count": 36,
   "metadata": {
    "collapsed": false
   },
   "outputs": [
    {
     "name": "stdout",
     "output_type": "stream",
     "text": [
      "Compute for Projet Master automne\n",
      "Compute for Master semestre 3\n",
      "Compute for Projet Master printemps\n",
      "Compute for Master semestre 1\n",
      "Compute for Master semestre 2\n"
     ]
    }
   ],
   "source": [
    "master_semester_codes = {}\n",
    "for section_name in semester_codes:\n",
    "    if section_name.startswith('Projet Master') or (section_name.startswith('Master semestre') and section_name.endswith(tuple(['1', '2', '3']))):\n",
    "        master_semester_codes[section_name] = semester_codes[section_name]\n",
    "\n",
    "def master_append_year(data_per_year, semester_name, year_name):\n",
    "    if semester_name.endswith('2') or semester_name.endswith('printemps'):\n",
    "        begin_date = year_name.split('-')[1] + '-02-01'\n",
    "    else:\n",
    "        begin_date = year_name.split('-')[0] + '-08-01'\n",
    "    data_per_year[semester_name] = pd.to_datetime(begin_date)\n",
    "\n",
    "master_dataframes = retrieve_dataframes(master_semester_codes, master_append_year)"
   ]
  },
  {
   "cell_type": "markdown",
   "metadata": {},
   "source": [
    "### Cleaning data\n",
    "\n",
    "We also need to clean data like in bachelor. We will make the Sciper number in index and then remove duplicate rows after sort data by the date of the semester (ascending in semester 1 or descending in others cases) :"
   ]
  },
  {
   "cell_type": "code",
   "execution_count": 37,
   "metadata": {
    "collapsed": true
   },
   "outputs": [],
   "source": [
    "master_data_semester1 = master_dataframes['Master semestre 1'].copy()\n",
    "master_data_semester2 = master_dataframes['Master semestre 2'].copy()\n",
    "master_data_semester3 = master_dataframes['Master semestre 3'].copy()\n",
    "master_data_semester_fall_project = master_dataframes['Projet Master automne'].copy()\n",
    "master_data_semester_spring_project = master_dataframes['Projet Master printemps'].copy()\n",
    "\n",
    "master_data_semester1.sort_values('Master semestre 1', ascending=True, inplace=True)\n",
    "master_data_semester1.drop_duplicates(subset='No Sciper', keep='first', inplace=True)\n",
    "master_data_semester1.set_index('No Sciper', inplace=True)\n",
    "\n",
    "master_data_semester2.sort_values('Master semestre 2', ascending=False, inplace=True)\n",
    "master_data_semester2.drop_duplicates(subset='No Sciper', keep='first', inplace=True)\n",
    "master_data_semester2.set_index('No Sciper', inplace=True)\n",
    "\n",
    "master_data_semester3.sort_values('Master semestre 3', ascending=False, inplace=True)\n",
    "master_data_semester3.drop_duplicates(subset='No Sciper', keep='first', inplace=True)\n",
    "master_data_semester3.set_index('No Sciper', inplace=True)\n",
    "\n",
    "master_data_semester_fall_project.sort_values('Projet Master automne', ascending=False, inplace=True)\n",
    "master_data_semester_fall_project.drop_duplicates(subset='No Sciper', keep='first', inplace=True)\n",
    "master_data_semester_fall_project.set_index('No Sciper', inplace=True)\n",
    "\n",
    "master_data_semester_spring_project.sort_values('Projet Master printemps', ascending=False, inplace=True)\n",
    "master_data_semester_spring_project.drop_duplicates(subset='No Sciper', keep='first', inplace=True)\n",
    "master_data_semester_spring_project.set_index('No Sciper', inplace=True)"
   ]
  },
  {
   "cell_type": "markdown",
   "metadata": {},
   "source": [
    "For students in semester 2, we need to keep only students without minor values, because there are also in semester 3 (except students no registered for the next year so they will be automatically removed at the final merge)."
   ]
  },
  {
   "cell_type": "code",
   "execution_count": 38,
   "metadata": {
    "collapsed": true
   },
   "outputs": [],
   "source": [
    "master_data_semester2_without_mineur = master_data_semester2[[len(mineur) == 0 for mineur in master_data_semester2['Mineur']]]"
   ]
  },
  {
   "cell_type": "markdown",
   "metadata": {},
   "source": [
    "### Merge and concat data\n",
    "\n",
    "Now we need to make one dataframe for each assumptions 7, 8 and 9. To do so, we will make the needed attributes in index (name, sex, beginning date of the semester and sciper number) to prevent drop data when we will concat the 3 dataframes."
   ]
  },
  {
   "cell_type": "code",
   "execution_count": 39,
   "metadata": {
    "collapsed": false
   },
   "outputs": [],
   "source": [
    "master_semester_1_2 = pd.merge(\n",
    "    master_data_semester1[['Civilité', 'Nom Prénom', 'Spécialisation', 'Master semestre 1']],\n",
    "    master_data_semester2_without_mineur[['Master semestre 2']],\n",
    "    left_index=True,\n",
    "    right_index=True,\n",
    "    how='inner'\n",
    ")\n",
    "master_semester_1_2.reset_index(inplace=True)\n",
    "master_semester_1_2.set_index(['No Sciper', 'Civilité', 'Nom Prénom', 'Spécialisation', 'Master semestre 1'], inplace=True)\n",
    "\n",
    "master_semester_1_3 = pd.merge(\n",
    "    master_data_semester1[['Civilité', 'Nom Prénom', 'Spécialisation', 'Master semestre 1']],\n",
    "    master_data_semester3[['Master semestre 3']],\n",
    "    left_index=True,\n",
    "    right_index=True,\n",
    "    how='inner'\n",
    ")\n",
    "master_semester_1_3.reset_index(inplace=True)\n",
    "master_semester_1_3.set_index(['No Sciper', 'Civilité', 'Nom Prénom', 'Spécialisation', 'Master semestre 1'], inplace=True)\n",
    "\n",
    "master_semester_1_pf = pd.merge(\n",
    "    master_data_semester1[['Civilité', 'Nom Prénom', 'Spécialisation', 'Master semestre 1']],\n",
    "    master_data_semester_fall_project[['Projet Master automne']],\n",
    "    left_index=True,\n",
    "    right_index=True,\n",
    "    how='inner'\n",
    ")\n",
    "master_semester_1_pf.reset_index(inplace=True)\n",
    "master_semester_1_pf.set_index(['No Sciper', 'Civilité', 'Nom Prénom', 'Spécialisation', 'Master semestre 1'], inplace=True)\n",
    "\n",
    "master_semester_1_ps = pd.merge(\n",
    "    master_data_semester1[['Civilité', 'Nom Prénom', 'Spécialisation', 'Master semestre 1']],\n",
    "    master_data_semester_spring_project[['Projet Master printemps']],\n",
    "    left_index=True,\n",
    "    right_index=True,\n",
    "    how='inner'\n",
    ")\n",
    "master_semester_1_ps.reset_index(inplace=True)\n",
    "master_semester_1_ps.set_index(['No Sciper', 'Civilité', 'Nom Prénom', 'Spécialisation', 'Master semestre 1'], inplace=True)"
   ]
  },
  {
   "cell_type": "markdown",
   "metadata": {},
   "source": [
    "Now we can concat dataframes in a single one and try to make only the Sciper number in index :"
   ]
  },
  {
   "cell_type": "code",
   "execution_count": 40,
   "metadata": {
    "collapsed": true
   },
   "outputs": [],
   "source": [
    "master_full_data = pd.concat([\n",
    "        master_semester_1_2[['Master semestre 2']],\n",
    "        master_semester_1_3[['Master semestre 3']],\n",
    "        master_semester_1_pf[['Projet Master automne']],\n",
    "        master_semester_1_ps[['Projet Master printemps']]\n",
    "    ], axis=1)"
   ]
  },
  {
   "cell_type": "code",
   "execution_count": 41,
   "metadata": {
    "collapsed": false
   },
   "outputs": [
    {
     "data": {
      "text/plain": [
       "True"
      ]
     },
     "execution_count": 41,
     "metadata": {},
     "output_type": "execute_result"
    }
   ],
   "source": [
    "# Check if the No Sciper is still unique\n",
    "master_full_data.index.levels[0].is_unique"
   ]
  },
  {
   "cell_type": "code",
   "execution_count": 42,
   "metadata": {
    "collapsed": false,
    "scrolled": true
   },
   "outputs": [
    {
     "data": {
      "text/html": [
       "<div>\n",
       "<table border=\"1\" class=\"dataframe\">\n",
       "  <thead>\n",
       "    <tr style=\"text-align: right;\">\n",
       "      <th></th>\n",
       "      <th>Civilité</th>\n",
       "      <th>Nom Prénom</th>\n",
       "      <th>Spécialisation</th>\n",
       "      <th>Master semestre 1</th>\n",
       "      <th>Master semestre 2</th>\n",
       "      <th>Master semestre 3</th>\n",
       "      <th>Projet Master automne</th>\n",
       "      <th>Projet Master printemps</th>\n",
       "    </tr>\n",
       "    <tr>\n",
       "      <th>No Sciper</th>\n",
       "      <th></th>\n",
       "      <th></th>\n",
       "      <th></th>\n",
       "      <th></th>\n",
       "      <th></th>\n",
       "      <th></th>\n",
       "      <th></th>\n",
       "      <th></th>\n",
       "    </tr>\n",
       "  </thead>\n",
       "  <tbody>\n",
       "    <tr>\n",
       "      <th>147008</th>\n",
       "      <td>Monsieur</td>\n",
       "      <td>Good Xavier</td>\n",
       "      <td>Signals, Images and Interfaces</td>\n",
       "      <td>2011-08-01</td>\n",
       "      <td>2013-02-01</td>\n",
       "      <td>2012-08-01</td>\n",
       "      <td>NaT</td>\n",
       "      <td>NaT</td>\n",
       "    </tr>\n",
       "    <tr>\n",
       "      <th>161220</th>\n",
       "      <td>Monsieur</td>\n",
       "      <td>Tourino Pablo</td>\n",
       "      <td></td>\n",
       "      <td>2009-08-01</td>\n",
       "      <td>2010-02-01</td>\n",
       "      <td>2010-08-01</td>\n",
       "      <td>NaT</td>\n",
       "      <td>NaT</td>\n",
       "    </tr>\n",
       "    <tr>\n",
       "      <th>161279</th>\n",
       "      <td>Monsieur</td>\n",
       "      <td>Biollay Jean Isaac Jamal Pachacutec</td>\n",
       "      <td></td>\n",
       "      <td>2009-08-01</td>\n",
       "      <td>2010-02-01</td>\n",
       "      <td>2010-08-01</td>\n",
       "      <td>NaT</td>\n",
       "      <td>2011-02-01</td>\n",
       "    </tr>\n",
       "    <tr>\n",
       "      <th>161814</th>\n",
       "      <td>Monsieur</td>\n",
       "      <td>Candemir Mehmet</td>\n",
       "      <td></td>\n",
       "      <td>2009-08-01</td>\n",
       "      <td>2010-02-01</td>\n",
       "      <td>2010-08-01</td>\n",
       "      <td>NaT</td>\n",
       "      <td>NaT</td>\n",
       "    </tr>\n",
       "    <tr>\n",
       "      <th>161930</th>\n",
       "      <td>Monsieur</td>\n",
       "      <td>Lunang Pomkam Auguste Carmen</td>\n",
       "      <td></td>\n",
       "      <td>2010-08-01</td>\n",
       "      <td>2011-02-01</td>\n",
       "      <td>2011-08-01</td>\n",
       "      <td>NaT</td>\n",
       "      <td>NaT</td>\n",
       "    </tr>\n",
       "  </tbody>\n",
       "</table>\n",
       "</div>"
      ],
      "text/plain": [
       "           Civilité                           Nom Prénom  \\\n",
       "No Sciper                                                  \n",
       "147008     Monsieur                          Good Xavier   \n",
       "161220     Monsieur                        Tourino Pablo   \n",
       "161279     Monsieur  Biollay Jean Isaac Jamal Pachacutec   \n",
       "161814     Monsieur                      Candemir Mehmet   \n",
       "161930     Monsieur         Lunang Pomkam Auguste Carmen   \n",
       "\n",
       "                           Spécialisation Master semestre 1 Master semestre 2  \\\n",
       "No Sciper                                                                       \n",
       "147008     Signals, Images and Interfaces        2011-08-01        2013-02-01   \n",
       "161220                                           2009-08-01        2010-02-01   \n",
       "161279                                           2009-08-01        2010-02-01   \n",
       "161814                                           2009-08-01        2010-02-01   \n",
       "161930                                           2010-08-01        2011-02-01   \n",
       "\n",
       "          Master semestre 3 Projet Master automne Projet Master printemps  \n",
       "No Sciper                                                                  \n",
       "147008           2012-08-01                   NaT                     NaT  \n",
       "161220           2010-08-01                   NaT                     NaT  \n",
       "161279           2010-08-01                   NaT              2011-02-01  \n",
       "161814           2010-08-01                   NaT                     NaT  \n",
       "161930           2011-08-01                   NaT                     NaT  "
      ]
     },
     "execution_count": 42,
     "metadata": {},
     "output_type": "execute_result"
    }
   ],
   "source": [
    "master_full_data.reset_index(inplace=True)\n",
    "master_full_data.set_index(['No Sciper'], inplace=True)\n",
    "\n",
    "master_full_data.head()"
   ]
  },
  {
   "cell_type": "markdown",
   "metadata": {},
   "source": [
    "We can see, that the student with the Sciper number 152232 correspond to the assumption 8 because he hasn't data for semester 2. We decided to keep this kind of entries because there are a lot :"
   ]
  },
  {
   "cell_type": "code",
   "execution_count": 43,
   "metadata": {
    "collapsed": false,
    "scrolled": true
   },
   "outputs": [
    {
     "data": {
      "text/html": [
       "<div>\n",
       "<table border=\"1\" class=\"dataframe\">\n",
       "  <thead>\n",
       "    <tr style=\"text-align: right;\">\n",
       "      <th></th>\n",
       "      <th>Civilité</th>\n",
       "      <th>Nom Prénom</th>\n",
       "      <th>Spécialisation</th>\n",
       "      <th>Master semestre 1</th>\n",
       "      <th>Master semestre 2</th>\n",
       "      <th>Master semestre 3</th>\n",
       "      <th>Projet Master automne</th>\n",
       "      <th>Projet Master printemps</th>\n",
       "    </tr>\n",
       "    <tr>\n",
       "      <th>No Sciper</th>\n",
       "      <th></th>\n",
       "      <th></th>\n",
       "      <th></th>\n",
       "      <th></th>\n",
       "      <th></th>\n",
       "      <th></th>\n",
       "      <th></th>\n",
       "      <th></th>\n",
       "    </tr>\n",
       "  </thead>\n",
       "  <tbody>\n",
       "    <tr>\n",
       "      <th>170220</th>\n",
       "      <td>Monsieur</td>\n",
       "      <td>Barras Florian</td>\n",
       "      <td></td>\n",
       "      <td>2009-08-01</td>\n",
       "      <td>NaT</td>\n",
       "      <td>2011-08-01</td>\n",
       "      <td>NaT</td>\n",
       "      <td>NaT</td>\n",
       "    </tr>\n",
       "    <tr>\n",
       "      <th>170225</th>\n",
       "      <td>Monsieur</td>\n",
       "      <td>Burgener Raphaël</td>\n",
       "      <td></td>\n",
       "      <td>2009-08-01</td>\n",
       "      <td>NaT</td>\n",
       "      <td>2010-08-01</td>\n",
       "      <td>NaT</td>\n",
       "      <td>NaT</td>\n",
       "    </tr>\n",
       "    <tr>\n",
       "      <th>170451</th>\n",
       "      <td>Monsieur</td>\n",
       "      <td>Bolkensteyn Dinesh</td>\n",
       "      <td></td>\n",
       "      <td>2009-08-01</td>\n",
       "      <td>NaT</td>\n",
       "      <td>2010-08-01</td>\n",
       "      <td>NaT</td>\n",
       "      <td>NaT</td>\n",
       "    </tr>\n",
       "    <tr>\n",
       "      <th>171073</th>\n",
       "      <td>Monsieur</td>\n",
       "      <td>Jiekak Ndeutou Stève Aurélien</td>\n",
       "      <td>Internet computing</td>\n",
       "      <td>2009-08-01</td>\n",
       "      <td>NaT</td>\n",
       "      <td>2010-08-01</td>\n",
       "      <td>NaT</td>\n",
       "      <td>NaT</td>\n",
       "    </tr>\n",
       "    <tr>\n",
       "      <th>174774</th>\n",
       "      <td>Monsieur</td>\n",
       "      <td>Balas Martin</td>\n",
       "      <td></td>\n",
       "      <td>2010-08-01</td>\n",
       "      <td>NaT</td>\n",
       "      <td>2011-08-01</td>\n",
       "      <td>NaT</td>\n",
       "      <td>NaT</td>\n",
       "    </tr>\n",
       "    <tr>\n",
       "      <th>174905</th>\n",
       "      <td>Monsieur</td>\n",
       "      <td>Aubelle Flavien</td>\n",
       "      <td></td>\n",
       "      <td>2012-08-01</td>\n",
       "      <td>NaT</td>\n",
       "      <td>2013-08-01</td>\n",
       "      <td>NaT</td>\n",
       "      <td>NaT</td>\n",
       "    </tr>\n",
       "    <tr>\n",
       "      <th>176564</th>\n",
       "      <td>Monsieur</td>\n",
       "      <td>Helfer Jonas</td>\n",
       "      <td></td>\n",
       "      <td>2009-08-01</td>\n",
       "      <td>NaT</td>\n",
       "      <td>2010-08-01</td>\n",
       "      <td>NaT</td>\n",
       "      <td>NaT</td>\n",
       "    </tr>\n",
       "    <tr>\n",
       "      <th>178706</th>\n",
       "      <td>Madame</td>\n",
       "      <td>Falbriard Stéphanie</td>\n",
       "      <td></td>\n",
       "      <td>2010-08-01</td>\n",
       "      <td>NaT</td>\n",
       "      <td>2011-08-01</td>\n",
       "      <td>NaT</td>\n",
       "      <td>NaT</td>\n",
       "    </tr>\n",
       "    <tr>\n",
       "      <th>179449</th>\n",
       "      <td>Monsieur</td>\n",
       "      <td>Bindschaedler Vincent</td>\n",
       "      <td></td>\n",
       "      <td>2010-08-01</td>\n",
       "      <td>NaT</td>\n",
       "      <td>2011-08-01</td>\n",
       "      <td>NaT</td>\n",
       "      <td>NaT</td>\n",
       "    </tr>\n",
       "    <tr>\n",
       "      <th>179988</th>\n",
       "      <td>Madame</td>\n",
       "      <td>Portmann Joëlle</td>\n",
       "      <td></td>\n",
       "      <td>2010-08-01</td>\n",
       "      <td>NaT</td>\n",
       "      <td>2013-08-01</td>\n",
       "      <td>NaT</td>\n",
       "      <td>NaT</td>\n",
       "    </tr>\n",
       "    <tr>\n",
       "      <th>184772</th>\n",
       "      <td>Monsieur</td>\n",
       "      <td>Arnfred Jonas</td>\n",
       "      <td></td>\n",
       "      <td>2011-08-01</td>\n",
       "      <td>NaT</td>\n",
       "      <td>2012-08-01</td>\n",
       "      <td>NaT</td>\n",
       "      <td>NaT</td>\n",
       "    </tr>\n",
       "    <tr>\n",
       "      <th>185042</th>\n",
       "      <td>Madame</td>\n",
       "      <td>Sae-Tang Abson</td>\n",
       "      <td></td>\n",
       "      <td>2010-08-01</td>\n",
       "      <td>NaT</td>\n",
       "      <td>2012-08-01</td>\n",
       "      <td>NaT</td>\n",
       "      <td>NaT</td>\n",
       "    </tr>\n",
       "    <tr>\n",
       "      <th>186188</th>\n",
       "      <td>Monsieur</td>\n",
       "      <td>Widmer Florian</td>\n",
       "      <td></td>\n",
       "      <td>2011-08-01</td>\n",
       "      <td>NaT</td>\n",
       "      <td>2013-08-01</td>\n",
       "      <td>NaT</td>\n",
       "      <td>NaT</td>\n",
       "    </tr>\n",
       "    <tr>\n",
       "      <th>186193</th>\n",
       "      <td>Monsieur</td>\n",
       "      <td>Mühlematter Thomas</td>\n",
       "      <td></td>\n",
       "      <td>2013-08-01</td>\n",
       "      <td>NaT</td>\n",
       "      <td>2014-08-01</td>\n",
       "      <td>NaT</td>\n",
       "      <td>NaT</td>\n",
       "    </tr>\n",
       "    <tr>\n",
       "      <th>186872</th>\n",
       "      <td>Monsieur</td>\n",
       "      <td>Kessel Alexis</td>\n",
       "      <td></td>\n",
       "      <td>2013-08-01</td>\n",
       "      <td>NaT</td>\n",
       "      <td>2015-08-01</td>\n",
       "      <td>NaT</td>\n",
       "      <td>NaT</td>\n",
       "    </tr>\n",
       "    <tr>\n",
       "      <th>191351</th>\n",
       "      <td>Monsieur</td>\n",
       "      <td>Molla Eray</td>\n",
       "      <td></td>\n",
       "      <td>2009-08-01</td>\n",
       "      <td>NaT</td>\n",
       "      <td>2010-08-01</td>\n",
       "      <td>NaT</td>\n",
       "      <td>NaT</td>\n",
       "    </tr>\n",
       "    <tr>\n",
       "      <th>191589</th>\n",
       "      <td>Madame</td>\n",
       "      <td>Günaydin Deniz</td>\n",
       "      <td></td>\n",
       "      <td>2009-08-01</td>\n",
       "      <td>NaT</td>\n",
       "      <td>2010-08-01</td>\n",
       "      <td>NaT</td>\n",
       "      <td>NaT</td>\n",
       "    </tr>\n",
       "    <tr>\n",
       "      <th>192219</th>\n",
       "      <td>Monsieur</td>\n",
       "      <td>Güzelhan Can</td>\n",
       "      <td></td>\n",
       "      <td>2015-08-01</td>\n",
       "      <td>NaT</td>\n",
       "      <td>2016-08-01</td>\n",
       "      <td>NaT</td>\n",
       "      <td>NaT</td>\n",
       "    </tr>\n",
       "    <tr>\n",
       "      <th>192304</th>\n",
       "      <td>Monsieur</td>\n",
       "      <td>Sandoz David</td>\n",
       "      <td></td>\n",
       "      <td>2013-08-01</td>\n",
       "      <td>NaT</td>\n",
       "      <td>2014-08-01</td>\n",
       "      <td>NaT</td>\n",
       "      <td>NaT</td>\n",
       "    </tr>\n",
       "    <tr>\n",
       "      <th>193160</th>\n",
       "      <td>Monsieur</td>\n",
       "      <td>Viswanathan Vijay</td>\n",
       "      <td></td>\n",
       "      <td>2010-08-01</td>\n",
       "      <td>NaT</td>\n",
       "      <td>2011-08-01</td>\n",
       "      <td>NaT</td>\n",
       "      <td>NaT</td>\n",
       "    </tr>\n",
       "    <tr>\n",
       "      <th>193362</th>\n",
       "      <td>Monsieur</td>\n",
       "      <td>Gauthier Jean</td>\n",
       "      <td></td>\n",
       "      <td>2012-08-01</td>\n",
       "      <td>NaT</td>\n",
       "      <td>2014-08-01</td>\n",
       "      <td>NaT</td>\n",
       "      <td>NaT</td>\n",
       "    </tr>\n",
       "    <tr>\n",
       "      <th>193505</th>\n",
       "      <td>Monsieur</td>\n",
       "      <td>Heiniger Sylvain</td>\n",
       "      <td></td>\n",
       "      <td>2012-08-01</td>\n",
       "      <td>NaT</td>\n",
       "      <td>2013-08-01</td>\n",
       "      <td>NaT</td>\n",
       "      <td>NaT</td>\n",
       "    </tr>\n",
       "    <tr>\n",
       "      <th>193545</th>\n",
       "      <td>Madame</td>\n",
       "      <td>Kyriakopoulou Sofia</td>\n",
       "      <td></td>\n",
       "      <td>2009-08-01</td>\n",
       "      <td>NaT</td>\n",
       "      <td>2010-08-01</td>\n",
       "      <td>NaT</td>\n",
       "      <td>NaT</td>\n",
       "    </tr>\n",
       "    <tr>\n",
       "      <th>194430</th>\n",
       "      <td>Monsieur</td>\n",
       "      <td>Kromwijk Sander</td>\n",
       "      <td></td>\n",
       "      <td>2012-08-01</td>\n",
       "      <td>NaT</td>\n",
       "      <td>2013-08-01</td>\n",
       "      <td>NaT</td>\n",
       "      <td>NaT</td>\n",
       "    </tr>\n",
       "    <tr>\n",
       "      <th>194728</th>\n",
       "      <td>Monsieur</td>\n",
       "      <td>Bottinelli Paul</td>\n",
       "      <td></td>\n",
       "      <td>2012-08-01</td>\n",
       "      <td>NaT</td>\n",
       "      <td>2013-08-01</td>\n",
       "      <td>NaT</td>\n",
       "      <td>NaT</td>\n",
       "    </tr>\n",
       "    <tr>\n",
       "      <th>194971</th>\n",
       "      <td>Monsieur</td>\n",
       "      <td>Poiffaut Romain</td>\n",
       "      <td>Software Systems</td>\n",
       "      <td>2011-08-01</td>\n",
       "      <td>NaT</td>\n",
       "      <td>2012-08-01</td>\n",
       "      <td>NaT</td>\n",
       "      <td>NaT</td>\n",
       "    </tr>\n",
       "    <tr>\n",
       "      <th>195916</th>\n",
       "      <td>Monsieur</td>\n",
       "      <td>Viaccoz Thierry</td>\n",
       "      <td></td>\n",
       "      <td>2012-08-01</td>\n",
       "      <td>NaT</td>\n",
       "      <td>2013-08-01</td>\n",
       "      <td>NaT</td>\n",
       "      <td>NaT</td>\n",
       "    </tr>\n",
       "    <tr>\n",
       "      <th>196602</th>\n",
       "      <td>Madame</td>\n",
       "      <td>Stojanov Marica</td>\n",
       "      <td></td>\n",
       "      <td>2010-08-01</td>\n",
       "      <td>NaT</td>\n",
       "      <td>2011-08-01</td>\n",
       "      <td>NaT</td>\n",
       "      <td>2012-02-01</td>\n",
       "    </tr>\n",
       "    <tr>\n",
       "      <th>196683</th>\n",
       "      <td>Monsieur</td>\n",
       "      <td>Vostriakov Alexander</td>\n",
       "      <td></td>\n",
       "      <td>2014-08-01</td>\n",
       "      <td>NaT</td>\n",
       "      <td>2016-08-01</td>\n",
       "      <td>NaT</td>\n",
       "      <td>NaT</td>\n",
       "    </tr>\n",
       "    <tr>\n",
       "      <th>199743</th>\n",
       "      <td>Monsieur</td>\n",
       "      <td>Markovic Nikola</td>\n",
       "      <td></td>\n",
       "      <td>2010-08-01</td>\n",
       "      <td>NaT</td>\n",
       "      <td>2011-08-01</td>\n",
       "      <td>NaT</td>\n",
       "      <td>NaT</td>\n",
       "    </tr>\n",
       "    <tr>\n",
       "      <th>...</th>\n",
       "      <td>...</td>\n",
       "      <td>...</td>\n",
       "      <td>...</td>\n",
       "      <td>...</td>\n",
       "      <td>...</td>\n",
       "      <td>...</td>\n",
       "      <td>...</td>\n",
       "      <td>...</td>\n",
       "    </tr>\n",
       "    <tr>\n",
       "      <th>205784</th>\n",
       "      <td>Madame</td>\n",
       "      <td>Musso Claire Cécile Hélène</td>\n",
       "      <td></td>\n",
       "      <td>2013-08-01</td>\n",
       "      <td>NaT</td>\n",
       "      <td>2014-08-01</td>\n",
       "      <td>NaT</td>\n",
       "      <td>NaT</td>\n",
       "    </tr>\n",
       "    <tr>\n",
       "      <th>206436</th>\n",
       "      <td>Monsieur</td>\n",
       "      <td>Jacot-Guillarmod Bastien</td>\n",
       "      <td></td>\n",
       "      <td>2013-08-01</td>\n",
       "      <td>NaT</td>\n",
       "      <td>2014-08-01</td>\n",
       "      <td>NaT</td>\n",
       "      <td>NaT</td>\n",
       "    </tr>\n",
       "    <tr>\n",
       "      <th>211684</th>\n",
       "      <td>Monsieur</td>\n",
       "      <td>Malinovic Igor</td>\n",
       "      <td></td>\n",
       "      <td>2011-08-01</td>\n",
       "      <td>NaT</td>\n",
       "      <td>2013-08-01</td>\n",
       "      <td>NaT</td>\n",
       "      <td>NaT</td>\n",
       "    </tr>\n",
       "    <tr>\n",
       "      <th>213027</th>\n",
       "      <td>Monsieur</td>\n",
       "      <td>Devillard Florent</td>\n",
       "      <td></td>\n",
       "      <td>2015-08-01</td>\n",
       "      <td>NaT</td>\n",
       "      <td>2016-08-01</td>\n",
       "      <td>NaT</td>\n",
       "      <td>NaT</td>\n",
       "    </tr>\n",
       "    <tr>\n",
       "      <th>213553</th>\n",
       "      <td>Madame</td>\n",
       "      <td>Grosan Flavia Adelina</td>\n",
       "      <td></td>\n",
       "      <td>2011-08-01</td>\n",
       "      <td>NaT</td>\n",
       "      <td>2012-08-01</td>\n",
       "      <td>NaT</td>\n",
       "      <td>NaT</td>\n",
       "    </tr>\n",
       "    <tr>\n",
       "      <th>213664</th>\n",
       "      <td>Monsieur</td>\n",
       "      <td>Bouquet Stéphane</td>\n",
       "      <td></td>\n",
       "      <td>2014-08-01</td>\n",
       "      <td>NaT</td>\n",
       "      <td>2015-08-01</td>\n",
       "      <td>2016-08-01</td>\n",
       "      <td>NaT</td>\n",
       "    </tr>\n",
       "    <tr>\n",
       "      <th>214614</th>\n",
       "      <td>Madame</td>\n",
       "      <td>Vasilescu Oana-Maria</td>\n",
       "      <td></td>\n",
       "      <td>2011-08-01</td>\n",
       "      <td>NaT</td>\n",
       "      <td>2012-08-01</td>\n",
       "      <td>NaT</td>\n",
       "      <td>NaT</td>\n",
       "    </tr>\n",
       "    <tr>\n",
       "      <th>214731</th>\n",
       "      <td>Monsieur</td>\n",
       "      <td>Tandrau Alexandru Octavian</td>\n",
       "      <td></td>\n",
       "      <td>2011-08-01</td>\n",
       "      <td>NaT</td>\n",
       "      <td>2012-08-01</td>\n",
       "      <td>NaT</td>\n",
       "      <td>NaT</td>\n",
       "    </tr>\n",
       "    <tr>\n",
       "      <th>216451</th>\n",
       "      <td>Monsieur</td>\n",
       "      <td>Fiszel Ruben Leo</td>\n",
       "      <td></td>\n",
       "      <td>2015-08-01</td>\n",
       "      <td>NaT</td>\n",
       "      <td>2016-08-01</td>\n",
       "      <td>NaT</td>\n",
       "      <td>NaT</td>\n",
       "    </tr>\n",
       "    <tr>\n",
       "      <th>217453</th>\n",
       "      <td>Monsieur</td>\n",
       "      <td>Mouchet Christian Vincent</td>\n",
       "      <td></td>\n",
       "      <td>2014-08-01</td>\n",
       "      <td>NaT</td>\n",
       "      <td>2016-08-01</td>\n",
       "      <td>NaT</td>\n",
       "      <td>NaT</td>\n",
       "    </tr>\n",
       "    <tr>\n",
       "      <th>217489</th>\n",
       "      <td>Madame</td>\n",
       "      <td>Salathé Joanna Béatrice</td>\n",
       "      <td></td>\n",
       "      <td>2015-08-01</td>\n",
       "      <td>NaT</td>\n",
       "      <td>2016-08-01</td>\n",
       "      <td>NaT</td>\n",
       "      <td>NaT</td>\n",
       "    </tr>\n",
       "    <tr>\n",
       "      <th>221503</th>\n",
       "      <td>Madame</td>\n",
       "      <td>Bai Yingkun</td>\n",
       "      <td></td>\n",
       "      <td>2012-08-01</td>\n",
       "      <td>NaT</td>\n",
       "      <td>2014-08-01</td>\n",
       "      <td>NaT</td>\n",
       "      <td>NaT</td>\n",
       "    </tr>\n",
       "    <tr>\n",
       "      <th>225434</th>\n",
       "      <td>Monsieur</td>\n",
       "      <td>Aranibar Casas Ivan Wilson</td>\n",
       "      <td></td>\n",
       "      <td>2012-08-01</td>\n",
       "      <td>NaT</td>\n",
       "      <td>2014-08-01</td>\n",
       "      <td>NaT</td>\n",
       "      <td>NaT</td>\n",
       "    </tr>\n",
       "    <tr>\n",
       "      <th>225483</th>\n",
       "      <td>Monsieur</td>\n",
       "      <td>Cook Cedric Radboud Ernest</td>\n",
       "      <td></td>\n",
       "      <td>2015-08-01</td>\n",
       "      <td>NaT</td>\n",
       "      <td>2016-08-01</td>\n",
       "      <td>NaT</td>\n",
       "      <td>NaT</td>\n",
       "    </tr>\n",
       "    <tr>\n",
       "      <th>227848</th>\n",
       "      <td>Monsieur</td>\n",
       "      <td>Majeri Kasmaei Chervine</td>\n",
       "      <td></td>\n",
       "      <td>2014-08-01</td>\n",
       "      <td>NaT</td>\n",
       "      <td>2015-08-01</td>\n",
       "      <td>2016-08-01</td>\n",
       "      <td>NaT</td>\n",
       "    </tr>\n",
       "    <tr>\n",
       "      <th>232957</th>\n",
       "      <td>Monsieur</td>\n",
       "      <td>Wang Ching-Chia</td>\n",
       "      <td></td>\n",
       "      <td>2013-08-01</td>\n",
       "      <td>NaT</td>\n",
       "      <td>2014-08-01</td>\n",
       "      <td>NaT</td>\n",
       "      <td>NaT</td>\n",
       "    </tr>\n",
       "    <tr>\n",
       "      <th>233543</th>\n",
       "      <td>Monsieur</td>\n",
       "      <td>Jin Jialei</td>\n",
       "      <td></td>\n",
       "      <td>2013-08-01</td>\n",
       "      <td>NaT</td>\n",
       "      <td>2014-08-01</td>\n",
       "      <td>2015-08-01</td>\n",
       "      <td>NaT</td>\n",
       "    </tr>\n",
       "    <tr>\n",
       "      <th>235799</th>\n",
       "      <td>Monsieur</td>\n",
       "      <td>Ahmed Fayzan</td>\n",
       "      <td></td>\n",
       "      <td>2013-08-01</td>\n",
       "      <td>NaT</td>\n",
       "      <td>2014-08-01</td>\n",
       "      <td>NaT</td>\n",
       "      <td>NaT</td>\n",
       "    </tr>\n",
       "    <tr>\n",
       "      <th>236334</th>\n",
       "      <td>Monsieur</td>\n",
       "      <td>Brix Fabian</td>\n",
       "      <td></td>\n",
       "      <td>2013-08-01</td>\n",
       "      <td>NaT</td>\n",
       "      <td>2014-08-01</td>\n",
       "      <td>NaT</td>\n",
       "      <td>NaT</td>\n",
       "    </tr>\n",
       "    <tr>\n",
       "      <th>238067</th>\n",
       "      <td>Madame</td>\n",
       "      <td>Abbadi Hajar</td>\n",
       "      <td></td>\n",
       "      <td>2013-08-01</td>\n",
       "      <td>NaT</td>\n",
       "      <td>2014-08-01</td>\n",
       "      <td>NaT</td>\n",
       "      <td>NaT</td>\n",
       "    </tr>\n",
       "    <tr>\n",
       "      <th>238078</th>\n",
       "      <td>Monsieur</td>\n",
       "      <td>Droz Johan Abel Jacques</td>\n",
       "      <td></td>\n",
       "      <td>2014-08-01</td>\n",
       "      <td>NaT</td>\n",
       "      <td>2015-08-01</td>\n",
       "      <td>NaT</td>\n",
       "      <td>NaT</td>\n",
       "    </tr>\n",
       "    <tr>\n",
       "      <th>238189</th>\n",
       "      <td>Monsieur</td>\n",
       "      <td>El Graini Mohammed-Taha</td>\n",
       "      <td></td>\n",
       "      <td>2013-08-01</td>\n",
       "      <td>NaT</td>\n",
       "      <td>2014-08-01</td>\n",
       "      <td>NaT</td>\n",
       "      <td>NaT</td>\n",
       "    </tr>\n",
       "    <tr>\n",
       "      <th>238215</th>\n",
       "      <td>Madame</td>\n",
       "      <td>Vladarean Maria-Luiza</td>\n",
       "      <td></td>\n",
       "      <td>2013-08-01</td>\n",
       "      <td>NaT</td>\n",
       "      <td>2014-08-01</td>\n",
       "      <td>NaT</td>\n",
       "      <td>NaT</td>\n",
       "    </tr>\n",
       "    <tr>\n",
       "      <th>244136</th>\n",
       "      <td>Monsieur</td>\n",
       "      <td>Cardoso Rodrigues Bonifácio Vítor Gonçalo</td>\n",
       "      <td></td>\n",
       "      <td>2014-08-01</td>\n",
       "      <td>NaT</td>\n",
       "      <td>2015-08-01</td>\n",
       "      <td>2016-08-01</td>\n",
       "      <td>NaT</td>\n",
       "    </tr>\n",
       "    <tr>\n",
       "      <th>245475</th>\n",
       "      <td>Monsieur</td>\n",
       "      <td>Bodin Antoine Philippe Michel</td>\n",
       "      <td></td>\n",
       "      <td>2014-08-01</td>\n",
       "      <td>NaT</td>\n",
       "      <td>2015-08-01</td>\n",
       "      <td>NaT</td>\n",
       "      <td>NaT</td>\n",
       "    </tr>\n",
       "    <tr>\n",
       "      <th>248358</th>\n",
       "      <td>Monsieur</td>\n",
       "      <td>Bell Enea</td>\n",
       "      <td></td>\n",
       "      <td>2015-08-01</td>\n",
       "      <td>NaT</td>\n",
       "      <td>2016-08-01</td>\n",
       "      <td>NaT</td>\n",
       "      <td>NaT</td>\n",
       "    </tr>\n",
       "    <tr>\n",
       "      <th>251723</th>\n",
       "      <td>Monsieur</td>\n",
       "      <td>Korcek Juraj</td>\n",
       "      <td></td>\n",
       "      <td>2015-08-01</td>\n",
       "      <td>NaT</td>\n",
       "      <td>2016-08-01</td>\n",
       "      <td>NaT</td>\n",
       "      <td>NaT</td>\n",
       "    </tr>\n",
       "    <tr>\n",
       "      <th>255203</th>\n",
       "      <td>Monsieur</td>\n",
       "      <td>Kyritsis Georgios</td>\n",
       "      <td></td>\n",
       "      <td>2015-08-01</td>\n",
       "      <td>NaT</td>\n",
       "      <td>2016-08-01</td>\n",
       "      <td>NaT</td>\n",
       "      <td>NaT</td>\n",
       "    </tr>\n",
       "    <tr>\n",
       "      <th>256231</th>\n",
       "      <td>Monsieur</td>\n",
       "      <td>Fong Roger Duan</td>\n",
       "      <td></td>\n",
       "      <td>2015-08-01</td>\n",
       "      <td>NaT</td>\n",
       "      <td>2016-08-01</td>\n",
       "      <td>NaT</td>\n",
       "      <td>NaT</td>\n",
       "    </tr>\n",
       "    <tr>\n",
       "      <th>256612</th>\n",
       "      <td>Monsieur</td>\n",
       "      <td>Sympetheros Alexandros</td>\n",
       "      <td></td>\n",
       "      <td>2015-08-01</td>\n",
       "      <td>NaT</td>\n",
       "      <td>2016-08-01</td>\n",
       "      <td>NaT</td>\n",
       "      <td>NaT</td>\n",
       "    </tr>\n",
       "  </tbody>\n",
       "</table>\n",
       "<p>70 rows × 8 columns</p>\n",
       "</div>"
      ],
      "text/plain": [
       "           Civilité                                 Nom Prénom  \\\n",
       "No Sciper                                                        \n",
       "170220     Monsieur                             Barras Florian   \n",
       "170225     Monsieur                           Burgener Raphaël   \n",
       "170451     Monsieur                         Bolkensteyn Dinesh   \n",
       "171073     Monsieur              Jiekak Ndeutou Stève Aurélien   \n",
       "174774     Monsieur                               Balas Martin   \n",
       "174905     Monsieur                            Aubelle Flavien   \n",
       "176564     Monsieur                               Helfer Jonas   \n",
       "178706       Madame                        Falbriard Stéphanie   \n",
       "179449     Monsieur                      Bindschaedler Vincent   \n",
       "179988       Madame                            Portmann Joëlle   \n",
       "184772     Monsieur                              Arnfred Jonas   \n",
       "185042       Madame                             Sae-Tang Abson   \n",
       "186188     Monsieur                             Widmer Florian   \n",
       "186193     Monsieur                         Mühlematter Thomas   \n",
       "186872     Monsieur                              Kessel Alexis   \n",
       "191351     Monsieur                                 Molla Eray   \n",
       "191589       Madame                             Günaydin Deniz   \n",
       "192219     Monsieur                               Güzelhan Can   \n",
       "192304     Monsieur                               Sandoz David   \n",
       "193160     Monsieur                          Viswanathan Vijay   \n",
       "193362     Monsieur                              Gauthier Jean   \n",
       "193505     Monsieur                           Heiniger Sylvain   \n",
       "193545       Madame                        Kyriakopoulou Sofia   \n",
       "194430     Monsieur                            Kromwijk Sander   \n",
       "194728     Monsieur                            Bottinelli Paul   \n",
       "194971     Monsieur                            Poiffaut Romain   \n",
       "195916     Monsieur                            Viaccoz Thierry   \n",
       "196602       Madame                            Stojanov Marica   \n",
       "196683     Monsieur                       Vostriakov Alexander   \n",
       "199743     Monsieur                            Markovic Nikola   \n",
       "...             ...                                        ...   \n",
       "205784       Madame                 Musso Claire Cécile Hélène   \n",
       "206436     Monsieur                   Jacot-Guillarmod Bastien   \n",
       "211684     Monsieur                             Malinovic Igor   \n",
       "213027     Monsieur                          Devillard Florent   \n",
       "213553       Madame                      Grosan Flavia Adelina   \n",
       "213664     Monsieur                           Bouquet Stéphane   \n",
       "214614       Madame                       Vasilescu Oana-Maria   \n",
       "214731     Monsieur                 Tandrau Alexandru Octavian   \n",
       "216451     Monsieur                           Fiszel Ruben Leo   \n",
       "217453     Monsieur                  Mouchet Christian Vincent   \n",
       "217489       Madame                    Salathé Joanna Béatrice   \n",
       "221503       Madame                                Bai Yingkun   \n",
       "225434     Monsieur                 Aranibar Casas Ivan Wilson   \n",
       "225483     Monsieur                 Cook Cedric Radboud Ernest   \n",
       "227848     Monsieur                    Majeri Kasmaei Chervine   \n",
       "232957     Monsieur                            Wang Ching-Chia   \n",
       "233543     Monsieur                                 Jin Jialei   \n",
       "235799     Monsieur                               Ahmed Fayzan   \n",
       "236334     Monsieur                                Brix Fabian   \n",
       "238067       Madame                               Abbadi Hajar   \n",
       "238078     Monsieur                    Droz Johan Abel Jacques   \n",
       "238189     Monsieur                    El Graini Mohammed-Taha   \n",
       "238215       Madame                      Vladarean Maria-Luiza   \n",
       "244136     Monsieur  Cardoso Rodrigues Bonifácio Vítor Gonçalo   \n",
       "245475     Monsieur              Bodin Antoine Philippe Michel   \n",
       "248358     Monsieur                                  Bell Enea   \n",
       "251723     Monsieur                               Korcek Juraj   \n",
       "255203     Monsieur                          Kyritsis Georgios   \n",
       "256231     Monsieur                            Fong Roger Duan   \n",
       "256612     Monsieur                     Sympetheros Alexandros   \n",
       "\n",
       "               Spécialisation Master semestre 1 Master semestre 2  \\\n",
       "No Sciper                                                           \n",
       "170220                               2009-08-01               NaT   \n",
       "170225                               2009-08-01               NaT   \n",
       "170451                               2009-08-01               NaT   \n",
       "171073     Internet computing        2009-08-01               NaT   \n",
       "174774                               2010-08-01               NaT   \n",
       "174905                               2012-08-01               NaT   \n",
       "176564                               2009-08-01               NaT   \n",
       "178706                               2010-08-01               NaT   \n",
       "179449                               2010-08-01               NaT   \n",
       "179988                               2010-08-01               NaT   \n",
       "184772                               2011-08-01               NaT   \n",
       "185042                               2010-08-01               NaT   \n",
       "186188                               2011-08-01               NaT   \n",
       "186193                               2013-08-01               NaT   \n",
       "186872                               2013-08-01               NaT   \n",
       "191351                               2009-08-01               NaT   \n",
       "191589                               2009-08-01               NaT   \n",
       "192219                               2015-08-01               NaT   \n",
       "192304                               2013-08-01               NaT   \n",
       "193160                               2010-08-01               NaT   \n",
       "193362                               2012-08-01               NaT   \n",
       "193505                               2012-08-01               NaT   \n",
       "193545                               2009-08-01               NaT   \n",
       "194430                               2012-08-01               NaT   \n",
       "194728                               2012-08-01               NaT   \n",
       "194971       Software Systems        2011-08-01               NaT   \n",
       "195916                               2012-08-01               NaT   \n",
       "196602                               2010-08-01               NaT   \n",
       "196683                               2014-08-01               NaT   \n",
       "199743                               2010-08-01               NaT   \n",
       "...                       ...               ...               ...   \n",
       "205784                               2013-08-01               NaT   \n",
       "206436                               2013-08-01               NaT   \n",
       "211684                               2011-08-01               NaT   \n",
       "213027                               2015-08-01               NaT   \n",
       "213553                               2011-08-01               NaT   \n",
       "213664                               2014-08-01               NaT   \n",
       "214614                               2011-08-01               NaT   \n",
       "214731                               2011-08-01               NaT   \n",
       "216451                               2015-08-01               NaT   \n",
       "217453                               2014-08-01               NaT   \n",
       "217489                               2015-08-01               NaT   \n",
       "221503                               2012-08-01               NaT   \n",
       "225434                               2012-08-01               NaT   \n",
       "225483                               2015-08-01               NaT   \n",
       "227848                               2014-08-01               NaT   \n",
       "232957                               2013-08-01               NaT   \n",
       "233543                               2013-08-01               NaT   \n",
       "235799                               2013-08-01               NaT   \n",
       "236334                               2013-08-01               NaT   \n",
       "238067                               2013-08-01               NaT   \n",
       "238078                               2014-08-01               NaT   \n",
       "238189                               2013-08-01               NaT   \n",
       "238215                               2013-08-01               NaT   \n",
       "244136                               2014-08-01               NaT   \n",
       "245475                               2014-08-01               NaT   \n",
       "248358                               2015-08-01               NaT   \n",
       "251723                               2015-08-01               NaT   \n",
       "255203                               2015-08-01               NaT   \n",
       "256231                               2015-08-01               NaT   \n",
       "256612                               2015-08-01               NaT   \n",
       "\n",
       "          Master semestre 3 Projet Master automne Projet Master printemps  \n",
       "No Sciper                                                                  \n",
       "170220           2011-08-01                   NaT                     NaT  \n",
       "170225           2010-08-01                   NaT                     NaT  \n",
       "170451           2010-08-01                   NaT                     NaT  \n",
       "171073           2010-08-01                   NaT                     NaT  \n",
       "174774           2011-08-01                   NaT                     NaT  \n",
       "174905           2013-08-01                   NaT                     NaT  \n",
       "176564           2010-08-01                   NaT                     NaT  \n",
       "178706           2011-08-01                   NaT                     NaT  \n",
       "179449           2011-08-01                   NaT                     NaT  \n",
       "179988           2013-08-01                   NaT                     NaT  \n",
       "184772           2012-08-01                   NaT                     NaT  \n",
       "185042           2012-08-01                   NaT                     NaT  \n",
       "186188           2013-08-01                   NaT                     NaT  \n",
       "186193           2014-08-01                   NaT                     NaT  \n",
       "186872           2015-08-01                   NaT                     NaT  \n",
       "191351           2010-08-01                   NaT                     NaT  \n",
       "191589           2010-08-01                   NaT                     NaT  \n",
       "192219           2016-08-01                   NaT                     NaT  \n",
       "192304           2014-08-01                   NaT                     NaT  \n",
       "193160           2011-08-01                   NaT                     NaT  \n",
       "193362           2014-08-01                   NaT                     NaT  \n",
       "193505           2013-08-01                   NaT                     NaT  \n",
       "193545           2010-08-01                   NaT                     NaT  \n",
       "194430           2013-08-01                   NaT                     NaT  \n",
       "194728           2013-08-01                   NaT                     NaT  \n",
       "194971           2012-08-01                   NaT                     NaT  \n",
       "195916           2013-08-01                   NaT                     NaT  \n",
       "196602           2011-08-01                   NaT              2012-02-01  \n",
       "196683           2016-08-01                   NaT                     NaT  \n",
       "199743           2011-08-01                   NaT                     NaT  \n",
       "...                     ...                   ...                     ...  \n",
       "205784           2014-08-01                   NaT                     NaT  \n",
       "206436           2014-08-01                   NaT                     NaT  \n",
       "211684           2013-08-01                   NaT                     NaT  \n",
       "213027           2016-08-01                   NaT                     NaT  \n",
       "213553           2012-08-01                   NaT                     NaT  \n",
       "213664           2015-08-01            2016-08-01                     NaT  \n",
       "214614           2012-08-01                   NaT                     NaT  \n",
       "214731           2012-08-01                   NaT                     NaT  \n",
       "216451           2016-08-01                   NaT                     NaT  \n",
       "217453           2016-08-01                   NaT                     NaT  \n",
       "217489           2016-08-01                   NaT                     NaT  \n",
       "221503           2014-08-01                   NaT                     NaT  \n",
       "225434           2014-08-01                   NaT                     NaT  \n",
       "225483           2016-08-01                   NaT                     NaT  \n",
       "227848           2015-08-01            2016-08-01                     NaT  \n",
       "232957           2014-08-01                   NaT                     NaT  \n",
       "233543           2014-08-01            2015-08-01                     NaT  \n",
       "235799           2014-08-01                   NaT                     NaT  \n",
       "236334           2014-08-01                   NaT                     NaT  \n",
       "238067           2014-08-01                   NaT                     NaT  \n",
       "238078           2015-08-01                   NaT                     NaT  \n",
       "238189           2014-08-01                   NaT                     NaT  \n",
       "238215           2014-08-01                   NaT                     NaT  \n",
       "244136           2015-08-01            2016-08-01                     NaT  \n",
       "245475           2015-08-01                   NaT                     NaT  \n",
       "248358           2016-08-01                   NaT                     NaT  \n",
       "251723           2016-08-01                   NaT                     NaT  \n",
       "255203           2016-08-01                   NaT                     NaT  \n",
       "256231           2016-08-01                   NaT                     NaT  \n",
       "256612           2016-08-01                   NaT                     NaT  \n",
       "\n",
       "[70 rows x 8 columns]"
      ]
     },
     "execution_count": 43,
     "metadata": {},
     "output_type": "execute_result"
    }
   ],
   "source": [
    "master_full_data[master_full_data['Master semestre 2'].isnull()]"
   ]
  },
  {
   "cell_type": "markdown",
   "metadata": {},
   "source": [
    "We set the NaT date values with the earliest date to compute without errors the number of semesters. This will be apply only in semester 2, 3 and projects because the previous merging prevent missing data in the semester 1."
   ]
  },
  {
   "cell_type": "code",
   "execution_count": 44,
   "metadata": {
    "collapsed": true
   },
   "outputs": [],
   "source": [
    "#master_full_data.fillna(0, inplace=True)"
   ]
  },
  {
   "cell_type": "markdown",
   "metadata": {},
   "source": [
    "Now we can compute the number of months by compare the date in semester 1 with the lastest date in semester 2, 3 or projects :"
   ]
  },
  {
   "cell_type": "code",
   "execution_count": 45,
   "metadata": {
    "collapsed": false,
    "scrolled": true
   },
   "outputs": [
    {
     "data": {
      "text/html": [
       "<div>\n",
       "<table border=\"1\" class=\"dataframe\">\n",
       "  <thead>\n",
       "    <tr style=\"text-align: right;\">\n",
       "      <th></th>\n",
       "      <th>Civilité</th>\n",
       "      <th>Nom Prénom</th>\n",
       "      <th>Spécialisation</th>\n",
       "      <th>Master semestre 1</th>\n",
       "      <th>Master semestre 2</th>\n",
       "      <th>Master semestre 3</th>\n",
       "      <th>Projet Master automne</th>\n",
       "      <th>Projet Master printemps</th>\n",
       "      <th>Durée master (mois)</th>\n",
       "    </tr>\n",
       "    <tr>\n",
       "      <th>No Sciper</th>\n",
       "      <th></th>\n",
       "      <th></th>\n",
       "      <th></th>\n",
       "      <th></th>\n",
       "      <th></th>\n",
       "      <th></th>\n",
       "      <th></th>\n",
       "      <th></th>\n",
       "      <th></th>\n",
       "    </tr>\n",
       "  </thead>\n",
       "  <tbody>\n",
       "    <tr>\n",
       "      <th>147008</th>\n",
       "      <td>Monsieur</td>\n",
       "      <td>Good Xavier</td>\n",
       "      <td>Signals, Images and Interfaces</td>\n",
       "      <td>2011-08-01</td>\n",
       "      <td>2013-02-01</td>\n",
       "      <td>2012-08-01</td>\n",
       "      <td>NaT</td>\n",
       "      <td>NaT</td>\n",
       "      <td>24</td>\n",
       "    </tr>\n",
       "    <tr>\n",
       "      <th>161220</th>\n",
       "      <td>Monsieur</td>\n",
       "      <td>Tourino Pablo</td>\n",
       "      <td></td>\n",
       "      <td>2009-08-01</td>\n",
       "      <td>2010-02-01</td>\n",
       "      <td>2010-08-01</td>\n",
       "      <td>NaT</td>\n",
       "      <td>NaT</td>\n",
       "      <td>18</td>\n",
       "    </tr>\n",
       "    <tr>\n",
       "      <th>161279</th>\n",
       "      <td>Monsieur</td>\n",
       "      <td>Biollay Jean Isaac Jamal Pachacutec</td>\n",
       "      <td></td>\n",
       "      <td>2009-08-01</td>\n",
       "      <td>2010-02-01</td>\n",
       "      <td>2010-08-01</td>\n",
       "      <td>NaT</td>\n",
       "      <td>2011-02-01</td>\n",
       "      <td>24</td>\n",
       "    </tr>\n",
       "    <tr>\n",
       "      <th>161814</th>\n",
       "      <td>Monsieur</td>\n",
       "      <td>Candemir Mehmet</td>\n",
       "      <td></td>\n",
       "      <td>2009-08-01</td>\n",
       "      <td>2010-02-01</td>\n",
       "      <td>2010-08-01</td>\n",
       "      <td>NaT</td>\n",
       "      <td>NaT</td>\n",
       "      <td>18</td>\n",
       "    </tr>\n",
       "    <tr>\n",
       "      <th>161930</th>\n",
       "      <td>Monsieur</td>\n",
       "      <td>Lunang Pomkam Auguste Carmen</td>\n",
       "      <td></td>\n",
       "      <td>2010-08-01</td>\n",
       "      <td>2011-02-01</td>\n",
       "      <td>2011-08-01</td>\n",
       "      <td>NaT</td>\n",
       "      <td>NaT</td>\n",
       "      <td>18</td>\n",
       "    </tr>\n",
       "  </tbody>\n",
       "</table>\n",
       "</div>"
      ],
      "text/plain": [
       "           Civilité                           Nom Prénom  \\\n",
       "No Sciper                                                  \n",
       "147008     Monsieur                          Good Xavier   \n",
       "161220     Monsieur                        Tourino Pablo   \n",
       "161279     Monsieur  Biollay Jean Isaac Jamal Pachacutec   \n",
       "161814     Monsieur                      Candemir Mehmet   \n",
       "161930     Monsieur         Lunang Pomkam Auguste Carmen   \n",
       "\n",
       "                           Spécialisation Master semestre 1 Master semestre 2  \\\n",
       "No Sciper                                                                       \n",
       "147008     Signals, Images and Interfaces        2011-08-01        2013-02-01   \n",
       "161220                                           2009-08-01        2010-02-01   \n",
       "161279                                           2009-08-01        2010-02-01   \n",
       "161814                                           2009-08-01        2010-02-01   \n",
       "161930                                           2010-08-01        2011-02-01   \n",
       "\n",
       "          Master semestre 3 Projet Master automne Projet Master printemps  \\\n",
       "No Sciper                                                                   \n",
       "147008           2012-08-01                   NaT                     NaT   \n",
       "161220           2010-08-01                   NaT                     NaT   \n",
       "161279           2010-08-01                   NaT              2011-02-01   \n",
       "161814           2010-08-01                   NaT                     NaT   \n",
       "161930           2011-08-01                   NaT                     NaT   \n",
       "\n",
       "           Durée master (mois)  \n",
       "No Sciper                       \n",
       "147008                      24  \n",
       "161220                      18  \n",
       "161279                      24  \n",
       "161814                      18  \n",
       "161930                      18  "
      ]
     },
     "execution_count": 45,
     "metadata": {},
     "output_type": "execute_result"
    }
   ],
   "source": [
    "# We need to find the lastest and earliest date between semester 1, 2, 3 or projects\n",
    "# because some students start with the semester 2 then the 1\n",
    "def lastest_date(dates):\n",
    "    return max(dates[[not pd.isnull(date) for date in dates]])\n",
    "def earliest_date(dates):\n",
    "    return min(dates[[not pd.isnull(date) for date in dates]])\n",
    "\n",
    "def compute_nb_months_master(row):\n",
    "    lastest = lastest_date(row[['Master semestre 1', 'Master semestre 2', 'Master semestre 3', 'Projet Master automne', 'Projet Master printemps']])\n",
    "    earliest = earliest_date(row[['Master semestre 1', 'Master semestre 2']])\n",
    "    delta = relativedelta.relativedelta(lastest, earliest) \n",
    "    return delta.years * 12 + delta.months + 6\n",
    "\n",
    "master_full_data['Durée master (mois)'] = master_full_data.apply(compute_nb_months_master, axis=1)\n",
    "\n",
    "master_full_data.head()"
   ]
  },
  {
   "cell_type": "markdown",
   "metadata": {},
   "source": [
    "### Statistics"
   ]
  },
  {
   "cell_type": "code",
   "execution_count": 46,
   "metadata": {
    "collapsed": false
   },
   "outputs": [
    {
     "data": {
      "text/plain": [
       "20.127527216174183"
      ]
     },
     "execution_count": 46,
     "metadata": {},
     "output_type": "execute_result"
    }
   ],
   "source": [
    "master_full_data['Durée master (mois)'].mean()"
   ]
  },
  {
   "cell_type": "code",
   "execution_count": 47,
   "metadata": {
    "collapsed": false
   },
   "outputs": [
    {
     "data": {
      "text/html": [
       "<div>\n",
       "<table border=\"1\" class=\"dataframe\">\n",
       "  <thead>\n",
       "    <tr style=\"text-align: right;\">\n",
       "      <th></th>\n",
       "      <th>Durée master (mois)</th>\n",
       "    </tr>\n",
       "    <tr>\n",
       "      <th>Spécialisation</th>\n",
       "      <th></th>\n",
       "    </tr>\n",
       "  </thead>\n",
       "  <tbody>\n",
       "    <tr>\n",
       "      <th></th>\n",
       "      <td>19.893654</td>\n",
       "    </tr>\n",
       "    <tr>\n",
       "      <th>Computer Engineering - SP</th>\n",
       "      <td>22.000000</td>\n",
       "    </tr>\n",
       "    <tr>\n",
       "      <th>Data Analytics</th>\n",
       "      <td>15.000000</td>\n",
       "    </tr>\n",
       "    <tr>\n",
       "      <th>Foundations of Software</th>\n",
       "      <td>23.500000</td>\n",
       "    </tr>\n",
       "    <tr>\n",
       "      <th>Information Security - SP</th>\n",
       "      <td>30.000000</td>\n",
       "    </tr>\n",
       "    <tr>\n",
       "      <th>Internet computing</th>\n",
       "      <td>21.900000</td>\n",
       "    </tr>\n",
       "    <tr>\n",
       "      <th>Service science</th>\n",
       "      <td>18.000000</td>\n",
       "    </tr>\n",
       "    <tr>\n",
       "      <th>Signals, Images and Interfaces</th>\n",
       "      <td>23.142857</td>\n",
       "    </tr>\n",
       "    <tr>\n",
       "      <th>Software Systems</th>\n",
       "      <td>23.000000</td>\n",
       "    </tr>\n",
       "  </tbody>\n",
       "</table>\n",
       "</div>"
      ],
      "text/plain": [
       "                                Durée master (mois)\n",
       "Spécialisation                                     \n",
       "                                          19.893654\n",
       "Computer Engineering - SP                 22.000000\n",
       "Data Analytics                            15.000000\n",
       "Foundations of Software                   23.500000\n",
       "Information Security - SP                 30.000000\n",
       "Internet computing                        21.900000\n",
       "Service science                           18.000000\n",
       "Signals, Images and Interfaces            23.142857\n",
       "Software Systems                          23.000000"
      ]
     },
     "execution_count": 47,
     "metadata": {},
     "output_type": "execute_result"
    }
   ],
   "source": [
    "master_full_data.groupby(['Spécialisation']).mean()"
   ]
  },
  {
   "cell_type": "code",
   "execution_count": 48,
   "metadata": {
    "collapsed": false
   },
   "outputs": [
    {
     "data": {
      "text/html": [
       "<div>\n",
       "<table border=\"1\" class=\"dataframe\">\n",
       "  <thead>\n",
       "    <tr style=\"text-align: right;\">\n",
       "      <th></th>\n",
       "      <th>Durée master (mois)</th>\n",
       "    </tr>\n",
       "    <tr>\n",
       "      <th>Spécialisation</th>\n",
       "      <th></th>\n",
       "    </tr>\n",
       "  </thead>\n",
       "  <tbody>\n",
       "    <tr>\n",
       "      <th></th>\n",
       "      <td>18</td>\n",
       "    </tr>\n",
       "    <tr>\n",
       "      <th>Computer Engineering - SP</th>\n",
       "      <td>24</td>\n",
       "    </tr>\n",
       "    <tr>\n",
       "      <th>Data Analytics</th>\n",
       "      <td>15</td>\n",
       "    </tr>\n",
       "    <tr>\n",
       "      <th>Foundations of Software</th>\n",
       "      <td>24</td>\n",
       "    </tr>\n",
       "    <tr>\n",
       "      <th>Information Security - SP</th>\n",
       "      <td>30</td>\n",
       "    </tr>\n",
       "    <tr>\n",
       "      <th>Internet computing</th>\n",
       "      <td>24</td>\n",
       "    </tr>\n",
       "    <tr>\n",
       "      <th>Service science</th>\n",
       "      <td>18</td>\n",
       "    </tr>\n",
       "    <tr>\n",
       "      <th>Signals, Images and Interfaces</th>\n",
       "      <td>24</td>\n",
       "    </tr>\n",
       "    <tr>\n",
       "      <th>Software Systems</th>\n",
       "      <td>21</td>\n",
       "    </tr>\n",
       "  </tbody>\n",
       "</table>\n",
       "</div>"
      ],
      "text/plain": [
       "                                Durée master (mois)\n",
       "Spécialisation                                     \n",
       "                                                 18\n",
       "Computer Engineering - SP                        24\n",
       "Data Analytics                                   15\n",
       "Foundations of Software                          24\n",
       "Information Security - SP                        30\n",
       "Internet computing                               24\n",
       "Service science                                  18\n",
       "Signals, Images and Interfaces                   24\n",
       "Software Systems                                 21"
      ]
     },
     "execution_count": 48,
     "metadata": {},
     "output_type": "execute_result"
    }
   ],
   "source": [
    "master_full_data.groupby(['Spécialisation']).median()"
   ]
  },
  {
   "cell_type": "code",
   "execution_count": 54,
   "metadata": {
    "collapsed": false
   },
   "outputs": [
    {
     "data": {
      "text/html": [
       "<div>\n",
       "<table border=\"1\" class=\"dataframe\">\n",
       "  <thead>\n",
       "    <tr style=\"text-align: right;\">\n",
       "      <th></th>\n",
       "      <th>Durée master (mois)</th>\n",
       "    </tr>\n",
       "    <tr>\n",
       "      <th>Spécialisation</th>\n",
       "      <th></th>\n",
       "    </tr>\n",
       "  </thead>\n",
       "  <tbody>\n",
       "    <tr>\n",
       "      <th></th>\n",
       "      <td>583</td>\n",
       "    </tr>\n",
       "    <tr>\n",
       "      <th>Computer Engineering - SP</th>\n",
       "      <td>3</td>\n",
       "    </tr>\n",
       "    <tr>\n",
       "      <th>Data Analytics</th>\n",
       "      <td>2</td>\n",
       "    </tr>\n",
       "    <tr>\n",
       "      <th>Foundations of Software</th>\n",
       "      <td>12</td>\n",
       "    </tr>\n",
       "    <tr>\n",
       "      <th>Information Security - SP</th>\n",
       "      <td>1</td>\n",
       "    </tr>\n",
       "    <tr>\n",
       "      <th>Internet computing</th>\n",
       "      <td>20</td>\n",
       "    </tr>\n",
       "    <tr>\n",
       "      <th>Service science</th>\n",
       "      <td>2</td>\n",
       "    </tr>\n",
       "    <tr>\n",
       "      <th>Signals, Images and Interfaces</th>\n",
       "      <td>14</td>\n",
       "    </tr>\n",
       "    <tr>\n",
       "      <th>Software Systems</th>\n",
       "      <td>6</td>\n",
       "    </tr>\n",
       "  </tbody>\n",
       "</table>\n",
       "</div>"
      ],
      "text/plain": [
       "                                Durée master (mois)\n",
       "Spécialisation                                     \n",
       "                                                583\n",
       "Computer Engineering - SP                         3\n",
       "Data Analytics                                    2\n",
       "Foundations of Software                          12\n",
       "Information Security - SP                         1\n",
       "Internet computing                               20\n",
       "Service science                                   2\n",
       "Signals, Images and Interfaces                   14\n",
       "Software Systems                                  6"
      ]
     },
     "execution_count": 54,
     "metadata": {},
     "output_type": "execute_result"
    }
   ],
   "source": [
    "master_full_data.groupby(['Spécialisation']).count()[['Durée master (mois)']]"
   ]
  },
  {
   "cell_type": "markdown",
   "metadata": {},
   "source": [
    "Here the t-test shoul not be appropriate, in deed the number of student with a 'specialisation' is not big enought to be approximate by a normal distibution.\n",
    "Moreover we don't have any information about the distibution of the data where we are going to study.\n",
    "\n",
    "The k-test seems appropriate for 'Specialisation' greater than 5 people, in order to compare distribution with enough value. (We remove to the study 'Computer Engineering - SP','Data Analytics','Information Security - SP', 'Service science')\n",
    "The test are going to show if a 'Specialisation' is statiscally close to the data related to master student"
   ]
  },
  {
   "cell_type": "code",
   "execution_count": 57,
   "metadata": {
    "collapsed": false
   },
   "outputs": [
    {
     "name": "stdout",
     "output_type": "stream",
     "text": [
      " : Ks_2sampResult(statistic=0.022671920057406703, pvalue=0.99726167944515676)\n",
      "Signals, Images and Interfaces : Ks_2sampResult(statistic=0.31315263274827815, pvalue=0.10903414592543681)\n",
      "Foundations of Software : Ks_2sampResult(statistic=0.25362882322446861, pvalue=0.38032363291845511)\n",
      "Service science : Ks_2sampResult(statistic=0.3297045101088647, pvalue=0.94077673716635579)\n",
      "Internet computing : Ks_2sampResult(statistic=0.22029548989113529, pvalue=0.26769611351124167)\n",
      "Computer Engineering - SP : Ks_2sampResult(statistic=0.33696215655780198, pvalue=0.80099175446523385)\n",
      "Software Systems : Ks_2sampResult(statistic=0.1702954898911353, pvalue=0.98937827400175837)\n",
      "Information Security - SP : Ks_2sampResult(statistic=0.83359253499222397, pvalue=0.24441573975866812)\n",
      "Data Analytics : Ks_2sampResult(statistic=0.33048211508553654, pvalue=0.93968744116230585)\n"
     ]
    }
   ],
   "source": [
    "global_duration_serie = master_full_data['Durée master (mois)'].values\n",
    "specialities_duration_series = {}\n",
    "\n",
    "for speciality in master_full_data['Spécialisation'].unique():\n",
    "    #if len(speciality) > 0:\n",
    "        specialities_duration_series[speciality] = master_full_data['Durée master (mois)'][[spe == speciality for spe in master_full_data['Spécialisation']]].values\n",
    "\n",
    "for speciality_name, speciality_serie in specialities_duration_series.items():\n",
    "    print(speciality_name + ' : ', end='')\n",
    "    print(stats.ks_2samp(global_duration_serie, speciality_serie))"
   ]
  },
  {
   "cell_type": "markdown",
   "metadata": {},
   "source": [
    "the null-hypothesis for the KT test is that the distributions are the same.\n",
    "Thus, the lower your p value the greater the statistical evidence we have to reject the null hypothesis and \n",
    "conclude the distributions are different.\n",
    "\n",
    "if we take alpha = 5%, we can reject the null-hypothesis for all Specialisation except for Software of fundation."
   ]
  },
  {
   "cell_type": "markdown",
   "metadata": {},
   "source": [
    "# Bonus"
   ]
  },
  {
   "cell_type": "code",
   "execution_count": 58,
   "metadata": {
    "collapsed": false
   },
   "outputs": [
    {
     "data": {
      "text/plain": [
       "<matplotlib.axes._subplots.AxesSubplot at 0x116fc6c88>"
      ]
     },
     "execution_count": 58,
     "metadata": {},
     "output_type": "execute_result"
    },
    {
     "data": {
      "image/png": "[encoded data removed]",
      "text/plain": [
       "<matplotlib.figure.Figure at 0x116e50748>"
      ]
     },
     "metadata": {},
     "output_type": "display_data"
    }
   ],
   "source": [
    "avg_duration_master_degree_by_sex = master_full_data.groupby(['Civilité', 'Durée master (mois)']).count()['Nom Prénom'].unstack(level=0).fillna(0).plot()\n",
    "avg_duration_master_degree_by_sex.set_ylabel('Number of students')\n",
    "avg_duration_master_degree_by_sex.set_xlabel('Master duration in months')\n",
    "avg_duration_master_degree_by_sex"
   ]
  }
 ],
 "metadata": {
  "anaconda-cloud": {},
  "kernelspec": {
   "display_name": "Python [Root]",
   "language": "python",
   "name": "Python [Root]"
  },
  "language_info": {
   "codemirror_mode": {
    "name": "ipython",
    "version": 3
   },
   "file_extension": ".py",
   "mimetype": "text/x-python",
   "name": "python",
   "nbconvert_exporter": "python",
   "pygments_lexer": "ipython3",
   "version": "3.5.2"
  }
 },
 "nbformat": 4,
 "nbformat_minor": 0
}
