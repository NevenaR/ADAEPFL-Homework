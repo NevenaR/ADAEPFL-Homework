{
 "cells": [
  {
   "cell_type": "markdown",
   "metadata": {},
   "source": [
    "1) Obtain all the data for the Bachelor students, starting from 2007. Keep only the students for which you have an entry for both Bachelor semestre 1 and Bachelor semestre 6. Compute how many months it took each student to go from the first to the sixth semester. Partition the data between male and female students, and compute the average -- is the difference in average statistically significant?"
   ]
  },
  {
   "cell_type": "code",
   "execution_count": null,
   "metadata": {
    "collapsed": false
   },
   "outputs": [],
   "source": [
    "import requests as rq\n",
    "from bs4 import BeautifulSoup as bfs\n",
    "import pandas as pd"
   ]
  },
  {
   "cell_type": "code",
   "execution_count": null,
   "metadata": {
    "collapsed": false
   },
   "outputs": [],
   "source": [
    "# playload represent the argument present in the get request.\n",
    "# We decide top get students \n",
    "payload = {\n",
    "            'ww_x_GPS' : 71297531,\n",
    "            'ww_i_reportModel' : 133685247,\n",
    "            'ww_i_reportModelXsl' : 133685270,\n",
    "            'ww_x_UNITE_ACAD' : 249847,\n",
    "            'ww_x_PERIODE_ACAD' : 942175,\n",
    "            'ww_x_PERIODE_PEDAGO' : 249108,\n",
    "            'ww_x_HIVERETE' : 'null'\n",
    "         }\n",
    "\n",
    "\n",
    "curent_page = rq.get('http://isa.epfl.ch/imoniteur_ISAP/!GEDPUBLICREPORTS.html',params=payload)\n",
    "curent_page.text\n"
   ]
  },
  {
   "cell_type": "code",
   "execution_count": null,
   "metadata": {
    "collapsed": false
   },
   "outputs": [],
   "source": [
    "\n",
    "# link to bachelor 1 and bachelor 6\n",
    "periode_pedago = [249108]\n",
    "\n",
    "#link to school year 2007-2014 (a completer)\n",
    "periode_acad   = [978181] #A completer 2013-2014 inclus\n",
    "\n",
    "etudiant = []\n",
    "\n",
    "for peda  in periode_pedago:\n",
    "    payload['ww_x_PERIODE_PEDAGO'] = peda\n",
    "    for acad in periode_acad:\n",
    "        payload['ww_x_PERIODE_ACAD'] = acad\n",
    "        # get the data by doing a get request\n",
    "        curent_page = rq.get('http://isa.epfl.ch/imoniteur_ISAP/!GEDPUBLICREPORTS.html',params=payload)\n",
    "        # Now we use BeautifulSoup to get the data from the html result.\n",
    "        # First we get all row composing the document\n",
    "        table = soup.find(\"table\")\n",
    "        # Find all the <tr> tag pairs, skip the first one, then for each.\n",
    "        for row in table.find_all('tr')[2:]:\n",
    "            # Create a variable of all the <td> tag pairs in each <tr> tag pair,\n",
    "            col = row.find_all('td')\n",
    "            # Create a variable of the string inside 1st <td> tag pair,\n",
    "            etudiant.append(col[1].string.strip())\n",
    "        \n",
    "# Create a variable of the value of the columns\n",
    "columns = {'first_name': etudiant}\n",
    "\n",
    "# Create a dataframe from the columns variable\n",
    "df = pd.DataFrame(columns)\n",
    "df.head"
   ]
  }
 ],
 "metadata": {
  "kernelspec": {
   "display_name": "Python [Root]",
   "language": "python",
   "name": "Python [Root]"
  },
  "language_info": {
   "codemirror_mode": {
    "name": "ipython",
    "version": 3
   },
   "file_extension": ".py",
   "mimetype": "text/x-python",
   "name": "python",
   "nbconvert_exporter": "python",
   "pygments_lexer": "ipython3",
   "version": "3.5.2"
  }
 },
 "nbformat": 4,
 "nbformat_minor": 0
}
