{
 "cells": [
  {
   "cell_type": "markdown",
   "metadata": {
    "collapsed": true
   },
   "source": [
    "# Homework 2 - IS-Academia"
   ]
  },
  {
   "cell_type": "code",
   "execution_count": 1,
   "metadata": {
    "collapsed": true
   },
   "outputs": [],
   "source": [
    "import requests as rq\n",
    "from bs4 import BeautifulSoup as bfs\n",
    "import numpy as np\n",
    "import pandas as pd\n",
    "import collections\n",
    "import os\n",
    "%matplotlib inline\n",
    "import matplotlib.pyplot as plt\n",
    "from dateutil import relativedelta\n",
    "import scipy.stats as stats\n",
    "import math"
   ]
  },
  {
   "cell_type": "markdown",
   "metadata": {},
   "source": [
    "<b><span style=\"color:red\">GENERAL NOTES:</span>\n",
    "\n",
    "- We are not EPFL students and, thus, we don't know the exact rules of school. All the assumptions made in this Notebook can differ a bit from the functioning here at EPFL, but we tried to remain realistic regarding the obtained data.\n",
    "- As French is used by IS-Academia when returning data, we deliberately kept French when displaying data. Additionnaly, and still for the same reason, newly added columns are displayed in French. However, all comments are written in English.\n",
    "- In this Notebook, we propose a way to store the collected data from server. We want to draw the attention of reader to the fact that, due to instability of IS-Academia, and among multiple other factors, it is possible that the data differ between two fetchs. However, global results displayed in this Notebook are not affected by these possible differencies. Finally, we provide, by default, a copy of fetched data in the folder 'Data'. To fetch again the data, simply delete the entire folder and execute again the Notebook's cells.</b>"
   ]
  },
  {
   "cell_type": "markdown",
   "metadata": {},
   "source": [
    "# Question 1 - Bachelor\n",
    "\n",
    "<b>Obtain all the data for the Bachelor students, starting from 2007. Keep only the students for which you have an entry for both Bachelor semestre 1 and Bachelor semestre 6. Compute how many months it took each student to go from the first to the sixth semester. Partition the data between male and female students, and compute the average -- is the difference in average statistically significant?</b>"
   ]
  },
  {
   "cell_type": "markdown",
   "metadata": {},
   "source": [
    "Firstly, we define some constants that will be usefull for all questions. The two URLs have been found using Postman Interceptor."
   ]
  },
  {
   "cell_type": "code",
   "execution_count": 2,
   "metadata": {
    "collapsed": true
   },
   "outputs": [],
   "source": [
    "DATA_FOLDER = 'Data/' # Name of folder which will contain all data fetched from IS-Academia\n",
    "DATA_URL = 'http://isa.epfl.ch/imoniteur_ISAP/!GEDPUBLICREPORTS.html' # URL of data\n",
    "FILTER_URL = 'http://isa.epfl.ch/imoniteur_ISAP/!GEDPUBLICREPORTS.filter?ww_i_reportModel=133685247' # URL of online form"
   ]
  },
  {
   "cell_type": "markdown",
   "metadata": {},
   "source": [
    "## Getting params"
   ]
  },
  {
   "cell_type": "markdown",
   "metadata": {},
   "source": [
    "In order to get all students data, we need to get all available parameters to fetch the database by the REST API. To do so, we begin by requesting all the sections displayed in the `select` lists of the form. Then, for each option, we extract the human-readable name and its corresponding value."
   ]
  },
  {
   "cell_type": "code",
   "execution_count": 3,
   "metadata": {
    "collapsed": false
   },
   "outputs": [
    {
     "data": {
      "text/plain": [
       "defaultdict(dict,\n",
       "            {'ww_x_HIVERETE': defaultdict(list,\n",
       "                         {\"Semestre d'automne\": '2936286',\n",
       "                          'Semestre de printemps': '2936295'}),\n",
       "             'ww_x_PERIODE_ACAD': defaultdict(list,\n",
       "                         {'2007-2008': '978181',\n",
       "                          '2008-2009': '978187',\n",
       "                          '2009-2010': '978195',\n",
       "                          '2010-2011': '39486325',\n",
       "                          '2011-2012': '123455150',\n",
       "                          '2012-2013': '123456101',\n",
       "                          '2013-2014': '213637754',\n",
       "                          '2014-2015': '213637922',\n",
       "                          '2015-2016': '213638028',\n",
       "                          '2016-2017': '355925344'}),\n",
       "             'ww_x_PERIODE_PEDAGO': defaultdict(list,\n",
       "                         {'Bachelor semestre 1': '249108',\n",
       "                          'Bachelor semestre 2': '249114',\n",
       "                          'Bachelor semestre 3': '942155',\n",
       "                          'Bachelor semestre 4': '942163',\n",
       "                          'Bachelor semestre 5': '942120',\n",
       "                          'Bachelor semestre 5b': '2226768',\n",
       "                          'Bachelor semestre 6': '942175',\n",
       "                          'Bachelor semestre 6b': '2226785',\n",
       "                          'Master semestre 1': '2230106',\n",
       "                          'Master semestre 2': '942192',\n",
       "                          'Master semestre 3': '2230128',\n",
       "                          'Master semestre 4': '2230140',\n",
       "                          'Mineur semestre 1': '2335667',\n",
       "                          'Mineur semestre 2': '2335676',\n",
       "                          'Mise à niveau': '2063602308',\n",
       "                          'Projet Master automne': '249127',\n",
       "                          'Projet Master printemps': '3781783',\n",
       "                          'Semestre automne': '953159',\n",
       "                          'Semestre printemps': '2754553',\n",
       "                          'Stage automne 3ème année': '953137',\n",
       "                          'Stage automne 4ème année': '2226616',\n",
       "                          'Stage printemps 3ème année': '983606',\n",
       "                          'Stage printemps 4ème année': '2226626',\n",
       "                          'Stage printemps master': '2227132'}),\n",
       "             'ww_x_UNITE_ACAD': defaultdict(list,\n",
       "                         {'Architecture': '942293',\n",
       "                          'Chimie et génie chimique': '246696',\n",
       "                          'Cours de mathématiques spéciales': '943282',\n",
       "                          'EME (EPFL Middle East)': '637841336',\n",
       "                          'Génie civil': '942623',\n",
       "                          'Génie mécanique': '944263',\n",
       "                          'Génie électrique et électronique ': '943936',\n",
       "                          'Humanités digitales': '2054839157',\n",
       "                          'Informatique': '249847',\n",
       "                          'Ingénierie financière': '120623110',\n",
       "                          'Management de la technologie': '946882',\n",
       "                          'Mathématiques': '944590',\n",
       "                          'Microtechnique': '945244',\n",
       "                          'Physique': '945571',\n",
       "                          'Science et génie des matériaux': '944917',\n",
       "                          \"Sciences et ingénierie de l'environnement\": '942953',\n",
       "                          'Sciences et technologies du vivant': '945901',\n",
       "                          'Section FCUE': '1574548993',\n",
       "                          'Systèmes de communication': '946228'})})"
      ]
     },
     "execution_count": 3,
     "metadata": {},
     "output_type": "execute_result"
    }
   ],
   "source": [
    "filters_page = rq.get(FILTER_URL) # Retrieving content of online form\n",
    "filters = bfs(filters_page.text, 'html.parser')\n",
    "selects = filters.findAll('select') # Filter the content by selecting the 'select' HTML tags\n",
    "\n",
    "available_params = collections.defaultdict(dict)\n",
    "\n",
    "for select in selects:    \n",
    "    options = collections.defaultdict(list)\n",
    "    \n",
    "    for option in select.findAll('option'):\n",
    "        if option.attrs['value'] != 'null':\n",
    "            options[option.text] = option.attrs['value']\n",
    "        \n",
    "    available_params[select.attrs['name']] = options\n",
    "  \n",
    "available_params"
   ]
  },
  {
   "cell_type": "markdown",
   "metadata": {},
   "source": [
    "### Making params names readable"
   ]
  },
  {
   "cell_type": "markdown",
   "metadata": {},
   "source": [
    "Even if we have all parameters, they are still not easy to read.\n",
    "\n",
    "In order to improve readability, we made the choice to directly check the source code of the HTML page and do the mapping as there are very few `select` boxes (i.e. it is faster than extracting the information directly with Python).\n",
    "\n",
    "Every constant represents a parameter name. In addition, we define a dictionary of default params used for all requests we will send."
   ]
  },
  {
   "cell_type": "code",
   "execution_count": 4,
   "metadata": {
    "collapsed": true
   },
   "outputs": [],
   "source": [
    "SECTION_PARAM = 'ww_x_UNITE_ACAD' # Example: 'Informatique' => Computer Sciences\n",
    "YEAR_PARAM = 'ww_x_PERIODE_ACAD' # Example: '2016-2017'\n",
    "SEMESTER_PARAM = 'ww_x_PERIODE_PEDAGO' # Example: 'Bachelor semestre 1' => Bachelor semester 1\n",
    "TYPE_PARAM = 'ww_x_HIVERETE' # Example: 'Semestre d'automne' => Fall semester\n",
    "\n",
    "DEFAULT_PARAMS = {\n",
    "    'ww_x_GPS' : '-1',\n",
    "    'ww_i_reportModel' : '133685247',\n",
    "    'ww_i_reportModelXsl' : '133685270',\n",
    "}\n",
    "\n",
    "section_codes = available_params[SECTION_PARAM]\n",
    "year_codes = available_params[YEAR_PARAM]\n",
    "semester_codes = available_params[SEMESTER_PARAM]\n",
    "type_codes = available_params[TYPE_PARAM]"
   ]
  },
  {
   "cell_type": "markdown",
   "metadata": {},
   "source": [
    "## Fetching data"
   ]
  },
  {
   "cell_type": "markdown",
   "metadata": {},
   "source": [
    "Firstly, we make a function that returns a single DataFrame from the HTML table extracted from a requested page.\n",
    "\n",
    "We also try to get columns from table header. Note that in our case, all tables have two header rows ; the first one is the title of the table and the second one is the column name.\n",
    "\n",
    "Then, we fetch all rows to convert them into a single Serie (list of column values in this row).\n",
    "\n",
    "Finally, we combine columns' names and series in a new DataFrame."
   ]
  },
  {
   "cell_type": "code",
   "execution_count": 5,
   "metadata": {
    "collapsed": true
   },
   "outputs": [],
   "source": [
    "def html_page_to_dataframe(page):\n",
    "    '''\n",
    "    This functions converts a HTML table (of a given HTML page 'page' passed as parameter) to a pandas DataFrame.\n",
    "    '''\n",
    "    soup = bfs(page.text, 'html.parser')\n",
    "    table = soup.find('table')\n",
    "    \n",
    "    # Retrieving columns' names, skip the first column that shows the section and year\n",
    "    columns = [column.text for column in table.find_all('th')[1:]]\n",
    "    \n",
    "    series = []\n",
    "    \n",
    "    # Fetching all rows and store them in a Serie, skip the two first rows that represent header\n",
    "    for row in table.find_all('tr')[2:]:\n",
    "        serie = []\n",
    "        \n",
    "        # Fetching all columns, skip the last one that is not in the header (badly structered html table)\n",
    "        for col in row.find_all('td')[:-1]:\n",
    "            serie.append(col.text)\n",
    "        series.append(serie)\n",
    "\n",
    "    # Creating a dataframe from the columns and series' variables\n",
    "    df = pd.DataFrame(series)\n",
    "    df.columns = columns\n",
    "    \n",
    "    return df"
   ]
  },
  {
   "cell_type": "markdown",
   "metadata": {},
   "source": [
    "Now, we are able to request an IS-Academia page containing the data tables of students in a specific section, year and semester.\n",
    "\n",
    "<b>Important note: We choose to store all data to prevent doing multiple requests to IS-Academia server. To do so, we use pickle to serialize all data. Make sure python has full read/write access in the folder containing the current Notebook.</b>"
   ]
  },
  {
   "cell_type": "code",
   "execution_count": 6,
   "metadata": {
    "collapsed": false,
    "scrolled": true
   },
   "outputs": [
    {
     "name": "stdout",
     "output_type": "stream",
     "text": [
      "Start fetching data from http://isa.epfl.ch/imoniteur_ISAP/!GEDPUBLICREPORTS.html\n",
      "\tFetching data for 2015-2016 Master semestre 2\t: Already stored in Data/2015-2016 Master semestre 2\n",
      "\tFetching data for 2015-2016 Bachelor semestre 3\t: Already stored in Data/2015-2016 Bachelor semestre 3\n",
      "\tFetching data for 2015-2016 Bachelor semestre 4\t: Already stored in Data/2015-2016 Bachelor semestre 4\n",
      "\tFetching data for 2015-2016 Bachelor semestre 6\t: Already stored in Data/2015-2016 Bachelor semestre 6\n",
      "\tFetching data for 2015-2016 Bachelor semestre 5\t: Already stored in Data/2015-2016 Bachelor semestre 5\n",
      "\tFetching data for 2015-2016 Bachelor semestre 5b\t: No data\n",
      "\tFetching data for 2015-2016 Master semestre 4\t: No data\n",
      "\tFetching data for 2015-2016 Projet Master automne\t: Already stored in Data/2015-2016 Projet Master automne\n",
      "\tFetching data for 2015-2016 Bachelor semestre 2\t: Already stored in Data/2015-2016 Bachelor semestre 2\n",
      "\tFetching data for 2015-2016 Bachelor semestre 1\t: Already stored in Data/2015-2016 Bachelor semestre 1\n",
      "\tFetching data for 2015-2016 Bachelor semestre 6b\t: No data\n",
      "\tFetching data for 2015-2016 Master semestre 1\t: Already stored in Data/2015-2016 Master semestre 1\n",
      "\tFetching data for 2015-2016 Projet Master printemps\t: No data\n",
      "\tFetching data for 2015-2016 Master semestre 3\t: Already stored in Data/2015-2016 Master semestre 3\n",
      "\tFetching data for 2016-2017 Master semestre 2\t: Already stored in Data/2016-2017 Master semestre 2\n",
      "\tFetching data for 2016-2017 Bachelor semestre 3\t: Already stored in Data/2016-2017 Bachelor semestre 3\n",
      "\tFetching data for 2016-2017 Bachelor semestre 4\t: Already stored in Data/2016-2017 Bachelor semestre 4\n",
      "\tFetching data for 2016-2017 Bachelor semestre 6\t: Already stored in Data/2016-2017 Bachelor semestre 6\n",
      "\tFetching data for 2016-2017 Bachelor semestre 5\t: Already stored in Data/2016-2017 Bachelor semestre 5\n",
      "\tFetching data for 2016-2017 Bachelor semestre 5b\t: No data\n",
      "\tFetching data for 2016-2017 Master semestre 4\t: No data\n",
      "\tFetching data for 2016-2017 Projet Master automne\t: Already stored in Data/2016-2017 Projet Master automne\n",
      "\tFetching data for 2016-2017 Bachelor semestre 2\t: Already stored in Data/2016-2017 Bachelor semestre 2\n",
      "\tFetching data for 2016-2017 Bachelor semestre 1\t: Already stored in Data/2016-2017 Bachelor semestre 1\n",
      "\tFetching data for 2016-2017 Bachelor semestre 6b\t: No data\n",
      "\tFetching data for 2016-2017 Master semestre 1\t: Already stored in Data/2016-2017 Master semestre 1\n",
      "\tFetching data for 2016-2017 Projet Master printemps\t: No data\n",
      "\tFetching data for 2016-2017 Master semestre 3\t: Already stored in Data/2016-2017 Master semestre 3\n",
      "\tFetching data for 2011-2012 Master semestre 2\t: Already stored in Data/2011-2012 Master semestre 2\n",
      "\tFetching data for 2011-2012 Bachelor semestre 3\t: Already stored in Data/2011-2012 Bachelor semestre 3\n",
      "\tFetching data for 2011-2012 Bachelor semestre 4\t: Already stored in Data/2011-2012 Bachelor semestre 4\n",
      "\tFetching data for 2011-2012 Bachelor semestre 6\t: Already stored in Data/2011-2012 Bachelor semestre 6\n",
      "\tFetching data for 2011-2012 Bachelor semestre 5\t: Already stored in Data/2011-2012 Bachelor semestre 5\n",
      "\tFetching data for 2011-2012 Bachelor semestre 5b\t: No data\n",
      "\tFetching data for 2011-2012 Master semestre 4\t: No data\n",
      "\tFetching data for 2011-2012 Projet Master automne\t: Already stored in Data/2011-2012 Projet Master automne\n",
      "\tFetching data for 2011-2012 Bachelor semestre 2\t: Already stored in Data/2011-2012 Bachelor semestre 2\n",
      "\tFetching data for 2011-2012 Bachelor semestre 1\t: Already stored in Data/2011-2012 Bachelor semestre 1\n",
      "\tFetching data for 2011-2012 Bachelor semestre 6b\t: No data\n",
      "\tFetching data for 2011-2012 Master semestre 1\t: Already stored in Data/2011-2012 Master semestre 1\n",
      "\tFetching data for 2011-2012 Projet Master printemps\t: Already stored in Data/2011-2012 Projet Master printemps\n",
      "\tFetching data for 2011-2012 Master semestre 3\t: Already stored in Data/2011-2012 Master semestre 3\n",
      "\tFetching data for 2012-2013 Master semestre 2\t: Already stored in Data/2012-2013 Master semestre 2\n",
      "\tFetching data for 2012-2013 Bachelor semestre 3\t: Already stored in Data/2012-2013 Bachelor semestre 3\n",
      "\tFetching data for 2012-2013 Bachelor semestre 4\t: Already stored in Data/2012-2013 Bachelor semestre 4\n",
      "\tFetching data for 2012-2013 Bachelor semestre 6\t: Already stored in Data/2012-2013 Bachelor semestre 6\n",
      "\tFetching data for 2012-2013 Bachelor semestre 5\t: Already stored in Data/2012-2013 Bachelor semestre 5\n",
      "\tFetching data for 2012-2013 Bachelor semestre 5b\t: No data\n",
      "\tFetching data for 2012-2013 Master semestre 4\t: No data\n",
      "\tFetching data for 2012-2013 Projet Master automne\t: Already stored in Data/2012-2013 Projet Master automne\n",
      "\tFetching data for 2012-2013 Bachelor semestre 2\t: Already stored in Data/2012-2013 Bachelor semestre 2\n",
      "\tFetching data for 2012-2013 Bachelor semestre 1\t: Already stored in Data/2012-2013 Bachelor semestre 1\n",
      "\tFetching data for 2012-2013 Bachelor semestre 6b\t: No data\n",
      "\tFetching data for 2012-2013 Master semestre 1\t: Already stored in Data/2012-2013 Master semestre 1\n",
      "\tFetching data for 2012-2013 Projet Master printemps\t: Already stored in Data/2012-2013 Projet Master printemps\n",
      "\tFetching data for 2012-2013 Master semestre 3\t: Already stored in Data/2012-2013 Master semestre 3\n",
      "\tFetching data for 2010-2011 Master semestre 2\t: Already stored in Data/2010-2011 Master semestre 2\n",
      "\tFetching data for 2010-2011 Bachelor semestre 3\t: Already stored in Data/2010-2011 Bachelor semestre 3\n",
      "\tFetching data for 2010-2011 Bachelor semestre 4\t: Already stored in Data/2010-2011 Bachelor semestre 4\n",
      "\tFetching data for 2010-2011 Bachelor semestre 6\t: Already stored in Data/2010-2011 Bachelor semestre 6\n",
      "\tFetching data for 2010-2011 Bachelor semestre 5\t: Already stored in Data/2010-2011 Bachelor semestre 5\n",
      "\tFetching data for 2010-2011 Bachelor semestre 5b\t: No data\n",
      "\tFetching data for 2010-2011 Master semestre 4\t: No data\n",
      "\tFetching data for 2010-2011 Projet Master automne\t: Already stored in Data/2010-2011 Projet Master automne\n",
      "\tFetching data for 2010-2011 Bachelor semestre 2\t: Already stored in Data/2010-2011 Bachelor semestre 2\n",
      "\tFetching data for 2010-2011 Bachelor semestre 1\t: Already stored in Data/2010-2011 Bachelor semestre 1\n",
      "\tFetching data for 2010-2011 Bachelor semestre 6b\t: No data\n",
      "\tFetching data for 2010-2011 Master semestre 1\t: Already stored in Data/2010-2011 Master semestre 1\n",
      "\tFetching data for 2010-2011 Projet Master printemps\t: Already stored in Data/2010-2011 Projet Master printemps\n",
      "\tFetching data for 2010-2011 Master semestre 3\t: Already stored in Data/2010-2011 Master semestre 3\n",
      "\tFetching data for 2008-2009 Master semestre 2\t: Already stored in Data/2008-2009 Master semestre 2\n",
      "\tFetching data for 2008-2009 Bachelor semestre 3\t: Unable to get data from http://isa.epfl.ch/imoniteur_ISAP/!GEDPUBLICREPORTS.html with following params:\n",
      "\t\tww_x_PERIODE_ACAD: 978187\n",
      "\t\tww_x_PERIODE_PEDAGO: 942155\n",
      "\t\tww_x_UNITE_ACAD: 249847\n",
      "\t\tww_x_GPS: -1\n",
      "\t\tww_x_HIVERETE: null\n",
      "\t\tww_i_reportModelXsl: 133685270\n",
      "\t\tww_i_reportModel: 133685247\n",
      "\tFetching data for 2007-2008 Master semestre 2\t: Already stored in Data/2007-2008 Master semestre 2\n",
      "\tFetching data for 2007-2008 Bachelor semestre 3\t: Unable to get data from http://isa.epfl.ch/imoniteur_ISAP/!GEDPUBLICREPORTS.html with following params:\n",
      "\t\tww_x_PERIODE_ACAD: 978181\n",
      "\t\tww_x_PERIODE_PEDAGO: 942155\n",
      "\t\tww_x_UNITE_ACAD: 249847\n",
      "\t\tww_x_GPS: -1\n",
      "\t\tww_x_HIVERETE: null\n",
      "\t\tww_i_reportModelXsl: 133685270\n",
      "\t\tww_i_reportModel: 133685247\n",
      "\tFetching data for 2014-2015 Master semestre 2\t: Already stored in Data/2014-2015 Master semestre 2\n",
      "\tFetching data for 2014-2015 Bachelor semestre 3\t: Already stored in Data/2014-2015 Bachelor semestre 3\n",
      "\tFetching data for 2014-2015 Bachelor semestre 4\t: Already stored in Data/2014-2015 Bachelor semestre 4\n",
      "\tFetching data for 2014-2015 Bachelor semestre 6\t: Already stored in Data/2014-2015 Bachelor semestre 6\n",
      "\tFetching data for 2014-2015 Bachelor semestre 5\t: Already stored in Data/2014-2015 Bachelor semestre 5\n",
      "\tFetching data for 2014-2015 Bachelor semestre 5b\t: No data\n",
      "\tFetching data for 2014-2015 Master semestre 4\t: No data\n",
      "\tFetching data for 2014-2015 Projet Master automne\t: Already stored in Data/2014-2015 Projet Master automne\n",
      "\tFetching data for 2014-2015 Bachelor semestre 2\t: Already stored in Data/2014-2015 Bachelor semestre 2\n",
      "\tFetching data for 2014-2015 Bachelor semestre 1\t: Already stored in Data/2014-2015 Bachelor semestre 1\n",
      "\tFetching data for 2014-2015 Bachelor semestre 6b\t: No data\n",
      "\tFetching data for 2014-2015 Master semestre 1\t: Already stored in Data/2014-2015 Master semestre 1\n",
      "\tFetching data for 2014-2015 Projet Master printemps\t: No data\n",
      "\tFetching data for 2014-2015 Master semestre 3\t: Already stored in Data/2014-2015 Master semestre 3\n",
      "\tFetching data for 2013-2014 Master semestre 2\t: Already stored in Data/2013-2014 Master semestre 2\n",
      "\tFetching data for 2013-2014 Bachelor semestre 3\t: Already stored in Data/2013-2014 Bachelor semestre 3\n",
      "\tFetching data for 2013-2014 Bachelor semestre 4\t: Already stored in Data/2013-2014 Bachelor semestre 4\n",
      "\tFetching data for 2013-2014 Bachelor semestre 6\t: Already stored in Data/2013-2014 Bachelor semestre 6\n",
      "\tFetching data for 2013-2014 Bachelor semestre 5\t: Already stored in Data/2013-2014 Bachelor semestre 5\n",
      "\tFetching data for 2013-2014 Bachelor semestre 5b\t: No data\n",
      "\tFetching data for 2013-2014 Master semestre 4\t: No data\n",
      "\tFetching data for 2013-2014 Projet Master automne\t: Already stored in Data/2013-2014 Projet Master automne\n",
      "\tFetching data for 2013-2014 Bachelor semestre 2\t: Already stored in Data/2013-2014 Bachelor semestre 2\n",
      "\tFetching data for 2013-2014 Bachelor semestre 1\t: Already stored in Data/2013-2014 Bachelor semestre 1\n",
      "\tFetching data for 2013-2014 Bachelor semestre 6b\t: No data\n",
      "\tFetching data for 2013-2014 Master semestre 1\t: Already stored in Data/2013-2014 Master semestre 1\n",
      "\tFetching data for 2013-2014 Projet Master printemps\t: Already stored in Data/2013-2014 Projet Master printemps\n",
      "\tFetching data for 2013-2014 Master semestre 3\t: Already stored in Data/2013-2014 Master semestre 3\n",
      "\tFetching data for 2009-2010 Master semestre 2\t: Already stored in Data/2009-2010 Master semestre 2\n",
      "\tFetching data for 2009-2010 Bachelor semestre 3\t: Already stored in Data/2009-2010 Bachelor semestre 3\n",
      "\tFetching data for 2009-2010 Bachelor semestre 4\t: Already stored in Data/2009-2010 Bachelor semestre 4\n",
      "\tFetching data for 2009-2010 Bachelor semestre 6\t: Already stored in Data/2009-2010 Bachelor semestre 6\n",
      "\tFetching data for 2009-2010 Bachelor semestre 5\t: Already stored in Data/2009-2010 Bachelor semestre 5\n",
      "\tFetching data for 2009-2010 Bachelor semestre 5b\t: No data\n",
      "\tFetching data for 2009-2010 Master semestre 4\t: No data\n",
      "\tFetching data for 2009-2010 Projet Master automne\t: Already stored in Data/2009-2010 Projet Master automne\n",
      "\tFetching data for 2009-2010 Bachelor semestre 2\t: Already stored in Data/2009-2010 Bachelor semestre 2\n",
      "\tFetching data for 2009-2010 Bachelor semestre 1\t: Already stored in Data/2009-2010 Bachelor semestre 1\n",
      "\tFetching data for 2009-2010 Bachelor semestre 6b\t: No data\n",
      "\tFetching data for 2009-2010 Master semestre 1\t: Already stored in Data/2009-2010 Master semestre 1\n",
      "\tFetching data for 2009-2010 Projet Master printemps\t: Already stored in Data/2009-2010 Projet Master printemps\n",
      "\tFetching data for 2009-2010 Master semestre 3\t: Already stored in Data/2009-2010 Master semestre 3\n",
      "Fetching data done. See Data/ folder.\n"
     ]
    }
   ],
   "source": [
    "# We first create the directory Data if it not exists\n",
    "if not os.path.exists('Data'):\n",
    "    os.makedirs(DATA_FOLDER)\n",
    "\n",
    "# We focus only on data of students in Bachelor and Master\n",
    "bachelor_master_semester_codes = {}\n",
    "for section_name in semester_codes:\n",
    "    if section_name.startswith('Bachelor semestre') or section_name.startswith('Master semestre') or section_name.startswith('Projet Master'):\n",
    "            bachelor_master_semester_codes[section_name] = semester_codes[section_name]\n",
    "\n",
    "print('Start fetching data from ' + DATA_URL)\n",
    "\n",
    "# For each available codes in the year select box\n",
    "for year_name, year_code in year_codes.items():\n",
    "\n",
    "    # For each codes from Master and Bachelor sections\n",
    "    for semester_name, semester_code in bachelor_master_semester_codes.items():\n",
    "        \n",
    "        print('\\tFetching data for ' + year_name + ' ' + semester_name + '\\t: ', end=\"\", flush=True)\n",
    "\n",
    "        file_path = DATA_FOLDER + year_name + ' ' + semester_name\n",
    "        \n",
    "        # If the file already exists, we do nothing\n",
    "        if not os.path.exists(file_path):\n",
    "            \n",
    "            # Definition of set of params used for the next request to be sent\n",
    "            params = {\n",
    "                SECTION_PARAM : section_codes['Informatique'],\n",
    "                YEAR_PARAM : year_code,\n",
    "                SEMESTER_PARAM : semester_code,\n",
    "                TYPE_PARAM : 'null',\n",
    "                **DEFAULT_PARAMS\n",
    "            }\n",
    "\n",
    "            try:\n",
    "                # We get a DataFrame from HTML table\n",
    "                data = html_page_to_dataframe(rq.get(DATA_URL, params))\n",
    "\n",
    "                if data.empty:\n",
    "                    print('No data')\n",
    "                    \n",
    "                else:\n",
    "                    # We store data in binary file with pickle in the Data folder\n",
    "                    data.to_pickle(file_path)\n",
    "                    print('Stored in ' + file_path)\n",
    "\n",
    "            except ValueError:\n",
    "                print('Unable to get data from ' + DATA_URL + ' with following params:')\n",
    "                for key, value in params.items():\n",
    "                    print('\\t\\t' + key + ': ' + value)\n",
    "                break\n",
    "\n",
    "        else:\n",
    "            print('Already stored in ' + file_path)\n",
    "\n",
    "print('Fetching data done. See ' + DATA_FOLDER + ' folder.')"
   ]
  },
  {
   "cell_type": "markdown",
   "metadata": {},
   "source": [
    "> Note: A problem has been detected with \"2008-2009 Bachelor semestre 3\" and \"2007-2008 Bachelor semestre 3\" options ; multiple table were found (two entries instead of one). As we have only two errors, we don't do anything at this time. If we need these data, we will do the request manually."
   ]
  },
  {
   "cell_type": "markdown",
   "metadata": {},
   "source": [
    "### Analysing Bachelor data\n",
    "\n",
    "We can notice that the data related to students in Bachelor 5b and Bachelor 6b are empty in Computer Science section.\n",
    "\n",
    "From now, we assume the following assumptions:\n",
    " - 1) a bachelor student starts at the semester 1 and finishes at the semester 6 or 5 (in case of the student has failed the semester 5 but not the semester6);\n",
    " - 2) a semester lasts 6 months;\n",
    " - 3) odd semesters correspond to the fall period and even semesters correspond to the spring semesters.\n",
    " \n",
    "So, we need to get relevant data (regarding the assumptions) from files and concat them together in a single DataFrame.\n",
    "\n",
    "We firstly concat every data of one section in a DataFrame like this:"
   ]
  },
  {
   "cell_type": "code",
   "execution_count": 7,
   "metadata": {
    "collapsed": false
   },
   "outputs": [],
   "source": [
    "def retrieve_dataframes(semester_codes, extra_compute, data_folder=DATA_FOLDER):\n",
    "    '''\n",
    "    This function retrieves data from files and returns a table of DataFrames for every given section.\n",
    "    \n",
    "    Parameters:\n",
    "        semester_codes: dict (section name : section code) that the function will retrieve\n",
    "        extra_compute: extra function executed for every year of a specific section (params: data for this year, semester name and year name)\n",
    "        data_folder: the data folder where data is stored (by default DATA_FOLDER constant)\n",
    "    '''\n",
    "    # Variable contains a list of DataFrames associated to a semester_name\n",
    "    dataframes = collections.defaultdict(pd.DataFrame)\n",
    "\n",
    "    for semester_name, semester_code in semester_codes.items():\n",
    "\n",
    "        print('Compute for ' + semester_name)\n",
    "\n",
    "        # Variable contains a list of DataFrames related to a specific semester\n",
    "        for year_name, year_code in year_codes.items():\n",
    "\n",
    "            file_path = data_folder + year_name + ' ' + semester_name\n",
    "\n",
    "            if os.path.exists(file_path):\n",
    "\n",
    "                # We get a DataFrame from a HTML table\n",
    "                data_per_year = pd.read_pickle(file_path)\n",
    "\n",
    "                extra_compute(data_per_year, semester_name, year_name)\n",
    "\n",
    "                # We add the result to the initial DataFrame\n",
    "                dataframes[semester_name] =  pd.concat([dataframes[semester_name], data_per_year])\n",
    "                \n",
    "    return dataframes"
   ]
  },
  {
   "cell_type": "code",
   "execution_count": 8,
   "metadata": {
    "collapsed": false
   },
   "outputs": [
    {
     "name": "stdout",
     "output_type": "stream",
     "text": [
      "Compute for Bachelor semestre 1\n",
      "Compute for Bachelor semestre 5\n",
      "Compute for Bachelor semestre 6\n"
     ]
    }
   ],
   "source": [
    "# We only select semesters 1, 5, 6 in Bachelor section\n",
    "bachelor_semester_codes = {}\n",
    "for section_name in semester_codes:\n",
    "    if section_name.startswith('Bachelor semestre') and section_name.endswith(tuple(['1', '5', '6'])):\n",
    "        bachelor_semester_codes[section_name] = semester_codes[section_name]\n",
    "\n",
    "# This is the 'extra_compute' function given to the previous function\n",
    "def bachelor_append_year(data_per_year, semester_name, year_name):\n",
    "    '''\n",
    "    This function appends a column with the beginning date of the considered semester.\n",
    "    By convention: for odd semesters, beginning date is 08/01. For even semesters, it is 02/01.\n",
    "    '''\n",
    "    if semester_name.endswith('1') or semester_name.endswith('5'):\n",
    "        begin_date = year_name.split('-')[0] + '-08-01'\n",
    "    else:\n",
    "        begin_date = year_name.split('-')[1] + '-02-01'\n",
    "    data_per_year[semester_name] = pd.to_datetime(begin_date) \n",
    "\n",
    "bachelor_dataframes = retrieve_dataframes(bachelor_semester_codes, bachelor_append_year)"
   ]
  },
  {
   "cell_type": "markdown",
   "metadata": {
    "collapsed": true
   },
   "source": [
    "## Visualising and cleaning data"
   ]
  },
  {
   "cell_type": "markdown",
   "metadata": {},
   "source": [
    "Now, we can try to visualise and clean data. Let's display of DataFrame corresponding to 'Bachelor semestre 1', 'Bachelor semestre 5' and 'Bachelor semestre 6' to have an idea of which kind of data we will manipulate."
   ]
  },
  {
   "cell_type": "code",
   "execution_count": 9,
   "metadata": {
    "collapsed": false,
    "scrolled": true
   },
   "outputs": [
    {
     "data": {
      "text/html": [
       "<div>\n",
       "<table border=\"1\" class=\"dataframe\">\n",
       "  <thead>\n",
       "    <tr style=\"text-align: right;\">\n",
       "      <th></th>\n",
       "      <th>Civilité</th>\n",
       "      <th>Nom Prénom</th>\n",
       "      <th>Orientation Bachelor</th>\n",
       "      <th>Orientation Master</th>\n",
       "      <th>Spécialisation</th>\n",
       "      <th>Filière opt.</th>\n",
       "      <th>Mineur</th>\n",
       "      <th>Statut</th>\n",
       "      <th>Type Echange</th>\n",
       "      <th>Ecole Echange</th>\n",
       "      <th>No Sciper</th>\n",
       "      <th>Bachelor semestre 1</th>\n",
       "    </tr>\n",
       "  </thead>\n",
       "  <tbody>\n",
       "    <tr>\n",
       "      <th>0</th>\n",
       "      <td>Monsieur</td>\n",
       "      <td>Abbey Alexandre</td>\n",
       "      <td></td>\n",
       "      <td></td>\n",
       "      <td></td>\n",
       "      <td></td>\n",
       "      <td></td>\n",
       "      <td>Présent</td>\n",
       "      <td></td>\n",
       "      <td></td>\n",
       "      <td>235688</td>\n",
       "      <td>2015-08-01</td>\n",
       "    </tr>\n",
       "    <tr>\n",
       "      <th>1</th>\n",
       "      <td>Madame</td>\n",
       "      <td>Abboud Magaly</td>\n",
       "      <td></td>\n",
       "      <td></td>\n",
       "      <td></td>\n",
       "      <td></td>\n",
       "      <td></td>\n",
       "      <td>Présent</td>\n",
       "      <td></td>\n",
       "      <td></td>\n",
       "      <td>249344</td>\n",
       "      <td>2015-08-01</td>\n",
       "    </tr>\n",
       "    <tr>\n",
       "      <th>2</th>\n",
       "      <td>Monsieur</td>\n",
       "      <td>Ahmed Fares</td>\n",
       "      <td></td>\n",
       "      <td></td>\n",
       "      <td></td>\n",
       "      <td></td>\n",
       "      <td></td>\n",
       "      <td>Présent</td>\n",
       "      <td></td>\n",
       "      <td></td>\n",
       "      <td>246443</td>\n",
       "      <td>2015-08-01</td>\n",
       "    </tr>\n",
       "    <tr>\n",
       "      <th>3</th>\n",
       "      <td>Monsieur</td>\n",
       "      <td>Alder Jean-Marie René</td>\n",
       "      <td></td>\n",
       "      <td></td>\n",
       "      <td></td>\n",
       "      <td></td>\n",
       "      <td></td>\n",
       "      <td>Présent</td>\n",
       "      <td></td>\n",
       "      <td></td>\n",
       "      <td>259105</td>\n",
       "      <td>2015-08-01</td>\n",
       "    </tr>\n",
       "    <tr>\n",
       "      <th>4</th>\n",
       "      <td>Madame</td>\n",
       "      <td>Amirthalingam Ajantha</td>\n",
       "      <td></td>\n",
       "      <td></td>\n",
       "      <td></td>\n",
       "      <td></td>\n",
       "      <td></td>\n",
       "      <td>Présent</td>\n",
       "      <td></td>\n",
       "      <td></td>\n",
       "      <td>262227</td>\n",
       "      <td>2015-08-01</td>\n",
       "    </tr>\n",
       "  </tbody>\n",
       "</table>\n",
       "</div>"
      ],
      "text/plain": [
       "   Civilité             Nom Prénom Orientation Bachelor Orientation Master  \\\n",
       "0  Monsieur        Abbey Alexandre                                           \n",
       "1    Madame          Abboud Magaly                                           \n",
       "2  Monsieur            Ahmed Fares                                           \n",
       "3  Monsieur  Alder Jean-Marie René                                           \n",
       "4    Madame  Amirthalingam Ajantha                                           \n",
       "\n",
       "  Spécialisation Filière opt. Mineur   Statut Type Echange Ecole Echange  \\\n",
       "0                                     Présent                              \n",
       "1                                     Présent                              \n",
       "2                                     Présent                              \n",
       "3                                     Présent                              \n",
       "4                                     Présent                              \n",
       "\n",
       "  No Sciper Bachelor semestre 1  \n",
       "0    235688          2015-08-01  \n",
       "1    249344          2015-08-01  \n",
       "2    246443          2015-08-01  \n",
       "3    259105          2015-08-01  \n",
       "4    262227          2015-08-01  "
      ]
     },
     "execution_count": 9,
     "metadata": {},
     "output_type": "execute_result"
    }
   ],
   "source": [
    "bachelor_data_semester1 = bachelor_dataframes['Bachelor semestre 1'].copy()\n",
    "bachelor_data_semester1.head()"
   ]
  },
  {
   "cell_type": "code",
   "execution_count": 10,
   "metadata": {
    "collapsed": false
   },
   "outputs": [
    {
     "data": {
      "text/html": [
       "<div>\n",
       "<table border=\"1\" class=\"dataframe\">\n",
       "  <thead>\n",
       "    <tr style=\"text-align: right;\">\n",
       "      <th></th>\n",
       "      <th>Civilité</th>\n",
       "      <th>Nom Prénom</th>\n",
       "      <th>Orientation Bachelor</th>\n",
       "      <th>Orientation Master</th>\n",
       "      <th>Spécialisation</th>\n",
       "      <th>Filière opt.</th>\n",
       "      <th>Mineur</th>\n",
       "      <th>Statut</th>\n",
       "      <th>Type Echange</th>\n",
       "      <th>Ecole Echange</th>\n",
       "      <th>No Sciper</th>\n",
       "      <th>Bachelor semestre 5</th>\n",
       "    </tr>\n",
       "  </thead>\n",
       "  <tbody>\n",
       "    <tr>\n",
       "      <th>0</th>\n",
       "      <td>Monsieur</td>\n",
       "      <td>Aiulfi Loris Sandro</td>\n",
       "      <td></td>\n",
       "      <td></td>\n",
       "      <td></td>\n",
       "      <td></td>\n",
       "      <td></td>\n",
       "      <td>Congé</td>\n",
       "      <td></td>\n",
       "      <td></td>\n",
       "      <td>202293</td>\n",
       "      <td>2015-08-01</td>\n",
       "    </tr>\n",
       "    <tr>\n",
       "      <th>1</th>\n",
       "      <td>Monsieur</td>\n",
       "      <td>Alfonso Peterssen Alfonso</td>\n",
       "      <td></td>\n",
       "      <td></td>\n",
       "      <td></td>\n",
       "      <td>6 - Visual computing</td>\n",
       "      <td></td>\n",
       "      <td>Présent</td>\n",
       "      <td></td>\n",
       "      <td></td>\n",
       "      <td>228219</td>\n",
       "      <td>2015-08-01</td>\n",
       "    </tr>\n",
       "    <tr>\n",
       "      <th>2</th>\n",
       "      <td>Monsieur</td>\n",
       "      <td>Alonso Seisdedos Florian</td>\n",
       "      <td></td>\n",
       "      <td></td>\n",
       "      <td></td>\n",
       "      <td></td>\n",
       "      <td></td>\n",
       "      <td>Présent</td>\n",
       "      <td></td>\n",
       "      <td></td>\n",
       "      <td>215576</td>\n",
       "      <td>2015-08-01</td>\n",
       "    </tr>\n",
       "    <tr>\n",
       "      <th>3</th>\n",
       "      <td>Monsieur</td>\n",
       "      <td>Angerand Grégoire Georges Jacques</td>\n",
       "      <td></td>\n",
       "      <td></td>\n",
       "      <td></td>\n",
       "      <td></td>\n",
       "      <td></td>\n",
       "      <td>Présent</td>\n",
       "      <td></td>\n",
       "      <td></td>\n",
       "      <td>212464</td>\n",
       "      <td>2015-08-01</td>\n",
       "    </tr>\n",
       "    <tr>\n",
       "      <th>4</th>\n",
       "      <td>Monsieur</td>\n",
       "      <td>Anongba Varela Dario Abougnan</td>\n",
       "      <td></td>\n",
       "      <td></td>\n",
       "      <td></td>\n",
       "      <td>7 - Biocomputing</td>\n",
       "      <td></td>\n",
       "      <td>Présent</td>\n",
       "      <td></td>\n",
       "      <td></td>\n",
       "      <td>226371</td>\n",
       "      <td>2015-08-01</td>\n",
       "    </tr>\n",
       "  </tbody>\n",
       "</table>\n",
       "</div>"
      ],
      "text/plain": [
       "   Civilité                         Nom Prénom Orientation Bachelor  \\\n",
       "0  Monsieur                Aiulfi Loris Sandro                        \n",
       "1  Monsieur          Alfonso Peterssen Alfonso                        \n",
       "2  Monsieur           Alonso Seisdedos Florian                        \n",
       "3  Monsieur  Angerand Grégoire Georges Jacques                        \n",
       "4  Monsieur      Anongba Varela Dario Abougnan                        \n",
       "\n",
       "  Orientation Master Spécialisation          Filière opt. Mineur   Statut  \\\n",
       "0                                                                   Congé   \n",
       "1                                    6 - Visual computing         Présent   \n",
       "2                                                                 Présent   \n",
       "3                                                                 Présent   \n",
       "4                                        7 - Biocomputing         Présent   \n",
       "\n",
       "  Type Echange Ecole Echange No Sciper Bachelor semestre 5  \n",
       "0                               202293          2015-08-01  \n",
       "1                               228219          2015-08-01  \n",
       "2                               215576          2015-08-01  \n",
       "3                               212464          2015-08-01  \n",
       "4                               226371          2015-08-01  "
      ]
     },
     "execution_count": 10,
     "metadata": {},
     "output_type": "execute_result"
    }
   ],
   "source": [
    "bachelor_data_semester5 = bachelor_dataframes['Bachelor semestre 5'].copy()\n",
    "bachelor_data_semester5.head()"
   ]
  },
  {
   "cell_type": "code",
   "execution_count": 11,
   "metadata": {
    "collapsed": false
   },
   "outputs": [
    {
     "data": {
      "text/html": [
       "<div>\n",
       "<table border=\"1\" class=\"dataframe\">\n",
       "  <thead>\n",
       "    <tr style=\"text-align: right;\">\n",
       "      <th></th>\n",
       "      <th>Civilité</th>\n",
       "      <th>Nom Prénom</th>\n",
       "      <th>Orientation Bachelor</th>\n",
       "      <th>Orientation Master</th>\n",
       "      <th>Spécialisation</th>\n",
       "      <th>Filière opt.</th>\n",
       "      <th>Mineur</th>\n",
       "      <th>Statut</th>\n",
       "      <th>Type Echange</th>\n",
       "      <th>Ecole Echange</th>\n",
       "      <th>No Sciper</th>\n",
       "      <th>Bachelor semestre 6</th>\n",
       "    </tr>\n",
       "  </thead>\n",
       "  <tbody>\n",
       "    <tr>\n",
       "      <th>0</th>\n",
       "      <td>Monsieur</td>\n",
       "      <td>Aiulfi Loris Sandro</td>\n",
       "      <td></td>\n",
       "      <td></td>\n",
       "      <td></td>\n",
       "      <td></td>\n",
       "      <td></td>\n",
       "      <td>Congé</td>\n",
       "      <td></td>\n",
       "      <td></td>\n",
       "      <td>202293</td>\n",
       "      <td>2016-02-01</td>\n",
       "    </tr>\n",
       "    <tr>\n",
       "      <th>1</th>\n",
       "      <td>Monsieur</td>\n",
       "      <td>Alfonso Peterssen Alfonso</td>\n",
       "      <td></td>\n",
       "      <td></td>\n",
       "      <td></td>\n",
       "      <td>6 - Visual computing</td>\n",
       "      <td></td>\n",
       "      <td>Présent</td>\n",
       "      <td></td>\n",
       "      <td></td>\n",
       "      <td>228219</td>\n",
       "      <td>2016-02-01</td>\n",
       "    </tr>\n",
       "    <tr>\n",
       "      <th>2</th>\n",
       "      <td>Monsieur</td>\n",
       "      <td>Alonso Seisdedos Florian</td>\n",
       "      <td></td>\n",
       "      <td></td>\n",
       "      <td></td>\n",
       "      <td></td>\n",
       "      <td></td>\n",
       "      <td>Présent</td>\n",
       "      <td></td>\n",
       "      <td></td>\n",
       "      <td>215576</td>\n",
       "      <td>2016-02-01</td>\n",
       "    </tr>\n",
       "    <tr>\n",
       "      <th>3</th>\n",
       "      <td>Monsieur</td>\n",
       "      <td>Angerand Grégoire Georges Jacques</td>\n",
       "      <td></td>\n",
       "      <td></td>\n",
       "      <td></td>\n",
       "      <td></td>\n",
       "      <td></td>\n",
       "      <td>Présent</td>\n",
       "      <td></td>\n",
       "      <td></td>\n",
       "      <td>212464</td>\n",
       "      <td>2016-02-01</td>\n",
       "    </tr>\n",
       "    <tr>\n",
       "      <th>4</th>\n",
       "      <td>Monsieur</td>\n",
       "      <td>Anongba Varela Dario Abougnan</td>\n",
       "      <td></td>\n",
       "      <td></td>\n",
       "      <td></td>\n",
       "      <td>6 - Visual computing</td>\n",
       "      <td></td>\n",
       "      <td>Présent</td>\n",
       "      <td></td>\n",
       "      <td></td>\n",
       "      <td>226371</td>\n",
       "      <td>2016-02-01</td>\n",
       "    </tr>\n",
       "  </tbody>\n",
       "</table>\n",
       "</div>"
      ],
      "text/plain": [
       "   Civilité                         Nom Prénom Orientation Bachelor  \\\n",
       "0  Monsieur                Aiulfi Loris Sandro                        \n",
       "1  Monsieur          Alfonso Peterssen Alfonso                        \n",
       "2  Monsieur           Alonso Seisdedos Florian                        \n",
       "3  Monsieur  Angerand Grégoire Georges Jacques                        \n",
       "4  Monsieur      Anongba Varela Dario Abougnan                        \n",
       "\n",
       "  Orientation Master Spécialisation          Filière opt. Mineur   Statut  \\\n",
       "0                                                                   Congé   \n",
       "1                                    6 - Visual computing         Présent   \n",
       "2                                                                 Présent   \n",
       "3                                                                 Présent   \n",
       "4                                    6 - Visual computing         Présent   \n",
       "\n",
       "  Type Echange Ecole Echange No Sciper Bachelor semestre 6  \n",
       "0                               202293          2016-02-01  \n",
       "1                               228219          2016-02-01  \n",
       "2                               215576          2016-02-01  \n",
       "3                               212464          2016-02-01  \n",
       "4                               226371          2016-02-01  "
      ]
     },
     "execution_count": 11,
     "metadata": {},
     "output_type": "execute_result"
    }
   ],
   "source": [
    "bachelor_data_semester6 = bachelor_dataframes['Bachelor semestre 6'].copy()\n",
    "bachelor_data_semester6.head()"
   ]
  },
  {
   "cell_type": "markdown",
   "metadata": {},
   "source": [
    "### About the student status"
   ]
  },
  {
   "cell_type": "markdown",
   "metadata": {},
   "source": [
    "We see a status column that shows if the student is present or not in the semester. This parameter can have a non-negligible impact on the result we want to compute:"
   ]
  },
  {
   "cell_type": "code",
   "execution_count": 12,
   "metadata": {
    "collapsed": false,
    "scrolled": true
   },
   "outputs": [
    {
     "data": {
      "text/plain": [
       "Présent    1713\n",
       "Congé         5\n",
       "Attente       1\n",
       "Name: Statut, dtype: int64"
      ]
     },
     "execution_count": 12,
     "metadata": {},
     "output_type": "execute_result"
    }
   ],
   "source": [
    "bachelor_data_semester1['Statut'].value_counts()"
   ]
  },
  {
   "cell_type": "code",
   "execution_count": 13,
   "metadata": {
    "collapsed": false
   },
   "outputs": [
    {
     "data": {
      "text/plain": [
       "Présent    745\n",
       "Congé      145\n",
       "Name: Statut, dtype: int64"
      ]
     },
     "execution_count": 13,
     "metadata": {},
     "output_type": "execute_result"
    }
   ],
   "source": [
    "bachelor_data_semester5['Statut'].value_counts()"
   ]
  },
  {
   "cell_type": "code",
   "execution_count": 14,
   "metadata": {
    "collapsed": false
   },
   "outputs": [
    {
     "data": {
      "text/plain": [
       "Présent    530\n",
       "Congé      133\n",
       "Attente      1\n",
       "Name: Statut, dtype: int64"
      ]
     },
     "execution_count": 14,
     "metadata": {},
     "output_type": "execute_result"
    }
   ],
   "source": [
    "bachelor_data_semester6['Statut'].value_counts()"
   ]
  },
  {
   "cell_type": "markdown",
   "metadata": {},
   "source": [
    "As we can see, there are some students who didn't attend the first or last semester. Also, there is one student in a waiting state (for semesters 1 and 6).\n",
    "\n",
    "<b>Important note: These data are not sufficient in order to check if a student registered in 'Bachelor semestre 6' has successfully achieved his bachelor degree or not (i.e. a student can be marked as \"Présent\" or \"Congé\" and in the same time can fail or success).</b>\n",
    "\n",
    "For this reason, we make new important assumptions:\n",
    " - 4) the earliest year of 'Bachelor semestre 1' stored in database corresponds to the beginning of a bachelor plan, regardless the status of the student ('Présent', 'Congé' or 'Attente');\n",
    " - 5) we consider that all students obtain their Bachelor degree regardless their status for the 'Bachelor semestre 1' and 'Bachelor semestre 6' (obviously, they have to be, at least, still present in 'Bachelor semestre 6').\n",
    " \n",
    " > Note: The fifth assumption is not mandatory here as we just want to know the average duration of a Bachelor study plan."
   ]
  },
  {
   "cell_type": "markdown",
   "metadata": {},
   "source": [
    "### Handling duplicate entries and making index"
   ]
  },
  {
   "cell_type": "markdown",
   "metadata": {},
   "source": [
    "We want a unique index. In our case, it will be the Sciper number:"
   ]
  },
  {
   "cell_type": "code",
   "execution_count": 15,
   "metadata": {
    "collapsed": false
   },
   "outputs": [
    {
     "data": {
      "text/plain": [
       "False"
      ]
     },
     "execution_count": 15,
     "metadata": {},
     "output_type": "execute_result"
    }
   ],
   "source": [
    "bachelor_data_semester1['No Sciper'].is_unique"
   ]
  },
  {
   "cell_type": "code",
   "execution_count": 16,
   "metadata": {
    "collapsed": false
   },
   "outputs": [
    {
     "data": {
      "text/plain": [
       "False"
      ]
     },
     "execution_count": 16,
     "metadata": {},
     "output_type": "execute_result"
    }
   ],
   "source": [
    "bachelor_data_semester5['No Sciper'].is_unique"
   ]
  },
  {
   "cell_type": "code",
   "execution_count": 17,
   "metadata": {
    "collapsed": false
   },
   "outputs": [
    {
     "data": {
      "text/plain": [
       "False"
      ]
     },
     "execution_count": 17,
     "metadata": {},
     "output_type": "execute_result"
    }
   ],
   "source": [
    "bachelor_data_semester6['No Sciper'].is_unique"
   ]
  },
  {
   "cell_type": "markdown",
   "metadata": {},
   "source": [
    "We see that the Sciper number is unique, i.e. some students repeated the semester 1, 5 or 6. Thus, we need to keep the earliest year in the case of semester 1 and the latest year in other cases. To do so, we will sort the DataFrame by the year and then we will only keep the first entry for each student (see asumptions 4 and 5)."
   ]
  },
  {
   "cell_type": "code",
   "execution_count": 18,
   "metadata": {
    "collapsed": false
   },
   "outputs": [],
   "source": [
    "bachelor_data_semester1.sort_values('Bachelor semestre 1', inplace=True)\n",
    "bachelor_data_semester1.drop_duplicates(subset='No Sciper', keep='first', inplace=True)"
   ]
  },
  {
   "cell_type": "code",
   "execution_count": 19,
   "metadata": {
    "collapsed": false
   },
   "outputs": [],
   "source": [
    "bachelor_data_semester5.sort_values('Bachelor semestre 5', ascending=False, inplace=True)\n",
    "bachelor_data_semester5.drop_duplicates(subset='No Sciper', keep='first', inplace=True)"
   ]
  },
  {
   "cell_type": "code",
   "execution_count": 20,
   "metadata": {
    "collapsed": false
   },
   "outputs": [],
   "source": [
    "bachelor_data_semester6.sort_values('Bachelor semestre 6', ascending=False, inplace=True)\n",
    "bachelor_data_semester6.drop_duplicates(subset='No Sciper', keep='first', inplace=True)"
   ]
  },
  {
   "cell_type": "code",
   "execution_count": 21,
   "metadata": {
    "collapsed": false
   },
   "outputs": [
    {
     "data": {
      "text/plain": [
       "True"
      ]
     },
     "execution_count": 21,
     "metadata": {},
     "output_type": "execute_result"
    }
   ],
   "source": [
    "bachelor_data_semester1['No Sciper'].is_unique"
   ]
  },
  {
   "cell_type": "code",
   "execution_count": 22,
   "metadata": {
    "collapsed": false
   },
   "outputs": [
    {
     "data": {
      "text/plain": [
       "True"
      ]
     },
     "execution_count": 22,
     "metadata": {},
     "output_type": "execute_result"
    }
   ],
   "source": [
    "bachelor_data_semester5['No Sciper'].is_unique"
   ]
  },
  {
   "cell_type": "code",
   "execution_count": 23,
   "metadata": {
    "collapsed": false
   },
   "outputs": [
    {
     "data": {
      "text/plain": [
       "True"
      ]
     },
     "execution_count": 23,
     "metadata": {},
     "output_type": "execute_result"
    }
   ],
   "source": [
    "bachelor_data_semester6['No Sciper'].is_unique"
   ]
  },
  {
   "cell_type": "markdown",
   "metadata": {},
   "source": [
    "Now, as expected, the Sciper number is unique and thus we can mark the column as index."
   ]
  },
  {
   "cell_type": "code",
   "execution_count": 24,
   "metadata": {
    "collapsed": false
   },
   "outputs": [
    {
     "data": {
      "text/html": [
       "<div>\n",
       "<table border=\"1\" class=\"dataframe\">\n",
       "  <thead>\n",
       "    <tr style=\"text-align: right;\">\n",
       "      <th></th>\n",
       "      <th>Civilité</th>\n",
       "      <th>Nom Prénom</th>\n",
       "      <th>Orientation Bachelor</th>\n",
       "      <th>Orientation Master</th>\n",
       "      <th>Spécialisation</th>\n",
       "      <th>Filière opt.</th>\n",
       "      <th>Mineur</th>\n",
       "      <th>Statut</th>\n",
       "      <th>Type Echange</th>\n",
       "      <th>Ecole Echange</th>\n",
       "      <th>Bachelor semestre 1</th>\n",
       "    </tr>\n",
       "    <tr>\n",
       "      <th>No Sciper</th>\n",
       "      <th></th>\n",
       "      <th></th>\n",
       "      <th></th>\n",
       "      <th></th>\n",
       "      <th></th>\n",
       "      <th></th>\n",
       "      <th></th>\n",
       "      <th></th>\n",
       "      <th></th>\n",
       "      <th></th>\n",
       "      <th></th>\n",
       "    </tr>\n",
       "  </thead>\n",
       "  <tbody>\n",
       "    <tr>\n",
       "      <th>178711</th>\n",
       "      <td>Monsieur</td>\n",
       "      <td>Cino Emanuel</td>\n",
       "      <td></td>\n",
       "      <td></td>\n",
       "      <td></td>\n",
       "      <td></td>\n",
       "      <td></td>\n",
       "      <td>Présent</td>\n",
       "      <td></td>\n",
       "      <td></td>\n",
       "      <td>2007-08-01</td>\n",
       "    </tr>\n",
       "    <tr>\n",
       "      <th>174120</th>\n",
       "      <td>Monsieur</td>\n",
       "      <td>Vlassov Nikita</td>\n",
       "      <td></td>\n",
       "      <td></td>\n",
       "      <td></td>\n",
       "      <td></td>\n",
       "      <td></td>\n",
       "      <td>Présent</td>\n",
       "      <td></td>\n",
       "      <td></td>\n",
       "      <td>2007-08-01</td>\n",
       "    </tr>\n",
       "    <tr>\n",
       "      <th>171568</th>\n",
       "      <td>Monsieur</td>\n",
       "      <td>Villavicencio Omar</td>\n",
       "      <td></td>\n",
       "      <td></td>\n",
       "      <td></td>\n",
       "      <td></td>\n",
       "      <td></td>\n",
       "      <td>Présent</td>\n",
       "      <td></td>\n",
       "      <td></td>\n",
       "      <td>2007-08-01</td>\n",
       "    </tr>\n",
       "    <tr>\n",
       "      <th>180854</th>\n",
       "      <td>Monsieur</td>\n",
       "      <td>Vautherin Jonas</td>\n",
       "      <td></td>\n",
       "      <td></td>\n",
       "      <td></td>\n",
       "      <td></td>\n",
       "      <td></td>\n",
       "      <td>Présent</td>\n",
       "      <td></td>\n",
       "      <td></td>\n",
       "      <td>2007-08-01</td>\n",
       "    </tr>\n",
       "    <tr>\n",
       "      <th>179053</th>\n",
       "      <td>Monsieur</td>\n",
       "      <td>van Singer Mathias</td>\n",
       "      <td></td>\n",
       "      <td></td>\n",
       "      <td></td>\n",
       "      <td></td>\n",
       "      <td></td>\n",
       "      <td>Présent</td>\n",
       "      <td></td>\n",
       "      <td></td>\n",
       "      <td>2007-08-01</td>\n",
       "    </tr>\n",
       "  </tbody>\n",
       "</table>\n",
       "</div>"
      ],
      "text/plain": [
       "           Civilité          Nom Prénom Orientation Bachelor  \\\n",
       "No Sciper                                                      \n",
       "178711     Monsieur        Cino Emanuel                        \n",
       "174120     Monsieur      Vlassov Nikita                        \n",
       "171568     Monsieur  Villavicencio Omar                        \n",
       "180854     Monsieur     Vautherin Jonas                        \n",
       "179053     Monsieur  van Singer Mathias                        \n",
       "\n",
       "          Orientation Master Spécialisation Filière opt. Mineur   Statut  \\\n",
       "No Sciper                                                                  \n",
       "178711                                                           Présent   \n",
       "174120                                                           Présent   \n",
       "171568                                                           Présent   \n",
       "180854                                                           Présent   \n",
       "179053                                                           Présent   \n",
       "\n",
       "          Type Echange Ecole Echange Bachelor semestre 1  \n",
       "No Sciper                                                 \n",
       "178711                                        2007-08-01  \n",
       "174120                                        2007-08-01  \n",
       "171568                                        2007-08-01  \n",
       "180854                                        2007-08-01  \n",
       "179053                                        2007-08-01  "
      ]
     },
     "execution_count": 24,
     "metadata": {},
     "output_type": "execute_result"
    }
   ],
   "source": [
    "bachelor_data_semester1.set_index('No Sciper', inplace=True)\n",
    "bachelor_data_semester5.set_index('No Sciper', inplace=True)\n",
    "bachelor_data_semester6.set_index('No Sciper', inplace=True)\n",
    "bachelor_data_semester1.head()"
   ]
  },
  {
   "cell_type": "markdown",
   "metadata": {},
   "source": [
    "### Merging data"
   ]
  },
  {
   "cell_type": "markdown",
   "metadata": {},
   "source": [
    "Now, we want to merge the two obtained (and cleaned) tables. To do so, we use the 'merge' function provided by pandas, specifying some parameters like the columns we want to preserve. Note that we use indexes to perform the merge, and we use inner merge as we want to only consider students who started their Bachelor at EPFL."
   ]
  },
  {
   "cell_type": "code",
   "execution_count": 25,
   "metadata": {
    "collapsed": false,
    "scrolled": true
   },
   "outputs": [
    {
     "data": {
      "text/html": [
       "<div>\n",
       "<table border=\"1\" class=\"dataframe\">\n",
       "  <thead>\n",
       "    <tr style=\"text-align: right;\">\n",
       "      <th></th>\n",
       "      <th>Civilité</th>\n",
       "      <th>Nom Prénom</th>\n",
       "      <th>Bachelor semestre 1</th>\n",
       "      <th>Bachelor semestre 5</th>\n",
       "      <th>Bachelor semestre 6</th>\n",
       "    </tr>\n",
       "    <tr>\n",
       "      <th>No Sciper</th>\n",
       "      <th></th>\n",
       "      <th></th>\n",
       "      <th></th>\n",
       "      <th></th>\n",
       "      <th></th>\n",
       "    </tr>\n",
       "  </thead>\n",
       "  <tbody>\n",
       "    <tr>\n",
       "      <th>247328</th>\n",
       "      <td>Monsieur</td>\n",
       "      <td>Beck Johannes Magnus</td>\n",
       "      <td>2014-08-01</td>\n",
       "      <td>2016-08-01</td>\n",
       "      <td>2017-02-01</td>\n",
       "    </tr>\n",
       "    <tr>\n",
       "      <th>245512</th>\n",
       "      <td>Monsieur</td>\n",
       "      <td>Massemin Lucas Christophe</td>\n",
       "      <td>2014-08-01</td>\n",
       "      <td>2016-08-01</td>\n",
       "      <td>2017-02-01</td>\n",
       "    </tr>\n",
       "    <tr>\n",
       "      <th>246671</th>\n",
       "      <td>Monsieur</td>\n",
       "      <td>Abate Bryan Jeremy</td>\n",
       "      <td>2014-08-01</td>\n",
       "      <td>2016-08-01</td>\n",
       "      <td>2017-02-01</td>\n",
       "    </tr>\n",
       "    <tr>\n",
       "      <th>251759</th>\n",
       "      <td>Monsieur</td>\n",
       "      <td>Alami-Idrissi Ali</td>\n",
       "      <td>2014-08-01</td>\n",
       "      <td>2016-08-01</td>\n",
       "      <td>2017-02-01</td>\n",
       "    </tr>\n",
       "    <tr>\n",
       "      <th>249498</th>\n",
       "      <td>Monsieur</td>\n",
       "      <td>Aoun Leonardo</td>\n",
       "      <td>2014-08-01</td>\n",
       "      <td>2016-08-01</td>\n",
       "      <td>2017-02-01</td>\n",
       "    </tr>\n",
       "  </tbody>\n",
       "</table>\n",
       "</div>"
      ],
      "text/plain": [
       "           Civilité                 Nom Prénom Bachelor semestre 1  \\\n",
       "No Sciper                                                            \n",
       "247328     Monsieur       Beck Johannes Magnus          2014-08-01   \n",
       "245512     Monsieur  Massemin Lucas Christophe          2014-08-01   \n",
       "246671     Monsieur         Abate Bryan Jeremy          2014-08-01   \n",
       "251759     Monsieur          Alami-Idrissi Ali          2014-08-01   \n",
       "249498     Monsieur              Aoun Leonardo          2014-08-01   \n",
       "\n",
       "          Bachelor semestre 5 Bachelor semestre 6  \n",
       "No Sciper                                          \n",
       "247328             2016-08-01          2017-02-01  \n",
       "245512             2016-08-01          2017-02-01  \n",
       "246671             2016-08-01          2017-02-01  \n",
       "251759             2016-08-01          2017-02-01  \n",
       "249498             2016-08-01          2017-02-01  "
      ]
     },
     "execution_count": 25,
     "metadata": {},
     "output_type": "execute_result"
    }
   ],
   "source": [
    "# First we merge semester 1 with the semester 5\n",
    "student_bachelor_done = pd.merge(\n",
    "    bachelor_data_semester1[['Civilité', 'Nom Prénom', 'Bachelor semestre 1']],\n",
    "    bachelor_data_semester5[['Bachelor semestre 5']],\n",
    "    left_index=True,\n",
    "    right_index=True,\n",
    "    how='inner'\n",
    ")\n",
    "\n",
    "# Then we merge the obtained result with semester 6\n",
    "student_bachelor_done = pd.merge(\n",
    "    student_bachelor_done,\n",
    "    bachelor_data_semester6[['Bachelor semestre 6']],\n",
    "    left_index=True,\n",
    "    right_index=True,\n",
    "    how='inner'\n",
    ")\n",
    "\n",
    "student_bachelor_done.head()"
   ]
  },
  {
   "cell_type": "markdown",
   "metadata": {},
   "source": [
    "So, As we can see, a student can finish his Bachelor degree with 'Bachelor semestre 5' (see previous assumptions), but he has to be registered at 'Bachelor semestre 6' in such situation."
   ]
  },
  {
   "cell_type": "markdown",
   "metadata": {},
   "source": [
    "Let's compute the number of months between the first semester ('Bachelor semestre 1') and the last semester ('Bachelor semestre 5' or 'Bachelor semestre 6'):"
   ]
  },
  {
   "cell_type": "code",
   "execution_count": 26,
   "metadata": {
    "collapsed": false
   },
   "outputs": [
    {
     "data": {
      "text/html": [
       "<div>\n",
       "<table border=\"1\" class=\"dataframe\">\n",
       "  <thead>\n",
       "    <tr style=\"text-align: right;\">\n",
       "      <th></th>\n",
       "      <th>Civilité</th>\n",
       "      <th>Nom Prénom</th>\n",
       "      <th>Bachelor semestre 1</th>\n",
       "      <th>Bachelor semestre 5</th>\n",
       "      <th>Bachelor semestre 6</th>\n",
       "      <th>Durée bachelor (mois)</th>\n",
       "    </tr>\n",
       "    <tr>\n",
       "      <th>No Sciper</th>\n",
       "      <th></th>\n",
       "      <th></th>\n",
       "      <th></th>\n",
       "      <th></th>\n",
       "      <th></th>\n",
       "      <th></th>\n",
       "    </tr>\n",
       "  </thead>\n",
       "  <tbody>\n",
       "    <tr>\n",
       "      <th>247328</th>\n",
       "      <td>Monsieur</td>\n",
       "      <td>Beck Johannes Magnus</td>\n",
       "      <td>2014-08-01</td>\n",
       "      <td>2016-08-01</td>\n",
       "      <td>2017-02-01</td>\n",
       "      <td>36</td>\n",
       "    </tr>\n",
       "    <tr>\n",
       "      <th>245512</th>\n",
       "      <td>Monsieur</td>\n",
       "      <td>Massemin Lucas Christophe</td>\n",
       "      <td>2014-08-01</td>\n",
       "      <td>2016-08-01</td>\n",
       "      <td>2017-02-01</td>\n",
       "      <td>36</td>\n",
       "    </tr>\n",
       "    <tr>\n",
       "      <th>246671</th>\n",
       "      <td>Monsieur</td>\n",
       "      <td>Abate Bryan Jeremy</td>\n",
       "      <td>2014-08-01</td>\n",
       "      <td>2016-08-01</td>\n",
       "      <td>2017-02-01</td>\n",
       "      <td>36</td>\n",
       "    </tr>\n",
       "    <tr>\n",
       "      <th>251759</th>\n",
       "      <td>Monsieur</td>\n",
       "      <td>Alami-Idrissi Ali</td>\n",
       "      <td>2014-08-01</td>\n",
       "      <td>2016-08-01</td>\n",
       "      <td>2017-02-01</td>\n",
       "      <td>36</td>\n",
       "    </tr>\n",
       "    <tr>\n",
       "      <th>249498</th>\n",
       "      <td>Monsieur</td>\n",
       "      <td>Aoun Leonardo</td>\n",
       "      <td>2014-08-01</td>\n",
       "      <td>2016-08-01</td>\n",
       "      <td>2017-02-01</td>\n",
       "      <td>36</td>\n",
       "    </tr>\n",
       "  </tbody>\n",
       "</table>\n",
       "</div>"
      ],
      "text/plain": [
       "           Civilité                 Nom Prénom Bachelor semestre 1  \\\n",
       "No Sciper                                                            \n",
       "247328     Monsieur       Beck Johannes Magnus          2014-08-01   \n",
       "245512     Monsieur  Massemin Lucas Christophe          2014-08-01   \n",
       "246671     Monsieur         Abate Bryan Jeremy          2014-08-01   \n",
       "251759     Monsieur          Alami-Idrissi Ali          2014-08-01   \n",
       "249498     Monsieur              Aoun Leonardo          2014-08-01   \n",
       "\n",
       "          Bachelor semestre 5 Bachelor semestre 6  Durée bachelor (mois)  \n",
       "No Sciper                                                                 \n",
       "247328             2016-08-01          2017-02-01                     36  \n",
       "245512             2016-08-01          2017-02-01                     36  \n",
       "246671             2016-08-01          2017-02-01                     36  \n",
       "251759             2016-08-01          2017-02-01                     36  \n",
       "249498             2016-08-01          2017-02-01                     36  "
      ]
     },
     "execution_count": 26,
     "metadata": {},
     "output_type": "execute_result"
    }
   ],
   "source": [
    "def compute_nb_months_bachelor(row):\n",
    "    '''\n",
    "    This functions retrieved the last registered semester for a given student and compute the number of months of Bachelor degree.\n",
    "    '''\n",
    "    if row['Bachelor semestre 6'] > row['Bachelor semestre 5']:\n",
    "        last_date = row['Bachelor semestre 6']\n",
    "    else:\n",
    "        last_date = row['Bachelor semestre 5']\n",
    "    delta = relativedelta.relativedelta(last_date, row['Bachelor semestre 1'])\n",
    "    \n",
    "    # We need to get the difference in months, so we convert the delta in months.\n",
    "    # In addition we add 6 months for the last semester because we only have the beginning date of every semester.\n",
    "    return delta.years * 12 + delta.months + 6\n",
    "\n",
    "# To keep consistency in the colmun names, we add a french name for the duration of months\n",
    "student_bachelor_done['Durée bachelor (mois)'] = student_bachelor_done.apply(compute_nb_months_bachelor, axis=1)\n",
    "\n",
    "student_bachelor_done.head()"
   ]
  },
  {
   "cell_type": "markdown",
   "metadata": {},
   "source": [
    "### Using statistics"
   ]
  },
  {
   "cell_type": "markdown",
   "metadata": {},
   "source": [
    "Now, we can easily get a global average of duration but also an average according to the sex of students, thanks to the 'Civilité' column."
   ]
  },
  {
   "cell_type": "code",
   "execution_count": 27,
   "metadata": {
    "collapsed": false
   },
   "outputs": [
    {
     "data": {
      "text/plain": [
       "42.72544080604534"
      ]
     },
     "execution_count": 27,
     "metadata": {},
     "output_type": "execute_result"
    }
   ],
   "source": [
    "student_bachelor_done['Durée bachelor (mois)'].mean()"
   ]
  },
  {
   "cell_type": "markdown",
   "metadata": {},
   "source": [
    "An EPFL student obtain his Bachelor degree after 43 months approximately, in average."
   ]
  },
  {
   "cell_type": "code",
   "execution_count": 28,
   "metadata": {
    "collapsed": false
   },
   "outputs": [
    {
     "data": {
      "text/plain": [
       "<matplotlib.text.Text at 0x7fb7a3219438>"
      ]
     },
     "execution_count": 28,
     "metadata": {},
     "output_type": "execute_result"
    },
    {
     "data": {
      "image/png": "[encoded data removed]",
      "text/plain": [
       "<matplotlib.figure.Figure at 0x7fb7a3267a20>"
      ]
     },
     "metadata": {},
     "output_type": "display_data"
    }
   ],
   "source": [
    "avg_duration_bachelor_degree = student_bachelor_done.groupby(['Durée bachelor (mois)']).count()['Nom Prénom'].plot(kind='bar')\n",
    "avg_duration_bachelor_degree.set_ylabel('Number of students')\n",
    "avg_duration_bachelor_degree.set_xlabel('Bachelor duration in months')\n",
    "avg_duration_bachelor_degree.set_title('How many months lasts a Bachelor study plan for EPFL students?')"
   ]
  },
  {
   "cell_type": "markdown",
   "metadata": {},
   "source": [
    "Before computing the average by sex, we check if the values in the 'Civilité' colmun are correct:"
   ]
  },
  {
   "cell_type": "code",
   "execution_count": 29,
   "metadata": {
    "collapsed": false,
    "scrolled": false
   },
   "outputs": [
    {
     "data": {
      "text/plain": [
       "Monsieur    368\n",
       "Madame       29\n",
       "Name: Civilité, dtype: int64"
      ]
     },
     "execution_count": 29,
     "metadata": {},
     "output_type": "execute_result"
    }
   ],
   "source": [
    "student_bachelor_done['Civilité'].value_counts()"
   ]
  },
  {
   "cell_type": "markdown",
   "metadata": {},
   "source": [
    "No outliers are present here and we can safely use the attribute to compute the mean."
   ]
  },
  {
   "cell_type": "code",
   "execution_count": 30,
   "metadata": {
    "collapsed": false,
    "scrolled": true
   },
   "outputs": [
    {
     "data": {
      "text/html": [
       "<div>\n",
       "<table border=\"1\" class=\"dataframe\">\n",
       "  <thead>\n",
       "    <tr style=\"text-align: right;\">\n",
       "      <th></th>\n",
       "      <th>Durée bachelor (mois)</th>\n",
       "    </tr>\n",
       "    <tr>\n",
       "      <th>Civilité</th>\n",
       "      <th></th>\n",
       "    </tr>\n",
       "  </thead>\n",
       "  <tbody>\n",
       "    <tr>\n",
       "      <th>Madame</th>\n",
       "      <td>40.758621</td>\n",
       "    </tr>\n",
       "    <tr>\n",
       "      <th>Monsieur</th>\n",
       "      <td>42.880435</td>\n",
       "    </tr>\n",
       "  </tbody>\n",
       "</table>\n",
       "</div>"
      ],
      "text/plain": [
       "          Durée bachelor (mois)\n",
       "Civilité                       \n",
       "Madame                40.758621\n",
       "Monsieur              42.880435"
      ]
     },
     "execution_count": 30,
     "metadata": {},
     "output_type": "execute_result"
    }
   ],
   "source": [
    "student_bachelor_by_sex = student_bachelor_done[['Civilité', 'Durée bachelor (mois)']].groupby(['Civilité'])\n",
    "student_bachelor_by_sex.mean()"
   ]
  },
  {
   "cell_type": "code",
   "execution_count": 31,
   "metadata": {
    "collapsed": false,
    "scrolled": true
   },
   "outputs": [
    {
     "data": {
      "text/plain": [
       "<matplotlib.axes._subplots.AxesSubplot at 0x7fb7a0cc0518>"
      ]
     },
     "execution_count": 31,
     "metadata": {},
     "output_type": "execute_result"
    },
    {
     "data": {
      "image/png": "[encoded data removed]",
      "text/plain": [
       "<matplotlib.figure.Figure at 0x7fb7a0cba198>"
      ]
     },
     "metadata": {},
     "output_type": "display_data"
    }
   ],
   "source": [
    "avg_duration_bachelor_degree_by_sex = student_bachelor_done.groupby(['Civilité', 'Durée bachelor (mois)']).count()['Nom Prénom'].unstack(level=0).fillna(0).plot(kind='bar')\n",
    "avg_duration_bachelor_degree_by_sex.set_ylabel('Number of students')\n",
    "avg_duration_bachelor_degree_by_sex.set_xlabel('Bachelor duration in months')\n",
    "avg_duration_bachelor_degree_by_sex.set_title('Bachelor study plan duration by sex for EPFL students')\n",
    "avg_duration_bachelor_degree_by_sex"
   ]
  },
  {
   "cell_type": "markdown",
   "metadata": {},
   "source": [
    "It seems that female students obtain their bachelor degree in less months than male students in average. But as we know, average is not a robust statistic. Let's compute the median to have a better overview:"
   ]
  },
  {
   "cell_type": "code",
   "execution_count": 32,
   "metadata": {
    "collapsed": false,
    "scrolled": true
   },
   "outputs": [
    {
     "data": {
      "text/html": [
       "<div>\n",
       "<table border=\"1\" class=\"dataframe\">\n",
       "  <thead>\n",
       "    <tr style=\"text-align: right;\">\n",
       "      <th></th>\n",
       "      <th>Durée bachelor (mois)</th>\n",
       "    </tr>\n",
       "    <tr>\n",
       "      <th>Civilité</th>\n",
       "      <th></th>\n",
       "    </tr>\n",
       "  </thead>\n",
       "  <tbody>\n",
       "    <tr>\n",
       "      <th>Madame</th>\n",
       "      <td>36</td>\n",
       "    </tr>\n",
       "    <tr>\n",
       "      <th>Monsieur</th>\n",
       "      <td>36</td>\n",
       "    </tr>\n",
       "  </tbody>\n",
       "</table>\n",
       "</div>"
      ],
      "text/plain": [
       "          Durée bachelor (mois)\n",
       "Civilité                       \n",
       "Madame                       36\n",
       "Monsieur                     36"
      ]
     },
     "execution_count": 32,
     "metadata": {},
     "output_type": "execute_result"
    }
   ],
   "source": [
    "student_bachelor_by_sex.median()"
   ]
  },
  {
   "cell_type": "markdown",
   "metadata": {},
   "source": [
    "As the median is a robust statistic and as we don't see differences here, the initial hypothesis that we made ('there is probably a notable difference in results between female and male students') is not correct.\n",
    "\n",
    "We can confirm this by making a T-Test to get the P-Value. As the number of female and male students is sufficiant (N > 20, N number of students, in the two cases) and as the durations of Bachelor study plan are independent between students, we can approximate the data with a normal distribution.\n",
    "\n",
    "We need to test the hypothesis that female students success in less months than male students. The null hypothesis (H0 or null hypothesis) is that the duration of a Bachelor study plan for female and male students is the same.\n",
    "\n",
    "Let's compute the P-value using the T-test:"
   ]
  },
  {
   "cell_type": "code",
   "execution_count": 33,
   "metadata": {
    "collapsed": false
   },
   "outputs": [
    {
     "data": {
      "text/plain": [
       "Ttest_indResult(statistic=1.3437005678090845, pvalue=0.18785555340784144)"
      ]
     },
     "execution_count": 33,
     "metadata": {},
     "output_type": "execute_result"
    }
   ],
   "source": [
    "boy_serie_duration_bachelor = student_bachelor_done['Durée bachelor (mois)'][[sex == 'Monsieur' for sex in student_bachelor_done['Civilité']]]\n",
    "girl_serie_duration_bachelor = student_bachelor_done['Durée bachelor (mois)'][[sex == 'Madame' for sex in student_bachelor_done['Civilité']]]\n",
    "\n",
    "stats.ttest_ind(a=boy_serie_duration_bachelor.values, b=girl_serie_duration_bachelor.values, equal_var=False)"
   ]
  },
  {
   "cell_type": "markdown",
   "metadata": {},
   "source": [
    "The P-Value is greater than the accepted value (0.37 > 0.05), so we can't reject our null hypothesis that female students and male students duration to obtain bachelor degree average is the same.\n",
    "\n",
    "We can do the same check without doing any assumptions on data by using the K-S Test:"
   ]
  },
  {
   "cell_type": "code",
   "execution_count": 34,
   "metadata": {
    "collapsed": false
   },
   "outputs": [
    {
     "data": {
      "text/plain": [
       "Ks_2sampResult(statistic=0.1380247376311845, pvalue=0.65225950107177355)"
      ]
     },
     "execution_count": 34,
     "metadata": {},
     "output_type": "execute_result"
    }
   ],
   "source": [
    "stats.ks_2samp(boy_serie_duration_bachelor.values, girl_serie_duration_bachelor.values)"
   ]
  },
  {
   "cell_type": "markdown",
   "metadata": {},
   "source": [
    "Here, the null hypothesis is that the two samples are from the same distribution.\n",
    "\n",
    "As P-value is high (>> 5%), we can't reject the null hypothesis, like in the T-Test above.\n",
    "\n",
    "In conclusion, we can't validate our hypothesis that female students have an average duration to obtain the bachelor degree inferior to male students."
   ]
  },
  {
   "cell_type": "markdown",
   "metadata": {},
   "source": [
    "### Concluding with a brief note"
   ]
  },
  {
   "cell_type": "code",
   "execution_count": 35,
   "metadata": {
    "collapsed": false
   },
   "outputs": [
    {
     "data": {
      "text/plain": [
       "397"
      ]
     },
     "execution_count": 35,
     "metadata": {},
     "output_type": "execute_result"
    }
   ],
   "source": [
    "len(student_bachelor_done)"
   ]
  },
  {
   "cell_type": "markdown",
   "metadata": {},
   "source": [
    "As we said before, we only consider the students who started their study at EPFL. Thus, we only obtain 322 students at the end, while for 'Bachelor semestre 6', we had 500+ entries."
   ]
  },
  {
   "cell_type": "markdown",
   "metadata": {},
   "source": [
    "# Question 2 - Master\n",
    "\n",
    "<b>Perform a similar operation to what described above, this time for Master students. Notice that this data is more tricky, as there are many missing records in the IS-Academia database. Therefore, try to guess how much time a master student spent at EPFL by at least checking the distance in months between Master semestre 1 and Master semestre 2. If the Mineur field is not empty, the student should also appear registered in Master semestre 3. Last but not the least, don't forget to check if the student has an entry also in the Projet Master tables. Once you can handle well this data, compute the \"average stay at EPFL\" for master students. Now extract all the students with a Spécialisation and compute the \"average stay\" per each category of that attribute -- compared to the general average, can you find any specialization for which the difference in average is statistically significant?</b>\n",
    "\n",
    "We have already fetched the data from IS-Academia in the first question so, instead of fetching again data, we will simply get data from files created with pickle. We apply the same process used for Bachelor section, but this time we consider that a Master student can finish his master in different ways. Here are the new assumptions:\n",
    "\n",
    " - 6) all students start with the 'Master semestre 1' or 'Master semestre 2' but need to do both;\n",
    " - 7) a student can finish with only 'Master semestre 1' and 'Master semestre 2' without doing 'Master semestre 3' if there isn't a 'Mineur' value for 'Master semestre 2';\n",
    " - 8) a student can finish with 'Master semestre 1' and 'Master semestre 3' in case of missing data for 'Master semestre 2';\n",
    " - 9) a student can finish with an optional master projet in fall or spring but still need to be registered in 'Master semestre 1'.\n",
    " \n",
    "**Note: As said in the beginning of this Notebook, we are not EPFL students and, thus, we don't know the exact rules of school. These assumptions can differ a bit from the functioning here at EPFL, but we tried to remain realistic regarding the obtained data.**\n",
    " \n",
    "Let's fetch all data from files correspond to the semesters 1, 2, 3 or to fall/spring project sessions. At the same time, let's add the beginning date of every semester (like it was done in Q1 about Bachelor students):"
   ]
  },
  {
   "cell_type": "code",
   "execution_count": 36,
   "metadata": {
    "collapsed": false
   },
   "outputs": [
    {
     "name": "stdout",
     "output_type": "stream",
     "text": [
      "Compute for Master semestre 2\n",
      "Compute for Master semestre 1\n",
      "Compute for Projet Master printemps\n",
      "Compute for Master semestre 3\n",
      "Compute for Projet Master automne\n"
     ]
    }
   ],
   "source": [
    "master_semester_codes = {}\n",
    "for section_name in semester_codes:\n",
    "    if section_name.startswith('Projet Master') or (section_name.startswith('Master semestre') and section_name.endswith(tuple(['1', '2', '3']))):\n",
    "        master_semester_codes[section_name] = semester_codes[section_name]\n",
    "\n",
    "def master_append_year(data_per_year, semester_name, year_name):\n",
    "    '''\n",
    "    This function sets the exact beginning date of a given semester.\n",
    "    Convention: For semester 2 and spring project session, beginning date is 02/01. Else, it is 08/01.\n",
    "    '''\n",
    "    if semester_name.endswith('2') or semester_name.endswith('printemps'):\n",
    "        begin_date = year_name.split('-')[1] + '-02-01'\n",
    "    else:\n",
    "        begin_date = year_name.split('-')[0] + '-08-01'\n",
    "    data_per_year[semester_name] = pd.to_datetime(begin_date)\n",
    "\n",
    "master_dataframes = retrieve_dataframes(master_semester_codes, master_append_year)"
   ]
  },
  {
   "cell_type": "markdown",
   "metadata": {},
   "source": [
    "### Cleaning data\n",
    "\n",
    "We also need to clean data like for Bachelor. We will make the Sciper number be the index and then remove duplicate rows after having sorted data by date of semester (ascending for semester 1 and descending in other cases):"
   ]
  },
  {
   "cell_type": "code",
   "execution_count": 37,
   "metadata": {
    "collapsed": true
   },
   "outputs": [],
   "source": [
    "master_data_semester1 = master_dataframes['Master semestre 1'].copy()\n",
    "master_data_semester2 = master_dataframes['Master semestre 2'].copy()\n",
    "master_data_semester3 = master_dataframes['Master semestre 3'].copy()\n",
    "master_data_semester_fall_project = master_dataframes['Projet Master automne'].copy()\n",
    "master_data_semester_spring_project = master_dataframes['Projet Master printemps'].copy()\n",
    "\n",
    "master_data_semester1.sort_values('Master semestre 1', ascending=True, inplace=True)\n",
    "master_data_semester1.drop_duplicates(subset='No Sciper', keep='first', inplace=True)\n",
    "master_data_semester1.set_index('No Sciper', inplace=True)\n",
    "\n",
    "master_data_semester2.sort_values('Master semestre 2', ascending=False, inplace=True)\n",
    "master_data_semester2.drop_duplicates(subset='No Sciper', keep='first', inplace=True)\n",
    "master_data_semester2.set_index('No Sciper', inplace=True)\n",
    "\n",
    "master_data_semester3.sort_values('Master semestre 3', ascending=False, inplace=True)\n",
    "master_data_semester3.drop_duplicates(subset='No Sciper', keep='first', inplace=True)\n",
    "master_data_semester3.set_index('No Sciper', inplace=True)\n",
    "\n",
    "master_data_semester_fall_project.sort_values('Projet Master automne', ascending=False, inplace=True)\n",
    "master_data_semester_fall_project.drop_duplicates(subset='No Sciper', keep='first', inplace=True)\n",
    "master_data_semester_fall_project.set_index('No Sciper', inplace=True)\n",
    "\n",
    "master_data_semester_spring_project.sort_values('Projet Master printemps', ascending=False, inplace=True)\n",
    "master_data_semester_spring_project.drop_duplicates(subset='No Sciper', keep='first', inplace=True)\n",
    "master_data_semester_spring_project.set_index('No Sciper', inplace=True)"
   ]
  },
  {
   "cell_type": "markdown",
   "metadata": {},
   "source": [
    "For students in 'Master semestre 2', we need to keep only those without 'Mineur' values because there are, then, also registered in 'Master semestre 3' (except students who are not registered for the next year, but those ones will be automatically removed during the final merge)."
   ]
  },
  {
   "cell_type": "code",
   "execution_count": 38,
   "metadata": {
    "collapsed": true
   },
   "outputs": [],
   "source": [
    "master_data_semester2_without_mineur = master_data_semester2[[len(mineur) == 0 for mineur in master_data_semester2['Mineur']]]"
   ]
  },
  {
   "cell_type": "markdown",
   "metadata": {},
   "source": [
    "### Merging and concatenating data\n",
    "\n",
    "Now we need to make one DataFrame for each assumption (assumptions 7, 8 and 9). To do so, we will make the needed attributes be the indexes (name, sex, beginning date of the semester and Sciper number) to prevent any drop of data when we will concatenate the 3 obtained DataFrames."
   ]
  },
  {
   "cell_type": "code",
   "execution_count": 39,
   "metadata": {
    "collapsed": false
   },
   "outputs": [],
   "source": [
    "master_semester_1_2 = pd.merge(\n",
    "    master_data_semester1[['Civilité', 'Nom Prénom', 'Spécialisation', 'Master semestre 1']],\n",
    "    master_data_semester2_without_mineur[['Master semestre 2']],\n",
    "    left_index=True,\n",
    "    right_index=True,\n",
    "    how='inner'\n",
    ")\n",
    "master_semester_1_2.reset_index(inplace=True)\n",
    "master_semester_1_2.set_index(['No Sciper', 'Civilité', 'Nom Prénom', 'Spécialisation', 'Master semestre 1'], inplace=True)\n",
    "\n",
    "master_semester_1_3 = pd.merge(\n",
    "    master_data_semester1[['Civilité', 'Nom Prénom', 'Spécialisation', 'Master semestre 1']],\n",
    "    master_data_semester3[['Master semestre 3']],\n",
    "    left_index=True,\n",
    "    right_index=True,\n",
    "    how='inner'\n",
    ")\n",
    "master_semester_1_3.reset_index(inplace=True)\n",
    "master_semester_1_3.set_index(['No Sciper', 'Civilité', 'Nom Prénom', 'Spécialisation', 'Master semestre 1'], inplace=True)\n",
    "\n",
    "master_semester_1_pf = pd.merge(\n",
    "    master_data_semester1[['Civilité', 'Nom Prénom', 'Spécialisation', 'Master semestre 1']],\n",
    "    master_data_semester_fall_project[['Projet Master automne']],\n",
    "    left_index=True,\n",
    "    right_index=True,\n",
    "    how='inner'\n",
    ")\n",
    "master_semester_1_pf.reset_index(inplace=True)\n",
    "master_semester_1_pf.set_index(['No Sciper', 'Civilité', 'Nom Prénom', 'Spécialisation', 'Master semestre 1'], inplace=True)\n",
    "\n",
    "master_semester_1_ps = pd.merge(\n",
    "    master_data_semester1[['Civilité', 'Nom Prénom', 'Spécialisation', 'Master semestre 1']],\n",
    "    master_data_semester_spring_project[['Projet Master printemps']],\n",
    "    left_index=True,\n",
    "    right_index=True,\n",
    "    how='inner'\n",
    ")\n",
    "master_semester_1_ps.reset_index(inplace=True)\n",
    "master_semester_1_ps.set_index(['No Sciper', 'Civilité', 'Nom Prénom', 'Spécialisation', 'Master semestre 1'], inplace=True)"
   ]
  },
  {
   "cell_type": "markdown",
   "metadata": {},
   "source": [
    "Now we can concatenate DataFrames in a single one and try to make only the Sciper number being the index:"
   ]
  },
  {
   "cell_type": "code",
   "execution_count": 40,
   "metadata": {
    "collapsed": true
   },
   "outputs": [],
   "source": [
    "master_full_data = pd.concat([\n",
    "        master_semester_1_2[['Master semestre 2']],\n",
    "        master_semester_1_3[['Master semestre 3']],\n",
    "        master_semester_1_pf[['Projet Master automne']],\n",
    "        master_semester_1_ps[['Projet Master printemps']]\n",
    "    ], axis=1)"
   ]
  },
  {
   "cell_type": "code",
   "execution_count": 41,
   "metadata": {
    "collapsed": false
   },
   "outputs": [
    {
     "data": {
      "text/plain": [
       "True"
      ]
     },
     "execution_count": 41,
     "metadata": {},
     "output_type": "execute_result"
    }
   ],
   "source": [
    "# Check if the No Sciper is still unique\n",
    "master_full_data.index.levels[0].is_unique"
   ]
  },
  {
   "cell_type": "code",
   "execution_count": 42,
   "metadata": {
    "collapsed": false,
    "scrolled": true
   },
   "outputs": [
    {
     "data": {
      "text/html": [
       "<div>\n",
       "<table border=\"1\" class=\"dataframe\">\n",
       "  <thead>\n",
       "    <tr style=\"text-align: right;\">\n",
       "      <th></th>\n",
       "      <th>Civilité</th>\n",
       "      <th>Nom Prénom</th>\n",
       "      <th>Spécialisation</th>\n",
       "      <th>Master semestre 1</th>\n",
       "      <th>Master semestre 2</th>\n",
       "      <th>Master semestre 3</th>\n",
       "      <th>Projet Master automne</th>\n",
       "      <th>Projet Master printemps</th>\n",
       "    </tr>\n",
       "    <tr>\n",
       "      <th>No Sciper</th>\n",
       "      <th></th>\n",
       "      <th></th>\n",
       "      <th></th>\n",
       "      <th></th>\n",
       "      <th></th>\n",
       "      <th></th>\n",
       "      <th></th>\n",
       "      <th></th>\n",
       "    </tr>\n",
       "  </thead>\n",
       "  <tbody>\n",
       "    <tr>\n",
       "      <th>146330</th>\n",
       "      <td>Monsieur</td>\n",
       "      <td>Cardinaux Damien</td>\n",
       "      <td></td>\n",
       "      <td>2007-08-01</td>\n",
       "      <td>2008-02-01</td>\n",
       "      <td>2008-08-01</td>\n",
       "      <td>NaT</td>\n",
       "      <td>NaT</td>\n",
       "    </tr>\n",
       "    <tr>\n",
       "      <th>146742</th>\n",
       "      <td>Monsieur</td>\n",
       "      <td>Marx Clément</td>\n",
       "      <td>Signals, Images and Interfaces</td>\n",
       "      <td>2008-08-01</td>\n",
       "      <td>2010-02-01</td>\n",
       "      <td>2012-08-01</td>\n",
       "      <td>2010-08-01</td>\n",
       "      <td>2011-02-01</td>\n",
       "    </tr>\n",
       "    <tr>\n",
       "      <th>146929</th>\n",
       "      <td>Monsieur</td>\n",
       "      <td>Junod Antoine</td>\n",
       "      <td></td>\n",
       "      <td>2007-08-01</td>\n",
       "      <td>2008-02-01</td>\n",
       "      <td>NaT</td>\n",
       "      <td>NaT</td>\n",
       "      <td>NaT</td>\n",
       "    </tr>\n",
       "    <tr>\n",
       "      <th>147008</th>\n",
       "      <td>Monsieur</td>\n",
       "      <td>Good Xavier</td>\n",
       "      <td>Signals, Images and Interfaces</td>\n",
       "      <td>2011-08-01</td>\n",
       "      <td>2013-02-01</td>\n",
       "      <td>2012-08-01</td>\n",
       "      <td>NaT</td>\n",
       "      <td>NaT</td>\n",
       "    </tr>\n",
       "    <tr>\n",
       "      <th>152232</th>\n",
       "      <td>Monsieur</td>\n",
       "      <td>Anagnostaras David</td>\n",
       "      <td></td>\n",
       "      <td>2007-08-01</td>\n",
       "      <td>NaT</td>\n",
       "      <td>2008-08-01</td>\n",
       "      <td>NaT</td>\n",
       "      <td>NaT</td>\n",
       "    </tr>\n",
       "  </tbody>\n",
       "</table>\n",
       "</div>"
      ],
      "text/plain": [
       "           Civilité          Nom Prénom                  Spécialisation  \\\n",
       "No Sciper                                                                 \n",
       "146330     Monsieur    Cardinaux Damien                                   \n",
       "146742     Monsieur        Marx Clément  Signals, Images and Interfaces   \n",
       "146929     Monsieur       Junod Antoine                                   \n",
       "147008     Monsieur         Good Xavier  Signals, Images and Interfaces   \n",
       "152232     Monsieur  Anagnostaras David                                   \n",
       "\n",
       "          Master semestre 1 Master semestre 2 Master semestre 3  \\\n",
       "No Sciper                                                         \n",
       "146330           2007-08-01        2008-02-01        2008-08-01   \n",
       "146742           2008-08-01        2010-02-01        2012-08-01   \n",
       "146929           2007-08-01        2008-02-01               NaT   \n",
       "147008           2011-08-01        2013-02-01        2012-08-01   \n",
       "152232           2007-08-01               NaT        2008-08-01   \n",
       "\n",
       "          Projet Master automne Projet Master printemps  \n",
       "No Sciper                                                \n",
       "146330                      NaT                     NaT  \n",
       "146742               2010-08-01              2011-02-01  \n",
       "146929                      NaT                     NaT  \n",
       "147008                      NaT                     NaT  \n",
       "152232                      NaT                     NaT  "
      ]
     },
     "execution_count": 42,
     "metadata": {},
     "output_type": "execute_result"
    }
   ],
   "source": [
    "master_full_data.reset_index(inplace=True)\n",
    "master_full_data.set_index(['No Sciper'], inplace=True)\n",
    "\n",
    "master_full_data.head()"
   ]
  },
  {
   "cell_type": "markdown",
   "metadata": {},
   "source": [
    "We can see that the student associated to the Sciper number '152232' is concerned by the assumption 8 as he hasn't data for 'Master semestre 2'. We decided to keep this kind of entries because there are a lot:"
   ]
  },
  {
   "cell_type": "code",
   "execution_count": 43,
   "metadata": {
    "collapsed": false,
    "scrolled": true
   },
   "outputs": [
    {
     "data": {
      "text/html": [
       "<div>\n",
       "<table border=\"1\" class=\"dataframe\">\n",
       "  <thead>\n",
       "    <tr style=\"text-align: right;\">\n",
       "      <th></th>\n",
       "      <th>Civilité</th>\n",
       "      <th>Nom Prénom</th>\n",
       "      <th>Spécialisation</th>\n",
       "      <th>Master semestre 1</th>\n",
       "      <th>Master semestre 2</th>\n",
       "      <th>Master semestre 3</th>\n",
       "      <th>Projet Master automne</th>\n",
       "      <th>Projet Master printemps</th>\n",
       "    </tr>\n",
       "    <tr>\n",
       "      <th>No Sciper</th>\n",
       "      <th></th>\n",
       "      <th></th>\n",
       "      <th></th>\n",
       "      <th></th>\n",
       "      <th></th>\n",
       "      <th></th>\n",
       "      <th></th>\n",
       "      <th></th>\n",
       "    </tr>\n",
       "  </thead>\n",
       "  <tbody>\n",
       "    <tr>\n",
       "      <th>152232</th>\n",
       "      <td>Monsieur</td>\n",
       "      <td>Anagnostaras David</td>\n",
       "      <td></td>\n",
       "      <td>2007-08-01</td>\n",
       "      <td>NaT</td>\n",
       "      <td>2008-08-01</td>\n",
       "      <td>NaT</td>\n",
       "      <td>NaT</td>\n",
       "    </tr>\n",
       "    <tr>\n",
       "      <th>167045</th>\n",
       "      <td>Monsieur</td>\n",
       "      <td>Tangui Achraf</td>\n",
       "      <td></td>\n",
       "      <td>2008-08-01</td>\n",
       "      <td>NaT</td>\n",
       "      <td>2010-08-01</td>\n",
       "      <td>NaT</td>\n",
       "      <td>NaT</td>\n",
       "    </tr>\n",
       "    <tr>\n",
       "      <th>170220</th>\n",
       "      <td>Monsieur</td>\n",
       "      <td>Barras Florian</td>\n",
       "      <td></td>\n",
       "      <td>2009-08-01</td>\n",
       "      <td>NaT</td>\n",
       "      <td>2011-08-01</td>\n",
       "      <td>NaT</td>\n",
       "      <td>NaT</td>\n",
       "    </tr>\n",
       "    <tr>\n",
       "      <th>170225</th>\n",
       "      <td>Monsieur</td>\n",
       "      <td>Burgener Raphaël</td>\n",
       "      <td></td>\n",
       "      <td>2009-08-01</td>\n",
       "      <td>NaT</td>\n",
       "      <td>2010-08-01</td>\n",
       "      <td>NaT</td>\n",
       "      <td>NaT</td>\n",
       "    </tr>\n",
       "    <tr>\n",
       "      <th>170451</th>\n",
       "      <td>Monsieur</td>\n",
       "      <td>Bolkensteyn Dinesh</td>\n",
       "      <td></td>\n",
       "      <td>2008-08-01</td>\n",
       "      <td>NaT</td>\n",
       "      <td>2010-08-01</td>\n",
       "      <td>NaT</td>\n",
       "      <td>NaT</td>\n",
       "    </tr>\n",
       "    <tr>\n",
       "      <th>171073</th>\n",
       "      <td>Monsieur</td>\n",
       "      <td>Jiekak Ndeutou Stève Aurélien</td>\n",
       "      <td>Internet computing</td>\n",
       "      <td>2009-08-01</td>\n",
       "      <td>NaT</td>\n",
       "      <td>2010-08-01</td>\n",
       "      <td>NaT</td>\n",
       "      <td>NaT</td>\n",
       "    </tr>\n",
       "    <tr>\n",
       "      <th>174774</th>\n",
       "      <td>Monsieur</td>\n",
       "      <td>Balas Martin</td>\n",
       "      <td></td>\n",
       "      <td>2010-08-01</td>\n",
       "      <td>NaT</td>\n",
       "      <td>2011-08-01</td>\n",
       "      <td>NaT</td>\n",
       "      <td>NaT</td>\n",
       "    </tr>\n",
       "    <tr>\n",
       "      <th>174905</th>\n",
       "      <td>Monsieur</td>\n",
       "      <td>Aubelle Flavien</td>\n",
       "      <td></td>\n",
       "      <td>2012-08-01</td>\n",
       "      <td>NaT</td>\n",
       "      <td>2013-08-01</td>\n",
       "      <td>NaT</td>\n",
       "      <td>NaT</td>\n",
       "    </tr>\n",
       "    <tr>\n",
       "      <th>176564</th>\n",
       "      <td>Monsieur</td>\n",
       "      <td>Helfer Jonas</td>\n",
       "      <td></td>\n",
       "      <td>2009-08-01</td>\n",
       "      <td>NaT</td>\n",
       "      <td>2010-08-01</td>\n",
       "      <td>NaT</td>\n",
       "      <td>NaT</td>\n",
       "    </tr>\n",
       "    <tr>\n",
       "      <th>178706</th>\n",
       "      <td>Madame</td>\n",
       "      <td>Falbriard Stéphanie</td>\n",
       "      <td></td>\n",
       "      <td>2010-08-01</td>\n",
       "      <td>NaT</td>\n",
       "      <td>2011-08-01</td>\n",
       "      <td>NaT</td>\n",
       "      <td>NaT</td>\n",
       "    </tr>\n",
       "    <tr>\n",
       "      <th>179449</th>\n",
       "      <td>Monsieur</td>\n",
       "      <td>Bindschaedler Vincent</td>\n",
       "      <td></td>\n",
       "      <td>2010-08-01</td>\n",
       "      <td>NaT</td>\n",
       "      <td>2011-08-01</td>\n",
       "      <td>NaT</td>\n",
       "      <td>NaT</td>\n",
       "    </tr>\n",
       "    <tr>\n",
       "      <th>179988</th>\n",
       "      <td>Madame</td>\n",
       "      <td>Portmann Joëlle</td>\n",
       "      <td></td>\n",
       "      <td>2010-08-01</td>\n",
       "      <td>NaT</td>\n",
       "      <td>2013-08-01</td>\n",
       "      <td>NaT</td>\n",
       "      <td>NaT</td>\n",
       "    </tr>\n",
       "    <tr>\n",
       "      <th>184772</th>\n",
       "      <td>Monsieur</td>\n",
       "      <td>Arnfred Jonas</td>\n",
       "      <td></td>\n",
       "      <td>2011-08-01</td>\n",
       "      <td>NaT</td>\n",
       "      <td>2012-08-01</td>\n",
       "      <td>NaT</td>\n",
       "      <td>NaT</td>\n",
       "    </tr>\n",
       "    <tr>\n",
       "      <th>185042</th>\n",
       "      <td>Madame</td>\n",
       "      <td>Sae-Tang Abson</td>\n",
       "      <td></td>\n",
       "      <td>2010-08-01</td>\n",
       "      <td>NaT</td>\n",
       "      <td>2012-08-01</td>\n",
       "      <td>NaT</td>\n",
       "      <td>NaT</td>\n",
       "    </tr>\n",
       "    <tr>\n",
       "      <th>186188</th>\n",
       "      <td>Monsieur</td>\n",
       "      <td>Widmer Florian</td>\n",
       "      <td></td>\n",
       "      <td>2011-08-01</td>\n",
       "      <td>NaT</td>\n",
       "      <td>2013-08-01</td>\n",
       "      <td>NaT</td>\n",
       "      <td>NaT</td>\n",
       "    </tr>\n",
       "    <tr>\n",
       "      <th>186193</th>\n",
       "      <td>Monsieur</td>\n",
       "      <td>Mühlematter Thomas</td>\n",
       "      <td></td>\n",
       "      <td>2013-08-01</td>\n",
       "      <td>NaT</td>\n",
       "      <td>2014-08-01</td>\n",
       "      <td>NaT</td>\n",
       "      <td>NaT</td>\n",
       "    </tr>\n",
       "    <tr>\n",
       "      <th>186872</th>\n",
       "      <td>Monsieur</td>\n",
       "      <td>Kessel Alexis</td>\n",
       "      <td></td>\n",
       "      <td>2013-08-01</td>\n",
       "      <td>NaT</td>\n",
       "      <td>2015-08-01</td>\n",
       "      <td>NaT</td>\n",
       "      <td>NaT</td>\n",
       "    </tr>\n",
       "    <tr>\n",
       "      <th>191351</th>\n",
       "      <td>Monsieur</td>\n",
       "      <td>Molla Eray</td>\n",
       "      <td></td>\n",
       "      <td>2009-08-01</td>\n",
       "      <td>NaT</td>\n",
       "      <td>2010-08-01</td>\n",
       "      <td>NaT</td>\n",
       "      <td>NaT</td>\n",
       "    </tr>\n",
       "    <tr>\n",
       "      <th>191589</th>\n",
       "      <td>Madame</td>\n",
       "      <td>Günaydin Deniz</td>\n",
       "      <td></td>\n",
       "      <td>2009-08-01</td>\n",
       "      <td>NaT</td>\n",
       "      <td>2010-08-01</td>\n",
       "      <td>NaT</td>\n",
       "      <td>NaT</td>\n",
       "    </tr>\n",
       "    <tr>\n",
       "      <th>192219</th>\n",
       "      <td>Monsieur</td>\n",
       "      <td>Güzelhan Can</td>\n",
       "      <td></td>\n",
       "      <td>2015-08-01</td>\n",
       "      <td>NaT</td>\n",
       "      <td>2016-08-01</td>\n",
       "      <td>NaT</td>\n",
       "      <td>NaT</td>\n",
       "    </tr>\n",
       "    <tr>\n",
       "      <th>192304</th>\n",
       "      <td>Monsieur</td>\n",
       "      <td>Sandoz David</td>\n",
       "      <td></td>\n",
       "      <td>2013-08-01</td>\n",
       "      <td>NaT</td>\n",
       "      <td>2014-08-01</td>\n",
       "      <td>NaT</td>\n",
       "      <td>NaT</td>\n",
       "    </tr>\n",
       "    <tr>\n",
       "      <th>193160</th>\n",
       "      <td>Monsieur</td>\n",
       "      <td>Viswanathan Vijay</td>\n",
       "      <td></td>\n",
       "      <td>2010-08-01</td>\n",
       "      <td>NaT</td>\n",
       "      <td>2011-08-01</td>\n",
       "      <td>NaT</td>\n",
       "      <td>NaT</td>\n",
       "    </tr>\n",
       "    <tr>\n",
       "      <th>193362</th>\n",
       "      <td>Monsieur</td>\n",
       "      <td>Gauthier Jean</td>\n",
       "      <td></td>\n",
       "      <td>2012-08-01</td>\n",
       "      <td>NaT</td>\n",
       "      <td>2014-08-01</td>\n",
       "      <td>NaT</td>\n",
       "      <td>NaT</td>\n",
       "    </tr>\n",
       "    <tr>\n",
       "      <th>193505</th>\n",
       "      <td>Monsieur</td>\n",
       "      <td>Heiniger Sylvain</td>\n",
       "      <td></td>\n",
       "      <td>2012-08-01</td>\n",
       "      <td>NaT</td>\n",
       "      <td>2013-08-01</td>\n",
       "      <td>NaT</td>\n",
       "      <td>NaT</td>\n",
       "    </tr>\n",
       "    <tr>\n",
       "      <th>193545</th>\n",
       "      <td>Madame</td>\n",
       "      <td>Kyriakopoulou Sofia</td>\n",
       "      <td></td>\n",
       "      <td>2009-08-01</td>\n",
       "      <td>NaT</td>\n",
       "      <td>2010-08-01</td>\n",
       "      <td>NaT</td>\n",
       "      <td>NaT</td>\n",
       "    </tr>\n",
       "    <tr>\n",
       "      <th>194430</th>\n",
       "      <td>Monsieur</td>\n",
       "      <td>Kromwijk Sander</td>\n",
       "      <td></td>\n",
       "      <td>2012-08-01</td>\n",
       "      <td>NaT</td>\n",
       "      <td>2013-08-01</td>\n",
       "      <td>NaT</td>\n",
       "      <td>NaT</td>\n",
       "    </tr>\n",
       "    <tr>\n",
       "      <th>194728</th>\n",
       "      <td>Monsieur</td>\n",
       "      <td>Bottinelli Paul</td>\n",
       "      <td></td>\n",
       "      <td>2012-08-01</td>\n",
       "      <td>NaT</td>\n",
       "      <td>2013-08-01</td>\n",
       "      <td>NaT</td>\n",
       "      <td>NaT</td>\n",
       "    </tr>\n",
       "    <tr>\n",
       "      <th>194971</th>\n",
       "      <td>Monsieur</td>\n",
       "      <td>Poiffaut Romain</td>\n",
       "      <td>Software Systems</td>\n",
       "      <td>2011-08-01</td>\n",
       "      <td>NaT</td>\n",
       "      <td>2012-08-01</td>\n",
       "      <td>NaT</td>\n",
       "      <td>NaT</td>\n",
       "    </tr>\n",
       "    <tr>\n",
       "      <th>195916</th>\n",
       "      <td>Monsieur</td>\n",
       "      <td>Viaccoz Thierry</td>\n",
       "      <td></td>\n",
       "      <td>2012-08-01</td>\n",
       "      <td>NaT</td>\n",
       "      <td>2013-08-01</td>\n",
       "      <td>NaT</td>\n",
       "      <td>NaT</td>\n",
       "    </tr>\n",
       "    <tr>\n",
       "      <th>196602</th>\n",
       "      <td>Madame</td>\n",
       "      <td>Stojanov Marica</td>\n",
       "      <td></td>\n",
       "      <td>2010-08-01</td>\n",
       "      <td>NaT</td>\n",
       "      <td>2011-08-01</td>\n",
       "      <td>NaT</td>\n",
       "      <td>2012-02-01</td>\n",
       "    </tr>\n",
       "    <tr>\n",
       "      <th>...</th>\n",
       "      <td>...</td>\n",
       "      <td>...</td>\n",
       "      <td>...</td>\n",
       "      <td>...</td>\n",
       "      <td>...</td>\n",
       "      <td>...</td>\n",
       "      <td>...</td>\n",
       "      <td>...</td>\n",
       "    </tr>\n",
       "    <tr>\n",
       "      <th>205784</th>\n",
       "      <td>Madame</td>\n",
       "      <td>Musso Claire Cécile Hélène</td>\n",
       "      <td></td>\n",
       "      <td>2013-08-01</td>\n",
       "      <td>NaT</td>\n",
       "      <td>2014-08-01</td>\n",
       "      <td>NaT</td>\n",
       "      <td>NaT</td>\n",
       "    </tr>\n",
       "    <tr>\n",
       "      <th>206436</th>\n",
       "      <td>Monsieur</td>\n",
       "      <td>Jacot-Guillarmod Bastien</td>\n",
       "      <td></td>\n",
       "      <td>2013-08-01</td>\n",
       "      <td>NaT</td>\n",
       "      <td>2014-08-01</td>\n",
       "      <td>NaT</td>\n",
       "      <td>NaT</td>\n",
       "    </tr>\n",
       "    <tr>\n",
       "      <th>211684</th>\n",
       "      <td>Monsieur</td>\n",
       "      <td>Malinovic Igor</td>\n",
       "      <td></td>\n",
       "      <td>2011-08-01</td>\n",
       "      <td>NaT</td>\n",
       "      <td>2013-08-01</td>\n",
       "      <td>NaT</td>\n",
       "      <td>NaT</td>\n",
       "    </tr>\n",
       "    <tr>\n",
       "      <th>213027</th>\n",
       "      <td>Monsieur</td>\n",
       "      <td>Devillard Florent</td>\n",
       "      <td></td>\n",
       "      <td>2015-08-01</td>\n",
       "      <td>NaT</td>\n",
       "      <td>2016-08-01</td>\n",
       "      <td>NaT</td>\n",
       "      <td>NaT</td>\n",
       "    </tr>\n",
       "    <tr>\n",
       "      <th>213553</th>\n",
       "      <td>Madame</td>\n",
       "      <td>Grosan Flavia Adelina</td>\n",
       "      <td></td>\n",
       "      <td>2011-08-01</td>\n",
       "      <td>NaT</td>\n",
       "      <td>2012-08-01</td>\n",
       "      <td>NaT</td>\n",
       "      <td>NaT</td>\n",
       "    </tr>\n",
       "    <tr>\n",
       "      <th>213664</th>\n",
       "      <td>Monsieur</td>\n",
       "      <td>Bouquet Stéphane</td>\n",
       "      <td></td>\n",
       "      <td>2014-08-01</td>\n",
       "      <td>NaT</td>\n",
       "      <td>2015-08-01</td>\n",
       "      <td>2016-08-01</td>\n",
       "      <td>NaT</td>\n",
       "    </tr>\n",
       "    <tr>\n",
       "      <th>214614</th>\n",
       "      <td>Madame</td>\n",
       "      <td>Vasilescu Oana-Maria</td>\n",
       "      <td></td>\n",
       "      <td>2011-08-01</td>\n",
       "      <td>NaT</td>\n",
       "      <td>2012-08-01</td>\n",
       "      <td>NaT</td>\n",
       "      <td>NaT</td>\n",
       "    </tr>\n",
       "    <tr>\n",
       "      <th>214731</th>\n",
       "      <td>Monsieur</td>\n",
       "      <td>Tandrau Alexandru Octavian</td>\n",
       "      <td></td>\n",
       "      <td>2011-08-01</td>\n",
       "      <td>NaT</td>\n",
       "      <td>2012-08-01</td>\n",
       "      <td>NaT</td>\n",
       "      <td>NaT</td>\n",
       "    </tr>\n",
       "    <tr>\n",
       "      <th>216451</th>\n",
       "      <td>Monsieur</td>\n",
       "      <td>Fiszel Ruben Leo</td>\n",
       "      <td></td>\n",
       "      <td>2015-08-01</td>\n",
       "      <td>NaT</td>\n",
       "      <td>2016-08-01</td>\n",
       "      <td>NaT</td>\n",
       "      <td>NaT</td>\n",
       "    </tr>\n",
       "    <tr>\n",
       "      <th>217453</th>\n",
       "      <td>Monsieur</td>\n",
       "      <td>Mouchet Christian Vincent</td>\n",
       "      <td></td>\n",
       "      <td>2014-08-01</td>\n",
       "      <td>NaT</td>\n",
       "      <td>2016-08-01</td>\n",
       "      <td>NaT</td>\n",
       "      <td>NaT</td>\n",
       "    </tr>\n",
       "    <tr>\n",
       "      <th>217489</th>\n",
       "      <td>Madame</td>\n",
       "      <td>Salathé Joanna Béatrice</td>\n",
       "      <td></td>\n",
       "      <td>2015-08-01</td>\n",
       "      <td>NaT</td>\n",
       "      <td>2016-08-01</td>\n",
       "      <td>NaT</td>\n",
       "      <td>NaT</td>\n",
       "    </tr>\n",
       "    <tr>\n",
       "      <th>221503</th>\n",
       "      <td>Madame</td>\n",
       "      <td>Bai Yingkun</td>\n",
       "      <td></td>\n",
       "      <td>2012-08-01</td>\n",
       "      <td>NaT</td>\n",
       "      <td>2014-08-01</td>\n",
       "      <td>NaT</td>\n",
       "      <td>NaT</td>\n",
       "    </tr>\n",
       "    <tr>\n",
       "      <th>225434</th>\n",
       "      <td>Monsieur</td>\n",
       "      <td>Aranibar Casas Ivan Wilson</td>\n",
       "      <td></td>\n",
       "      <td>2012-08-01</td>\n",
       "      <td>NaT</td>\n",
       "      <td>2014-08-01</td>\n",
       "      <td>NaT</td>\n",
       "      <td>NaT</td>\n",
       "    </tr>\n",
       "    <tr>\n",
       "      <th>225483</th>\n",
       "      <td>Monsieur</td>\n",
       "      <td>Cook Cedric Radboud Ernest</td>\n",
       "      <td></td>\n",
       "      <td>2015-08-01</td>\n",
       "      <td>NaT</td>\n",
       "      <td>2016-08-01</td>\n",
       "      <td>NaT</td>\n",
       "      <td>NaT</td>\n",
       "    </tr>\n",
       "    <tr>\n",
       "      <th>227848</th>\n",
       "      <td>Monsieur</td>\n",
       "      <td>Majeri Kasmaei Chervine</td>\n",
       "      <td></td>\n",
       "      <td>2014-08-01</td>\n",
       "      <td>NaT</td>\n",
       "      <td>2015-08-01</td>\n",
       "      <td>2016-08-01</td>\n",
       "      <td>NaT</td>\n",
       "    </tr>\n",
       "    <tr>\n",
       "      <th>232957</th>\n",
       "      <td>Monsieur</td>\n",
       "      <td>Wang Ching-Chia</td>\n",
       "      <td></td>\n",
       "      <td>2013-08-01</td>\n",
       "      <td>NaT</td>\n",
       "      <td>2014-08-01</td>\n",
       "      <td>NaT</td>\n",
       "      <td>NaT</td>\n",
       "    </tr>\n",
       "    <tr>\n",
       "      <th>233543</th>\n",
       "      <td>Monsieur</td>\n",
       "      <td>Jin Jialei</td>\n",
       "      <td></td>\n",
       "      <td>2013-08-01</td>\n",
       "      <td>NaT</td>\n",
       "      <td>2014-08-01</td>\n",
       "      <td>2015-08-01</td>\n",
       "      <td>NaT</td>\n",
       "    </tr>\n",
       "    <tr>\n",
       "      <th>235799</th>\n",
       "      <td>Monsieur</td>\n",
       "      <td>Ahmed Fayzan</td>\n",
       "      <td></td>\n",
       "      <td>2013-08-01</td>\n",
       "      <td>NaT</td>\n",
       "      <td>2014-08-01</td>\n",
       "      <td>NaT</td>\n",
       "      <td>NaT</td>\n",
       "    </tr>\n",
       "    <tr>\n",
       "      <th>236334</th>\n",
       "      <td>Monsieur</td>\n",
       "      <td>Brix Fabian</td>\n",
       "      <td></td>\n",
       "      <td>2013-08-01</td>\n",
       "      <td>NaT</td>\n",
       "      <td>2014-08-01</td>\n",
       "      <td>NaT</td>\n",
       "      <td>NaT</td>\n",
       "    </tr>\n",
       "    <tr>\n",
       "      <th>238067</th>\n",
       "      <td>Madame</td>\n",
       "      <td>Abbadi Hajar</td>\n",
       "      <td></td>\n",
       "      <td>2013-08-01</td>\n",
       "      <td>NaT</td>\n",
       "      <td>2014-08-01</td>\n",
       "      <td>NaT</td>\n",
       "      <td>NaT</td>\n",
       "    </tr>\n",
       "    <tr>\n",
       "      <th>238078</th>\n",
       "      <td>Monsieur</td>\n",
       "      <td>Droz Johan Abel Jacques</td>\n",
       "      <td></td>\n",
       "      <td>2014-08-01</td>\n",
       "      <td>NaT</td>\n",
       "      <td>2015-08-01</td>\n",
       "      <td>NaT</td>\n",
       "      <td>NaT</td>\n",
       "    </tr>\n",
       "    <tr>\n",
       "      <th>238189</th>\n",
       "      <td>Monsieur</td>\n",
       "      <td>El Graini Mohammed-Taha</td>\n",
       "      <td></td>\n",
       "      <td>2013-08-01</td>\n",
       "      <td>NaT</td>\n",
       "      <td>2014-08-01</td>\n",
       "      <td>NaT</td>\n",
       "      <td>NaT</td>\n",
       "    </tr>\n",
       "    <tr>\n",
       "      <th>238215</th>\n",
       "      <td>Madame</td>\n",
       "      <td>Vladarean Maria-Luiza</td>\n",
       "      <td></td>\n",
       "      <td>2013-08-01</td>\n",
       "      <td>NaT</td>\n",
       "      <td>2014-08-01</td>\n",
       "      <td>NaT</td>\n",
       "      <td>NaT</td>\n",
       "    </tr>\n",
       "    <tr>\n",
       "      <th>244136</th>\n",
       "      <td>Monsieur</td>\n",
       "      <td>Cardoso Rodrigues Bonifácio Vítor Gonçalo</td>\n",
       "      <td></td>\n",
       "      <td>2014-08-01</td>\n",
       "      <td>NaT</td>\n",
       "      <td>2015-08-01</td>\n",
       "      <td>2016-08-01</td>\n",
       "      <td>NaT</td>\n",
       "    </tr>\n",
       "    <tr>\n",
       "      <th>245475</th>\n",
       "      <td>Monsieur</td>\n",
       "      <td>Bodin Antoine Philippe Michel</td>\n",
       "      <td></td>\n",
       "      <td>2014-08-01</td>\n",
       "      <td>NaT</td>\n",
       "      <td>2015-08-01</td>\n",
       "      <td>NaT</td>\n",
       "      <td>NaT</td>\n",
       "    </tr>\n",
       "    <tr>\n",
       "      <th>248358</th>\n",
       "      <td>Monsieur</td>\n",
       "      <td>Bell Enea</td>\n",
       "      <td></td>\n",
       "      <td>2015-08-01</td>\n",
       "      <td>NaT</td>\n",
       "      <td>2016-08-01</td>\n",
       "      <td>NaT</td>\n",
       "      <td>NaT</td>\n",
       "    </tr>\n",
       "    <tr>\n",
       "      <th>251723</th>\n",
       "      <td>Monsieur</td>\n",
       "      <td>Korcek Juraj</td>\n",
       "      <td></td>\n",
       "      <td>2015-08-01</td>\n",
       "      <td>NaT</td>\n",
       "      <td>2016-08-01</td>\n",
       "      <td>NaT</td>\n",
       "      <td>NaT</td>\n",
       "    </tr>\n",
       "    <tr>\n",
       "      <th>255203</th>\n",
       "      <td>Monsieur</td>\n",
       "      <td>Kyritsis Georgios</td>\n",
       "      <td></td>\n",
       "      <td>2015-08-01</td>\n",
       "      <td>NaT</td>\n",
       "      <td>2016-08-01</td>\n",
       "      <td>NaT</td>\n",
       "      <td>NaT</td>\n",
       "    </tr>\n",
       "    <tr>\n",
       "      <th>256231</th>\n",
       "      <td>Monsieur</td>\n",
       "      <td>Fong Roger Duan</td>\n",
       "      <td></td>\n",
       "      <td>2015-08-01</td>\n",
       "      <td>NaT</td>\n",
       "      <td>2016-08-01</td>\n",
       "      <td>NaT</td>\n",
       "      <td>NaT</td>\n",
       "    </tr>\n",
       "    <tr>\n",
       "      <th>256612</th>\n",
       "      <td>Monsieur</td>\n",
       "      <td>Sympetheros Alexandros</td>\n",
       "      <td></td>\n",
       "      <td>2015-08-01</td>\n",
       "      <td>NaT</td>\n",
       "      <td>2016-08-01</td>\n",
       "      <td>NaT</td>\n",
       "      <td>NaT</td>\n",
       "    </tr>\n",
       "  </tbody>\n",
       "</table>\n",
       "<p>72 rows × 8 columns</p>\n",
       "</div>"
      ],
      "text/plain": [
       "           Civilité                                 Nom Prénom  \\\n",
       "No Sciper                                                        \n",
       "152232     Monsieur                         Anagnostaras David   \n",
       "167045     Monsieur                              Tangui Achraf   \n",
       "170220     Monsieur                             Barras Florian   \n",
       "170225     Monsieur                           Burgener Raphaël   \n",
       "170451     Monsieur                         Bolkensteyn Dinesh   \n",
       "171073     Monsieur              Jiekak Ndeutou Stève Aurélien   \n",
       "174774     Monsieur                               Balas Martin   \n",
       "174905     Monsieur                            Aubelle Flavien   \n",
       "176564     Monsieur                               Helfer Jonas   \n",
       "178706       Madame                        Falbriard Stéphanie   \n",
       "179449     Monsieur                      Bindschaedler Vincent   \n",
       "179988       Madame                            Portmann Joëlle   \n",
       "184772     Monsieur                              Arnfred Jonas   \n",
       "185042       Madame                             Sae-Tang Abson   \n",
       "186188     Monsieur                             Widmer Florian   \n",
       "186193     Monsieur                         Mühlematter Thomas   \n",
       "186872     Monsieur                              Kessel Alexis   \n",
       "191351     Monsieur                                 Molla Eray   \n",
       "191589       Madame                             Günaydin Deniz   \n",
       "192219     Monsieur                               Güzelhan Can   \n",
       "192304     Monsieur                               Sandoz David   \n",
       "193160     Monsieur                          Viswanathan Vijay   \n",
       "193362     Monsieur                              Gauthier Jean   \n",
       "193505     Monsieur                           Heiniger Sylvain   \n",
       "193545       Madame                        Kyriakopoulou Sofia   \n",
       "194430     Monsieur                            Kromwijk Sander   \n",
       "194728     Monsieur                            Bottinelli Paul   \n",
       "194971     Monsieur                            Poiffaut Romain   \n",
       "195916     Monsieur                            Viaccoz Thierry   \n",
       "196602       Madame                            Stojanov Marica   \n",
       "...             ...                                        ...   \n",
       "205784       Madame                 Musso Claire Cécile Hélène   \n",
       "206436     Monsieur                   Jacot-Guillarmod Bastien   \n",
       "211684     Monsieur                             Malinovic Igor   \n",
       "213027     Monsieur                          Devillard Florent   \n",
       "213553       Madame                      Grosan Flavia Adelina   \n",
       "213664     Monsieur                           Bouquet Stéphane   \n",
       "214614       Madame                       Vasilescu Oana-Maria   \n",
       "214731     Monsieur                 Tandrau Alexandru Octavian   \n",
       "216451     Monsieur                           Fiszel Ruben Leo   \n",
       "217453     Monsieur                  Mouchet Christian Vincent   \n",
       "217489       Madame                    Salathé Joanna Béatrice   \n",
       "221503       Madame                                Bai Yingkun   \n",
       "225434     Monsieur                 Aranibar Casas Ivan Wilson   \n",
       "225483     Monsieur                 Cook Cedric Radboud Ernest   \n",
       "227848     Monsieur                    Majeri Kasmaei Chervine   \n",
       "232957     Monsieur                            Wang Ching-Chia   \n",
       "233543     Monsieur                                 Jin Jialei   \n",
       "235799     Monsieur                               Ahmed Fayzan   \n",
       "236334     Monsieur                                Brix Fabian   \n",
       "238067       Madame                               Abbadi Hajar   \n",
       "238078     Monsieur                    Droz Johan Abel Jacques   \n",
       "238189     Monsieur                    El Graini Mohammed-Taha   \n",
       "238215       Madame                      Vladarean Maria-Luiza   \n",
       "244136     Monsieur  Cardoso Rodrigues Bonifácio Vítor Gonçalo   \n",
       "245475     Monsieur              Bodin Antoine Philippe Michel   \n",
       "248358     Monsieur                                  Bell Enea   \n",
       "251723     Monsieur                               Korcek Juraj   \n",
       "255203     Monsieur                          Kyritsis Georgios   \n",
       "256231     Monsieur                            Fong Roger Duan   \n",
       "256612     Monsieur                     Sympetheros Alexandros   \n",
       "\n",
       "               Spécialisation Master semestre 1 Master semestre 2  \\\n",
       "No Sciper                                                           \n",
       "152232                               2007-08-01               NaT   \n",
       "167045                               2008-08-01               NaT   \n",
       "170220                               2009-08-01               NaT   \n",
       "170225                               2009-08-01               NaT   \n",
       "170451                               2008-08-01               NaT   \n",
       "171073     Internet computing        2009-08-01               NaT   \n",
       "174774                               2010-08-01               NaT   \n",
       "174905                               2012-08-01               NaT   \n",
       "176564                               2009-08-01               NaT   \n",
       "178706                               2010-08-01               NaT   \n",
       "179449                               2010-08-01               NaT   \n",
       "179988                               2010-08-01               NaT   \n",
       "184772                               2011-08-01               NaT   \n",
       "185042                               2010-08-01               NaT   \n",
       "186188                               2011-08-01               NaT   \n",
       "186193                               2013-08-01               NaT   \n",
       "186872                               2013-08-01               NaT   \n",
       "191351                               2009-08-01               NaT   \n",
       "191589                               2009-08-01               NaT   \n",
       "192219                               2015-08-01               NaT   \n",
       "192304                               2013-08-01               NaT   \n",
       "193160                               2010-08-01               NaT   \n",
       "193362                               2012-08-01               NaT   \n",
       "193505                               2012-08-01               NaT   \n",
       "193545                               2009-08-01               NaT   \n",
       "194430                               2012-08-01               NaT   \n",
       "194728                               2012-08-01               NaT   \n",
       "194971       Software Systems        2011-08-01               NaT   \n",
       "195916                               2012-08-01               NaT   \n",
       "196602                               2010-08-01               NaT   \n",
       "...                       ...               ...               ...   \n",
       "205784                               2013-08-01               NaT   \n",
       "206436                               2013-08-01               NaT   \n",
       "211684                               2011-08-01               NaT   \n",
       "213027                               2015-08-01               NaT   \n",
       "213553                               2011-08-01               NaT   \n",
       "213664                               2014-08-01               NaT   \n",
       "214614                               2011-08-01               NaT   \n",
       "214731                               2011-08-01               NaT   \n",
       "216451                               2015-08-01               NaT   \n",
       "217453                               2014-08-01               NaT   \n",
       "217489                               2015-08-01               NaT   \n",
       "221503                               2012-08-01               NaT   \n",
       "225434                               2012-08-01               NaT   \n",
       "225483                               2015-08-01               NaT   \n",
       "227848                               2014-08-01               NaT   \n",
       "232957                               2013-08-01               NaT   \n",
       "233543                               2013-08-01               NaT   \n",
       "235799                               2013-08-01               NaT   \n",
       "236334                               2013-08-01               NaT   \n",
       "238067                               2013-08-01               NaT   \n",
       "238078                               2014-08-01               NaT   \n",
       "238189                               2013-08-01               NaT   \n",
       "238215                               2013-08-01               NaT   \n",
       "244136                               2014-08-01               NaT   \n",
       "245475                               2014-08-01               NaT   \n",
       "248358                               2015-08-01               NaT   \n",
       "251723                               2015-08-01               NaT   \n",
       "255203                               2015-08-01               NaT   \n",
       "256231                               2015-08-01               NaT   \n",
       "256612                               2015-08-01               NaT   \n",
       "\n",
       "          Master semestre 3 Projet Master automne Projet Master printemps  \n",
       "No Sciper                                                                  \n",
       "152232           2008-08-01                   NaT                     NaT  \n",
       "167045           2010-08-01                   NaT                     NaT  \n",
       "170220           2011-08-01                   NaT                     NaT  \n",
       "170225           2010-08-01                   NaT                     NaT  \n",
       "170451           2010-08-01                   NaT                     NaT  \n",
       "171073           2010-08-01                   NaT                     NaT  \n",
       "174774           2011-08-01                   NaT                     NaT  \n",
       "174905           2013-08-01                   NaT                     NaT  \n",
       "176564           2010-08-01                   NaT                     NaT  \n",
       "178706           2011-08-01                   NaT                     NaT  \n",
       "179449           2011-08-01                   NaT                     NaT  \n",
       "179988           2013-08-01                   NaT                     NaT  \n",
       "184772           2012-08-01                   NaT                     NaT  \n",
       "185042           2012-08-01                   NaT                     NaT  \n",
       "186188           2013-08-01                   NaT                     NaT  \n",
       "186193           2014-08-01                   NaT                     NaT  \n",
       "186872           2015-08-01                   NaT                     NaT  \n",
       "191351           2010-08-01                   NaT                     NaT  \n",
       "191589           2010-08-01                   NaT                     NaT  \n",
       "192219           2016-08-01                   NaT                     NaT  \n",
       "192304           2014-08-01                   NaT                     NaT  \n",
       "193160           2011-08-01                   NaT                     NaT  \n",
       "193362           2014-08-01                   NaT                     NaT  \n",
       "193505           2013-08-01                   NaT                     NaT  \n",
       "193545           2010-08-01                   NaT                     NaT  \n",
       "194430           2013-08-01                   NaT                     NaT  \n",
       "194728           2013-08-01                   NaT                     NaT  \n",
       "194971           2012-08-01                   NaT                     NaT  \n",
       "195916           2013-08-01                   NaT                     NaT  \n",
       "196602           2011-08-01                   NaT              2012-02-01  \n",
       "...                     ...                   ...                     ...  \n",
       "205784           2014-08-01                   NaT                     NaT  \n",
       "206436           2014-08-01                   NaT                     NaT  \n",
       "211684           2013-08-01                   NaT                     NaT  \n",
       "213027           2016-08-01                   NaT                     NaT  \n",
       "213553           2012-08-01                   NaT                     NaT  \n",
       "213664           2015-08-01            2016-08-01                     NaT  \n",
       "214614           2012-08-01                   NaT                     NaT  \n",
       "214731           2012-08-01                   NaT                     NaT  \n",
       "216451           2016-08-01                   NaT                     NaT  \n",
       "217453           2016-08-01                   NaT                     NaT  \n",
       "217489           2016-08-01                   NaT                     NaT  \n",
       "221503           2014-08-01                   NaT                     NaT  \n",
       "225434           2014-08-01                   NaT                     NaT  \n",
       "225483           2016-08-01                   NaT                     NaT  \n",
       "227848           2015-08-01            2016-08-01                     NaT  \n",
       "232957           2014-08-01                   NaT                     NaT  \n",
       "233543           2014-08-01            2015-08-01                     NaT  \n",
       "235799           2014-08-01                   NaT                     NaT  \n",
       "236334           2014-08-01                   NaT                     NaT  \n",
       "238067           2014-08-01                   NaT                     NaT  \n",
       "238078           2015-08-01                   NaT                     NaT  \n",
       "238189           2014-08-01                   NaT                     NaT  \n",
       "238215           2014-08-01                   NaT                     NaT  \n",
       "244136           2015-08-01            2016-08-01                     NaT  \n",
       "245475           2015-08-01                   NaT                     NaT  \n",
       "248358           2016-08-01                   NaT                     NaT  \n",
       "251723           2016-08-01                   NaT                     NaT  \n",
       "255203           2016-08-01                   NaT                     NaT  \n",
       "256231           2016-08-01                   NaT                     NaT  \n",
       "256612           2016-08-01                   NaT                     NaT  \n",
       "\n",
       "[72 rows x 8 columns]"
      ]
     },
     "execution_count": 43,
     "metadata": {},
     "output_type": "execute_result"
    }
   ],
   "source": [
    "master_full_data[master_full_data['Master semestre 2'].isnull()]"
   ]
  },
  {
   "cell_type": "markdown",
   "metadata": {},
   "source": [
    "Now we can compute the number of months by comparing the date in 'Master semestre 1' with the latest date between semester 2 or 3 or projects:"
   ]
  },
  {
   "cell_type": "code",
   "execution_count": 44,
   "metadata": {
    "collapsed": false,
    "scrolled": true
   },
   "outputs": [
    {
     "data": {
      "text/html": [
       "<div>\n",
       "<table border=\"1\" class=\"dataframe\">\n",
       "  <thead>\n",
       "    <tr style=\"text-align: right;\">\n",
       "      <th></th>\n",
       "      <th>Civilité</th>\n",
       "      <th>Nom Prénom</th>\n",
       "      <th>Spécialisation</th>\n",
       "      <th>Master semestre 1</th>\n",
       "      <th>Master semestre 2</th>\n",
       "      <th>Master semestre 3</th>\n",
       "      <th>Projet Master automne</th>\n",
       "      <th>Projet Master printemps</th>\n",
       "      <th>Durée master (mois)</th>\n",
       "    </tr>\n",
       "    <tr>\n",
       "      <th>No Sciper</th>\n",
       "      <th></th>\n",
       "      <th></th>\n",
       "      <th></th>\n",
       "      <th></th>\n",
       "      <th></th>\n",
       "      <th></th>\n",
       "      <th></th>\n",
       "      <th></th>\n",
       "      <th></th>\n",
       "    </tr>\n",
       "  </thead>\n",
       "  <tbody>\n",
       "    <tr>\n",
       "      <th>146330</th>\n",
       "      <td>Monsieur</td>\n",
       "      <td>Cardinaux Damien</td>\n",
       "      <td></td>\n",
       "      <td>2007-08-01</td>\n",
       "      <td>2008-02-01</td>\n",
       "      <td>2008-08-01</td>\n",
       "      <td>NaT</td>\n",
       "      <td>NaT</td>\n",
       "      <td>18</td>\n",
       "    </tr>\n",
       "    <tr>\n",
       "      <th>146742</th>\n",
       "      <td>Monsieur</td>\n",
       "      <td>Marx Clément</td>\n",
       "      <td>Signals, Images and Interfaces</td>\n",
       "      <td>2008-08-01</td>\n",
       "      <td>2010-02-01</td>\n",
       "      <td>2012-08-01</td>\n",
       "      <td>2010-08-01</td>\n",
       "      <td>2011-02-01</td>\n",
       "      <td>54</td>\n",
       "    </tr>\n",
       "    <tr>\n",
       "      <th>146929</th>\n",
       "      <td>Monsieur</td>\n",
       "      <td>Junod Antoine</td>\n",
       "      <td></td>\n",
       "      <td>2007-08-01</td>\n",
       "      <td>2008-02-01</td>\n",
       "      <td>NaT</td>\n",
       "      <td>NaT</td>\n",
       "      <td>NaT</td>\n",
       "      <td>12</td>\n",
       "    </tr>\n",
       "    <tr>\n",
       "      <th>147008</th>\n",
       "      <td>Monsieur</td>\n",
       "      <td>Good Xavier</td>\n",
       "      <td>Signals, Images and Interfaces</td>\n",
       "      <td>2011-08-01</td>\n",
       "      <td>2013-02-01</td>\n",
       "      <td>2012-08-01</td>\n",
       "      <td>NaT</td>\n",
       "      <td>NaT</td>\n",
       "      <td>24</td>\n",
       "    </tr>\n",
       "    <tr>\n",
       "      <th>152232</th>\n",
       "      <td>Monsieur</td>\n",
       "      <td>Anagnostaras David</td>\n",
       "      <td></td>\n",
       "      <td>2007-08-01</td>\n",
       "      <td>NaT</td>\n",
       "      <td>2008-08-01</td>\n",
       "      <td>NaT</td>\n",
       "      <td>NaT</td>\n",
       "      <td>18</td>\n",
       "    </tr>\n",
       "  </tbody>\n",
       "</table>\n",
       "</div>"
      ],
      "text/plain": [
       "           Civilité          Nom Prénom                  Spécialisation  \\\n",
       "No Sciper                                                                 \n",
       "146330     Monsieur    Cardinaux Damien                                   \n",
       "146742     Monsieur        Marx Clément  Signals, Images and Interfaces   \n",
       "146929     Monsieur       Junod Antoine                                   \n",
       "147008     Monsieur         Good Xavier  Signals, Images and Interfaces   \n",
       "152232     Monsieur  Anagnostaras David                                   \n",
       "\n",
       "          Master semestre 1 Master semestre 2 Master semestre 3  \\\n",
       "No Sciper                                                         \n",
       "146330           2007-08-01        2008-02-01        2008-08-01   \n",
       "146742           2008-08-01        2010-02-01        2012-08-01   \n",
       "146929           2007-08-01        2008-02-01               NaT   \n",
       "147008           2011-08-01        2013-02-01        2012-08-01   \n",
       "152232           2007-08-01               NaT        2008-08-01   \n",
       "\n",
       "          Projet Master automne Projet Master printemps  Durée master (mois)  \n",
       "No Sciper                                                                     \n",
       "146330                      NaT                     NaT                   18  \n",
       "146742               2010-08-01              2011-02-01                   54  \n",
       "146929                      NaT                     NaT                   12  \n",
       "147008                      NaT                     NaT                   24  \n",
       "152232                      NaT                     NaT                   18  "
      ]
     },
     "execution_count": 44,
     "metadata": {},
     "output_type": "execute_result"
    }
   ],
   "source": [
    "# We need to find the latest and earliest dates between semester 1, 2, 3 or projects\n",
    "# because some students start their Master by doing the semester 2 before the semester 1\n",
    "def latest_date(dates):\n",
    "    '''\n",
    "    This function returns the latest date between a set of valid dates.\n",
    "    '''\n",
    "    return max(dates[[not pd.isnull(date) for date in dates]])\n",
    "\n",
    "def earliest_date(dates):\n",
    "    '''\n",
    "    This function returns the earliest date between a set of valid dates.\n",
    "    '''\n",
    "    return min(dates[[not pd.isnull(date) for date in dates]])\n",
    "\n",
    "def compute_nb_months_master(row):\n",
    "    '''\n",
    "    This functions computes the number of months a Master lasts, comparing the earliest and latest dates\n",
    "    corresponding to the aforesaid Master.\n",
    "    '''\n",
    "    latest = latest_date(row[['Master semestre 1', 'Master semestre 2', 'Master semestre 3', 'Projet Master automne', 'Projet Master printemps']])\n",
    "    earliest = earliest_date(row[['Master semestre 1', 'Master semestre 2']])\n",
    "    delta = relativedelta.relativedelta(latest, earliest) \n",
    "    return delta.years * 12 + delta.months + 6\n",
    "\n",
    "# Again, we use French here to comply with data fetched from IS-Academia\n",
    "master_full_data['Durée master (mois)'] = master_full_data.apply(compute_nb_months_master, axis=1)\n",
    "\n",
    "master_full_data.head()"
   ]
  },
  {
   "cell_type": "markdown",
   "metadata": {},
   "source": [
    "### Using statistics"
   ]
  },
  {
   "cell_type": "markdown",
   "metadata": {},
   "source": [
    "We can, firstly, compute the average duration (in months) for a Computer Science (CS) Master at EPFL."
   ]
  },
  {
   "cell_type": "code",
   "execution_count": 45,
   "metadata": {
    "collapsed": false
   },
   "outputs": [
    {
     "data": {
      "text/plain": [
       "19.871559633027523"
      ]
     },
     "execution_count": 45,
     "metadata": {},
     "output_type": "execute_result"
    }
   ],
   "source": [
    "master_full_data['Durée master (mois)'].mean()"
   ]
  },
  {
   "cell_type": "markdown",
   "metadata": {},
   "source": [
    "We can also focus on available specialisations for CS Masters."
   ]
  },
  {
   "cell_type": "code",
   "execution_count": 46,
   "metadata": {
    "collapsed": false,
    "scrolled": true
   },
   "outputs": [
    {
     "data": {
      "text/html": [
       "<div>\n",
       "<table border=\"1\" class=\"dataframe\">\n",
       "  <thead>\n",
       "    <tr style=\"text-align: right;\">\n",
       "      <th></th>\n",
       "      <th>Nombre d'étudiants</th>\n",
       "    </tr>\n",
       "    <tr>\n",
       "      <th>Spécialisation</th>\n",
       "      <th></th>\n",
       "    </tr>\n",
       "  </thead>\n",
       "  <tbody>\n",
       "    <tr>\n",
       "      <th></th>\n",
       "      <td>691</td>\n",
       "    </tr>\n",
       "    <tr>\n",
       "      <th>Biocomputing</th>\n",
       "      <td>1</td>\n",
       "    </tr>\n",
       "    <tr>\n",
       "      <th>Computer Engineering - SP</th>\n",
       "      <td>4</td>\n",
       "    </tr>\n",
       "    <tr>\n",
       "      <th>Data Analytics</th>\n",
       "      <td>2</td>\n",
       "    </tr>\n",
       "    <tr>\n",
       "      <th>Foundations of Software</th>\n",
       "      <td>16</td>\n",
       "    </tr>\n",
       "    <tr>\n",
       "      <th>Information Security - SP</th>\n",
       "      <td>1</td>\n",
       "    </tr>\n",
       "    <tr>\n",
       "      <th>Internet computing</th>\n",
       "      <td>25</td>\n",
       "    </tr>\n",
       "    <tr>\n",
       "      <th>Service science</th>\n",
       "      <td>2</td>\n",
       "    </tr>\n",
       "    <tr>\n",
       "      <th>Signals, Images and Interfaces</th>\n",
       "      <td>15</td>\n",
       "    </tr>\n",
       "    <tr>\n",
       "      <th>Software Systems</th>\n",
       "      <td>6</td>\n",
       "    </tr>\n",
       "  </tbody>\n",
       "</table>\n",
       "</div>"
      ],
      "text/plain": [
       "                                Nombre d'étudiants\n",
       "Spécialisation                                    \n",
       "                                               691\n",
       "Biocomputing                                     1\n",
       "Computer Engineering - SP                        4\n",
       "Data Analytics                                   2\n",
       "Foundations of Software                         16\n",
       "Information Security - SP                        1\n",
       "Internet computing                              25\n",
       "Service science                                  2\n",
       "Signals, Images and Interfaces                  15\n",
       "Software Systems                                 6"
      ]
     },
     "execution_count": 46,
     "metadata": {},
     "output_type": "execute_result"
    }
   ],
   "source": [
    "nb_students_by_specialisation = master_full_data.groupby(['Spécialisation']).agg({'Durée master (mois)':{'Nombre d\\'étudiants':'count'}})\n",
    "nb_students_by_specialisation.columns = nb_students_by_specialisation.columns.droplevel(0)\n",
    "nb_students_by_specialisation"
   ]
  },
  {
   "cell_type": "markdown",
   "metadata": {},
   "source": [
    "We see, for example, that the majority of students don't choose any specialisation during their Master course."
   ]
  },
  {
   "cell_type": "markdown",
   "metadata": {},
   "source": [
    "Let's compute the mean of months duration of a CS Master at EPFL."
   ]
  },
  {
   "cell_type": "code",
   "execution_count": 47,
   "metadata": {
    "collapsed": false,
    "scrolled": true
   },
   "outputs": [
    {
     "data": {
      "text/html": [
       "<div>\n",
       "<table border=\"1\" class=\"dataframe\">\n",
       "  <thead>\n",
       "    <tr style=\"text-align: right;\">\n",
       "      <th></th>\n",
       "      <th>Durée moyenne d'un Master (mois)</th>\n",
       "    </tr>\n",
       "    <tr>\n",
       "      <th>Spécialisation</th>\n",
       "      <th></th>\n",
       "    </tr>\n",
       "  </thead>\n",
       "  <tbody>\n",
       "    <tr>\n",
       "      <th></th>\n",
       "      <td>19.615051</td>\n",
       "    </tr>\n",
       "    <tr>\n",
       "      <th>Biocomputing</th>\n",
       "      <td>18.000000</td>\n",
       "    </tr>\n",
       "    <tr>\n",
       "      <th>Computer Engineering - SP</th>\n",
       "      <td>21.000000</td>\n",
       "    </tr>\n",
       "    <tr>\n",
       "      <th>Data Analytics</th>\n",
       "      <td>15.000000</td>\n",
       "    </tr>\n",
       "    <tr>\n",
       "      <th>Foundations of Software</th>\n",
       "      <td>22.125000</td>\n",
       "    </tr>\n",
       "    <tr>\n",
       "      <th>Information Security - SP</th>\n",
       "      <td>30.000000</td>\n",
       "    </tr>\n",
       "    <tr>\n",
       "      <th>Internet computing</th>\n",
       "      <td>21.600000</td>\n",
       "    </tr>\n",
       "    <tr>\n",
       "      <th>Service science</th>\n",
       "      <td>18.000000</td>\n",
       "    </tr>\n",
       "    <tr>\n",
       "      <th>Signals, Images and Interfaces</th>\n",
       "      <td>25.200000</td>\n",
       "    </tr>\n",
       "    <tr>\n",
       "      <th>Software Systems</th>\n",
       "      <td>23.000000</td>\n",
       "    </tr>\n",
       "  </tbody>\n",
       "</table>\n",
       "</div>"
      ],
      "text/plain": [
       "                                Durée moyenne d'un Master (mois)\n",
       "Spécialisation                                                  \n",
       "                                                       19.615051\n",
       "Biocomputing                                           18.000000\n",
       "Computer Engineering - SP                              21.000000\n",
       "Data Analytics                                         15.000000\n",
       "Foundations of Software                                22.125000\n",
       "Information Security - SP                              30.000000\n",
       "Internet computing                                     21.600000\n",
       "Service science                                        18.000000\n",
       "Signals, Images and Interfaces                         25.200000\n",
       "Software Systems                                       23.000000"
      ]
     },
     "execution_count": 47,
     "metadata": {},
     "output_type": "execute_result"
    }
   ],
   "source": [
    "mean_cs_duration_by_spycialisation = master_full_data.groupby(['Spécialisation']).agg({'Durée master (mois)':{'Durée moyenne d\\'un Master (mois)':'mean'}})\n",
    "mean_cs_duration_by_spycialisation.columns = mean_cs_duration_by_spycialisation.columns.droplevel(0)\n",
    "mean_cs_duration_by_spycialisation"
   ]
  },
  {
   "cell_type": "markdown",
   "metadata": {},
   "source": [
    "We see that there is some gap between results."
   ]
  },
  {
   "cell_type": "markdown",
   "metadata": {},
   "source": [
    "However, and as we said before, average is not a robust statistic. Let's check what we obtain using the median here."
   ]
  },
  {
   "cell_type": "code",
   "execution_count": 48,
   "metadata": {
    "collapsed": false
   },
   "outputs": [
    {
     "data": {
      "text/html": [
       "<div>\n",
       "<table border=\"1\" class=\"dataframe\">\n",
       "  <thead>\n",
       "    <tr style=\"text-align: right;\">\n",
       "      <th></th>\n",
       "      <th>Durée médiane d'un Master (mois)</th>\n",
       "    </tr>\n",
       "    <tr>\n",
       "      <th>Spécialisation</th>\n",
       "      <th></th>\n",
       "    </tr>\n",
       "  </thead>\n",
       "  <tbody>\n",
       "    <tr>\n",
       "      <th></th>\n",
       "      <td>18</td>\n",
       "    </tr>\n",
       "    <tr>\n",
       "      <th>Biocomputing</th>\n",
       "      <td>18</td>\n",
       "    </tr>\n",
       "    <tr>\n",
       "      <th>Computer Engineering - SP</th>\n",
       "      <td>21</td>\n",
       "    </tr>\n",
       "    <tr>\n",
       "      <th>Data Analytics</th>\n",
       "      <td>15</td>\n",
       "    </tr>\n",
       "    <tr>\n",
       "      <th>Foundations of Software</th>\n",
       "      <td>21</td>\n",
       "    </tr>\n",
       "    <tr>\n",
       "      <th>Information Security - SP</th>\n",
       "      <td>30</td>\n",
       "    </tr>\n",
       "    <tr>\n",
       "      <th>Internet computing</th>\n",
       "      <td>24</td>\n",
       "    </tr>\n",
       "    <tr>\n",
       "      <th>Service science</th>\n",
       "      <td>18</td>\n",
       "    </tr>\n",
       "    <tr>\n",
       "      <th>Signals, Images and Interfaces</th>\n",
       "      <td>24</td>\n",
       "    </tr>\n",
       "    <tr>\n",
       "      <th>Software Systems</th>\n",
       "      <td>21</td>\n",
       "    </tr>\n",
       "  </tbody>\n",
       "</table>\n",
       "</div>"
      ],
      "text/plain": [
       "                                Durée médiane d'un Master (mois)\n",
       "Spécialisation                                                  \n",
       "                                                              18\n",
       "Biocomputing                                                  18\n",
       "Computer Engineering - SP                                     21\n",
       "Data Analytics                                                15\n",
       "Foundations of Software                                       21\n",
       "Information Security - SP                                     30\n",
       "Internet computing                                            24\n",
       "Service science                                               18\n",
       "Signals, Images and Interfaces                                24\n",
       "Software Systems                                              21"
      ]
     },
     "execution_count": 48,
     "metadata": {},
     "output_type": "execute_result"
    }
   ],
   "source": [
    "median_cs_duration_by_spycialisation = master_full_data.groupby(['Spécialisation']).agg({'Durée master (mois)':{'Durée médiane d\\'un Master (mois)':'median'}})\n",
    "median_cs_duration_by_spycialisation.columns = median_cs_duration_by_spycialisation.columns.droplevel(0)\n",
    "median_cs_duration_by_spycialisation"
   ]
  },
  {
   "cell_type": "markdown",
   "metadata": {},
   "source": [
    "Differences are still important, so we have to focus our attention on the obtained results and do other checks."
   ]
  },
  {
   "cell_type": "markdown",
   "metadata": {},
   "source": [
    "Here the T-test is not appropriate ; indeed, the number of students with a 'Spécialisation' is not big enough to be approximated by a normal distibution. Moreover, we don't have any information about the distibution of the data we are analysing.\n",
    "\n",
    "However, the K-S test seems appropriate for 'Spécialisation' greater in which there are at least 5 people (in order to compare distribution with enough value)."
   ]
  },
  {
   "cell_type": "markdown",
   "metadata": {},
   "source": [
    "> We removed 'Computer Engineering - SP', 'Data Analytics', 'Information Security - SP' and 'Service science' from our study because of the number of students in (< 5)."
   ]
  },
  {
   "cell_type": "markdown",
   "metadata": {},
   "source": [
    "The test will tell us if 'Spécialisation' criterion is statiscally close to the data related to Master students."
   ]
  },
  {
   "cell_type": "code",
   "execution_count": 49,
   "metadata": {
    "collapsed": false,
    "scrolled": false
   },
   "outputs": [
    {
     "name": "stdout",
     "output_type": "stream",
     "text": [
      "*** K-S test results ***\n",
      "\n",
      "Internet computing:\n",
      "\tKs_2sampResult(statistic=0.20152031454783748, pvalue=0.24899599766308464)\n",
      "\n",
      "Foundations of Software:\n",
      "\tKs_2sampResult(statistic=0.18152031454783746, pvalue=0.63489452292285387)\n",
      "\n",
      "Data Analytics:\n",
      "\tKs_2sampResult(statistic=0.31847968545216254, pvalue=0.95513987659961386)\n",
      "\n",
      "Computer Engineering - SP:\n",
      "\tKs_2sampResult(statistic=0.19659239842726081, pvalue=0.99331894889568428)\n",
      "\n",
      "Service science:\n",
      "\tKs_2sampResult(statistic=0.31847968545216254, pvalue=0.95513987659961386)\n",
      "\n",
      "Biocomputing:\n",
      "\tKs_2sampResult(statistic=0.31847968545216254, pvalue=0.99795151925956882)\n",
      "\n",
      "Software Systems:\n",
      "\tKs_2sampResult(statistic=0.19659239842726081, pvalue=0.95565723658428914)\n",
      "\n",
      "Information Security - SP:\n",
      "\tKs_2sampResult(statistic=0.84534731323722145, pvalue=0.23024482456234563)\n",
      "\n",
      "<No specialisation>:\n",
      "\tKs_2sampResult(statistic=0.020361016855925174, pvalue=0.99804936910271569)\n",
      "\n",
      "Signals, Images and Interfaces:\n",
      "\tKs_2sampResult(statistic=0.34818698121450414, pvalue=0.042610139560381316)\n",
      "\n"
     ]
    }
   ],
   "source": [
    "global_duration_serie = master_full_data['Durée master (mois)'].values\n",
    "specialities_duration_series = {}\n",
    "\n",
    "for speciality in master_full_data['Spécialisation'].unique():\n",
    "    speciality_name = speciality if len(speciality) > 0 else '<No specialisation>'\n",
    "    specialities_duration_series[speciality_name] = master_full_data['Durée master (mois)'][[spe == speciality for spe in master_full_data['Spécialisation']]].values\n",
    "\n",
    "print('*** K-S test results ***\\n')\n",
    "for speciality_name, speciality_serie in specialities_duration_series.items():\n",
    "    print(speciality_name + ':\\n\\t', end='')\n",
    "    print(stats.ks_2samp(global_duration_serie, speciality_serie), end='\\n\\n')"
   ]
  },
  {
   "cell_type": "markdown",
   "metadata": {},
   "source": [
    "*Note: Here, global duration was used for each K-S test.*\n",
    "\n",
    "The null-hypothesis for the K-S test is that the distributions are the same. Thus, the lower the P-value the greater the statistical evidence is to reject the null hypothesis and conclude that the distributions are different.\n",
    "\n",
    "If we take P-Value < 5%, we can only reject the null-hypothesis for the 'Signals, Images and Interfaces'.\n",
    "\n",
    "With the data we have, we can only say that students in speciality 'Signals, Images and Interfaces' spend more time than in general to obtain the master degree."
   ]
  },
  {
   "cell_type": "markdown",
   "metadata": {},
   "source": [
    "# Bonus"
   ]
  },
  {
   "cell_type": "markdown",
   "metadata": {},
   "source": [
    "**Perform the gender-based study also on the Master students, as explained in 1. Use scatterplots to visually identify changes over time. Plot males and females with different colors -- can you spot different trends that match the results of your statistical tests?**"
   ]
  },
  {
   "cell_type": "markdown",
   "metadata": {},
   "source": [
    "First, let's plot a graph showing the duration of CS Master course according to the sex for EPFL students."
   ]
  },
  {
   "cell_type": "code",
   "execution_count": 50,
   "metadata": {
    "collapsed": false
   },
   "outputs": [
    {
     "data": {
      "text/plain": [
       "<matplotlib.axes._subplots.AxesSubplot at 0x7fb7a073e550>"
      ]
     },
     "execution_count": 50,
     "metadata": {},
     "output_type": "execute_result"
    },
    {
     "data": {
      "image/png": "[encoded data removed]",
      "text/plain": [
       "<matplotlib.figure.Figure at 0x7fb7a057f240>"
      ]
     },
     "metadata": {},
     "output_type": "display_data"
    }
   ],
   "source": [
    "avg_duration_master_degree_by_sex = master_full_data.groupby(['Civilité', 'Durée master (mois)']).count()['Nom Prénom'].unstack(level=0).fillna(0).plot()\n",
    "avg_duration_master_degree_by_sex.set_ylabel('Number of students')\n",
    "avg_duration_master_degree_by_sex.set_xlabel('Master duration in months')\n",
    "avg_duration_master_degree_by_sex.set_title('Master study plan duration by sex for EPFL students')\n",
    "avg_duration_master_degree_by_sex"
   ]
  },
  {
   "cell_type": "markdown",
   "metadata": {},
   "source": [
    "The graph tends to show that for female and male students, the behavior is the same (especially, a majority of students obtain their Master in 18 months).\n",
    "\n",
    "However, we must keep in mind that the number of male students is really higher than the number of female students, and thus, making conclusion regarding any link between the two sets must be dangerous without further analysis."
   ]
  },
  {
   "cell_type": "markdown",
   "metadata": {},
   "source": [
    "As proposed, we can display the evolution of the mean duration for Master degree over the year.\n",
    "\n",
    "*Notes : Here, we assume by convention that a student is considered when he registers for a Master course. For example, if a student X starts a Master course in 2010 and graduates in 2012, after 18 months, he will be counted for 2010 and his associated duration will be 18. Also, for 2016, it seems that there is no available data for female students in CS...*"
   ]
  },
  {
   "cell_type": "code",
   "execution_count": 51,
   "metadata": {
    "collapsed": false,
    "scrolled": false
   },
   "outputs": [],
   "source": [
    "def get_beginning_year_master(row):\n",
    "    '''\n",
    "    This functions retrieves the year of registration to a Master course for a given student.\n",
    "    '''\n",
    "    earliest = earliest_date(row[['Master semestre 1', 'Master semestre 2']])\n",
    "    return earliest.year\n",
    "\n",
    "all_master_data = master_full_data.copy()\n",
    "\n",
    "# We add the beginning year for each student in a new column\n",
    "all_master_data['Année de début de Master'] = all_master_data.apply(get_beginning_year_master, axis=1)\n",
    "\n",
    "# These properties are used for the plot\n",
    "properties = {'Madame': {'label':'Female', 'color': 'red', 'marker':'x'},\n",
    "              'Monsieur': {'label':'Male', 'color': 'blue', 'marker':'o'}}"
   ]
  },
  {
   "cell_type": "code",
   "execution_count": 52,
   "metadata": {
    "collapsed": false
   },
   "outputs": [
    {
     "data": {
      "text/plain": [
       "<matplotlib.text.Text at 0x7fb7a05309e8>"
      ]
     },
     "execution_count": 52,
     "metadata": {},
     "output_type": "execute_result"
    },
    {
     "data": {
      "image/png": "[encoded data removed]",
      "text/plain": [
       "<matplotlib.figure.Figure at 0x7fb7a0515c50>"
      ]
     },
     "metadata": {},
     "output_type": "display_data"
    }
   ],
   "source": [
    "# We create a plot and set its size\n",
    "f, axes = plt.subplots(figsize=(7,4))\n",
    "\n",
    "# For each category (Female, Male), we plot the corresponding graph (we use mean here)\n",
    "for label, df in all_master_data.groupby(['Civilité', 'Année de début de Master']).mean().reset_index().groupby('Civilité'):\n",
    "    df.plot(kind='scatter', x='Année de début de Master', y='Durée master (mois)', ax=axes, label=properties[label]['label'], color=properties[label]['color'], marker=properties[label]['marker'])\n",
    "\n",
    "# Finally, we add the title and labels    \n",
    "axes.set_title('Evolution of the mean duration for Master degree (in months) according to year of beginning')\n",
    "axes.set_xlabel('First year of Master degree')\n",
    "axes.set_ylabel('Mean duration (months)')"
   ]
  },
  {
   "cell_type": "markdown",
   "metadata": {},
   "source": [
    "We can notice some differences over some years, but it is difficult here to conclude anything.\n",
    "\n",
    "Let's plot the same graph but using the median, which is a robust statistic."
   ]
  },
  {
   "cell_type": "code",
   "execution_count": 53,
   "metadata": {
    "collapsed": false
   },
   "outputs": [
    {
     "data": {
      "text/plain": [
       "<matplotlib.text.Text at 0x7fb7a0482c18>"
      ]
     },
     "execution_count": 53,
     "metadata": {},
     "output_type": "execute_result"
    },
    {
     "data": {
      "image/png": "[encoded data removed]",
      "text/plain": [
       "<matplotlib.figure.Figure at 0x7fb7a05dd160>"
      ]
     },
     "metadata": {},
     "output_type": "display_data"
    }
   ],
   "source": [
    "# We create a plot and set its size\n",
    "f, axes = plt.subplots(figsize=(7,4))\n",
    "\n",
    "# For each category (Female, Male), we plot the corresponding graph (we use median here)\n",
    "for label, df in all_master_data.groupby(['Civilité', 'Année de début de Master']).median().reset_index().groupby('Civilité'):\n",
    "    df.plot(kind='scatter', x='Année de début de Master', y='Durée master (mois)', ax=axes, label=properties[label]['label'], color=properties[label]['color'], marker=properties[label]['marker'])\n",
    "\n",
    "# Finally, we add the title and labels    \n",
    "axes.set_title('Evolution of the median duration for Master degree (in months) according to year of beginning')\n",
    "axes.set_xlabel('First year of Master degree')\n",
    "axes.set_ylabel('Median duration (months)')"
   ]
  },
  {
   "cell_type": "markdown",
   "metadata": {},
   "source": [
    "Here, we see that over the years, the duration between female and male students is approximately the same (except for 2008 and 2012), and thus, we cannot make any assumption."
   ]
  },
  {
   "cell_type": "code",
   "execution_count": 54,
   "metadata": {
    "collapsed": false
   },
   "outputs": [
    {
     "data": {
      "text/plain": [
       "Ks_2sampResult(statistic=0.032589512727707798, pvalue=0.99997956042436631)"
      ]
     },
     "execution_count": 54,
     "metadata": {},
     "output_type": "execute_result"
    }
   ],
   "source": [
    "female_students_master = master_full_data['Durée master (mois)'][[sex == 'Madame' for sex in master_full_data['Civilité']]].values\n",
    "male_students_master = master_full_data['Durée master (mois)'][[sex == 'Monsieur' for sex in master_full_data['Civilité']]].values\n",
    "stats.ks_2samp(female_students_master, male_students_master)"
   ]
  },
  {
   "cell_type": "markdown",
   "metadata": {},
   "source": [
    "Using K-S test, we see that the P-value is extremely high. Thus, we can't reject the null hypothesis and state that the two distributions are different, in general.\n",
    "\n",
    "<b>Important note: In total, we have much more man students than female students so the K-S test must not be fully trusted here!</b>"
   ]
  },
  {
   "cell_type": "markdown",
   "metadata": {},
   "source": [
    "The last thing we can do is checking year by year if we can assume a sufficient difference in order to conclude that the two distribution were different.\n",
    "\n",
    "First, we have to compute the number of students for each year, and according to the sex, to ensure that we have enough values."
   ]
  },
  {
   "cell_type": "code",
   "execution_count": 55,
   "metadata": {
    "collapsed": false
   },
   "outputs": [
    {
     "data": {
      "text/html": [
       "<div>\n",
       "<table border=\"1\" class=\"dataframe\">\n",
       "  <thead>\n",
       "    <tr style=\"text-align: right;\">\n",
       "      <th></th>\n",
       "      <th></th>\n",
       "      <th>Nombre d'étudiants</th>\n",
       "    </tr>\n",
       "    <tr>\n",
       "      <th>Civilité</th>\n",
       "      <th>Année de début de Master</th>\n",
       "      <th></th>\n",
       "    </tr>\n",
       "  </thead>\n",
       "  <tbody>\n",
       "    <tr>\n",
       "      <th rowspan=\"9\" valign=\"top\">Madame</th>\n",
       "      <th>2007</th>\n",
       "      <td>10</td>\n",
       "    </tr>\n",
       "    <tr>\n",
       "      <th>2008</th>\n",
       "      <td>6</td>\n",
       "    </tr>\n",
       "    <tr>\n",
       "      <th>2009</th>\n",
       "      <td>3</td>\n",
       "    </tr>\n",
       "    <tr>\n",
       "      <th>2010</th>\n",
       "      <td>13</td>\n",
       "    </tr>\n",
       "    <tr>\n",
       "      <th>2011</th>\n",
       "      <td>16</td>\n",
       "    </tr>\n",
       "    <tr>\n",
       "      <th>2012</th>\n",
       "      <td>12</td>\n",
       "    </tr>\n",
       "    <tr>\n",
       "      <th>2013</th>\n",
       "      <td>14</td>\n",
       "    </tr>\n",
       "    <tr>\n",
       "      <th>2014</th>\n",
       "      <td>12</td>\n",
       "    </tr>\n",
       "    <tr>\n",
       "      <th>2015</th>\n",
       "      <td>15</td>\n",
       "    </tr>\n",
       "    <tr>\n",
       "      <th rowspan=\"10\" valign=\"top\">Monsieur</th>\n",
       "      <th>2007</th>\n",
       "      <td>59</td>\n",
       "    </tr>\n",
       "    <tr>\n",
       "      <th>2008</th>\n",
       "      <td>48</td>\n",
       "    </tr>\n",
       "    <tr>\n",
       "      <th>2009</th>\n",
       "      <td>43</td>\n",
       "    </tr>\n",
       "    <tr>\n",
       "      <th>2010</th>\n",
       "      <td>79</td>\n",
       "    </tr>\n",
       "    <tr>\n",
       "      <th>2011</th>\n",
       "      <td>76</td>\n",
       "    </tr>\n",
       "    <tr>\n",
       "      <th>2012</th>\n",
       "      <td>71</td>\n",
       "    </tr>\n",
       "    <tr>\n",
       "      <th>2013</th>\n",
       "      <td>79</td>\n",
       "    </tr>\n",
       "    <tr>\n",
       "      <th>2014</th>\n",
       "      <td>86</td>\n",
       "    </tr>\n",
       "    <tr>\n",
       "      <th>2015</th>\n",
       "      <td>111</td>\n",
       "    </tr>\n",
       "    <tr>\n",
       "      <th>2016</th>\n",
       "      <td>10</td>\n",
       "    </tr>\n",
       "  </tbody>\n",
       "</table>\n",
       "</div>"
      ],
      "text/plain": [
       "                                   Nombre d'étudiants\n",
       "Civilité Année de début de Master                    \n",
       "Madame   2007                                      10\n",
       "         2008                                       6\n",
       "         2009                                       3\n",
       "         2010                                      13\n",
       "         2011                                      16\n",
       "         2012                                      12\n",
       "         2013                                      14\n",
       "         2014                                      12\n",
       "         2015                                      15\n",
       "Monsieur 2007                                      59\n",
       "         2008                                      48\n",
       "         2009                                      43\n",
       "         2010                                      79\n",
       "         2011                                      76\n",
       "         2012                                      71\n",
       "         2013                                      79\n",
       "         2014                                      86\n",
       "         2015                                     111\n",
       "         2016                                      10"
      ]
     },
     "execution_count": 55,
     "metadata": {},
     "output_type": "execute_result"
    }
   ],
   "source": [
    "all_master_data.groupby(['Civilité', 'Année de début de Master']).count()\n",
    "\n",
    "number_master_students_per_year = all_master_data.groupby(['Civilité', 'Année de début de Master']).agg({'Durée master (mois)':{'Nombre d\\'étudiants':'count'}})\n",
    "number_master_students_per_year.columns = number_master_students_per_year.columns.droplevel(0)\n",
    "number_master_students_per_year"
   ]
  },
  {
   "cell_type": "markdown",
   "metadata": {},
   "source": [
    "For 2009, we have only 3 students, which is very low.\n",
    "\n",
    "<b>Important note (bis): More generally, we have much more man students than female students for each year so the following K-S tests must not be fully trusted!</b>"
   ]
  },
  {
   "cell_type": "code",
   "execution_count": 56,
   "metadata": {
    "collapsed": false
   },
   "outputs": [
    {
     "name": "stdout",
     "output_type": "stream",
     "text": [
      "*** K-S test results ***\n",
      "\n",
      "2007 :\n",
      "\tKs_2sampResult(statistic=0.3627118644067796, pvalue=0.16425207020368532)\n",
      "2008 :\n",
      "\tKs_2sampResult(statistic=0.4375, pvalue=0.19079753088575546)\n",
      "2011 :\n",
      "\tKs_2sampResult(statistic=0.13486842105263158, pvalue=0.95676540890426909)\n",
      "2009 :\n",
      "\tKs_2sampResult(statistic=0.34883720930232553, pvalue=0.79364700503366725)\n",
      "2010 :\n",
      "\tKs_2sampResult(statistic=0.10321324245374874, pvalue=0.99947240267417436)\n",
      "2014 :\n",
      "\tKs_2sampResult(statistic=0.13178294573643412, pvalue=0.98804690249005545)\n",
      "2012 :\n",
      "\tKs_2sampResult(statistic=0.14671361502347419, pvalue=0.96842264235413555)\n",
      "2013 :\n",
      "\tKs_2sampResult(statistic=0.22423146473779376, pvalue=0.53225923682245657)\n",
      "2015 :\n",
      "\tKs_2sampResult(statistic=0.079279279279279274, pvalue=0.99999060841968357)\n"
     ]
    }
   ],
   "source": [
    "print('*** K-S test results ***\\n')\n",
    "for year in all_master_data['Année de début de Master'].unique()[:-1]:\n",
    "    duration_for_female = all_master_data['Durée master (mois)'][(all_master_data['Civilité'] == 'Madame') & (all_master_data['Année de début de Master'] == year)].values\n",
    "    duration_for_male = all_master_data['Durée master (mois)'][(all_master_data['Civilité'] == 'Monsieur') & (all_master_data['Année de début de Master'] == year)].values\n",
    "    print('%02d :\\n\\t' % year, end='')\n",
    "    print(stats.ks_2samp(duration_for_female, duration_for_male), end='\\n')"
   ]
  },
  {
   "cell_type": "markdown",
   "metadata": {},
   "source": [
    "We can see that the distribution over the time is not identical because the P-Value change every year. But in every case, we can't reject the null-hypothesis (> 5%)."
   ]
  }
 ],
 "metadata": {
  "anaconda-cloud": {},
  "kernelspec": {
   "display_name": "Python [Root]",
   "language": "python",
   "name": "Python [Root]"
  },
  "language_info": {
   "codemirror_mode": {
    "name": "ipython",
    "version": 3
   },
   "file_extension": ".py",
   "mimetype": "text/x-python",
   "name": "python",
   "nbconvert_exporter": "python",
   "pygments_lexer": "ipython3",
   "version": "3.5.2"
  }
 },
 "nbformat": 4,
 "nbformat_minor": 0
}
