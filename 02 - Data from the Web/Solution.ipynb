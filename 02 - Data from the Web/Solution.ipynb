{
 "cells": [
  {
   "cell_type": "markdown",
   "metadata": {
    "collapsed": true
   },
   "source": [
    "# Homework 2 - IS-Academia"
   ]
  },
  {
   "cell_type": "code",
   "execution_count": null,
   "metadata": {
    "collapsed": true
   },
   "outputs": [],
   "source": [
    "import requests as rq\n",
    "from bs4 import BeautifulSoup as bfs\n",
    "import numpy as np\n",
    "import pandas as pd\n",
    "import collections\n",
    "import os\n",
    "%matplotlib inline\n",
    "import matplotlib.pyplot as plt\n",
    "import seaborn as sns\n",
    "sns.set_context('notebook')\n",
    "from dateutil import relativedelta\n",
    "import scipy.stats as stats\n",
    "import math"
   ]
  },
  {
   "cell_type": "markdown",
   "metadata": {},
   "source": [
    "# Question 1 - Bachelor\n",
    "\n",
    "Obtain all the data for the Bachelor students, starting from 2007. Keep only the students for which you have an entry for both Bachelor semestre 1 and Bachelor semestre 6. Compute how many months it took each student to go from the first to the sixth semester. Partition the data between male and female students, and compute the average -- is the difference in average statistically significant?</b>"
   ]
  },
  {
   "cell_type": "markdown",
   "metadata": {},
   "source": [
    "Firstly, we define some constants that will be usefull for all questions. The two URL have been found with Postman."
   ]
  },
  {
   "cell_type": "code",
   "execution_count": null,
   "metadata": {
    "collapsed": true
   },
   "outputs": [],
   "source": [
    "DATA_FOLDER = 'Data/'\n",
    "DATA_URL = 'http://isa.epfl.ch/imoniteur_ISAP/!GEDPUBLICREPORTS.html'\n",
    "FILTER_URL = 'http://isa.epfl.ch/imoniteur_ISAP/!GEDPUBLICREPORTS.filter?ww_i_reportModel=133685247'"
   ]
  },
  {
   "cell_type": "markdown",
   "metadata": {},
   "source": [
    "## Get params"
   ]
  },
  {
   "cell_type": "markdown",
   "metadata": {},
   "source": [
    "In order to get all students data, we need to get all parameters available to fetch the database by the REST API. To do so, we begin by request the section that display all `select` lists in the web page. Then, we extract for each options the humain readable name with his corresponding value."
   ]
  },
  {
   "cell_type": "code",
   "execution_count": null,
   "metadata": {
    "collapsed": false
   },
   "outputs": [],
   "source": [
    "filters_page = rq.get(FILTER_URL)\n",
    "filters = bfs(filters_page.text, 'html.parser')\n",
    "selects = filters.findAll('select')\n",
    "\n",
    "available_params = collections.defaultdict(dict)\n",
    "\n",
    "for select in selects:    \n",
    "    options = collections.defaultdict(list)\n",
    "    \n",
    "    for option in select.findAll('option'):\n",
    "        if option.attrs['value'] != 'null':\n",
    "            options[option.text] = option.attrs['value']\n",
    "        \n",
    "    available_params[select.attrs['name']] = options\n",
    "  \n",
    "available_params"
   ]
  },
  {
   "cell_type": "markdown",
   "metadata": {},
   "source": [
    "### Making params names readable"
   ]
  },
  {
   "cell_type": "markdown",
   "metadata": {},
   "source": [
    "Now, we have all available parameters, but there are not easy to read. To improve this, we have made the choice to directly see the source code in the HTML page and make the correspondance because there are very few `select` box (so it's faster than extract this information directly in python).\n",
    "\n",
    "Every constants represent a parameter name. We define in addition a dictionary of default params needed in all requests we will make."
   ]
  },
  {
   "cell_type": "code",
   "execution_count": null,
   "metadata": {
    "collapsed": true
   },
   "outputs": [],
   "source": [
    "SECTION_PARAM = 'ww_x_UNITE_ACAD' # like 'Informatique' => Computer Sciences\n",
    "YEAR_PARAM = 'ww_x_PERIODE_ACAD' # like '2016-2017'\n",
    "SEMESTER_PARAM = 'ww_x_PERIODE_PEDAGO' # like 'Bachelor semestre 1' => Bachelor semester 1\n",
    "TYPE_PARAM = 'ww_x_HIVERETE' # like 'Semestre d'automne' => Fall semester\n",
    "\n",
    "DEFAULT_PARAMS = {\n",
    "    'ww_x_GPS' : '-1',\n",
    "    'ww_i_reportModel' : '133685247',\n",
    "    'ww_i_reportModelXsl' : '133685270',\n",
    "}\n",
    "\n",
    "section_codes = available_params[SECTION_PARAM]\n",
    "year_codes = available_params[YEAR_PARAM]\n",
    "semester_codes = available_params[SEMESTER_PARAM]\n",
    "type_codes = available_params[TYPE_PARAM]"
   ]
  },
  {
   "cell_type": "markdown",
   "metadata": {},
   "source": [
    "## Get data"
   ]
  },
  {
   "cell_type": "markdown",
   "metadata": {},
   "source": [
    "Firstly, we make a function that return a single dataframe from the html table extracted from a requested page.\n",
    "\n",
    "We try to get columns from table header. But in our case, all tables have two header rows, the first one is the title of the table and the second one is the colum names.\n",
    "\n",
    "Then, we fetch all rows to convert them to a single serie (list of column values in this row).\n",
    "Finally, we combine columns names and series in a new pandas DataFrame."
   ]
  },
  {
   "cell_type": "code",
   "execution_count": null,
   "metadata": {
    "collapsed": true
   },
   "outputs": [],
   "source": [
    "def html_page_to_dataframe(page):\n",
    "    soup = bfs(page.text, 'html.parser')\n",
    "    table = soup.find('table')\n",
    "    \n",
    "    # Get columns names, skip the first column that show the section and year\n",
    "    columns = [column.text for column in table.find_all('th')[1:]]\n",
    "    \n",
    "    series = []\n",
    "    # Fetch all rows to a serie, skip the two first rows that represent header\n",
    "    for row in table.find_all('tr')[2:]:\n",
    "        serie = []\n",
    "        \n",
    "        # Fetch all columns, but skip the last one that is not in the header (badly structered html table)\n",
    "        for col in row.find_all('td')[:-1]:\n",
    "            serie.append(col.text)\n",
    "        series.append(serie)\n",
    "\n",
    "    # Create a dataframe from the columns and series variable\n",
    "    df = pd.DataFrame(series)\n",
    "    df.columns = columns\n",
    "    \n",
    "    return df"
   ]
  },
  {
   "cell_type": "markdown",
   "metadata": {},
   "source": [
    "Now, we are able to request a IS-Academia page containing the data table of students in a specific section, year and semester.\n",
    "We will store all data, to avoid multiple requests and DDOS the IS-Academia access. To do so, we will use pickle to serialize all data :"
   ]
  },
  {
   "cell_type": "code",
   "execution_count": null,
   "metadata": {
    "collapsed": false,
    "scrolled": true
   },
   "outputs": [],
   "source": [
    "# Create the directory Data if not exist\n",
    "if not os.path.exists('Data'):\n",
    "    os.makedirs(DATA_FOLDER)\n",
    "\n",
    "# We focus only one data of students in bachelor and master\n",
    "bachelor_master_semester_codes = {}\n",
    "for section_name in semester_codes:\n",
    "    if section_name.startswith('Bachelor semestre') or section_name.startswith('Master semestre') or section_name.startswith('Projet Master'):\n",
    "            bachelor_master_semester_codes[section_name] = semester_codes[section_name]\n",
    "\n",
    "print('Start fetching data from ' + DATA_URL)\n",
    "\n",
    "# For each codes available in the year select box\n",
    "for year_name, year_code in year_codes.items():\n",
    "\n",
    "    # For each codes about master and bachelor sections\n",
    "    for semester_name, semester_code in bachelor_master_semester_codes.items():\n",
    "        \n",
    "        print('\\tFetch data for ' + year_name + ' ' + semester_name + '\\t: ', end=\"\", flush=True)\n",
    "\n",
    "        file_path = DATA_FOLDER + year_name + ' ' + semester_name\n",
    "        \n",
    "        # If the file already exist do nothing more\n",
    "        if not os.path.exists(file_path):\n",
    "       \n",
    "            params = {\n",
    "                SECTION_PARAM : section_codes['Informatique'],\n",
    "                YEAR_PARAM : year_code,\n",
    "                SEMESTER_PARAM : semester_code,\n",
    "                TYPE_PARAM : 'null',\n",
    "                **DEFAULT_PARAMS\n",
    "            }\n",
    "\n",
    "            try:\n",
    "                # We get a dataframe from a table in the html\n",
    "                data = html_page_to_dataframe(rq.get(DATA_URL, params))\n",
    "\n",
    "                if data.empty:\n",
    "                    print('No data')\n",
    "                    \n",
    "                else:\n",
    "                    # We store data in binary file with pickle in the Data folder\n",
    "                    data.to_pickle(file_path)\n",
    "\n",
    "                    print('Stored in ' + file_path)\n",
    "\n",
    "            except ValueError:\n",
    "                print('Unable to get data from ' + DATA_URL + ' with following params :')\n",
    "                for key, value in params.items():\n",
    "                    print('\\t\\t' + key + ' : ' + value)\n",
    "                break\n",
    "\n",
    "        else:\n",
    "            print('Already stored in ' + file_path)\n",
    "\n",
    "print('Fetching data done, see ' + DATA_FOLDER + ' folder')"
   ]
  },
  {
   "cell_type": "markdown",
   "metadata": {},
   "source": [
    "> Problem detected with \"2008-2009 Bachelor semestre 3\" and \"2007-2008 Bachelor semestre 3\", multiple table find (two entry instead of one). We have only two errors so if we need this data we will make the request manually."
   ]
  },
  {
   "cell_type": "markdown",
   "metadata": {},
   "source": [
    "### Analyse bachelor data\n",
    "\n",
    "We can notice that the data related to students in bachelor 5b and 6b are empty in computer science section.\n",
    "\n",
    "Assumptions:\n",
    " - 1) A bachelor student starts at the semester 1 and finishes at the semester 6 or 5 (if the student failed his semester 5 but not the 6)\n",
    " - 2) A semester lasts 6 months\n",
    " - 3) Odd semesters are in the fall period and even semesters are in the spring semesters\n",
    " \n",
    "Now, we need to get interested data from files and concat all together in a single dataframe. We firstly concat every data of one section in one dataframe like this:"
   ]
  },
  {
   "cell_type": "code",
   "execution_count": null,
   "metadata": {
    "collapsed": false
   },
   "outputs": [],
   "source": [
    "## Get data from files and return a table of dataframes for every sections given\n",
    "# semester_codes: dict (section name : section code) that the function will retrieve\n",
    "# extra_compute: extra function executed in every year for a specific section (params: data for this year, semester name and year name)\n",
    "# data_folder: the data folder where data is stored (by default DATA_FOLDER constant)\n",
    "def retrieve_dataframes(semester_codes, extra_compute, data_folder=DATA_FOLDER):\n",
    "\n",
    "    # The variable contains a list of dataframe associated to a semester_name\n",
    "    dataframes = collections.defaultdict(pd.DataFrame)\n",
    "\n",
    "    for semester_name, semester_code in semester_codes.items():\n",
    "\n",
    "        print('Compute for ' + semester_name)\n",
    "\n",
    "        # The variable contains a list of dataframe related to a specific semester.\n",
    "        for year_name, year_code in year_codes.items():\n",
    "\n",
    "            file_path = data_folder + year_name + ' ' + semester_name\n",
    "\n",
    "            if os.path.exists(file_path):\n",
    "\n",
    "                # We get a dataframe from a table in the html\n",
    "                data_per_year = pd.read_pickle(file_path)\n",
    "\n",
    "                extra_compute(data_per_year, semester_name, year_name)\n",
    "\n",
    "                # We add the result to the initial dataframe\n",
    "                dataframes[semester_name] =  pd.concat([dataframes[semester_name], data_per_year])\n",
    "                \n",
    "    return dataframes"
   ]
  },
  {
   "cell_type": "code",
   "execution_count": null,
   "metadata": {
    "collapsed": false
   },
   "outputs": [],
   "source": [
    "# We select only semester 1, 5, 6 in the bachelor section\n",
    "bachelor_semester_codes = {}\n",
    "for section_name in semester_codes:\n",
    "    if section_name.startswith('Bachelor semestre') and section_name.endswith(tuple(['1', '5', '6'])):\n",
    "        bachelor_semester_codes[section_name] = semester_codes[section_name]\n",
    "\n",
    "# This is the extra function given to the previous function that will add a column with the beginning date of the semester\n",
    "# 1 August for odd semesters and 1 February for even semesters\n",
    "def bachelor_append_year(data_per_year, semester_name, year_name):\n",
    "    if semester_name.endswith('1') or semester_name.endswith('5'):\n",
    "        begin_date = year_name.split('-')[0] + '-08-01'\n",
    "    else:\n",
    "        begin_date = year_name.split('-')[1] + '-02-01'\n",
    "    data_per_year[semester_name] = pd.to_datetime(begin_date) \n",
    "\n",
    "bachelor_dataframes = retrieve_dataframes(bachelor_semester_codes, bachelor_append_year)"
   ]
  },
  {
   "cell_type": "markdown",
   "metadata": {
    "collapsed": true
   },
   "source": [
    "## Visualizing and cleaning data"
   ]
  },
  {
   "cell_type": "code",
   "execution_count": null,
   "metadata": {
    "collapsed": false,
    "scrolled": true
   },
   "outputs": [],
   "source": [
    "bachelor_data_semester1 = bachelor_dataframes['Bachelor semestre 1'].copy()\n",
    "bachelor_data_semester1.head()"
   ]
  },
  {
   "cell_type": "code",
   "execution_count": null,
   "metadata": {
    "collapsed": false
   },
   "outputs": [],
   "source": [
    "bachelor_data_semester5 = bachelor_dataframes['Bachelor semestre 5'].copy()\n",
    "bachelor_data_semester5.head()"
   ]
  },
  {
   "cell_type": "code",
   "execution_count": null,
   "metadata": {
    "collapsed": false
   },
   "outputs": [],
   "source": [
    "bachelor_data_semester6 = bachelor_dataframes['Bachelor semestre 6'].copy()\n",
    "bachelor_data_semester6.head()"
   ]
  },
  {
   "cell_type": "markdown",
   "metadata": {},
   "source": [
    "### About the student status"
   ]
  },
  {
   "cell_type": "markdown",
   "metadata": {},
   "source": [
    "We see a status column that shows if the student is present or not in the semester. This parameter can have an impact on the result we want to compute:"
   ]
  },
  {
   "cell_type": "code",
   "execution_count": null,
   "metadata": {
    "collapsed": false,
    "scrolled": true
   },
   "outputs": [],
   "source": [
    "bachelor_data_semester1['Statut'].value_counts()"
   ]
  },
  {
   "cell_type": "code",
   "execution_count": null,
   "metadata": {
    "collapsed": false
   },
   "outputs": [],
   "source": [
    "bachelor_data_semester5['Statut'].value_counts()"
   ]
  },
  {
   "cell_type": "code",
   "execution_count": null,
   "metadata": {
    "collapsed": false
   },
   "outputs": [],
   "source": [
    "bachelor_data_semester6['Statut'].value_counts()"
   ]
  },
  {
   "cell_type": "markdown",
   "metadata": {},
   "source": [
    "We have some students who didn't attend the first or last semester and only one (in semester 1 and 6) in a waiting state.\n",
    "We can't know with this data if a student registered in bachelor semester 6 has successfully achieved his bachelor degree or not (i.e. a student can be marked as \"présent\" or \"congé\" and in the same time can fail or success). For this reasons we have to make new assumptions :\n",
    " - 4) The earliest year of bachelor semester 1 stored in database correspond to the begining of his bachelor plan, regardless the status of students ('Présent', 'Congé' or 'Attente')\n",
    " - 5) We consider that all students obtain their bachelor regardless their status for the bachelor semester 1 and bachelor semester 6 (obviously, they have to be still present at bachelor semester 6).\n",
    " \n",
    " > Note: The fifth assumption is not mandatory here as we just want to know the average duration of a bachelor study plan."
   ]
  },
  {
   "cell_type": "markdown",
   "metadata": {},
   "source": [
    "### Handle duplicate entries and making index"
   ]
  },
  {
   "cell_type": "markdown",
   "metadata": {},
   "source": [
    "We want a unique index, in our case this will be the Sciper number :"
   ]
  },
  {
   "cell_type": "code",
   "execution_count": null,
   "metadata": {
    "collapsed": false
   },
   "outputs": [],
   "source": [
    "bachelor_data_semester1['No Sciper'].is_unique"
   ]
  },
  {
   "cell_type": "code",
   "execution_count": null,
   "metadata": {
    "collapsed": false
   },
   "outputs": [],
   "source": [
    "bachelor_data_semester5['No Sciper'].is_unique"
   ]
  },
  {
   "cell_type": "code",
   "execution_count": null,
   "metadata": {
    "collapsed": false
   },
   "outputs": [],
   "source": [
    "bachelor_data_semester6['No Sciper'].is_unique"
   ]
  },
  {
   "cell_type": "markdown",
   "metadata": {},
   "source": [
    "We see that isn't unique, so some students repeat the semester 1, 5 or 6. We need to keep the earliest year in the case of semester 1 and the lastest year in others cases. To do so, we will sort the dataframe by the year then we keep only the first entry for each students (asumption 4 and 5)."
   ]
  },
  {
   "cell_type": "code",
   "execution_count": null,
   "metadata": {
    "collapsed": false
   },
   "outputs": [],
   "source": [
    "bachelor_data_semester1.sort_values('Bachelor semestre 1', inplace=True)\n",
    "bachelor_data_semester1.drop_duplicates(subset='No Sciper', keep='first', inplace=True)"
   ]
  },
  {
   "cell_type": "code",
   "execution_count": null,
   "metadata": {
    "collapsed": false
   },
   "outputs": [],
   "source": [
    "bachelor_data_semester5.sort_values('Bachelor semestre 5', ascending=False, inplace=True)\n",
    "bachelor_data_semester5.drop_duplicates(subset='No Sciper', keep='first', inplace=True)"
   ]
  },
  {
   "cell_type": "code",
   "execution_count": null,
   "metadata": {
    "collapsed": false
   },
   "outputs": [],
   "source": [
    "bachelor_data_semester6.sort_values('Bachelor semestre 6', ascending=False, inplace=True)\n",
    "bachelor_data_semester6.drop_duplicates(subset='No Sciper', keep='first', inplace=True)"
   ]
  },
  {
   "cell_type": "code",
   "execution_count": null,
   "metadata": {
    "collapsed": false
   },
   "outputs": [],
   "source": [
    "bachelor_data_semester1['No Sciper'].is_unique"
   ]
  },
  {
   "cell_type": "code",
   "execution_count": null,
   "metadata": {
    "collapsed": false
   },
   "outputs": [],
   "source": [
    "bachelor_data_semester5['No Sciper'].is_unique"
   ]
  },
  {
   "cell_type": "code",
   "execution_count": null,
   "metadata": {
    "collapsed": false
   },
   "outputs": [],
   "source": [
    "bachelor_data_semester6['No Sciper'].is_unique"
   ]
  },
  {
   "cell_type": "markdown",
   "metadata": {},
   "source": [
    "We see now that the sciper number is unique, so we set this column in index."
   ]
  },
  {
   "cell_type": "code",
   "execution_count": null,
   "metadata": {
    "collapsed": false
   },
   "outputs": [],
   "source": [
    "bachelor_data_semester1.set_index('No Sciper', inplace=True)\n",
    "bachelor_data_semester5.set_index('No Sciper', inplace=True)\n",
    "bachelor_data_semester6.set_index('No Sciper', inplace=True)\n",
    "bachelor_data_semester1.head()"
   ]
  },
  {
   "cell_type": "markdown",
   "metadata": {},
   "source": [
    "### Merging data"
   ]
  },
  {
   "cell_type": "markdown",
   "metadata": {},
   "source": [
    "Now, we want to merge the two obtained (and cleaned) tables. For this, we use the 'merge' function provided by Pandas, specifying some parameters like the columns we want to preserve. Note that we use indexes to perform the merge, and we use inner merge as we want to consider only students who started their bachelor at EPFL."
   ]
  },
  {
   "cell_type": "code",
   "execution_count": null,
   "metadata": {
    "collapsed": false,
    "scrolled": true
   },
   "outputs": [],
   "source": [
    "# First we merge semester 1 with the 5\n",
    "student_bachelor_done = pd.merge(\n",
    "    bachelor_data_semester1[['Civilité', 'Nom Prénom', 'Bachelor semestre 1']],\n",
    "    bachelor_data_semester5[['Bachelor semestre 5']],\n",
    "    left_index=True,\n",
    "    right_index=True,\n",
    "    how='inner'\n",
    ")\n",
    "\n",
    "# Then the previous merging with semester 6\n",
    "student_bachelor_done = pd.merge(\n",
    "    student_bachelor_done,\n",
    "    bachelor_data_semester6[['Bachelor semestre 6']],\n",
    "    left_index=True,\n",
    "    right_index=True,\n",
    "    how='inner'\n",
    ")\n",
    "\n",
    "# So the student can finish with the 5 semester but need to be also in the semester 6\n",
    "student_bachelor_done.head()"
   ]
  },
  {
   "cell_type": "markdown",
   "metadata": {},
   "source": [
    "We need to compute the number of months between the semester 1 and the lastest semester between 5 and 6 :"
   ]
  },
  {
   "cell_type": "code",
   "execution_count": null,
   "metadata": {
    "collapsed": false
   },
   "outputs": [],
   "source": [
    "def compute_nb_months_bachelor(row):\n",
    "    if row['Bachelor semestre 6'] > row['Bachelor semestre 5']:\n",
    "        last_date = row['Bachelor semestre 6']\n",
    "    else:\n",
    "        last_date = row['Bachelor semestre 5']\n",
    "    delta = relativedelta.relativedelta(last_date, row['Bachelor semestre 1'])\n",
    "    \n",
    "    # We need to get the difference in months, so we convert the delta in month.\n",
    "    # In addition we add 6 months for the last semester because we have only the begin date of every semesters\n",
    "    return delta.years * 12 + delta.months + 6\n",
    "\n",
    "# To keep consistency in the colmun names, we add a french name for the duration of months\n",
    "student_bachelor_done['Durée bachelor (mois)'] = student_bachelor_done.apply(compute_nb_months_bachelor, axis=1)\n",
    "\n",
    "student_bachelor_done.head()"
   ]
  },
  {
   "cell_type": "markdown",
   "metadata": {},
   "source": [
    "### Average and statistics"
   ]
  },
  {
   "cell_type": "markdown",
   "metadata": {},
   "source": [
    "We can easily get an average of months globaly but also by sex with the 'Civilité' column."
   ]
  },
  {
   "cell_type": "code",
   "execution_count": null,
   "metadata": {
    "collapsed": false
   },
   "outputs": [],
   "source": [
    "student_bachelor_done['Durée bachelor (mois)'].mean()"
   ]
  },
  {
   "cell_type": "code",
   "execution_count": null,
   "metadata": {
    "collapsed": false
   },
   "outputs": [],
   "source": [
    "avg_duration_bachelor_degree = student_bachelor_done.groupby(['Durée bachelor (mois)']).count()['Nom Prénom'].plot(kind='bar')\n",
    "avg_duration_bachelor_degree.set_ylabel('Number of students')\n",
    "avg_duration_bachelor_degree.set_xlabel('Bachelor duration in months')"
   ]
  },
  {
   "cell_type": "markdown",
   "metadata": {},
   "source": [
    "Before making the average by sex, we check if the values in the 'Civilité' colmun is correct :"
   ]
  },
  {
   "cell_type": "code",
   "execution_count": null,
   "metadata": {
    "collapsed": false,
    "scrolled": true
   },
   "outputs": [],
   "source": [
    "student_bachelor_done['Civilité'].value_counts()"
   ]
  },
  {
   "cell_type": "code",
   "execution_count": null,
   "metadata": {
    "collapsed": false,
    "scrolled": true
   },
   "outputs": [],
   "source": [
    "student_bachelor_by_sex = student_bachelor_done[['Civilité', 'Durée bachelor (mois)']].groupby(['Civilité'])\n",
    "student_bachelor_by_sex.mean()"
   ]
  },
  {
   "cell_type": "code",
   "execution_count": null,
   "metadata": {
    "collapsed": false,
    "scrolled": true
   },
   "outputs": [],
   "source": [
    "avg_duration_bachelor_degree_by_sex = student_bachelor_done.groupby(['Civilité', 'Durée bachelor (mois)']).count()['Nom Prénom'].unstack(level=0).fillna(0).plot(kind='bar')\n",
    "avg_duration_bachelor_degree_by_sex.set_ylabel('Number of students')\n",
    "avg_duration_bachelor_degree_by_sex.set_xlabel('Bachelor duration in months')\n",
    "avg_duration_bachelor_degree_by_sex"
   ]
  },
  {
   "cell_type": "markdown",
   "metadata": {},
   "source": [
    "It seams that female students obtain there bachelor degree in less months than male students in average. But the average is not a robust statistic value. We can check with the median :"
   ]
  },
  {
   "cell_type": "code",
   "execution_count": null,
   "metadata": {
    "collapsed": false,
    "scrolled": true
   },
   "outputs": [],
   "source": [
    "student_bachelor_by_sex.median()"
   ]
  },
  {
   "cell_type": "markdown",
   "metadata": {},
   "source": [
    "As the median is a robust statistic and we don't see differences, the initial hypothesis that we have made is not correct. We can check again by making a T-Test to get the P-Value. The number of female or male students is sufficiant (N > 20) and the duration is independant between students, so we can approximate this with a normal distribution.\n",
    "\n",
    "We need to test the hypothesis that female students success earlier than male students. The null hypothesis is that girl and boy are an average in duration equals. To do so, we will use the T-Test to find the P value :"
   ]
  },
  {
   "cell_type": "code",
   "execution_count": null,
   "metadata": {
    "collapsed": false
   },
   "outputs": [],
   "source": [
    "boy_serie_duration_bachelor = student_bachelor_done['Durée bachelor (mois)'][[sex == 'Monsieur' for sex in student_bachelor_done['Civilité']]]\n",
    "girl_serie_duration_bachelor = student_bachelor_done['Durée bachelor (mois)'][[sex == 'Madame' for sex in student_bachelor_done['Civilité']]]\n",
    "\n",
    "stats.ttest_ind(a=boy_serie_duration_bachelor.values, b=girl_serie_duration_bachelor.values, equal_var=False)"
   ]
  },
  {
   "cell_type": "markdown",
   "metadata": {},
   "source": [
    "The P-Value is greater than the accepted value (0.18 > 0.05), we reject our hypothesis that female students finish earlier than male students. "
   ]
  },
  {
   "cell_type": "markdown",
   "metadata": {},
   "source": [
    "### Extra"
   ]
  },
  {
   "cell_type": "code",
   "execution_count": null,
   "metadata": {
    "collapsed": false
   },
   "outputs": [],
   "source": [
    "len(student_bachelor_done)"
   ]
  },
  {
   "cell_type": "markdown",
   "metadata": {},
   "source": [
    "As we said before, we only consider the students who started their study at EPFL. Thus, we only obtain 397 students at the end, while for bachelor semester 6, we had 500+ entries."
   ]
  },
  {
   "cell_type": "markdown",
   "metadata": {},
   "source": [
    "# Question 2 - Master\n",
    "\n",
    "<b>Perform a similar operation to what described above, this time for Master students. Notice that this data is more tricky, as there are many missing records in the IS-Academia database. Therefore, try to guess how much time a master student spent at EPFL by at least checking the distance in months between Master semestre 1 and Master semestre 2. If the Mineur field is not empty, the student should also appear registered in Master semestre 3. Last but not the least, don't forget to check if the student has an entry also in the Projet Master tables. Once you can handle well this data, compute the \"average stay at EPFL\" for master students. Now extract all the students with a Spécialisation and compute the \"average stay\" per each category of that attribute -- compared to the general average, can you find any specialization for which the difference in average is statistically significant?</b>\n",
    "\n",
    "We have already fetch data from the IS-Academia in the first question. We won't do it again, we will just get data from files created with pickle. We apply the same process used in the bachelor section. But this time a master student can finish his master in different ways (we are not EPFL students, we assume this assumptions) :\n",
    " - 6) All students start with the master semester 1\n",
    " - 7) A student can finish with only master semester 1 and 2 without semester 3 if there isn't 'Mineur' value in semester 2\n",
    " - 8) A student can finish with semester 1 and 3 in case of missing data for semester 2\n",
    " - 9) A student can finish with an optional master projet in fall or spring but need to be registered in semester 1\n",
    " \n",
    "We will fetch all data from files for semester 1, 2, 3 and fall or spring project. At the same time we will add the beginning date of every semester (like in bachelor) :"
   ]
  },
  {
   "cell_type": "code",
   "execution_count": null,
   "metadata": {
    "collapsed": false
   },
   "outputs": [],
   "source": [
    "master_semester_codes = {}\n",
    "for section_name in semester_codes:\n",
    "    if section_name.startswith('Projet Master') or (section_name.startswith('Master semestre') and section_name.endswith(tuple(['1', '2', '3']))):\n",
    "        master_semester_codes[section_name] = semester_codes[section_name]\n",
    "\n",
    "def master_append_year(data_per_year, semester_name, year_name):\n",
    "    if semester_name.endswith('2') or semester_name.endswith('printemps'):\n",
    "        begin_date = year_name.split('-')[1] + '-02-01'\n",
    "    else:\n",
    "        begin_date = year_name.split('-')[0] + '-08-01'\n",
    "    data_per_year[semester_name] = pd.to_datetime(begin_date)\n",
    "\n",
    "master_dataframes = retrieve_dataframes(master_semester_codes, master_append_year)"
   ]
  },
  {
   "cell_type": "markdown",
   "metadata": {},
   "source": [
    "### Cleaning data\n",
    "\n",
    "We also need to clean data like in bachelor. We will make the Sciper number in index and then remove duplicate rows after sort data by the date of the semester (ascending in semester 1 or descending in others cases) :"
   ]
  },
  {
   "cell_type": "code",
   "execution_count": null,
   "metadata": {
    "collapsed": true
   },
   "outputs": [],
   "source": [
    "master_data_semester1 = master_dataframes['Master semestre 1'].copy()\n",
    "master_data_semester2 = master_dataframes['Master semestre 2'].copy()\n",
    "master_data_semester3 = master_dataframes['Master semestre 3'].copy()\n",
    "master_data_semester_fall_project = master_dataframes['Projet Master automne'].copy()\n",
    "master_data_semester_spring_project = master_dataframes['Projet Master printemps'].copy()\n",
    "\n",
    "master_data_semester1.sort_values('Master semestre 1', ascending=True, inplace=True)\n",
    "master_data_semester1.drop_duplicates(subset='No Sciper', keep='first', inplace=True)\n",
    "master_data_semester1.set_index('No Sciper', inplace=True)\n",
    "\n",
    "master_data_semester2.sort_values('Master semestre 2', ascending=False, inplace=True)\n",
    "master_data_semester2.drop_duplicates(subset='No Sciper', keep='first', inplace=True)\n",
    "master_data_semester2.set_index('No Sciper', inplace=True)\n",
    "\n",
    "master_data_semester3.sort_values('Master semestre 3', ascending=False, inplace=True)\n",
    "master_data_semester3.drop_duplicates(subset='No Sciper', keep='first', inplace=True)\n",
    "master_data_semester3.set_index('No Sciper', inplace=True)\n",
    "\n",
    "master_data_semester_fall_project.sort_values('Projet Master automne', ascending=False, inplace=True)\n",
    "master_data_semester_fall_project.drop_duplicates(subset='No Sciper', keep='first', inplace=True)\n",
    "master_data_semester_fall_project.set_index('No Sciper', inplace=True)\n",
    "\n",
    "master_data_semester_spring_project.sort_values('Projet Master printemps', ascending=False, inplace=True)\n",
    "master_data_semester_spring_project.drop_duplicates(subset='No Sciper', keep='first', inplace=True)\n",
    "master_data_semester_spring_project.set_index('No Sciper', inplace=True)"
   ]
  },
  {
   "cell_type": "markdown",
   "metadata": {},
   "source": [
    "For students in semester 2, we need to keep only students without minor values, because there are also in semester 3 (except students no registered for the next year so they will be automatically removed at the final merge)."
   ]
  },
  {
   "cell_type": "code",
   "execution_count": null,
   "metadata": {
    "collapsed": true
   },
   "outputs": [],
   "source": [
    "master_data_semester2_without_mineur = master_data_semester2[[len(mineur) == 0 for mineur in master_data_semester2['Mineur']]]"
   ]
  },
  {
   "cell_type": "markdown",
   "metadata": {},
   "source": [
    "### Merge and concat data\n",
    "\n",
    "Now we need to make one dataframe for each assumptions 7, 8 and 9. To do so, we will make the needed attributes in index (name, sex, beginning date of the semester and sciper number) to prevent drop data when we will concat the 3 dataframes."
   ]
  },
  {
   "cell_type": "code",
   "execution_count": null,
   "metadata": {
    "collapsed": false
   },
   "outputs": [],
   "source": [
    "master_semester_1_2 = pd.merge(\n",
    "    master_data_semester1[['Civilité', 'Nom Prénom', 'Spécialisation', 'Master semestre 1']],\n",
    "    master_data_semester2_without_mineur[['Master semestre 2']],\n",
    "    left_index=True,\n",
    "    right_index=True,\n",
    "    how='inner'\n",
    ")\n",
    "master_semester_1_2.reset_index(inplace=True)\n",
    "master_semester_1_2.set_index(['No Sciper', 'Civilité', 'Nom Prénom', 'Spécialisation', 'Master semestre 1'], inplace=True)\n",
    "\n",
    "master_semester_1_3 = pd.merge(\n",
    "    master_data_semester1[['Civilité', 'Nom Prénom', 'Spécialisation', 'Master semestre 1']],\n",
    "    master_data_semester3[['Master semestre 3']],\n",
    "    left_index=True,\n",
    "    right_index=True,\n",
    "    how='inner'\n",
    ")\n",
    "master_semester_1_3.reset_index(inplace=True)\n",
    "master_semester_1_3.set_index(['No Sciper', 'Civilité', 'Nom Prénom', 'Spécialisation', 'Master semestre 1'], inplace=True)\n",
    "\n",
    "master_semester_1_pf = pd.merge(\n",
    "    master_data_semester1[['Civilité', 'Nom Prénom', 'Spécialisation', 'Master semestre 1']],\n",
    "    master_data_semester_fall_project[['Projet Master automne']],\n",
    "    left_index=True,\n",
    "    right_index=True,\n",
    "    how='inner'\n",
    ")\n",
    "master_semester_1_pf.reset_index(inplace=True)\n",
    "master_semester_1_pf.set_index(['No Sciper', 'Civilité', 'Nom Prénom', 'Spécialisation', 'Master semestre 1'], inplace=True)\n",
    "\n",
    "master_semester_1_ps = pd.merge(\n",
    "    master_data_semester1[['Civilité', 'Nom Prénom', 'Spécialisation', 'Master semestre 1']],\n",
    "    master_data_semester_spring_project[['Projet Master printemps']],\n",
    "    left_index=True,\n",
    "    right_index=True,\n",
    "    how='inner'\n",
    ")\n",
    "master_semester_1_ps.reset_index(inplace=True)\n",
    "master_semester_1_ps.set_index(['No Sciper', 'Civilité', 'Nom Prénom', 'Spécialisation', 'Master semestre 1'], inplace=True)"
   ]
  },
  {
   "cell_type": "markdown",
   "metadata": {},
   "source": [
    "Now we can concat dataframes in a single one and try to make only the Sciper number in index :"
   ]
  },
  {
   "cell_type": "code",
   "execution_count": null,
   "metadata": {
    "collapsed": true
   },
   "outputs": [],
   "source": [
    "master_full_data = pd.concat([\n",
    "        master_semester_1_2[['Master semestre 2']],\n",
    "        master_semester_1_3[['Master semestre 3']],\n",
    "        master_semester_1_pf[['Projet Master automne']],\n",
    "        master_semester_1_ps[['Projet Master printemps']]\n",
    "    ], axis=1)"
   ]
  },
  {
   "cell_type": "code",
   "execution_count": null,
   "metadata": {
    "collapsed": false
   },
   "outputs": [],
   "source": [
    "# Check if the No Sciper is still unique\n",
    "master_full_data.index.levels[0].is_unique"
   ]
  },
  {
   "cell_type": "code",
   "execution_count": null,
   "metadata": {
    "collapsed": false,
    "scrolled": true
   },
   "outputs": [],
   "source": [
    "master_full_data.reset_index(inplace=True)\n",
    "master_full_data.set_index(['No Sciper'], inplace=True)\n",
    "\n",
    "master_full_data.head()"
   ]
  },
  {
   "cell_type": "markdown",
   "metadata": {},
   "source": [
    "We can see, that the student with the Sciper number 152232 correspond to the assumption 8 because he hasn't data for semester 2. We decided to keep this kind of entries because there are a lot :"
   ]
  },
  {
   "cell_type": "code",
   "execution_count": null,
   "metadata": {
    "collapsed": false,
    "scrolled": true
   },
   "outputs": [],
   "source": [
    "master_full_data[master_full_data['Master semestre 2'].isnull()]"
   ]
  },
  {
   "cell_type": "markdown",
   "metadata": {},
   "source": [
    "We set the NaT date values with the earliest date to compute without errors the number of semesters. This will be apply only in semester 2, 3 and projects because the previous merging prevent missing data in the semester 1."
   ]
  },
  {
   "cell_type": "code",
   "execution_count": null,
   "metadata": {
    "collapsed": true
   },
   "outputs": [],
   "source": [
    "master_full_data.fillna(0, inplace=True)"
   ]
  },
  {
   "cell_type": "markdown",
   "metadata": {},
   "source": [
    "Now we can compute the number of months by compare the date in semester 1 with the lastest date in semester 2, 3 or projects :"
   ]
  },
  {
   "cell_type": "code",
   "execution_count": null,
   "metadata": {
    "collapsed": false,
    "scrolled": true
   },
   "outputs": [],
   "source": [
    "def compute_nb_months_master(row):\n",
    "    lastest = max(row[['Master semestre 2', 'Master semestre 3', 'Projet Master automne', 'Projet Master printemps']])\n",
    "    delta = relativedelta.relativedelta(lastest, row['Master semestre 1']) \n",
    "    return delta.years * 12 + delta.months + 6\n",
    "\n",
    "master_full_data['Durée bachelor (mois)'] = master_full_data.apply(compute_nb_months_master, axis=1)\n",
    "\n",
    "master_full_data.head()"
   ]
  },
  {
   "cell_type": "markdown",
   "metadata": {},
   "source": [
    "### Statistics"
   ]
  },
  {
   "cell_type": "code",
   "execution_count": null,
   "metadata": {
    "collapsed": false
   },
   "outputs": [],
   "source": [
    "master_full_data['Durée bachelor (mois)'].mean()"
   ]
  },
  {
   "cell_type": "code",
   "execution_count": null,
   "metadata": {
    "collapsed": false
   },
   "outputs": [],
   "source": [
    "master_full_data.groupby(['Spécialisation']).mean()"
   ]
  },
  {
   "cell_type": "code",
   "execution_count": null,
   "metadata": {
    "collapsed": false
   },
   "outputs": [],
   "source": [
    "master_full_data.groupby(['Spécialisation']).median()"
   ]
  },
  {
   "cell_type": "markdown",
   "metadata": {},
   "source": [
    "Check outliers (like in Data Analytics and Information Security)"
   ]
  }
 ],
 "metadata": {
  "anaconda-cloud": {},
  "kernelspec": {
   "display_name": "Python [Root]",
   "language": "python",
   "name": "Python [Root]"
  },
  "language_info": {
   "codemirror_mode": {
    "name": "ipython",
    "version": 3
   },
   "file_extension": ".py",
   "mimetype": "text/x-python",
   "name": "python",
   "nbconvert_exporter": "python",
   "pygments_lexer": "ipython3",
   "version": "3.5.2"
  }
 },
 "nbformat": 4,
 "nbformat_minor": 0
}
