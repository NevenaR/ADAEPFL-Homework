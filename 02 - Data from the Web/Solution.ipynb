{
 "cells": [
  {
   "cell_type": "markdown",
   "metadata": {},
   "source": [
    "1) Obtain all the data for the Bachelor students, starting from 2007. Keep only the students for which you have an entry for both Bachelor semestre 1 and Bachelor semestre 6. Compute how many months it took each student to go from the first to the sixth semester. Partition the data between male and female students, and compute the average -- is the difference in average statistically significant?"
   ]
  },
  {
   "cell_type": "code",
   "execution_count": null,
   "metadata": {
    "collapsed": false
   },
   "outputs": [],
   "source": [
    "import requests as rq\n",
    "from bs4 import BeautifulSoup as bfs\n",
    "import pandas as pd\n",
    "import collections"
   ]
  },
  {
   "cell_type": "markdown",
   "metadata": {},
   "source": [
    "## Get params"
   ]
  },
  {
   "cell_type": "code",
   "execution_count": null,
   "metadata": {
    "collapsed": false
   },
   "outputs": [],
   "source": [
    "filters_page = rq.get('http://isa.epfl.ch/imoniteur_ISAP/!GEDPUBLICREPORTS.filter?ww_i_reportModel=133685247')\n",
    "filters = bfs(filters_page.text, 'html.parser')\n",
    "selects = filters.findAll('select')\n",
    "\n",
    "available_params = collections.defaultdict(dict)\n",
    "\n",
    "for select in selects:    \n",
    "    options = collections.defaultdict(list)\n",
    "    \n",
    "    for option in select.findAll('option'):\n",
    "        if option.attrs['value'] != 'null':\n",
    "            options[option.text] = option.attrs['value']\n",
    "        \n",
    "    available_params[select.attrs['name']] = options\n",
    "  \n",
    "available_params"
   ]
  },
  {
   "cell_type": "markdown",
   "metadata": {},
   "source": [
    "### Making params names readable"
   ]
  },
  {
   "cell_type": "code",
   "execution_count": null,
   "metadata": {
    "collapsed": true
   },
   "outputs": [],
   "source": [
    "params_mapper = {\n",
    "        'Unité académique' : 'ww_x_UNITE_ACAD',\n",
    "        'Période académique' : 'ww_x_PERIODE_ACAD',\n",
    "        'Période pédagogique' : 'ww_x_PERIODE_PEDAGO',\n",
    "        'Type de semestre' : 'ww_x_HIVERETE'\n",
    "    }"
   ]
  },
  {
   "cell_type": "markdown",
   "metadata": {},
   "source": [
    "## Get data"
   ]
  },
  {
   "cell_type": "code",
   "execution_count": null,
   "metadata": {
    "collapsed": true
   },
   "outputs": [],
   "source": [
    "section = available_params[params_mapper['Unité académique']]['Informatique']\n",
    "semester_type = 'null'\n",
    "#bachelor_semesters = available_params[params_mapper['Période pédagogique']][['', '']]\n",
    "\n",
    "#for year in available_params[params_mapper['Période académique']]:\n",
    "#    for  in available_params[params_mapper['Période pédagogique']]:"
   ]
  },
  {
   "cell_type": "code",
   "execution_count": null,
   "metadata": {
    "collapsed": true
   },
   "outputs": [],
   "source": []
  },
  {
   "cell_type": "code",
   "execution_count": null,
   "metadata": {
    "collapsed": true
   },
   "outputs": [],
   "source": []
  },
  {
   "cell_type": "code",
   "execution_count": null,
   "metadata": {
    "collapsed": true
   },
   "outputs": [],
   "source": []
  },
  {
   "cell_type": "code",
   "execution_count": null,
   "metadata": {
    "collapsed": true
   },
   "outputs": [],
   "source": []
  },
  {
   "cell_type": "code",
   "execution_count": null,
   "metadata": {
    "collapsed": false
   },
   "outputs": [],
   "source": [
    "# playload represent the argument present in the get request.\n",
    "# We decide top get students \n",
    "payload = {\n",
    "            'ww_x_GPS' : 71297531,\n",
    "            'ww_i_reportModel' : 133685247,\n",
    "            'ww_i_reportModelXsl' : 133685270,\n",
    "            'ww_x_UNITE_ACAD' : 249847,\n",
    "            'ww_x_PERIODE_ACAD' : 942175,\n",
    "            'ww_x_PERIODE_PEDAGO' : 249108,\n",
    "            'ww_x_HIVERETE' : 'null'\n",
    "         }\n",
    "\n",
    "\n",
    "current_page = rq.get('http://isa.epfl.ch/imoniteur_ISAP/!GEDPUBLICREPORTS.html',params=payload)\n",
    "current_page.text\n"
   ]
  },
  {
   "cell_type": "code",
   "execution_count": null,
   "metadata": {
    "collapsed": true
   },
   "outputs": [],
   "source": []
  },
  {
   "cell_type": "code",
   "execution_count": null,
   "metadata": {
    "collapsed": false
   },
   "outputs": [],
   "source": [
    "\n",
    "# link to bachelor 1 and bachelor 6\n",
    "periode_pedago = [249108]\n",
    "\n",
    "#link to school year 2007-2014 (a completer)\n",
    "periode_acad   = [978181] #A completer 2013-2014 inclus\n",
    "\n",
    "etudiant = []\n",
    "\n",
    "for peda  in periode_pedago:\n",
    "    payload['ww_x_PERIODE_PEDAGO'] = peda\n",
    "    for acad in periode_acad:\n",
    "        payload['ww_x_PERIODE_ACAD'] = acad\n",
    "        # get the data by doing a get request\n",
    "        current_page = rq.get('http://isa.epfl.ch/imoniteur_ISAP/!GEDPUBLICREPORTS.html',params=payload)\n",
    "        # Now we use BeautifulSoup to get the data from the html result.\n",
    "        # First we get all row composing the document\n",
    "        soup = bfs(current_page.text, 'html.parser')\n",
    "        table = soup.find(\"table\")\n",
    "        # Find all the <tr> tag pairs, skip the first one, then for each.\n",
    "        for row in table.find_all('tr')[2:]:\n",
    "            # Create a variable of all the <td> tag pairs in each <tr> tag pair,\n",
    "            col = row.find_all('td')\n",
    "            # Create a variable of the string inside 1st <td> tag pair,\n",
    "            etudiant.append(col[1].string.strip())\n",
    "        \n",
    "# Create a variable of the value of the columns\n",
    "columns = {'first_name': etudiant}\n",
    "\n",
    "# Create a dataframe from the columns variable\n",
    "df = pd.DataFrame(columns)\n",
    "df.head"
   ]
  },
  {
   "cell_type": "code",
   "execution_count": null,
   "metadata": {
    "collapsed": true
   },
   "outputs": [],
   "source": []
  }
 ],
 "metadata": {
  "kernelspec": {
   "display_name": "Python [Root]",
   "language": "python",
   "name": "Python [Root]"
  },
  "language_info": {
   "codemirror_mode": {
    "name": "ipython",
    "version": 3
   },
   "file_extension": ".py",
   "mimetype": "text/x-python",
   "name": "python",
   "nbconvert_exporter": "python",
   "pygments_lexer": "ipython3",
   "version": "3.5.2"
  }
 },
 "nbformat": 4,
 "nbformat_minor": 0
}
