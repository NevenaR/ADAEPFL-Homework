{
 "cells": [
  {
   "cell_type": "markdown",
   "metadata": {
    "collapsed": true
   },
   "source": [
    "# Homework 2 - IS-Academia"
   ]
  },
  {
   "cell_type": "code",
   "execution_count": null,
   "metadata": {
    "collapsed": true
   },
   "outputs": [],
   "source": [
    "import requests as rq\n",
    "from bs4 import BeautifulSoup as bfs\n",
    "import numpy as np\n",
    "import pandas as pd\n",
    "import collections\n",
    "import os\n",
    "%matplotlib inline\n",
    "import matplotlib.pyplot as plt\n",
    "from dateutil import relativedelta\n",
    "import scipy.stats as stats\n",
    "import math"
   ]
  },
  {
   "cell_type": "markdown",
   "metadata": {},
   "source": [
    "<b><span style=\"color:red\">GENERAL NOTES:</span>\n",
    "\n",
    "- We are not EPFL students and, thus, we don't know the exact rules of school. All the assumptions made in this Notebook can differ a bit from the functioning here at EPFL, but we tried to remain realistic regarding the obtained data.\n",
    "- As French is used by IS-Academia when returning data, we deliberately kept French when displaying datas. Additionnaly, and still for the same reason, newly added columns are displayed in French. However, all comments are written in English.\n",
    "- In this Notebook, we propose a way to store the collected data from server. We want to draw the attention of reader to the fact that, due to instability of IS-Academia, and among multiple other factors, it is possible that the data differ between two fetchs. However, global results displayed in this Notebook are not affected by these possible differencies. Finally, we provide, by default, a copy of fetched data in the folder 'Data'. To fetch again the data, simply delete the entire folder and execute again the Notebook's cells.</b>"
   ]
  },
  {
   "cell_type": "markdown",
   "metadata": {},
   "source": [
    "# Question 1 - Bachelor\n",
    "\n",
    "<b>Obtain all the data for the Bachelor students, starting from 2007. Keep only the students for which you have an entry for both Bachelor semestre 1 and Bachelor semestre 6. Compute how many months it took each student to go from the first to the sixth semester. Partition the data between male and female students, and compute the average -- is the difference in average statistically significant?</b>"
   ]
  },
  {
   "cell_type": "markdown",
   "metadata": {},
   "source": [
    "Firstly, we define some constants that will be usefull for all questions. The two URLs have been found using Postman Interceptor."
   ]
  },
  {
   "cell_type": "code",
   "execution_count": null,
   "metadata": {
    "collapsed": true
   },
   "outputs": [],
   "source": [
    "DATA_FOLDER = 'Data/' # Name of folder which will contain all data fetched from IS-Academia\n",
    "DATA_URL = 'http://isa.epfl.ch/imoniteur_ISAP/!GEDPUBLICREPORTS.html' # URL of data\n",
    "FILTER_URL = 'http://isa.epfl.ch/imoniteur_ISAP/!GEDPUBLICREPORTS.filter?ww_i_reportModel=133685247' # URL of online form"
   ]
  },
  {
   "cell_type": "markdown",
   "metadata": {},
   "source": [
    "## Getting params"
   ]
  },
  {
   "cell_type": "markdown",
   "metadata": {},
   "source": [
    "In order to get all students data, we need to get all available parameters to fetch the database by the REST API. To do so, we begin by requesting all the sections displayed in the `select` lists of the form. Then, for each option, we extract the human-readable name and its corresponding value."
   ]
  },
  {
   "cell_type": "code",
   "execution_count": null,
   "metadata": {
    "collapsed": false
   },
   "outputs": [],
   "source": [
    "filters_page = rq.get(FILTER_URL) # Retrieving content of online form\n",
    "filters = bfs(filters_page.text, 'html.parser')\n",
    "selects = filters.findAll('select') # Filter the content by selecting the 'select' HTML tags\n",
    "\n",
    "available_params = collections.defaultdict(dict)\n",
    "\n",
    "for select in selects:    \n",
    "    options = collections.defaultdict(list)\n",
    "    \n",
    "    for option in select.findAll('option'):\n",
    "        if option.attrs['value'] != 'null':\n",
    "            options[option.text] = option.attrs['value']\n",
    "        \n",
    "    available_params[select.attrs['name']] = options\n",
    "  \n",
    "available_params"
   ]
  },
  {
   "cell_type": "markdown",
   "metadata": {},
   "source": [
    "### Making params names readable"
   ]
  },
  {
   "cell_type": "markdown",
   "metadata": {},
   "source": [
    "Even if we have all parameters, they are still not easy to read.\n",
    "\n",
    "In order to improve readability, we made the choice to directly check the source code of the HTML page and do the mapping as there are very few `select` boxes (i.e. it is faster than extracting the information directly with Python).\n",
    "\n",
    "Every constant represents a parameter name. In addition, we define a dictionary of default params used for all requests we will send."
   ]
  },
  {
   "cell_type": "code",
   "execution_count": null,
   "metadata": {
    "collapsed": true
   },
   "outputs": [],
   "source": [
    "SECTION_PARAM = 'ww_x_UNITE_ACAD' # Example: 'Informatique' => Computer Sciences\n",
    "YEAR_PARAM = 'ww_x_PERIODE_ACAD' # Example: '2016-2017'\n",
    "SEMESTER_PARAM = 'ww_x_PERIODE_PEDAGO' # Example: 'Bachelor semestre 1' => Bachelor semester 1\n",
    "TYPE_PARAM = 'ww_x_HIVERETE' # Example: 'Semestre d'automne' => Fall semester\n",
    "\n",
    "DEFAULT_PARAMS = {\n",
    "    'ww_x_GPS' : '-1',\n",
    "    'ww_i_reportModel' : '133685247',\n",
    "    'ww_i_reportModelXsl' : '133685270',\n",
    "}\n",
    "\n",
    "section_codes = available_params[SECTION_PARAM]\n",
    "year_codes = available_params[YEAR_PARAM]\n",
    "semester_codes = available_params[SEMESTER_PARAM]\n",
    "type_codes = available_params[TYPE_PARAM]"
   ]
  },
  {
   "cell_type": "markdown",
   "metadata": {},
   "source": [
    "## Fetching data"
   ]
  },
  {
   "cell_type": "markdown",
   "metadata": {},
   "source": [
    "Firstly, we make a function that returns a single DataFrame from the HTML table extracted from a requested page.\n",
    "\n",
    "We also try to get columns from table header. Note that in our case, all tables have two header rows ; the first one is the title of the table and the second one is the column name.\n",
    "\n",
    "Then, we fetch all rows to convert them into a single Serie (list of column values in this row).\n",
    "\n",
    "Finally, we combine columns' names and series in a new DataFrame."
   ]
  },
  {
   "cell_type": "code",
   "execution_count": null,
   "metadata": {
    "collapsed": true
   },
   "outputs": [],
   "source": [
    "def html_page_to_dataframe(page):\n",
    "    '''\n",
    "    This functions converts a HTML table (of a given HTML page 'page' passed as parameter) to a pandas DataFrame.\n",
    "    '''\n",
    "    soup = bfs(page.text, 'html.parser')\n",
    "    table = soup.find('table')\n",
    "    \n",
    "    # Retrieving columns' names, skip the first column that shows the section and year\n",
    "    columns = [column.text for column in table.find_all('th')[1:]]\n",
    "    \n",
    "    series = []\n",
    "    \n",
    "    # Fetching all rows and store them in a Serie, skip the two first rows that represent header\n",
    "    for row in table.find_all('tr')[2:]:\n",
    "        serie = []\n",
    "        \n",
    "        # Fetching all columns, skip the last one that is not in the header (badly structered html table)\n",
    "        for col in row.find_all('td')[:-1]:\n",
    "            serie.append(col.text)\n",
    "        series.append(serie)\n",
    "\n",
    "    # Creating a dataframe from the columns and series' variables\n",
    "    df = pd.DataFrame(series)\n",
    "    df.columns = columns\n",
    "    \n",
    "    return df"
   ]
  },
  {
   "cell_type": "markdown",
   "metadata": {},
   "source": [
    "Now, we are able to request an IS-Academia page containing the data tables of students in a specific section, year and semester.\n",
    "\n",
    "<b>Important note: We choose to store all data to prevent doing multiple requests to IS-Academia server. To do so, we use pickle to serialize all data. Make sure python has full read/write access in the folder containing the current Notebook.</b>"
   ]
  },
  {
   "cell_type": "code",
   "execution_count": null,
   "metadata": {
    "collapsed": false,
    "scrolled": true
   },
   "outputs": [],
   "source": [
    "# We first create the directory Data if it not exists\n",
    "if not os.path.exists('Data'):\n",
    "    os.makedirs(DATA_FOLDER)\n",
    "\n",
    "# We focus only on data of students in Bachelor and Master\n",
    "bachelor_master_semester_codes = {}\n",
    "for section_name in semester_codes:\n",
    "    if section_name.startswith('Bachelor semestre') or section_name.startswith('Master semestre') or section_name.startswith('Projet Master'):\n",
    "            bachelor_master_semester_codes[section_name] = semester_codes[section_name]\n",
    "\n",
    "print('Start fetching data from ' + DATA_URL)\n",
    "\n",
    "# For each available codes in the year select box\n",
    "for year_name, year_code in year_codes.items():\n",
    "\n",
    "    # For each codes from Master and Bachelor sections\n",
    "    for semester_name, semester_code in bachelor_master_semester_codes.items():\n",
    "        \n",
    "        print('\\tFetching data for ' + year_name + ' ' + semester_name + '\\t: ', end=\"\", flush=True)\n",
    "\n",
    "        file_path = DATA_FOLDER + year_name + ' ' + semester_name\n",
    "        \n",
    "        # If the file already exists, we do nothing\n",
    "        if not os.path.exists(file_path):\n",
    "            \n",
    "            # Definition of set of params used for the next request to be sent\n",
    "            params = {\n",
    "                SECTION_PARAM : section_codes['Informatique'],\n",
    "                YEAR_PARAM : year_code,\n",
    "                SEMESTER_PARAM : semester_code,\n",
    "                TYPE_PARAM : 'null',\n",
    "                **DEFAULT_PARAMS\n",
    "            }\n",
    "\n",
    "            try:\n",
    "                # We get a DataFrame from HTML table\n",
    "                data = html_page_to_dataframe(rq.get(DATA_URL, params))\n",
    "\n",
    "                if data.empty:\n",
    "                    print('No data')\n",
    "                    \n",
    "                else:\n",
    "                    # We store data in binary file with pickle in the Data folder\n",
    "                    data.to_pickle(file_path)\n",
    "                    print('Stored in ' + file_path)\n",
    "\n",
    "            except ValueError:\n",
    "                print('Unable to get data from ' + DATA_URL + ' with following params:')\n",
    "                for key, value in params.items():\n",
    "                    print('\\t\\t' + key + ': ' + value)\n",
    "                break\n",
    "\n",
    "        else:\n",
    "            print('Already stored in ' + file_path)\n",
    "\n",
    "print('Fetching data done. See ' + DATA_FOLDER + ' folder.')"
   ]
  },
  {
   "cell_type": "markdown",
   "metadata": {},
   "source": [
    "> Note: A problem has been detected with \"2008-2009 Bachelor semestre 3\" and \"2007-2008 Bachelor semestre 3\" options ; multiple table were found (two entries instead of one). As we have only two errors, we don't do anything at this time. If we need these data, we will do the request manually."
   ]
  },
  {
   "cell_type": "markdown",
   "metadata": {},
   "source": [
    "### Analysing Bachelor data\n",
    "\n",
    "We can notice that the data related to students in Bachelor 5b and Bachelor 6b are empty in Computer Science section.\n",
    "\n",
    "From now, we assume the following assumptions:\n",
    " - 1) a bachelor student starts at the semester 1 and finishes at the semester 6 or 5 (in case of the student has failed the semester 5 but not the semester6);\n",
    " - 2) a semester lasts 6 months;\n",
    " - 3) odd semesters correspond to the fall period and even semesters correspond to the spring semesters.\n",
    " \n",
    "So, we need to get relevant data (regarding the assumptions) from files and concat them together in a single DataFrame.\n",
    "\n",
    "We firstly concat every data of one section in a DataFrame like this:"
   ]
  },
  {
   "cell_type": "code",
   "execution_count": null,
   "metadata": {
    "collapsed": false
   },
   "outputs": [],
   "source": [
    "def retrieve_dataframes(semester_codes, extra_compute, data_folder=DATA_FOLDER):\n",
    "    '''\n",
    "    This function retrieves data from files and returns a table of DataFrames for every given section.\n",
    "    \n",
    "    Parameters:\n",
    "        semester_codes: dict (section name : section code) that the function will retrieve\n",
    "        extra_compute: extra function executed for every year of a specific section (params: data for this year, semester name and year name)\n",
    "        data_folder: the data folder where data is stored (by default DATA_FOLDER constant)\n",
    "    '''\n",
    "    # Variable contains a list of DataFrames associated to a semester_name\n",
    "    dataframes = collections.defaultdict(pd.DataFrame)\n",
    "\n",
    "    for semester_name, semester_code in semester_codes.items():\n",
    "\n",
    "        print('Compute for ' + semester_name)\n",
    "\n",
    "        # Variable contains a list of DataFrames related to a specific semester\n",
    "        for year_name, year_code in year_codes.items():\n",
    "\n",
    "            file_path = data_folder + year_name + ' ' + semester_name\n",
    "\n",
    "            if os.path.exists(file_path):\n",
    "\n",
    "                # We get a DataFrame from a HTML table\n",
    "                data_per_year = pd.read_pickle(file_path)\n",
    "\n",
    "                extra_compute(data_per_year, semester_name, year_name)\n",
    "\n",
    "                # We add the result to the initial DataFrame\n",
    "                dataframes[semester_name] =  pd.concat([dataframes[semester_name], data_per_year])\n",
    "                \n",
    "    return dataframes"
   ]
  },
  {
   "cell_type": "code",
   "execution_count": null,
   "metadata": {
    "collapsed": false
   },
   "outputs": [],
   "source": [
    "# We only select semesters 1, 5, 6 in Bachelor section\n",
    "bachelor_semester_codes = {}\n",
    "for section_name in semester_codes:\n",
    "    if section_name.startswith('Bachelor semestre') and section_name.endswith(tuple(['1', '5', '6'])):\n",
    "        bachelor_semester_codes[section_name] = semester_codes[section_name]\n",
    "\n",
    "# This is the 'extra_compute' function given to the previous function\n",
    "def bachelor_append_year(data_per_year, semester_name, year_name):\n",
    "    '''\n",
    "    This function appends a column with the beginning date of the considered semester.\n",
    "    By convention: for odd semesters, beginning date is 08/01. For even semesters, it is 02/01.\n",
    "    '''\n",
    "    if semester_name.endswith('1') or semester_name.endswith('5'):\n",
    "        begin_date = year_name.split('-')[0] + '-08-01'\n",
    "    else:\n",
    "        begin_date = year_name.split('-')[1] + '-02-01'\n",
    "    data_per_year[semester_name] = pd.to_datetime(begin_date) \n",
    "\n",
    "bachelor_dataframes = retrieve_dataframes(bachelor_semester_codes, bachelor_append_year)"
   ]
  },
  {
   "cell_type": "markdown",
   "metadata": {
    "collapsed": true
   },
   "source": [
    "## Visualising and cleaning data"
   ]
  },
  {
   "cell_type": "markdown",
   "metadata": {},
   "source": [
    "Now, we can try to visualise and clean data. Let's display of DataFrame corresponding to 'Bachelor semestre 1', 'Bachelor semestre 5' and 'Bachelor semestre 6' to have an idea of which kind of data we will manipulate."
   ]
  },
  {
   "cell_type": "code",
   "execution_count": null,
   "metadata": {
    "collapsed": false,
    "scrolled": true
   },
   "outputs": [],
   "source": [
    "bachelor_data_semester1 = bachelor_dataframes['Bachelor semestre 1'].copy()\n",
    "bachelor_data_semester1.head()"
   ]
  },
  {
   "cell_type": "code",
   "execution_count": null,
   "metadata": {
    "collapsed": false
   },
   "outputs": [],
   "source": [
    "bachelor_data_semester5 = bachelor_dataframes['Bachelor semestre 5'].copy()\n",
    "bachelor_data_semester5.head()"
   ]
  },
  {
   "cell_type": "code",
   "execution_count": null,
   "metadata": {
    "collapsed": false
   },
   "outputs": [],
   "source": [
    "bachelor_data_semester6 = bachelor_dataframes['Bachelor semestre 6'].copy()\n",
    "bachelor_data_semester6.head()"
   ]
  },
  {
   "cell_type": "markdown",
   "metadata": {},
   "source": [
    "### About the student status"
   ]
  },
  {
   "cell_type": "markdown",
   "metadata": {},
   "source": [
    "We see a status column that shows if the student is present or not in the semester. This parameter can have a non-negligible impact on the result we want to compute:"
   ]
  },
  {
   "cell_type": "code",
   "execution_count": null,
   "metadata": {
    "collapsed": false,
    "scrolled": true
   },
   "outputs": [],
   "source": [
    "bachelor_data_semester1['Statut'].value_counts()"
   ]
  },
  {
   "cell_type": "code",
   "execution_count": null,
   "metadata": {
    "collapsed": false
   },
   "outputs": [],
   "source": [
    "bachelor_data_semester5['Statut'].value_counts()"
   ]
  },
  {
   "cell_type": "code",
   "execution_count": null,
   "metadata": {
    "collapsed": false
   },
   "outputs": [],
   "source": [
    "bachelor_data_semester6['Statut'].value_counts()"
   ]
  },
  {
   "cell_type": "markdown",
   "metadata": {},
   "source": [
    "As we can see, there are some students who didn't attend the first or last semester. Also, there is one student in a waiting state (for semesters 1 and 6).\n",
    "\n",
    "<b>Important note: These data are not sufficient in order to check if a student registered in 'Bachelor semestre 6' has successfully achieved his bachelor degree or not (i.e. a student can be marked as \"Présent\" or \"Congé\" and in the same time can fail or success).</b>\n",
    "\n",
    "For this reason, we make new important assumptions:\n",
    " - 4) the earliest year of 'Bachelor semestre 1' stored in database corresponds to the beginning of a bachelor plan, regardless the status of the student ('Présent', 'Congé' or 'Attente');\n",
    " - 5) we consider that all students obtain their Bachelor degree regardless their status for the 'Bachelor semestre 1' and 'Bachelor semestre 6' (obviously, they have to be, at least, still present in 'Bachelor semestre 6').\n",
    " \n",
    " > Note: The fifth assumption is not mandatory here as we just want to know the average duration of a Bachelor study plan."
   ]
  },
  {
   "cell_type": "markdown",
   "metadata": {},
   "source": [
    "### Handling duplicate entries and making index"
   ]
  },
  {
   "cell_type": "markdown",
   "metadata": {},
   "source": [
    "We want a unique index. In our case, it will be the Sciper number:"
   ]
  },
  {
   "cell_type": "code",
   "execution_count": null,
   "metadata": {
    "collapsed": false
   },
   "outputs": [],
   "source": [
    "bachelor_data_semester1['No Sciper'].is_unique"
   ]
  },
  {
   "cell_type": "code",
   "execution_count": null,
   "metadata": {
    "collapsed": false
   },
   "outputs": [],
   "source": [
    "bachelor_data_semester5['No Sciper'].is_unique"
   ]
  },
  {
   "cell_type": "code",
   "execution_count": null,
   "metadata": {
    "collapsed": false
   },
   "outputs": [],
   "source": [
    "bachelor_data_semester6['No Sciper'].is_unique"
   ]
  },
  {
   "cell_type": "markdown",
   "metadata": {},
   "source": [
    "We see that the Sciper number is unique, i.e. some students repeated the semester 1, 5 or 6. Thus, we need to keep the earliest year in the case of semester 1 and the latest year in other cases. To do so, we will sort the DataFrame by the year and then we will only keep the first entry for each student (see asumptions 4 and 5)."
   ]
  },
  {
   "cell_type": "code",
   "execution_count": null,
   "metadata": {
    "collapsed": false
   },
   "outputs": [],
   "source": [
    "bachelor_data_semester1.sort_values('Bachelor semestre 1', inplace=True)\n",
    "bachelor_data_semester1.drop_duplicates(subset='No Sciper', keep='first', inplace=True)"
   ]
  },
  {
   "cell_type": "code",
   "execution_count": null,
   "metadata": {
    "collapsed": false
   },
   "outputs": [],
   "source": [
    "bachelor_data_semester5.sort_values('Bachelor semestre 5', ascending=False, inplace=True)\n",
    "bachelor_data_semester5.drop_duplicates(subset='No Sciper', keep='first', inplace=True)"
   ]
  },
  {
   "cell_type": "code",
   "execution_count": null,
   "metadata": {
    "collapsed": false
   },
   "outputs": [],
   "source": [
    "bachelor_data_semester6.sort_values('Bachelor semestre 6', ascending=False, inplace=True)\n",
    "bachelor_data_semester6.drop_duplicates(subset='No Sciper', keep='first', inplace=True)"
   ]
  },
  {
   "cell_type": "code",
   "execution_count": null,
   "metadata": {
    "collapsed": false
   },
   "outputs": [],
   "source": [
    "bachelor_data_semester1['No Sciper'].is_unique"
   ]
  },
  {
   "cell_type": "code",
   "execution_count": null,
   "metadata": {
    "collapsed": false
   },
   "outputs": [],
   "source": [
    "bachelor_data_semester5['No Sciper'].is_unique"
   ]
  },
  {
   "cell_type": "code",
   "execution_count": null,
   "metadata": {
    "collapsed": false
   },
   "outputs": [],
   "source": [
    "bachelor_data_semester6['No Sciper'].is_unique"
   ]
  },
  {
   "cell_type": "markdown",
   "metadata": {},
   "source": [
    "Now, as expected, the Sciper number is unique and thus we can mark the column as index."
   ]
  },
  {
   "cell_type": "code",
   "execution_count": null,
   "metadata": {
    "collapsed": false
   },
   "outputs": [],
   "source": [
    "bachelor_data_semester1.set_index('No Sciper', inplace=True)\n",
    "bachelor_data_semester5.set_index('No Sciper', inplace=True)\n",
    "bachelor_data_semester6.set_index('No Sciper', inplace=True)\n",
    "bachelor_data_semester1.head()"
   ]
  },
  {
   "cell_type": "markdown",
   "metadata": {},
   "source": [
    "### Merging data"
   ]
  },
  {
   "cell_type": "markdown",
   "metadata": {},
   "source": [
    "Now, we want to merge the two obtained (and cleaned) tables. To do so, we use the 'merge' function provided by pandas, specifying some parameters like the columns we want to preserve. Note that we use indexes to perform the merge, and we use inner merge as we want to only consider students who started their Bachelor at EPFL."
   ]
  },
  {
   "cell_type": "code",
   "execution_count": null,
   "metadata": {
    "collapsed": false,
    "scrolled": true
   },
   "outputs": [],
   "source": [
    "# First we merge semester 1 with the semester 5\n",
    "student_bachelor_done = pd.merge(\n",
    "    bachelor_data_semester1[['Civilité', 'Nom Prénom', 'Bachelor semestre 1']],\n",
    "    bachelor_data_semester5[['Bachelor semestre 5']],\n",
    "    left_index=True,\n",
    "    right_index=True,\n",
    "    how='inner'\n",
    ")\n",
    "\n",
    "# Then we merge the obtained result with semester 6\n",
    "student_bachelor_done = pd.merge(\n",
    "    student_bachelor_done,\n",
    "    bachelor_data_semester6[['Bachelor semestre 6']],\n",
    "    left_index=True,\n",
    "    right_index=True,\n",
    "    how='inner'\n",
    ")\n",
    "\n",
    "student_bachelor_done.head()"
   ]
  },
  {
   "cell_type": "markdown",
   "metadata": {},
   "source": [
    "So, As we can see, a student can finish his Bachelor degree with 'Bachelor semestre 5' (see previous assumptions), but he has to be registered at 'Bachelor semestre 6' in such situation."
   ]
  },
  {
   "cell_type": "markdown",
   "metadata": {},
   "source": [
    "Let's compute the number of months between the first semester ('Bachelor semestre 1') and the last semester ('Bachelor semestre 5' or 'Bachelor semestre 6'):"
   ]
  },
  {
   "cell_type": "code",
   "execution_count": null,
   "metadata": {
    "collapsed": false
   },
   "outputs": [],
   "source": [
    "def compute_nb_months_bachelor(row):\n",
    "    '''\n",
    "    This functions retrieved the last registered semester for a given student and compute the number of months of Bachelor degree.\n",
    "    '''\n",
    "    if row['Bachelor semestre 6'] > row['Bachelor semestre 5']:\n",
    "        last_date = row['Bachelor semestre 6']\n",
    "    else:\n",
    "        last_date = row['Bachelor semestre 5']\n",
    "    delta = relativedelta.relativedelta(last_date, row['Bachelor semestre 1'])\n",
    "    \n",
    "    # We need to get the difference in months, so we convert the delta in months.\n",
    "    # In addition we add 6 months for the last semester because we only have the beginning date of every semester.\n",
    "    return delta.years * 12 + delta.months + 6\n",
    "\n",
    "# To keep consistency in the colmun names, we add a french name for the duration of months\n",
    "student_bachelor_done['Durée bachelor (mois)'] = student_bachelor_done.apply(compute_nb_months_bachelor, axis=1)\n",
    "\n",
    "student_bachelor_done.head()"
   ]
  },
  {
   "cell_type": "markdown",
   "metadata": {},
   "source": [
    "### Using statistics"
   ]
  },
  {
   "cell_type": "markdown",
   "metadata": {},
   "source": [
    "Now, we can easily get a global average of duration but also an average according to the sex of students, thanks to the 'Civilité' column."
   ]
  },
  {
   "cell_type": "code",
   "execution_count": null,
   "metadata": {
    "collapsed": false
   },
   "outputs": [],
   "source": [
    "student_bachelor_done['Durée bachelor (mois)'].mean()"
   ]
  },
  {
   "cell_type": "markdown",
   "metadata": {},
   "source": [
    "An EPFL student obtain his Bachelor degree after 43 months approximately, in average."
   ]
  },
  {
   "cell_type": "code",
   "execution_count": null,
   "metadata": {
    "collapsed": false
   },
   "outputs": [],
   "source": [
    "avg_duration_bachelor_degree = student_bachelor_done.groupby(['Durée bachelor (mois)']).count()['Nom Prénom'].plot(kind='bar')\n",
    "avg_duration_bachelor_degree.set_ylabel('Number of students')\n",
    "avg_duration_bachelor_degree.set_xlabel('Bachelor duration in months')\n",
    "avg_duration_bachelor_degree.set_title('How many months lasts a Bachelor study plan for EPFL students?')"
   ]
  },
  {
   "cell_type": "markdown",
   "metadata": {},
   "source": [
    "Before computing the average by sex, we check if the values in the 'Civilité' colmun are correct:"
   ]
  },
  {
   "cell_type": "code",
   "execution_count": null,
   "metadata": {
    "collapsed": false,
    "scrolled": false
   },
   "outputs": [],
   "source": [
    "student_bachelor_done['Civilité'].value_counts()"
   ]
  },
  {
   "cell_type": "markdown",
   "metadata": {},
   "source": [
    "No outliers are present here and we can safely use the attribute to compute the mean."
   ]
  },
  {
   "cell_type": "code",
   "execution_count": null,
   "metadata": {
    "collapsed": false,
    "scrolled": true
   },
   "outputs": [],
   "source": [
    "student_bachelor_by_sex = student_bachelor_done[['Civilité', 'Durée bachelor (mois)']].groupby(['Civilité'])\n",
    "student_bachelor_by_sex.mean()"
   ]
  },
  {
   "cell_type": "code",
   "execution_count": null,
   "metadata": {
    "collapsed": false,
    "scrolled": true
   },
   "outputs": [],
   "source": [
    "avg_duration_bachelor_degree_by_sex = student_bachelor_done.groupby(['Civilité', 'Durée bachelor (mois)']).count()['Nom Prénom'].unstack(level=0).fillna(0).plot(kind='bar')\n",
    "avg_duration_bachelor_degree_by_sex.set_ylabel('Number of students')\n",
    "avg_duration_bachelor_degree_by_sex.set_xlabel('Bachelor duration in months')\n",
    "avg_duration_bachelor_degree_by_sex.set_title('Bachelor study plan duration by sex for EPFL students')\n",
    "avg_duration_bachelor_degree_by_sex"
   ]
  },
  {
   "cell_type": "markdown",
   "metadata": {},
   "source": [
    "It seems that female students obtain their bachelor degree in less months than male students in average. But as we know, average is not a robust statistic. Let's compute the median to have a better overview:"
   ]
  },
  {
   "cell_type": "code",
   "execution_count": null,
   "metadata": {
    "collapsed": false,
    "scrolled": true
   },
   "outputs": [],
   "source": [
    "student_bachelor_by_sex.median()"
   ]
  },
  {
   "cell_type": "markdown",
   "metadata": {},
   "source": [
    "As the median is a robust statistic and as we don't see differences here, the initial hypothesis that we made ('there is probably a notable difference in results between female and male students') is not correct.\n",
    "\n",
    "We can confirm this by making a T-Test to get the P-Value. As the number of female and male students is sufficiant (N > 20, N number of students, in the two cases) and as the durations of Bachelor study plan are independent between students, we can approximate the data with a normal distribution.\n",
    "\n",
    "We need to test the hypothesis that female students success in less months than male students. The null hypothesis (H0) is that the duration of a Bachelor study plan for female and male students is the same.\n",
    "\n",
    "Let's compute the P-value using the T-test:"
   ]
  },
  {
   "cell_type": "code",
   "execution_count": null,
   "metadata": {
    "collapsed": false
   },
   "outputs": [],
   "source": [
    "boy_serie_duration_bachelor = student_bachelor_done['Durée bachelor (mois)'][[sex == 'Monsieur' for sex in student_bachelor_done['Civilité']]]\n",
    "girl_serie_duration_bachelor = student_bachelor_done['Durée bachelor (mois)'][[sex == 'Madame' for sex in student_bachelor_done['Civilité']]]\n",
    "\n",
    "stats.ttest_ind(a=boy_serie_duration_bachelor.values, b=girl_serie_duration_bachelor.values, equal_var=False)"
   ]
  },
  {
   "cell_type": "markdown",
   "metadata": {},
   "source": [
    "The P-Value is greater than the accepted value (0.37 > 0.05), so we can't validate our hypothesis that female students finish in less months than male students.\n",
    "\n",
    "We can do the same check without doing any assumptions on data by using the K-S Test:"
   ]
  },
  {
   "cell_type": "code",
   "execution_count": null,
   "metadata": {
    "collapsed": false
   },
   "outputs": [],
   "source": [
    "stats.ks_2samp(boy_serie_duration_bachelor.values, girl_serie_duration_bachelor.values)"
   ]
  },
  {
   "cell_type": "markdown",
   "metadata": {},
   "source": [
    "Here, the null hypothesis is that the two samples are from the same distribution.\n",
    "\n",
    "As P-value is high (>> 5%), we can't reject the null hypothesis ; in other words, there is no real difference here between the two samples (female and male students).\n",
    "\n",
    "Note that the statistic value (i.e. the absolute max distance between the two cumulative distribution functions) is close enought to 0, so, again, we can say that the two samples are from the same distribution."
   ]
  },
  {
   "cell_type": "markdown",
   "metadata": {},
   "source": [
    "### Concluding with a brief note"
   ]
  },
  {
   "cell_type": "code",
   "execution_count": null,
   "metadata": {
    "collapsed": false
   },
   "outputs": [],
   "source": [
    "len(student_bachelor_done)"
   ]
  },
  {
   "cell_type": "markdown",
   "metadata": {},
   "source": [
    "As we said before, we only consider the students who started their study at EPFL. Thus, we only obtain 322 students at the end, while for 'Bachelor semestre 6', we had 500+ entries."
   ]
  },
  {
   "cell_type": "markdown",
   "metadata": {},
   "source": [
    "# Question 2 - Master\n",
    "\n",
    "<b>Perform a similar operation to what described above, this time for Master students. Notice that this data is more tricky, as there are many missing records in the IS-Academia database. Therefore, try to guess how much time a master student spent at EPFL by at least checking the distance in months between Master semestre 1 and Master semestre 2. If the Mineur field is not empty, the student should also appear registered in Master semestre 3. Last but not the least, don't forget to check if the student has an entry also in the Projet Master tables. Once you can handle well this data, compute the \"average stay at EPFL\" for master students. Now extract all the students with a Spécialisation and compute the \"average stay\" per each category of that attribute -- compared to the general average, can you find any specialization for which the difference in average is statistically significant?</b>\n",
    "\n",
    "We have already fetched the data from IS-Academia in the first question so, instead of fetching again data, we will simply get data from files created with pickle. We apply the same process used for Bachelor section, but this time we consider that a Master student can finish his master in different ways. Here are the new assumptions:\n",
    "\n",
    " - 6) all students start with the 'Master semestre 1' or 'Master semestre 2' but need to do both;\n",
    " - 7) a student can finish with only 'Master semestre 1' and 'Master semestre 2' without doing 'Master semestre 3' if there isn't a 'Mineur' value for 'Master semestre 2';\n",
    " - 8) a student can finish with 'Master semestre 1' and 'Master semestre 3' in case of missing data for 'Master semestre 2';\n",
    " - 9) a student can finish with an optional master projet in fall or spring but still need to be registered in 'Master semestre 1'.\n",
    " \n",
    "**Note: As said in the beginning of this Notebook, we are not EPFL students and, thus, we don't know the exact rules of school. These assumptions can differ a bit from the functioning here at EPFL, but we tried to remain realistic regarding the obtained data.**\n",
    " \n",
    "Let's fetch all data from files correspond to the semesters 1, 2, 3 or to fall/spring project sessions. At the same time, let's add the beginning date of every semester (like it was done in Q1 about Bachelor students):"
   ]
  },
  {
   "cell_type": "code",
   "execution_count": null,
   "metadata": {
    "collapsed": false
   },
   "outputs": [],
   "source": [
    "master_semester_codes = {}\n",
    "for section_name in semester_codes:\n",
    "    if section_name.startswith('Projet Master') or (section_name.startswith('Master semestre') and section_name.endswith(tuple(['1', '2', '3']))):\n",
    "        master_semester_codes[section_name] = semester_codes[section_name]\n",
    "\n",
    "def master_append_year(data_per_year, semester_name, year_name):\n",
    "    '''\n",
    "    This function sets the exact beginning date of a given semester.\n",
    "    Convention: For semester 2 and spring project session, beginning date is 02/01. Else, it is 08/01.\n",
    "    '''\n",
    "    if semester_name.endswith('2') or semester_name.endswith('printemps'):\n",
    "        begin_date = year_name.split('-')[1] + '-02-01'\n",
    "    else:\n",
    "        begin_date = year_name.split('-')[0] + '-08-01'\n",
    "    data_per_year[semester_name] = pd.to_datetime(begin_date)\n",
    "\n",
    "master_dataframes = retrieve_dataframes(master_semester_codes, master_append_year)"
   ]
  },
  {
   "cell_type": "markdown",
   "metadata": {},
   "source": [
    "### Cleaning data\n",
    "\n",
    "We also need to clean data like for Bachelor. We will make the Sciper number be the index and then remove duplicate rows after having sorted data by date of semester (ascending for semester 1 and descending in other cases):"
   ]
  },
  {
   "cell_type": "code",
   "execution_count": null,
   "metadata": {
    "collapsed": true
   },
   "outputs": [],
   "source": [
    "master_data_semester1 = master_dataframes['Master semestre 1'].copy()\n",
    "master_data_semester2 = master_dataframes['Master semestre 2'].copy()\n",
    "master_data_semester3 = master_dataframes['Master semestre 3'].copy()\n",
    "master_data_semester_fall_project = master_dataframes['Projet Master automne'].copy()\n",
    "master_data_semester_spring_project = master_dataframes['Projet Master printemps'].copy()\n",
    "\n",
    "master_data_semester1.sort_values('Master semestre 1', ascending=True, inplace=True)\n",
    "master_data_semester1.drop_duplicates(subset='No Sciper', keep='first', inplace=True)\n",
    "master_data_semester1.set_index('No Sciper', inplace=True)\n",
    "\n",
    "master_data_semester2.sort_values('Master semestre 2', ascending=False, inplace=True)\n",
    "master_data_semester2.drop_duplicates(subset='No Sciper', keep='first', inplace=True)\n",
    "master_data_semester2.set_index('No Sciper', inplace=True)\n",
    "\n",
    "master_data_semester3.sort_values('Master semestre 3', ascending=False, inplace=True)\n",
    "master_data_semester3.drop_duplicates(subset='No Sciper', keep='first', inplace=True)\n",
    "master_data_semester3.set_index('No Sciper', inplace=True)\n",
    "\n",
    "master_data_semester_fall_project.sort_values('Projet Master automne', ascending=False, inplace=True)\n",
    "master_data_semester_fall_project.drop_duplicates(subset='No Sciper', keep='first', inplace=True)\n",
    "master_data_semester_fall_project.set_index('No Sciper', inplace=True)\n",
    "\n",
    "master_data_semester_spring_project.sort_values('Projet Master printemps', ascending=False, inplace=True)\n",
    "master_data_semester_spring_project.drop_duplicates(subset='No Sciper', keep='first', inplace=True)\n",
    "master_data_semester_spring_project.set_index('No Sciper', inplace=True)"
   ]
  },
  {
   "cell_type": "markdown",
   "metadata": {},
   "source": [
    "For students in 'Master semestre 2', we need to keep only those without 'Mineur' values because there are, then, also registered in 'Master semestre 3' (except students who are not registered for the next year, but those ones will be automatically removed during the final merge)."
   ]
  },
  {
   "cell_type": "code",
   "execution_count": null,
   "metadata": {
    "collapsed": true
   },
   "outputs": [],
   "source": [
    "master_data_semester2_without_mineur = master_data_semester2[[len(mineur) == 0 for mineur in master_data_semester2['Mineur']]]"
   ]
  },
  {
   "cell_type": "markdown",
   "metadata": {},
   "source": [
    "### Merging and concatenating data\n",
    "\n",
    "Now we need to make one DataFrame for each assumption (assumptions 7, 8 and 9). To do so, we will make the needed attributes be the indexes (name, sex, beginning date of the semester and Sciper number) to prevent any drop of data when we will concatenate the 3 obtained DataFrames."
   ]
  },
  {
   "cell_type": "code",
   "execution_count": null,
   "metadata": {
    "collapsed": false
   },
   "outputs": [],
   "source": [
    "master_semester_1_2 = pd.merge(\n",
    "    master_data_semester1[['Civilité', 'Nom Prénom', 'Spécialisation', 'Master semestre 1']],\n",
    "    master_data_semester2_without_mineur[['Master semestre 2']],\n",
    "    left_index=True,\n",
    "    right_index=True,\n",
    "    how='inner'\n",
    ")\n",
    "master_semester_1_2.reset_index(inplace=True)\n",
    "master_semester_1_2.set_index(['No Sciper', 'Civilité', 'Nom Prénom', 'Spécialisation', 'Master semestre 1'], inplace=True)\n",
    "\n",
    "master_semester_1_3 = pd.merge(\n",
    "    master_data_semester1[['Civilité', 'Nom Prénom', 'Spécialisation', 'Master semestre 1']],\n",
    "    master_data_semester3[['Master semestre 3']],\n",
    "    left_index=True,\n",
    "    right_index=True,\n",
    "    how='inner'\n",
    ")\n",
    "master_semester_1_3.reset_index(inplace=True)\n",
    "master_semester_1_3.set_index(['No Sciper', 'Civilité', 'Nom Prénom', 'Spécialisation', 'Master semestre 1'], inplace=True)\n",
    "\n",
    "master_semester_1_pf = pd.merge(\n",
    "    master_data_semester1[['Civilité', 'Nom Prénom', 'Spécialisation', 'Master semestre 1']],\n",
    "    master_data_semester_fall_project[['Projet Master automne']],\n",
    "    left_index=True,\n",
    "    right_index=True,\n",
    "    how='inner'\n",
    ")\n",
    "master_semester_1_pf.reset_index(inplace=True)\n",
    "master_semester_1_pf.set_index(['No Sciper', 'Civilité', 'Nom Prénom', 'Spécialisation', 'Master semestre 1'], inplace=True)\n",
    "\n",
    "master_semester_1_ps = pd.merge(\n",
    "    master_data_semester1[['Civilité', 'Nom Prénom', 'Spécialisation', 'Master semestre 1']],\n",
    "    master_data_semester_spring_project[['Projet Master printemps']],\n",
    "    left_index=True,\n",
    "    right_index=True,\n",
    "    how='inner'\n",
    ")\n",
    "master_semester_1_ps.reset_index(inplace=True)\n",
    "master_semester_1_ps.set_index(['No Sciper', 'Civilité', 'Nom Prénom', 'Spécialisation', 'Master semestre 1'], inplace=True)"
   ]
  },
  {
   "cell_type": "markdown",
   "metadata": {},
   "source": [
    "Now we can concatenate DataFrames in a single one and try to make only the Sciper number being the index:"
   ]
  },
  {
   "cell_type": "code",
   "execution_count": null,
   "metadata": {
    "collapsed": true
   },
   "outputs": [],
   "source": [
    "master_full_data = pd.concat([\n",
    "        master_semester_1_2[['Master semestre 2']],\n",
    "        master_semester_1_3[['Master semestre 3']],\n",
    "        master_semester_1_pf[['Projet Master automne']],\n",
    "        master_semester_1_ps[['Projet Master printemps']]\n",
    "    ], axis=1)"
   ]
  },
  {
   "cell_type": "code",
   "execution_count": null,
   "metadata": {
    "collapsed": false
   },
   "outputs": [],
   "source": [
    "# Check if the No Sciper is still unique\n",
    "master_full_data.index.levels[0].is_unique"
   ]
  },
  {
   "cell_type": "code",
   "execution_count": null,
   "metadata": {
    "collapsed": false,
    "scrolled": true
   },
   "outputs": [],
   "source": [
    "master_full_data.reset_index(inplace=True)\n",
    "master_full_data.set_index(['No Sciper'], inplace=True)\n",
    "\n",
    "master_full_data.head()"
   ]
  },
  {
   "cell_type": "markdown",
   "metadata": {},
   "source": [
    "We can see that the student associated to the Sciper number '152232' is concerned by the assumption 8 as he hasn't data for 'Master semestre 2'. We decided to keep this kind of entries because there are a lot:"
   ]
  },
  {
   "cell_type": "code",
   "execution_count": null,
   "metadata": {
    "collapsed": false,
    "scrolled": true
   },
   "outputs": [],
   "source": [
    "master_full_data[master_full_data['Master semestre 2'].isnull()]"
   ]
  },
  {
   "cell_type": "markdown",
   "metadata": {},
   "source": [
    "Now we can compute the number of months by comparing the date in 'Master semestre 1' with the latest date between semester 2 or 3 or projects:"
   ]
  },
  {
   "cell_type": "code",
   "execution_count": null,
   "metadata": {
    "collapsed": false,
    "scrolled": true
   },
   "outputs": [],
   "source": [
    "# We need to find the latest and earliest dates between semester 1, 2, 3 or projects\n",
    "# because some students start their Master by doing the semester 2 before the semester 1\n",
    "def latest_date(dates):\n",
    "    '''\n",
    "    This function returns the latest date between a set of valid dates.\n",
    "    '''\n",
    "    return max(dates[[not pd.isnull(date) for date in dates]])\n",
    "\n",
    "def earliest_date(dates):\n",
    "    '''\n",
    "    This function returns the earliest date between a set of valid dates.\n",
    "    '''\n",
    "    return min(dates[[not pd.isnull(date) for date in dates]])\n",
    "\n",
    "def compute_nb_months_master(row):\n",
    "    '''\n",
    "    This functions computes the number of months a Master lasts, comparing the earliest and latest dates\n",
    "    corresponding to the aforesaid Master.\n",
    "    '''\n",
    "    latest = latest_date(row[['Master semestre 1', 'Master semestre 2', 'Master semestre 3', 'Projet Master automne', 'Projet Master printemps']])\n",
    "    earliest = earliest_date(row[['Master semestre 1', 'Master semestre 2']])\n",
    "    delta = relativedelta.relativedelta(latest, earliest) \n",
    "    return delta.years * 12 + delta.months + 6\n",
    "\n",
    "# Again, we use French here to comply with data fetched from IS-Academia\n",
    "master_full_data['Durée master (mois)'] = master_full_data.apply(compute_nb_months_master, axis=1)\n",
    "\n",
    "master_full_data.head()"
   ]
  },
  {
   "cell_type": "markdown",
   "metadata": {},
   "source": [
    "### Using statistics"
   ]
  },
  {
   "cell_type": "markdown",
   "metadata": {},
   "source": [
    "We can, firstly, compute the average duration (in months) for a Computer Science (CS) Master at EPFL."
   ]
  },
  {
   "cell_type": "code",
   "execution_count": null,
   "metadata": {
    "collapsed": false
   },
   "outputs": [],
   "source": [
    "master_full_data['Durée master (mois)'].mean()"
   ]
  },
  {
   "cell_type": "markdown",
   "metadata": {},
   "source": [
    "We can also focus on available specialisations for CS Masters."
   ]
  },
  {
   "cell_type": "code",
   "execution_count": null,
   "metadata": {
    "collapsed": false,
    "scrolled": true
   },
   "outputs": [],
   "source": [
    "nb_students_by_specialisation = master_full_data.groupby(['Spécialisation']).agg({'Durée master (mois)':{'Nombre d\\'étudiants':'count'}})\n",
    "nb_students_by_specialisation.columns = nb_students_by_specialisation.columns.droplevel(0)\n",
    "nb_students_by_specialisation"
   ]
  },
  {
   "cell_type": "markdown",
   "metadata": {},
   "source": [
    "We see, for example, that the majority of students don't choose any specialisation during their Master course."
   ]
  },
  {
   "cell_type": "markdown",
   "metadata": {},
   "source": [
    "Let's compute the mean of months duration of a CS Master at EPFL."
   ]
  },
  {
   "cell_type": "code",
   "execution_count": null,
   "metadata": {
    "collapsed": false,
    "scrolled": true
   },
   "outputs": [],
   "source": [
    "mean_cs_duration_by_spycialisation = master_full_data.groupby(['Spécialisation']).agg({'Durée master (mois)':{'Durée moyenne d\\'un Master (mois)':'mean'}})\n",
    "mean_cs_duration_by_spycialisation.columns = mean_cs_duration_by_spycialisation.columns.droplevel(0)\n",
    "mean_cs_duration_by_spycialisation"
   ]
  },
  {
   "cell_type": "markdown",
   "metadata": {},
   "source": [
    "We see that there is some gap between results."
   ]
  },
  {
   "cell_type": "markdown",
   "metadata": {},
   "source": [
    "However, and as we said before, average is not a robust statistic. Let's check what we obtain using the median here."
   ]
  },
  {
   "cell_type": "code",
   "execution_count": null,
   "metadata": {
    "collapsed": false
   },
   "outputs": [],
   "source": [
    "median_cs_duration_by_spycialisation = master_full_data.groupby(['Spécialisation']).agg({'Durée master (mois)':{'Durée médiane d\\'un Master (mois)':'median'}})\n",
    "median_cs_duration_by_spycialisation.columns = median_cs_duration_by_spycialisation.columns.droplevel(0)\n",
    "median_cs_duration_by_spycialisation"
   ]
  },
  {
   "cell_type": "markdown",
   "metadata": {},
   "source": [
    "Differences are still important, so we have to focus our attention on the obtained results and do other checks."
   ]
  },
  {
   "cell_type": "markdown",
   "metadata": {},
   "source": [
    "Here the T-test is not appropriate ; indeed, the number of students with a 'Spécialisation' is not big enough to be approximated by a normal distibution. Moreover, we don't have any information about the distibution of the data we are analysing.\n",
    "\n",
    "However, the K-S test seems appropriate for 'Spécialisation' greater in which there are at least 5 people (in order to compare distribution with enough value)."
   ]
  },
  {
   "cell_type": "markdown",
   "metadata": {},
   "source": [
    "> We removed 'Computer Engineering - SP', 'Data Analytics', 'Information Security - SP' and 'Service science' from our study."
   ]
  },
  {
   "cell_type": "markdown",
   "metadata": {},
   "source": [
    "The test will tell us if 'Spécialisation' criterion is statiscally close to the data related to Master students."
   ]
  },
  {
   "cell_type": "code",
   "execution_count": null,
   "metadata": {
    "collapsed": false,
    "scrolled": false
   },
   "outputs": [],
   "source": [
    "global_duration_serie = master_full_data['Durée master (mois)'].values\n",
    "specialities_duration_series = {}\n",
    "\n",
    "for speciality in master_full_data['Spécialisation'].unique():\n",
    "    speciality_name = speciality if len(speciality) > 0 else '<No specialisation>'\n",
    "    specialities_duration_series[speciality_name] = master_full_data['Durée master (mois)'][[spe == speciality for spe in master_full_data['Spécialisation']]].values\n",
    "\n",
    "print('*** K-S test results ***\\n')\n",
    "for speciality_name, speciality_serie in specialities_duration_series.items():\n",
    "    print(speciality_name + ':\\n\\t', end='')\n",
    "    print(stats.ks_2samp(global_duration_serie, speciality_serie), end='\\n\\n')"
   ]
  },
  {
   "cell_type": "markdown",
   "metadata": {},
   "source": [
    "*Note: Here, global duration was used for each K-S test.*\n",
    "\n",
    "The null-hypothesis for the K-S test is that the distributions are the same. Thus, the lower the P-value the greater the statistical evidence is to reject the null hypothesis and conclude that the distributions are different.\n",
    "\n",
    "If we take alpha = 5%, we can't reject the null-hypothesis for the following specialisations: 'Software Systems' and 'Biocomputing'.\n",
    "\n",
    "For 'Service science', 'Computer Engineering - SP' , 'Data Analytics', we can't reject the hypothesis as well but the number of students present in these specialisation seems to be too small to have any assurance in the conclusion we can do."
   ]
  },
  {
   "cell_type": "markdown",
   "metadata": {},
   "source": [
    "# Bonus"
   ]
  },
  {
   "cell_type": "markdown",
   "metadata": {},
   "source": [
    "**Perform the gender-based study also on the Master students, as explained in 1. Use scatterplots to visually identify changes over time. Plot males and females with different colors -- can you spot different trends that match the results of your statistical tests?**"
   ]
  },
  {
   "cell_type": "markdown",
   "metadata": {},
   "source": [
    "First, let's plot a graph showing the duration of CS Master course according to the sex for EPFL students."
   ]
  },
  {
   "cell_type": "code",
   "execution_count": null,
   "metadata": {
    "collapsed": false
   },
   "outputs": [],
   "source": [
    "avg_duration_master_degree_by_sex = master_full_data.groupby(['Civilité', 'Durée master (mois)']).count()['Nom Prénom'].unstack(level=0).fillna(0).plot()\n",
    "avg_duration_master_degree_by_sex.set_ylabel('Number of students')\n",
    "avg_duration_master_degree_by_sex.set_xlabel('Master duration in months')\n",
    "avg_duration_master_degree_by_sex.set_title('Master study plan duration by sex for EPFL students')\n",
    "avg_duration_master_degree_by_sex"
   ]
  },
  {
   "cell_type": "markdown",
   "metadata": {},
   "source": [
    "The graph tends to show that for female and male students, the behavior is the same (especially, a majority of students obtain their Master in 18 months).\n",
    "\n",
    "However, we must keep in mind that the number of male students is really higher than the number of female students, and thus, making conclusion regarding any link between the two sets must be dangerous without further analysis."
   ]
  },
  {
   "cell_type": "markdown",
   "metadata": {},
   "source": [
    "As proposed, we can display the evolution of the mean duration for Master degree over the year.\n",
    "\n",
    "*Notes : Here, we assume by convention that a student is considered when he registers for a Master course. For example, if a student X starts a Master course in 2010 and graduates in 2012, after 18 months, he will be counted for 2010 and his associated duration will be 18. Also, for 2016, it seems that there is no available data for female students in CS...*"
   ]
  },
  {
   "cell_type": "code",
   "execution_count": null,
   "metadata": {
    "collapsed": false,
    "scrolled": false
   },
   "outputs": [],
   "source": [
    "def get_beginning_year_master(row):\n",
    "    '''\n",
    "    This functions retrieves the year of registration to a Master course for a given student.\n",
    "    '''\n",
    "    earliest = earliest_date(row[['Master semestre 1', 'Master semestre 2']])\n",
    "    return earliest.year\n",
    "\n",
    "all_master_data = master_full_data.copy()\n",
    "\n",
    "# We add the beginning year for each student in a new column\n",
    "all_master_data['Année de début de Master'] = all_master_data.apply(get_beginning_year_master, axis=1)\n",
    "\n",
    "# These properties are used for the plot\n",
    "properties = {'Madame': {'label':'Female', 'color': 'red', 'marker':'x'},\n",
    "              'Monsieur': {'label':'Male', 'color': 'blue', 'marker':'o'}}"
   ]
  },
  {
   "cell_type": "code",
   "execution_count": null,
   "metadata": {
    "collapsed": false
   },
   "outputs": [],
   "source": [
    "# We create a plot and set its size\n",
    "f, axes = plt.subplots(figsize=(7,4))\n",
    "\n",
    "# For each category (Female, Male), we plot the corresponding graph (we use mean here)\n",
    "for label, df in all_master_data.groupby(['Civilité', 'Année de début de Master']).mean().reset_index().groupby('Civilité'):\n",
    "    df.plot(kind='scatter', x='Année de début de Master', y='Durée master (mois)', ax=axes, label=properties[label]['label'], color=properties[label]['color'], marker=properties[label]['marker'])\n",
    "\n",
    "# Finally, we add the title and labels    \n",
    "axes.set_title('Evolution of the mean duration for Master degree (in months) according to year of beginning')\n",
    "axes.set_xlabel('First year of Master degree')\n",
    "axes.set_ylabel('Mean duration (months)')"
   ]
  },
  {
   "cell_type": "markdown",
   "metadata": {},
   "source": [
    "We can notice some differences over some years, but it is difficult here to conclude anything.\n",
    "\n",
    "Let's plot the same graph but using the median, which is a robust statistic."
   ]
  },
  {
   "cell_type": "code",
   "execution_count": null,
   "metadata": {
    "collapsed": false
   },
   "outputs": [],
   "source": [
    "# We create a plot and set its size\n",
    "f, axes = plt.subplots(figsize=(7,4))\n",
    "\n",
    "# For each category (Female, Male), we plot the corresponding graph (we use median here)\n",
    "for label, df in all_master_data.groupby(['Civilité', 'Année de début de Master']).median().reset_index().groupby('Civilité'):\n",
    "    df.plot(kind='scatter', x='Année de début de Master', y='Durée master (mois)', ax=axes, label=properties[label]['label'], color=properties[label]['color'], marker=properties[label]['marker'])\n",
    "\n",
    "# Finally, we add the title and labels    \n",
    "axes.set_title('Evolution of the median duration for Master degree (in months) according to year of beginning')\n",
    "axes.set_xlabel('First year of Master degree')\n",
    "axes.set_ylabel('Median duration (months)')"
   ]
  },
  {
   "cell_type": "markdown",
   "metadata": {},
   "source": [
    "Here, we see that over the years, the duration between female and male students is approximately the same (except for 2008 and 2012), and thus, we cannot make any assumption."
   ]
  },
  {
   "cell_type": "code",
   "execution_count": null,
   "metadata": {
    "collapsed": false
   },
   "outputs": [],
   "source": [
    "female_students_master = master_full_data['Durée master (mois)'][[sex == 'Madame' for sex in master_full_data['Civilité']]].values\n",
    "male_students_master = master_full_data['Durée master (mois)'][[sex == 'Monsieur' for sex in master_full_data['Civilité']]].values\n",
    "stats.ks_2samp(female_students_master, male_students_master)"
   ]
  },
  {
   "cell_type": "markdown",
   "metadata": {},
   "source": [
    "Using K-S test, we see that the P-value is extremely high. Thus, we can't reject the null hypothesis and state that the two distributions are different, in general.\n",
    "\n",
    "<b>Important note: In total, we have much more man students than female students so the K-S test must not be fully trusted here!</b>"
   ]
  },
  {
   "cell_type": "markdown",
   "metadata": {},
   "source": [
    "The last thing we can do is checking year by year if we can assume a sufficient difference in order to conclude that the two distribution were different.\n",
    "\n",
    "First, we have to compute the number of students for each year, and according to the sex, to ensure that we have enough values."
   ]
  },
  {
   "cell_type": "code",
   "execution_count": null,
   "metadata": {
    "collapsed": false
   },
   "outputs": [],
   "source": [
    "all_master_data.groupby(['Civilité', 'Année de début de Master']).count()\n",
    "\n",
    "number_master_students_per_year = all_master_data.groupby(['Civilité', 'Année de début de Master']).agg({'Durée master (mois)':{'Nombre d\\'étudiants':'count'}})\n",
    "number_master_students_per_year.columns = number_master_students_per_year.columns.droplevel(0)\n",
    "number_master_students_per_year"
   ]
  },
  {
   "cell_type": "markdown",
   "metadata": {},
   "source": [
    "For 2009, we have only 3 students, which is very low.\n",
    "\n",
    "<b>Important note (bis): More generally, we have much more man students than female students for each year so the following K-S tests must not be fully trusted!</b>"
   ]
  },
  {
   "cell_type": "code",
   "execution_count": null,
   "metadata": {
    "collapsed": false
   },
   "outputs": [],
   "source": [
    "print('*** K-S test results ***\\n')\n",
    "for year in all_master_data['Année de début de Master'].unique()[:-1]:\n",
    "    duration_for_female = all_master_data['Durée master (mois)'][(all_master_data['Civilité'] == 'Madame') & (all_master_data['Année de début de Master'] == year)].values\n",
    "    duration_for_male = all_master_data['Durée master (mois)'][(all_master_data['Civilité'] == 'Monsieur') & (all_master_data['Année de début de Master'] == year)].values\n",
    "    print('%02d :\\n\\t' % year, end='')\n",
    "    print(stats.ks_2samp(duration_for_female, duration_for_male), end='\\n')"
   ]
  },
  {
   "cell_type": "markdown",
   "metadata": {},
   "source": [
    "According to K-S test, the two distributions are really different for the following years: 2007, 2008, 2009, 2013.\n",
    "\n",
    "However, we deliberately choose to not conclude anything in this case, for the reason given above, and because the results are different with the one we obtained at the beginning..."
   ]
  }
 ],
 "metadata": {
  "anaconda-cloud": {},
  "kernelspec": {
   "display_name": "Python [conda root]",
   "language": "python",
   "name": "conda-root-py"
  },
  "language_info": {
   "codemirror_mode": {
    "name": "ipython",
    "version": 3
   },
   "file_extension": ".py",
   "mimetype": "text/x-python",
   "name": "python",
   "nbconvert_exporter": "python",
   "pygments_lexer": "ipython3",
   "version": "3.5.2"
  }
 },
 "nbformat": 4,
 "nbformat_minor": 0
}
