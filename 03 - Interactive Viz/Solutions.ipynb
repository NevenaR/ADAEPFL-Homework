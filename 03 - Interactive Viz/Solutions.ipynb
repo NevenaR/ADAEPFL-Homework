{
 "cells": [
  {
   "cell_type": "markdown",
   "metadata": {},
   "source": [
    "# Homework 3 - Interactive Viz"
   ]
  },
  {
   "cell_type": "code",
   "execution_count": null,
   "metadata": {
    "collapsed": true
   },
   "outputs": [],
   "source": [
    "import folium\n",
    "import requests as rq\n",
    "from bs4 import BeautifulSoup as bfs\n",
    "import numpy as np\n",
    "import pandas as pd\n",
    "import collections\n",
    "import os\n",
    "%matplotlib inline\n",
    "import matplotlib.pyplot as plt\n",
    "from dateutil import relativedelta\n",
    "import scipy.stats as stats\n",
    "import math"
   ]
  },
  {
   "cell_type": "markdown",
   "metadata": {},
   "source": [
    "## Test Map"
   ]
  },
  {
   "cell_type": "code",
   "execution_count": null,
   "metadata": {
    "collapsed": false
   },
   "outputs": [],
   "source": [
    "state_geo = r'ch-cantons.topojson.json'\n",
    "\n",
    "#Let Folium determine the scale\n",
    "map = folium.Map(location=[46.8, 7.1], zoom_start=8)\n",
    "#map.choropleth(geo_path=state_geo, fill_color='YlGn', fill_opacity=0.7, line_opacity=0.2)\n",
    "#map.save('us_states.html')\n",
    "map"
   ]
  },
  {
   "cell_type": "markdown",
   "metadata": {},
   "source": [
    "## SNSF data\n",
    "\n",
    "### Grant CSV file"
   ]
  },
  {
   "cell_type": "code",
   "execution_count": null,
   "metadata": {
    "collapsed": false
   },
   "outputs": [],
   "source": [
    "snsf_data = pd.read_csv('Data/P3_GrantExport.csv', sep=';', parse_dates=['Start Date', 'End Date'])\n",
    "snsf_data.head()"
   ]
  },
  {
   "cell_type": "code",
   "execution_count": null,
   "metadata": {
    "collapsed": false
   },
   "outputs": [],
   "source": [
    "snsf_data.dtypes"
   ]
  },
  {
   "cell_type": "code",
   "execution_count": null,
   "metadata": {
    "collapsed": false
   },
   "outputs": [],
   "source": [
    "snsf_data.columns = snsf_data.columns.str.replace(snsf_data.columns[0], 'Project Number')\n",
    "snsf_data.head()"
   ]
  },
  {
   "cell_type": "code",
   "execution_count": null,
   "metadata": {
    "collapsed": false
   },
   "outputs": [],
   "source": [
    "snsf_data['Project Number'].is_unique"
   ]
  },
  {
   "cell_type": "code",
   "execution_count": null,
   "metadata": {
    "collapsed": false
   },
   "outputs": [],
   "source": [
    "snsf_data.set_index('Project Number').head()"
   ]
  },
  {
   "cell_type": "code",
   "execution_count": null,
   "metadata": {
    "collapsed": false
   },
   "outputs": [],
   "source": [
    "snsf_data['University'].value_counts(dropna=False).head()\n",
    "#snsf_data['University'].value_uniques()"
   ]
  },
  {
   "cell_type": "markdown",
   "metadata": {},
   "source": [
    "## Test with differences slices of years."
   ]
  },
  {
   "cell_type": "markdown",
   "metadata": {
    "collapsed": true
   },
   "source": [
    "From the doc : \"To a lesser extent, there may also be a problem with data quality,\n",
    "for example data on fellowships for prospective researchers is incomplete for the 1990’s. Moreover,\n",
    "data on SFGBM for advanced researchers is incomplete before 2005.\"\n",
    "\n",
    "> J'essai de voir si il y a des differences entre les années car les données devraient étre plus pertinentes à partir de 2000's"
   ]
  },
  {
   "cell_type": "code",
   "execution_count": null,
   "metadata": {
    "collapsed": false
   },
   "outputs": [],
   "source": [
    "limit_date = np.datetime64('2005');\n",
    "snsf_data_2005_2018 = snsf_data[snsf_data['Start Date'] >= limit_date ]\n",
    "snsf_data_2005_2018.head()\n",
    "snsf_data_2005_2018['University'].value_counts(dropna=False).head()"
   ]
  },
  {
   "cell_type": "code",
   "execution_count": null,
   "metadata": {
    "collapsed": false
   },
   "outputs": [],
   "source": [
    "limit_date_sup = np.datetime64('2005');\n",
    "limit_date_inf = np.datetime64('2000');\n",
    "\n",
    "snsf_data_2000_2005 = snsf_data[(snsf_data['Start Date'] < limit_date_sup) & (snsf_data['Start Date'] >= limit_date_inf) ]\n",
    "snsf_data_2000_2005.head()\n",
    "snsf_data_2000_2005['University'].value_counts(dropna=False).head()"
   ]
  },
  {
   "cell_type": "code",
   "execution_count": null,
   "metadata": {
    "collapsed": false
   },
   "outputs": [],
   "source": [
    "limit_date_sup = np.datetime64('2000');\n",
    "\n",
    "snsf_data_1975_2000 = snsf_data[(snsf_data['Start Date'] < limit_date_sup)]\n",
    "snsf_data_1975_2000.head()\n",
    "snsf_data_1975_2000['University'].value_counts(dropna=False).head()"
   ]
  },
  {
   "cell_type": "markdown",
   "metadata": {},
   "source": [
    "> --> ça change pas grand chose..."
   ]
  },
  {
   "cell_type": "markdown",
   "metadata": {},
   "source": [
    "### Test blanck attribute."
   ]
  },
  {
   "cell_type": "markdown",
   "metadata": {},
   "source": [
    "University field : \"This is the institution where the project will largely be carried out according to the application. Pick list. This field is only filled if the research is carried out at a Swiss institution, otherwise the field remains blank. In the case of mobility fellowships, it is generally left empty.\""
   ]
  },
  {
   "cell_type": "markdown",
   "metadata": {},
   "source": [
    "> Je cheche quelles sont les attirbuts qui contiennent la \"mobility fellowship\" car c'est peut etre des universités suisse."
   ]
  },
  {
   "cell_type": "code",
   "execution_count": null,
   "metadata": {
    "collapsed": false
   },
   "outputs": [],
   "source": [
    "snsf_data['Funding Instrument Hierarchy'].value_counts(dropna=False)"
   ]
  },
  {
   "cell_type": "code",
   "execution_count": null,
   "metadata": {
    "collapsed": false
   },
   "outputs": [],
   "source": [
    "snsf_data[snsf_data['Funding Instrument'].str.contains(\"fellowships\")]['Funding Instrument'].value_counts(dropna=False)"
   ]
  },
  {
   "cell_type": "code",
   "execution_count": null,
   "metadata": {
    "collapsed": false
   },
   "outputs": [],
   "source": [
    "snsf_data[snsf_data['Funding Instrument'].str.contains(\"Mobility\")]['Funding Instrument'].value_counts(dropna=False)"
   ]
  },
  {
   "cell_type": "code",
   "execution_count": null,
   "metadata": {
    "collapsed": false
   },
   "outputs": [],
   "source": [
    "index_link_mobility = snsf_data[snsf_data['Funding Instrument'].str.contains(\"Mobility\")]['Funding Instrument'].value_counts(dropna=False).index"
   ]
  },
  {
   "cell_type": "code",
   "execution_count": null,
   "metadata": {
    "collapsed": false
   },
   "outputs": [],
   "source": [
    "index_array = []\n",
    "for mobility_attribute in index_link_mobility:\n",
    "    index_array.append(mobility_attribute)\n",
    "index_array"
   ]
  },
  {
   "cell_type": "code",
   "execution_count": null,
   "metadata": {
    "collapsed": false
   },
   "outputs": [],
   "source": [
    "data_related_to_mobility_fellowship = snsf_data[snsf_data['Funding Instrument'].isin(index_array)].copy()\n",
    "data_related_to_mobility_fellowship['University'].value_counts(dropna=False)"
   ]
  },
  {
   "cell_type": "code",
   "execution_count": null,
   "metadata": {
    "collapsed": false
   },
   "outputs": [],
   "source": [
    "data_related_to_mobility_fellowship['Institution'].value_counts(dropna=False)"
   ]
  },
  {
   "cell_type": "markdown",
   "metadata": {},
   "source": [
    "> --> A chercher plus en profondeur il doit avoir surement quelque chose avec la bouse mobility. Pourquoi il y a des universités suisse ??\n"
   ]
  },
  {
   "cell_type": "code",
   "execution_count": null,
   "metadata": {
    "collapsed": false
   },
   "outputs": [],
   "source": [
    "# We keep only the university not null, because those university are swiss.\n",
    "snsf_data_swiss_Data = snsf_data[snsf_data['University'].notnull()].copy()\n",
    "snsf_data_swiss_Data.head()"
   ]
  },
  {
   "cell_type": "markdown",
   "metadata": {
    "collapsed": true
   },
   "source": [
    "### Other CSV files\n",
    "\n",
    "#### Publication"
   ]
  },
  {
   "cell_type": "code",
   "execution_count": null,
   "metadata": {
    "collapsed": false
   },
   "outputs": [],
   "source": [
    "snsf_publication_data = pd.read_csv('Data/P3_PublicationExport.csv', sep=';')\n",
    "snsf_publication_data.head()"
   ]
  },
  {
   "cell_type": "markdown",
   "metadata": {},
   "source": [
    "#### Person"
   ]
  },
  {
   "cell_type": "code",
   "execution_count": null,
   "metadata": {
    "collapsed": false
   },
   "outputs": [],
   "source": [
    "snsf_person_data = pd.read_csv('Data/P3_PersonExport.csv', sep=';')\n",
    "snsf_person_data.head()"
   ]
  },
  {
   "cell_type": "markdown",
   "metadata": {},
   "source": [
    "> On a aussi un champ représentant un lieu \"Institue Place\" mais j'ai peur que l'on s'éloigne trop loin en effectuant un merge (un auteur peut contribuer dans différents projets à différents endroits)"
   ]
  },
  {
   "cell_type": "markdown",
   "metadata": {},
   "source": [
    "## GeoNames"
   ]
  },
  {
   "cell_type": "markdown",
   "metadata": {},
   "source": [
    "> Test de la lib GeoPy pour faire les appels à GeoNames, mais n'est pas terrible du tout !\n",
    "\n",
    "> Il faut asbolument installer \"geopy\" dans anaconda pour s'en servir (il est déjà présent dans le channel \"default\")"
   ]
  },
  {
   "cell_type": "code",
   "execution_count": null,
   "metadata": {
    "collapsed": false
   },
   "outputs": [],
   "source": [
    "from geopy.geocoders import GeoNames\n",
    "\n",
    "# Limit of 2000 request per hour\n",
    "geolocator = GeoNames(username='ada_epfl_insa')\n",
    "result = geolocator.geocode('Université de Genève - GE') # Pas de résultat ... Il faut un code postal\n",
    "print(result)"
   ]
  },
  {
   "cell_type": "markdown",
   "metadata": {},
   "source": [
    "> C'est mieux d'utiliser Request, on n'est plus limité pour les options !"
   ]
  },
  {
   "cell_type": "code",
   "execution_count": null,
   "metadata": {
    "collapsed": false
   },
   "outputs": [],
   "source": [
    "payload = {\n",
    "    'country': 'CH',\n",
    "    'postalcode': 'GE',\n",
    "    'placename': 'Université de Genève',\n",
    "    'maxRows': 10,\n",
    "    'username': 'ada_epfl_insa'\n",
    "}\n",
    "request_test_page = rq.get('http://api.geonames.org/postalCodeSearch', payload)\n",
    "test_page = bfs(request_test_page.text, 'xml')\n",
    "test_page"
   ]
  },
  {
   "cell_type": "markdown",
   "metadata": {},
   "source": [
    "> Bon c'est pas terrible du tout GeoNames ............"
   ]
  }
 ],
 "metadata": {
  "anaconda-cloud": {},
  "kernelspec": {
   "display_name": "Python [Root]",
   "language": "python",
   "name": "Python [Root]"
  },
  "language_info": {
   "codemirror_mode": {
    "name": "ipython",
    "version": 3
   },
   "file_extension": ".py",
   "mimetype": "text/x-python",
   "name": "python",
   "nbconvert_exporter": "python",
   "pygments_lexer": "ipython3",
   "version": "3.5.2"
  }
 },
 "nbformat": 4,
 "nbformat_minor": 0
}
